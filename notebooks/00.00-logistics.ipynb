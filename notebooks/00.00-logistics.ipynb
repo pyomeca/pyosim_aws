{
 "cells": [
  {
   "cell_type": "markdown",
   "metadata": {},
   "source": [
    "<!--BOOK_INFORMATION-->\n",
    "<img style=\"float: right; width: 100px\" src=\"https://raw.github.com/pyomeca/design/master/logo/logo_cropped.svg?sanitize=true\">\n",
    "\n",
    "# Pyosim in the cloud\n",
    "## with [pyomeca](https://github.com/pyomeca/pyomeca)\n",
    "Romain Martinez (martinez.staps@gmail.com | [GitHub](https://github.com/romainmartinez))\n"
   ]
  },
  {
   "cell_type": "markdown",
   "metadata": {},
   "source": [
    "<!--NAVIGATION-->\n",
    "| [Contents](Index.ipynb) | [Verification](01.00-verification.ipynb) >"
   ]
  },
  {
   "cell_type": "markdown",
   "metadata": {},
   "source": [
    "# Logistics"
   ]
  },
  {
   "cell_type": "markdown",
   "metadata": {},
   "source": [
    "## Things to do\n",
    "\n",
    "- add EWMA by shift\n",
    "- get canadiens by shift data\n",
    "- merge data [WORKING ON]\n",
    "- get coordiantes from every goal"
   ]
  },
  {
   "cell_type": "code",
   "execution_count": 1,
   "metadata": {},
   "outputs": [],
   "source": [
    "from pathlib import Path\n",
    "\n",
    "import pandas as pd\n",
    "\n",
    "import altair as alt"
   ]
  },
  {
   "cell_type": "markdown",
   "metadata": {},
   "source": [
    "## Time sheet"
   ]
  },
  {
   "cell_type": "code",
   "execution_count": 2,
   "metadata": {},
   "outputs": [],
   "source": [
    "RAW_DATA_PATH = Path(\"../data/raw/\")\n",
    "TIME_SHEET_FILE = \"canadiens_time_sheet - this year.csv\""
   ]
  },
  {
   "cell_type": "code",
   "execution_count": 3,
   "metadata": {},
   "outputs": [],
   "source": [
    "time_sheet = pd.read_csv(\n",
    "    RAW_DATA_PATH / TIME_SHEET_FILE, header=9, usecols=[0, 1, 4], skiprows=1\n",
    ")[:-1]\n",
    "time_sheet.columns = [\"date\", \"description\", \"hours\"]\n",
    "time_sheet[\"hours_done\"] = time_sheet[\"hours\"].apply(lambda x: float(x.replace(\",\", \".\")))\n",
    "time_sheet[\"date\"] = pd.to_datetime(time_sheet[\"date\"])\n",
    "\n",
    "time_sheet = time_sheet.resample(\"1d\", on=\"date\").sum().reset_index()"
   ]
  },
  {
   "cell_type": "code",
   "execution_count": 4,
   "metadata": {},
   "outputs": [],
   "source": [
    "total_hours = 500\n",
    "start = time_sheet['date'].min()\n",
    "end = pd.to_datetime(\"2019-03-01\")\n",
    "\n",
    "time_sheet[\"hours_to_do\"] = total_hours / ((end - start).days + 1)"
   ]
  },
  {
   "cell_type": "code",
   "execution_count": 5,
   "metadata": {},
   "outputs": [
    {
     "data": {
      "text/html": [
       "<div>\n",
       "<style scoped>\n",
       "    .dataframe tbody tr th:only-of-type {\n",
       "        vertical-align: middle;\n",
       "    }\n",
       "\n",
       "    .dataframe tbody tr th {\n",
       "        vertical-align: top;\n",
       "    }\n",
       "\n",
       "    .dataframe thead th {\n",
       "        text-align: right;\n",
       "    }\n",
       "</style>\n",
       "<table border=\"1\" class=\"dataframe\">\n",
       "  <thead>\n",
       "    <tr style=\"text-align: right;\">\n",
       "      <th></th>\n",
       "      <th>date</th>\n",
       "      <th>hours_done</th>\n",
       "      <th>hours_to_do</th>\n",
       "    </tr>\n",
       "  </thead>\n",
       "  <tbody>\n",
       "    <tr>\n",
       "      <th>0</th>\n",
       "      <td>2018-09-10</td>\n",
       "      <td>6.5</td>\n",
       "      <td>2.890173</td>\n",
       "    </tr>\n",
       "    <tr>\n",
       "      <th>1</th>\n",
       "      <td>2018-09-11</td>\n",
       "      <td>0.0</td>\n",
       "      <td>2.890173</td>\n",
       "    </tr>\n",
       "    <tr>\n",
       "      <th>2</th>\n",
       "      <td>2018-09-12</td>\n",
       "      <td>10.0</td>\n",
       "      <td>2.890173</td>\n",
       "    </tr>\n",
       "    <tr>\n",
       "      <th>3</th>\n",
       "      <td>2018-09-13</td>\n",
       "      <td>0.0</td>\n",
       "      <td>2.890173</td>\n",
       "    </tr>\n",
       "    <tr>\n",
       "      <th>4</th>\n",
       "      <td>2018-09-14</td>\n",
       "      <td>8.0</td>\n",
       "      <td>2.890173</td>\n",
       "    </tr>\n",
       "  </tbody>\n",
       "</table>\n",
       "</div>"
      ],
      "text/plain": [
       "        date  hours_done  hours_to_do\n",
       "0 2018-09-10         6.5     2.890173\n",
       "1 2018-09-11         0.0     2.890173\n",
       "2 2018-09-12        10.0     2.890173\n",
       "3 2018-09-13         0.0     2.890173\n",
       "4 2018-09-14         8.0     2.890173"
      ]
     },
     "execution_count": 5,
     "metadata": {},
     "output_type": "execute_result"
    }
   ],
   "source": [
    "time_sheet.head()"
   ]
  },
  {
   "cell_type": "code",
   "execution_count": 6,
   "metadata": {},
   "outputs": [
    {
     "data": {
      "application/vnd.vegalite.v2+json": {
       "$schema": "https://vega.github.io/schema/vega-lite/v2.6.0.json",
       "config": {
        "view": {
         "height": 300,
         "width": 400
        }
       },
       "datasets": {
        "data-a953ff2bdb2542b8cd767b63ec6de4d7": [
         {
          "date": "2018-09-10T00:00:00",
          "hours_done": 6.5,
          "hours_to_do": 2.8901734104046244
         },
         {
          "date": "2018-09-11T00:00:00",
          "hours_done": 0,
          "hours_to_do": 2.8901734104046244
         },
         {
          "date": "2018-09-12T00:00:00",
          "hours_done": 10,
          "hours_to_do": 2.8901734104046244
         },
         {
          "date": "2018-09-13T00:00:00",
          "hours_done": 0,
          "hours_to_do": 2.8901734104046244
         },
         {
          "date": "2018-09-14T00:00:00",
          "hours_done": 8,
          "hours_to_do": 2.8901734104046244
         },
         {
          "date": "2018-09-15T00:00:00",
          "hours_done": 0,
          "hours_to_do": 2.8901734104046244
         },
         {
          "date": "2018-09-16T00:00:00",
          "hours_done": 0,
          "hours_to_do": 2.8901734104046244
         },
         {
          "date": "2018-09-17T00:00:00",
          "hours_done": 6,
          "hours_to_do": 2.8901734104046244
         },
         {
          "date": "2018-09-18T00:00:00",
          "hours_done": 0,
          "hours_to_do": 2.8901734104046244
         },
         {
          "date": "2018-09-19T00:00:00",
          "hours_done": 0,
          "hours_to_do": 2.8901734104046244
         },
         {
          "date": "2018-09-20T00:00:00",
          "hours_done": 7,
          "hours_to_do": 2.8901734104046244
         },
         {
          "date": "2018-09-21T00:00:00",
          "hours_done": 2.5,
          "hours_to_do": 2.8901734104046244
         },
         {
          "date": "2018-09-22T00:00:00",
          "hours_done": 1.5,
          "hours_to_do": 2.8901734104046244
         },
         {
          "date": "2018-09-23T00:00:00",
          "hours_done": 1.25,
          "hours_to_do": 2.8901734104046244
         },
         {
          "date": "2018-09-24T00:00:00",
          "hours_done": 1,
          "hours_to_do": 2.8901734104046244
         },
         {
          "date": "2018-09-25T00:00:00",
          "hours_done": 0,
          "hours_to_do": 2.8901734104046244
         },
         {
          "date": "2018-09-26T00:00:00",
          "hours_done": 7,
          "hours_to_do": 2.8901734104046244
         },
         {
          "date": "2018-09-27T00:00:00",
          "hours_done": 0,
          "hours_to_do": 2.8901734104046244
         },
         {
          "date": "2018-09-28T00:00:00",
          "hours_done": 7.75,
          "hours_to_do": 2.8901734104046244
         },
         {
          "date": "2018-09-29T00:00:00",
          "hours_done": 0,
          "hours_to_do": 2.8901734104046244
         },
         {
          "date": "2018-09-30T00:00:00",
          "hours_done": 0,
          "hours_to_do": 2.8901734104046244
         },
         {
          "date": "2018-10-01T00:00:00",
          "hours_done": 0,
          "hours_to_do": 2.8901734104046244
         },
         {
          "date": "2018-10-02T00:00:00",
          "hours_done": 0,
          "hours_to_do": 2.8901734104046244
         },
         {
          "date": "2018-10-03T00:00:00",
          "hours_done": 0,
          "hours_to_do": 2.8901734104046244
         },
         {
          "date": "2018-10-04T00:00:00",
          "hours_done": 0,
          "hours_to_do": 2.8901734104046244
         },
         {
          "date": "2018-10-05T00:00:00",
          "hours_done": 0,
          "hours_to_do": 2.8901734104046244
         },
         {
          "date": "2018-10-06T00:00:00",
          "hours_done": 0,
          "hours_to_do": 2.8901734104046244
         },
         {
          "date": "2018-10-07T00:00:00",
          "hours_done": 0,
          "hours_to_do": 2.8901734104046244
         },
         {
          "date": "2018-10-08T00:00:00",
          "hours_done": 0,
          "hours_to_do": 2.8901734104046244
         },
         {
          "date": "2018-10-09T00:00:00",
          "hours_done": 0,
          "hours_to_do": 2.8901734104046244
         },
         {
          "date": "2018-10-10T00:00:00",
          "hours_done": 0,
          "hours_to_do": 2.8901734104046244
         },
         {
          "date": "2018-10-11T00:00:00",
          "hours_done": 0,
          "hours_to_do": 2.8901734104046244
         },
         {
          "date": "2018-10-12T00:00:00",
          "hours_done": 0,
          "hours_to_do": 2.8901734104046244
         },
         {
          "date": "2018-10-13T00:00:00",
          "hours_done": 0,
          "hours_to_do": 2.8901734104046244
         },
         {
          "date": "2018-10-14T00:00:00",
          "hours_done": 0,
          "hours_to_do": 2.8901734104046244
         },
         {
          "date": "2018-10-15T00:00:00",
          "hours_done": 0,
          "hours_to_do": 2.8901734104046244
         },
         {
          "date": "2018-10-16T00:00:00",
          "hours_done": 8.5,
          "hours_to_do": 2.8901734104046244
         },
         {
          "date": "2018-10-17T00:00:00",
          "hours_done": 4.5,
          "hours_to_do": 2.8901734104046244
         },
         {
          "date": "2018-10-18T00:00:00",
          "hours_done": 0,
          "hours_to_do": 2.8901734104046244
         },
         {
          "date": "2018-10-19T00:00:00",
          "hours_done": 4,
          "hours_to_do": 2.8901734104046244
         },
         {
          "date": "2018-10-20T00:00:00",
          "hours_done": 1.75,
          "hours_to_do": 2.8901734104046244
         },
         {
          "date": "2018-10-21T00:00:00",
          "hours_done": 1.75,
          "hours_to_do": 2.8901734104046244
         },
         {
          "date": "2018-10-22T00:00:00",
          "hours_done": 0,
          "hours_to_do": 2.8901734104046244
         },
         {
          "date": "2018-10-23T00:00:00",
          "hours_done": 0,
          "hours_to_do": 2.8901734104046244
         },
         {
          "date": "2018-10-24T00:00:00",
          "hours_done": 0,
          "hours_to_do": 2.8901734104046244
         },
         {
          "date": "2018-10-25T00:00:00",
          "hours_done": 0,
          "hours_to_do": 2.8901734104046244
         },
         {
          "date": "2018-10-26T00:00:00",
          "hours_done": 1,
          "hours_to_do": 2.8901734104046244
         },
         {
          "date": "2018-10-27T00:00:00",
          "hours_done": 0,
          "hours_to_do": 2.8901734104046244
         },
         {
          "date": "2018-10-28T00:00:00",
          "hours_done": 0,
          "hours_to_do": 2.8901734104046244
         },
         {
          "date": "2018-10-29T00:00:00",
          "hours_done": 5.75,
          "hours_to_do": 2.8901734104046244
         },
         {
          "date": "2018-10-30T00:00:00",
          "hours_done": 6.75,
          "hours_to_do": 2.8901734104046244
         },
         {
          "date": "2018-10-31T00:00:00",
          "hours_done": 6.75,
          "hours_to_do": 2.8901734104046244
         },
         {
          "date": "2018-11-01T00:00:00",
          "hours_done": 3.75,
          "hours_to_do": 2.8901734104046244
         },
         {
          "date": "2018-11-02T00:00:00",
          "hours_done": 3,
          "hours_to_do": 2.8901734104046244
         }
        ]
       },
       "layer": [
        {
         "data": {
          "name": "data-a953ff2bdb2542b8cd767b63ec6de4d7"
         },
         "encoding": {
          "x": {
           "field": "date",
           "timeUnit": "yearmonthdate",
           "type": "temporal"
          },
          "y": {
           "field": "cuml",
           "type": "quantitative"
          }
         },
         "mark": "bar",
         "transform": [
          {
           "frame": [
            null,
            0
           ],
           "window": [
            {
             "as": "cuml",
             "field": "hours_done",
             "op": "sum"
            }
           ]
          }
         ]
        },
        {
         "data": {
          "name": "data-a953ff2bdb2542b8cd767b63ec6de4d7"
         },
         "encoding": {
          "x": {
           "field": "date",
           "timeUnit": "yearmonthdate",
           "type": "temporal"
          },
          "y": {
           "field": "cuml",
           "type": "quantitative"
          }
         },
         "mark": {
          "color": "green",
          "type": "line"
         },
         "transform": [
          {
           "frame": [
            null,
            0
           ],
           "window": [
            {
             "as": "cuml",
             "field": "hours_to_do",
             "op": "sum"
            }
           ]
          }
         ]
        }
       ],
       "title": "Cumulative hours done (bar) compared to hours to do (line)"
      },
      "image/png": "[encoded data removed]",
      "text/plain": [
       "<VegaLite 2 object>\n",
       "\n",
       "If you see this message, it means the renderer has not been properly enabled\n",
       "for the frontend that you are using. For more information, see\n",
       "https://altair-viz.github.io/user_guide/troubleshooting.html\n"
      ]
     },
     "execution_count": 6,
     "metadata": {},
     "output_type": "execute_result"
    }
   ],
   "source": [
    "base = alt.Chart(time_sheet).encode(x=\"yearmonthdate(date)\")\n",
    "\n",
    "done = (\n",
    "    base.mark_bar()\n",
    "    .encode(y=\"cuml:Q\")\n",
    "    .transform_window(cuml=\"sum(hours_done)\", frame=[None, 0])\n",
    ")\n",
    "to_do = (\n",
    "    base.mark_line(color=\"green\")\n",
    "    .encode(y=\"cuml:Q\")\n",
    "    .transform_window(cuml=\"sum(hours_to_do)\", frame=[None, 0])\n",
    ")\n",
    "\n",
    "(done + to_do).properties(title=\"Cumulative hours done (bar) compared to hours to do (line)\")"
   ]
  },
  {
   "cell_type": "code",
   "execution_count": 7,
   "metadata": {},
   "outputs": [
    {
     "data": {
      "application/vnd.vegalite.v2+json": {
       "$schema": "https://vega.github.io/schema/vega-lite/v2.6.0.json",
       "config": {
        "view": {
         "height": 300,
         "width": 400
        }
       },
       "data": {
        "name": "data-a953ff2bdb2542b8cd767b63ec6de4d7"
       },
       "datasets": {
        "data-a953ff2bdb2542b8cd767b63ec6de4d7": [
         {
          "date": "2018-09-10T00:00:00",
          "hours_done": 6.5,
          "hours_to_do": 2.8901734104046244
         },
         {
          "date": "2018-09-11T00:00:00",
          "hours_done": 0,
          "hours_to_do": 2.8901734104046244
         },
         {
          "date": "2018-09-12T00:00:00",
          "hours_done": 10,
          "hours_to_do": 2.8901734104046244
         },
         {
          "date": "2018-09-13T00:00:00",
          "hours_done": 0,
          "hours_to_do": 2.8901734104046244
         },
         {
          "date": "2018-09-14T00:00:00",
          "hours_done": 8,
          "hours_to_do": 2.8901734104046244
         },
         {
          "date": "2018-09-15T00:00:00",
          "hours_done": 0,
          "hours_to_do": 2.8901734104046244
         },
         {
          "date": "2018-09-16T00:00:00",
          "hours_done": 0,
          "hours_to_do": 2.8901734104046244
         },
         {
          "date": "2018-09-17T00:00:00",
          "hours_done": 6,
          "hours_to_do": 2.8901734104046244
         },
         {
          "date": "2018-09-18T00:00:00",
          "hours_done": 0,
          "hours_to_do": 2.8901734104046244
         },
         {
          "date": "2018-09-19T00:00:00",
          "hours_done": 0,
          "hours_to_do": 2.8901734104046244
         },
         {
          "date": "2018-09-20T00:00:00",
          "hours_done": 7,
          "hours_to_do": 2.8901734104046244
         },
         {
          "date": "2018-09-21T00:00:00",
          "hours_done": 2.5,
          "hours_to_do": 2.8901734104046244
         },
         {
          "date": "2018-09-22T00:00:00",
          "hours_done": 1.5,
          "hours_to_do": 2.8901734104046244
         },
         {
          "date": "2018-09-23T00:00:00",
          "hours_done": 1.25,
          "hours_to_do": 2.8901734104046244
         },
         {
          "date": "2018-09-24T00:00:00",
          "hours_done": 1,
          "hours_to_do": 2.8901734104046244
         },
         {
          "date": "2018-09-25T00:00:00",
          "hours_done": 0,
          "hours_to_do": 2.8901734104046244
         },
         {
          "date": "2018-09-26T00:00:00",
          "hours_done": 7,
          "hours_to_do": 2.8901734104046244
         },
         {
          "date": "2018-09-27T00:00:00",
          "hours_done": 0,
          "hours_to_do": 2.8901734104046244
         },
         {
          "date": "2018-09-28T00:00:00",
          "hours_done": 7.75,
          "hours_to_do": 2.8901734104046244
         },
         {
          "date": "2018-09-29T00:00:00",
          "hours_done": 0,
          "hours_to_do": 2.8901734104046244
         },
         {
          "date": "2018-09-30T00:00:00",
          "hours_done": 0,
          "hours_to_do": 2.8901734104046244
         },
         {
          "date": "2018-10-01T00:00:00",
          "hours_done": 0,
          "hours_to_do": 2.8901734104046244
         },
         {
          "date": "2018-10-02T00:00:00",
          "hours_done": 0,
          "hours_to_do": 2.8901734104046244
         },
         {
          "date": "2018-10-03T00:00:00",
          "hours_done": 0,
          "hours_to_do": 2.8901734104046244
         },
         {
          "date": "2018-10-04T00:00:00",
          "hours_done": 0,
          "hours_to_do": 2.8901734104046244
         },
         {
          "date": "2018-10-05T00:00:00",
          "hours_done": 0,
          "hours_to_do": 2.8901734104046244
         },
         {
          "date": "2018-10-06T00:00:00",
          "hours_done": 0,
          "hours_to_do": 2.8901734104046244
         },
         {
          "date": "2018-10-07T00:00:00",
          "hours_done": 0,
          "hours_to_do": 2.8901734104046244
         },
         {
          "date": "2018-10-08T00:00:00",
          "hours_done": 0,
          "hours_to_do": 2.8901734104046244
         },
         {
          "date": "2018-10-09T00:00:00",
          "hours_done": 0,
          "hours_to_do": 2.8901734104046244
         },
         {
          "date": "2018-10-10T00:00:00",
          "hours_done": 0,
          "hours_to_do": 2.8901734104046244
         },
         {
          "date": "2018-10-11T00:00:00",
          "hours_done": 0,
          "hours_to_do": 2.8901734104046244
         },
         {
          "date": "2018-10-12T00:00:00",
          "hours_done": 0,
          "hours_to_do": 2.8901734104046244
         },
         {
          "date": "2018-10-13T00:00:00",
          "hours_done": 0,
          "hours_to_do": 2.8901734104046244
         },
         {
          "date": "2018-10-14T00:00:00",
          "hours_done": 0,
          "hours_to_do": 2.8901734104046244
         },
         {
          "date": "2018-10-15T00:00:00",
          "hours_done": 0,
          "hours_to_do": 2.8901734104046244
         },
         {
          "date": "2018-10-16T00:00:00",
          "hours_done": 8.5,
          "hours_to_do": 2.8901734104046244
         },
         {
          "date": "2018-10-17T00:00:00",
          "hours_done": 4.5,
          "hours_to_do": 2.8901734104046244
         },
         {
          "date": "2018-10-18T00:00:00",
          "hours_done": 0,
          "hours_to_do": 2.8901734104046244
         },
         {
          "date": "2018-10-19T00:00:00",
          "hours_done": 4,
          "hours_to_do": 2.8901734104046244
         },
         {
          "date": "2018-10-20T00:00:00",
          "hours_done": 1.75,
          "hours_to_do": 2.8901734104046244
         },
         {
          "date": "2018-10-21T00:00:00",
          "hours_done": 1.75,
          "hours_to_do": 2.8901734104046244
         },
         {
          "date": "2018-10-22T00:00:00",
          "hours_done": 0,
          "hours_to_do": 2.8901734104046244
         },
         {
          "date": "2018-10-23T00:00:00",
          "hours_done": 0,
          "hours_to_do": 2.8901734104046244
         },
         {
          "date": "2018-10-24T00:00:00",
          "hours_done": 0,
          "hours_to_do": 2.8901734104046244
         },
         {
          "date": "2018-10-25T00:00:00",
          "hours_done": 0,
          "hours_to_do": 2.8901734104046244
         },
         {
          "date": "2018-10-26T00:00:00",
          "hours_done": 1,
          "hours_to_do": 2.8901734104046244
         },
         {
          "date": "2018-10-27T00:00:00",
          "hours_done": 0,
          "hours_to_do": 2.8901734104046244
         },
         {
          "date": "2018-10-28T00:00:00",
          "hours_done": 0,
          "hours_to_do": 2.8901734104046244
         },
         {
          "date": "2018-10-29T00:00:00",
          "hours_done": 5.75,
          "hours_to_do": 2.8901734104046244
         },
         {
          "date": "2018-10-30T00:00:00",
          "hours_done": 6.75,
          "hours_to_do": 2.8901734104046244
         },
         {
          "date": "2018-10-31T00:00:00",
          "hours_done": 6.75,
          "hours_to_do": 2.8901734104046244
         },
         {
          "date": "2018-11-01T00:00:00",
          "hours_done": 3.75,
          "hours_to_do": 2.8901734104046244
         },
         {
          "date": "2018-11-02T00:00:00",
          "hours_done": 3,
          "hours_to_do": 2.8901734104046244
         }
        ]
       },
       "encoding": {
        "color": {
         "field": "hours_done",
         "type": "quantitative"
        },
        "x": {
         "field": "date",
         "timeUnit": "date",
         "type": "ordinal"
        },
        "y": {
         "field": "date",
         "timeUnit": "month",
         "type": "ordinal"
        }
       },
       "mark": "rect"
      },
      "image/png": "[encoded data removed]",
      "text/plain": [
       "<VegaLite 2 object>\n",
       "\n",
       "If you see this message, it means the renderer has not been properly enabled\n",
       "for the frontend that you are using. For more information, see\n",
       "https://altair-viz.github.io/user_guide/troubleshooting.html\n"
      ]
     },
     "execution_count": 7,
     "metadata": {},
     "output_type": "execute_result"
    }
   ],
   "source": [
    "alt.Chart(time_sheet).mark_rect().encode(\n",
    "    x=\"date(date):O\", y=\"month(date):O\", color=\"hours_done\"\n",
    ")"
   ]
  },
  {
   "cell_type": "markdown",
   "metadata": {},
   "source": [
    "<!--NAVIGATION-->\n",
    "| [Contents](Index.ipynb) | [Verification](01.00-verification.ipynb) >"
   ]
  }
 ],
 "metadata": {
  "kernelspec": {
   "display_name": "Python 3",
   "language": "python",
   "name": "conda-env-pyosim_aws-py"
  },
  "language_info": {
   "codemirror_mode": {
    "name": "ipython",
    "version": 3
   },
   "file_extension": ".py",
   "mimetype": "text/x-python",
   "name": "python",
   "nbconvert_exporter": "python",
   "pygments_lexer": "ipython3",
   "version": "3.7.2"
  }
 },
 "nbformat": 4,
 "nbformat_minor": 2
}
