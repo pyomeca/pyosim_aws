{
 "cells": [
  {
   "cell_type": "markdown",
   "metadata": {},
   "source": [
    "<!--BOOK_INFORMATION-->\n",
    "<img style=\"float: right; width: 100px\" src=\"https://raw.github.com/pyomeca/design/master/logo/logo_cropped.svg?sanitize=true\">\n",
    "\n",
    "<font size=\"+2\">Pyosim in the cloud</font>\n",
    "\n",
    "<font size=\"+1\">with [pyomeca](https://github.com/pyomeca/pyom</font>a)\n",
    "\n",
    "Romain Martinez (martinez.staps@gmail.com | [GitHub](https://github.com/romainmartinez))\n"
   ]
  },
  {
   "cell_type": "markdown",
   "metadata": {},
   "source": [
    "<!--NAVIGATION-->\n",
    "< [Joint reactions](02.02-joint-reactions.ipynb) | [Contents](Index.ipynb) | [Analyses](03.00-experts-novices.ipynb) >"
   ]
  },
  {
   "cell_type": "markdown",
   "metadata": {},
   "source": [
    "# Simple ergonomics indicator\n",
    "\n",
    "- box-chest distance\n",
    "- box inclination\n",
    "- hip-floor distance"
   ]
  },
  {
   "cell_type": "code",
   "execution_count": 1,
   "metadata": {},
   "outputs": [],
   "source": [
    "from pathlib import Path\n",
    "\n",
    "import yaml\n",
    "import numpy as np\n",
    "import pandas as pd\n",
    "import altair as alt\n",
    "\n",
    "# from pyosim import Conf\n",
    "from pyomeca import Markers3d, Analogs3d, FrameDependentNpArray\n",
    "import spm1d\n",
    "import matplotlib.pyplot as plt\n",
    "\n",
    "from src.util import (\n",
    "    parse_conditions,\n",
    "    condition_counter,\n",
    "    random_balanced_design,\n",
    "    get_spm_cluster,\n",
    "    ridge_plot,\n",
    "    describe_clusters,\n",
    ")"
   ]
  },
  {
   "cell_type": "code",
   "execution_count": 2,
   "metadata": {},
   "outputs": [],
   "source": [
    "%load_ext autoreload\n",
    "%autoreload 2\n",
    "%load_ext lab_black\n",
    "alt.data_transformers.enable(\"json\")\n",
    "# to make this notebook's output stable across runs\n",
    "RANDOM_SEED = 42\n",
    "np.random.seed(RANDOM_SEED)"
   ]
  },
  {
   "cell_type": "code",
   "execution_count": 3,
   "metadata": {},
   "outputs": [],
   "source": [
    "project_path = Path(\"/media/romain/E/Projet_ExpertsNovices/opensim/\")"
   ]
  },
  {
   "cell_type": "code",
   "execution_count": 4,
   "metadata": {},
   "outputs": [],
   "source": [
    "def correct_path(x):\n",
    "    return Path(\n",
    "        x.replace(\"home/laboratoire/mnt/E\", \"/media/romain/E\")\n",
    "        #         .replace(\"E:\", \"/media/romain/E\")\n",
    "        .replace(\"1_inverse_kinematic\", \"0_markers\")\n",
    "        .replace(\".mot\", \".trc\")\n",
    "        .replace(\"wu_expertsnovicesD_\", \"\")\n",
    "        .replace(\"wu_expertsnovicesG_\", \"\")\n",
    "    )\n",
    "\n",
    "\n",
    "def parse_conditions(d):\n",
    "    return d.merge(\n",
    "        pd.read_csv(project_path / \"_conf.csv\")[[\"participant\", \"group\"]].rename(\n",
    "            columns={\"group\": \"expert\"}\n",
    "        ),\n",
    "        on=\"participant\",\n",
    "    ).assign(\n",
    "        fatigue=lambda x: x[\"filename\"].str[0].astype(int) - 1,\n",
    "        height=lambda x: x[\"filename\"].str[2].astype(\"category\"),\n",
    "        mass=lambda x: x[\"filename\"].str[3:5].astype(int),\n",
    "        filename=lambda x: x[\"participant\"] + \"_\" + x[\"filename\"],\n",
    "        participant=lambda x: x[\"participant\"].astype(\"category\"),\n",
    "        n_trial=lambda x: x[\"filename\"].str.split(\"_\").str[-1],\n",
    "    )"
   ]
  },
  {
   "cell_type": "code",
   "execution_count": 5,
   "metadata": {},
   "outputs": [],
   "source": [
    "box_markers = [\n",
    "    \"front_r_X\",\n",
    "    \"front_r_Y\",\n",
    "    \"front_r_Z\",\n",
    "    \"mid_r_X\",\n",
    "    \"mid_r_Y\",\n",
    "    \"mid_r_Z\",\n",
    "    \"back_r_X\",\n",
    "    \"back_r_Y\",\n",
    "    \"back_r_Z\",\n",
    "    \"back_l_X\",\n",
    "    \"back_l_Y\",\n",
    "    \"back_l_Z\",\n",
    "    \"front_l_X\",\n",
    "    \"front_l_Y\",\n",
    "    \"front_l_Z\",\n",
    "]\n",
    "\n",
    "\n",
    "def box_thorax_distance(x):\n",
    "    box = pd.concat(\n",
    "        [x[box_markers].filter(like=i).mean(axis=1).rename(i) for i in [\"X\", \"Y\"]],\n",
    "        axis=1,\n",
    "    )\n",
    "    thorax = x.filter(like=\"STER_\").rename(columns=lambda x: x.replace(\"STER_\", \"\"))\n",
    "    return (\n",
    "        np.sqrt(((box - thorax) ** 2).sum(axis=1))\n",
    "        .replace(0, np.nan)\n",
    "        .interpolate()\n",
    "        .rename(\"box_thorax\")\n",
    "        .to_frame()\n",
    "    )"
   ]
  },
  {
   "cell_type": "code",
   "execution_count": 6,
   "metadata": {},
   "outputs": [],
   "source": [
    "hip_markers = [\n",
    "    \"ASISl_X\",\n",
    "    \"ASISl_Y\",\n",
    "    \"ASISl_Z\",\n",
    "    \"ASISr_X\",\n",
    "    \"ASISr_Y\",\n",
    "    \"ASISr_Z\",\n",
    "    \"PSISl_X\",\n",
    "    \"PSISl_Y\",\n",
    "    \"PSISl_Z\",\n",
    "    \"PSISr_X\",\n",
    "    \"PSISr_Y\",\n",
    "    \"PSISr_Z\",\n",
    "]\n",
    "\n",
    "\n",
    "def hip_normalized_displacement(x):\n",
    "    hip = x[hip_markers].filter(like=\"Z\").mean(axis=1)\n",
    "    #     ref = hip.loc[0]\n",
    "\n",
    "    p = x.loc[0, \"participant\"]\n",
    "    kwargs = dict(\n",
    "        header=3,\n",
    "        first_row=6,\n",
    "        first_column=1,\n",
    "        time_column=1,\n",
    "        delimiter=\"\\t\",\n",
    "        last_column_to_remove=1,\n",
    "    )\n",
    "    try:\n",
    "        try:\n",
    "            ref = (\n",
    "                Markers3d.from_csv(\n",
    "                    f\"{project_path}/{p}/0_markers/irssten_{p}d0.trc\", **kwargs\n",
    "                )\n",
    "                .to_dataframe()[hip_markers]\n",
    "                .filter(like=\"Z\")\n",
    "                .mean(axis=1)\n",
    "                .mean()\n",
    "            )\n",
    "        except IndexError:\n",
    "            kwargs[\"last_column_to_remove\"] = 0\n",
    "            ref = (\n",
    "                Markers3d.from_csv(\n",
    "                    f\"{project_path}/{p}/0_markers/irssten_{p}d0.trc\", **kwargs\n",
    "                )\n",
    "                .to_dataframe()[hip_markers]\n",
    "                .filter(like=\"Z\")\n",
    "                .mean(axis=1)\n",
    "                .mean()\n",
    "            )\n",
    "    except FileNotFoundError:\n",
    "        try:\n",
    "            ref = (\n",
    "                Markers3d.from_csv(\n",
    "                    f\"{project_path}/{p}/0_markers/irssten_{p}g0.trc\", **kwargs\n",
    "                )\n",
    "                .to_dataframe()[hip_markers]\n",
    "                .filter(like=\"Z\")\n",
    "                .mean(axis=1)\n",
    "                .mean()\n",
    "            )\n",
    "        except IndexError:\n",
    "            kwargs[\"last_column_to_remove\"] = 0\n",
    "            ref = (\n",
    "                Markers3d.from_csv(\n",
    "                    f\"{project_path}/{p}/0_markers/irssten_{p}g0.trc\", **kwargs\n",
    "                )\n",
    "                .to_dataframe()[hip_markers]\n",
    "                .filter(like=\"Z\")\n",
    "                .mean(axis=1)\n",
    "                .mean()\n",
    "            )\n",
    "\n",
    "    return (\n",
    "        (hip - ref)\n",
    "        .replace(0, np.nan)\n",
    "        .interpolate()\n",
    "        .rename(\"hip_displacement\")\n",
    "        .to_frame()\n",
    "    )"
   ]
  },
  {
   "cell_type": "code",
   "execution_count": 7,
   "metadata": {},
   "outputs": [],
   "source": [
    "# x = Markers3d.from_csv(\n",
    "#     filename,\n",
    "#     header=3,\n",
    "#     first_row=6,\n",
    "#     first_column=1,\n",
    "#     time_column=1,\n",
    "#     delimiter=\"\\t\",\n",
    "#     last_column_to_remove=1,\n",
    "# )\n",
    "# idx = np.logical_and(\n",
    "#     x.get_time_frames < ifile[\"offset\"], x.get_time_frames > ifile[\"onset\"]\n",
    "# )\n",
    "# x = (\n",
    "#     x[..., idx]\n",
    "#     .to_dataframe()\n",
    "#     .assign(\n",
    "#         filename=filename.stem,\n",
    "#         participant=filename.parent.parent.stem,\n",
    "#         time=lambda x: x.index / 100,\n",
    "#     )\n",
    "# )"
   ]
  },
  {
   "cell_type": "code",
   "execution_count": 8,
   "metadata": {},
   "outputs": [],
   "source": [
    "clav_markers = [\n",
    "    \"CLAV_SC_X\",\n",
    "    \"CLAV_SC_Y\",\n",
    "    \"CLAV_SC_Z\",\n",
    "    \"CLAV_ACm_X\",\n",
    "    \"CLAV_ACm_Y\",\n",
    "    \"CLAV_ACm_Z\",\n",
    "    \"SCAP_CP_X\",\n",
    "    \"SCAP_CP_Y\",\n",
    "    \"SCAP_CP_Z\",\n",
    "    \"SCAP_AA_X\",\n",
    "    \"SCAP_AA_Y\",\n",
    "    \"SCAP_AA_Z\",\n",
    "]\n",
    "\n",
    "\n",
    "def phase_duration(x):\n",
    "    total_duration = x[\"time\"].iloc[-1]\n",
    "\n",
    "    box = x[[\"back_r_Y\", \"back_l_Y\"]].mean(axis=1)\n",
    "    first_phase = box < box.head(10).mean() - 100\n",
    "    first_phase_duration = x.loc[first_phase, \"time\"].iloc[0]\n",
    "\n",
    "    second_phase = x[box_markers].filter(like=\"Z\").mean(axis=1).sub(200) > x[\n",
    "        clav_markers\n",
    "    ].filter(like=\"Z\").mean(axis=1)\n",
    "    second_phase_duration = x.loc[second_phase, \"time\"].iloc[0] - first_phase_duration\n",
    "\n",
    "    third_phase_duration = total_duration - (\n",
    "        first_phase_duration + second_phase_duration\n",
    "    )\n",
    "\n",
    "    return pd.Series(\n",
    "        [\n",
    "            first_phase_duration,\n",
    "            second_phase_duration,\n",
    "            third_phase_duration,\n",
    "            total_duration,\n",
    "        ],\n",
    "        index=[\"first\", \"second\", \"third\", \"total\"],\n",
    "    )"
   ]
  },
  {
   "cell_type": "markdown",
   "metadata": {},
   "source": [
    "## Box-chest distance"
   ]
  },
  {
   "cell_type": "code",
   "execution_count": 9,
   "metadata": {},
   "outputs": [
    {
     "name": "stdout",
     "output_type": "stream",
     "text": [
      "/media/romain/E/Projet_ExpertsNovices/opensim/gaud/0_markers/1_r12_1.trc  not found\n",
      "/media/romain/E/Projet_ExpertsNovices/opensim/gaud/0_markers/1_r12_2.trc  not found\n"
     ]
    },
    {
     "data": {
      "text/html": [
       "<div>\n",
       "<style scoped>\n",
       "    .dataframe tbody tr th:only-of-type {\n",
       "        vertical-align: middle;\n",
       "    }\n",
       "\n",
       "    .dataframe tbody tr th {\n",
       "        vertical-align: top;\n",
       "    }\n",
       "\n",
       "    .dataframe thead th {\n",
       "        text-align: right;\n",
       "    }\n",
       "</style>\n",
       "<table border=\"1\" class=\"dataframe\">\n",
       "  <thead>\n",
       "    <tr style=\"text-align: right;\">\n",
       "      <th></th>\n",
       "      <th>index</th>\n",
       "      <th>ASISl_X</th>\n",
       "      <th>ASISl_Y</th>\n",
       "      <th>ASISl_Z</th>\n",
       "      <th>ASISr_X</th>\n",
       "      <th>ASISr_Y</th>\n",
       "      <th>ASISr_Z</th>\n",
       "      <th>PSISr_X</th>\n",
       "      <th>PSISr_Y</th>\n",
       "      <th>PSISr_Z</th>\n",
       "      <th>...</th>\n",
       "      <th>participant</th>\n",
       "      <th>box_thorax</th>\n",
       "      <th>hip_displacement</th>\n",
       "      <th>box_height</th>\n",
       "      <th>box_speed</th>\n",
       "      <th>time</th>\n",
       "      <th>expert</th>\n",
       "      <th>height</th>\n",
       "      <th>mass</th>\n",
       "      <th>n_trial</th>\n",
       "    </tr>\n",
       "  </thead>\n",
       "  <tbody>\n",
       "    <tr>\n",
       "      <th>46957</th>\n",
       "      <td>0.93</td>\n",
       "      <td>794.554432</td>\n",
       "      <td>-1069.905242</td>\n",
       "      <td>358.342060</td>\n",
       "      <td>593.842402</td>\n",
       "      <td>-1134.171364</td>\n",
       "      <td>342.044216</td>\n",
       "      <td>581.606752</td>\n",
       "      <td>-953.625276</td>\n",
       "      <td>375.341880</td>\n",
       "      <td>...</td>\n",
       "      <td>sylg</td>\n",
       "      <td>410.722972</td>\n",
       "      <td>20.770031</td>\n",
       "      <td>1185.143667</td>\n",
       "      <td>-1.707645</td>\n",
       "      <td>5.7567</td>\n",
       "      <td>0</td>\n",
       "      <td>r</td>\n",
       "      <td>8</td>\n",
       "      <td>6</td>\n",
       "    </tr>\n",
       "    <tr>\n",
       "      <th>928</th>\n",
       "      <td>0.19</td>\n",
       "      <td>968.831792</td>\n",
       "      <td>-372.773292</td>\n",
       "      <td>265.376768</td>\n",
       "      <td>NaN</td>\n",
       "      <td>NaN</td>\n",
       "      <td>NaN</td>\n",
       "      <td>1178.049204</td>\n",
       "      <td>-238.327276</td>\n",
       "      <td>335.527972</td>\n",
       "      <td>...</td>\n",
       "      <td>antc</td>\n",
       "      <td>NaN</td>\n",
       "      <td>-11.614276</td>\n",
       "      <td>376.931537</td>\n",
       "      <td>21.739490</td>\n",
       "      <td>1.2426</td>\n",
       "      <td>0</td>\n",
       "      <td>r</td>\n",
       "      <td>8</td>\n",
       "      <td>5</td>\n",
       "    </tr>\n",
       "    <tr>\n",
       "      <th>3464</th>\n",
       "      <td>0.30</td>\n",
       "      <td>900.098200</td>\n",
       "      <td>-424.562000</td>\n",
       "      <td>254.177400</td>\n",
       "      <td>878.811100</td>\n",
       "      <td>-190.522500</td>\n",
       "      <td>256.726100</td>\n",
       "      <td>1054.976200</td>\n",
       "      <td>-258.176700</td>\n",
       "      <td>286.102000</td>\n",
       "      <td>...</td>\n",
       "      <td>beng</td>\n",
       "      <td>238.016652</td>\n",
       "      <td>5.108768</td>\n",
       "      <td>429.190640</td>\n",
       "      <td>14.608020</td>\n",
       "      <td>2.3940</td>\n",
       "      <td>0</td>\n",
       "      <td>r</td>\n",
       "      <td>8</td>\n",
       "      <td>6</td>\n",
       "    </tr>\n",
       "    <tr>\n",
       "      <th>13413</th>\n",
       "      <td>0.81</td>\n",
       "      <td>849.142321</td>\n",
       "      <td>-1018.998331</td>\n",
       "      <td>423.307117</td>\n",
       "      <td>555.682480</td>\n",
       "      <td>-1021.658017</td>\n",
       "      <td>424.389867</td>\n",
       "      <td>658.399628</td>\n",
       "      <td>-860.824375</td>\n",
       "      <td>427.015183</td>\n",
       "      <td>...</td>\n",
       "      <td>didl</td>\n",
       "      <td>446.460138</td>\n",
       "      <td>37.349377</td>\n",
       "      <td>1298.639993</td>\n",
       "      <td>-1.526579</td>\n",
       "      <td>5.9130</td>\n",
       "      <td>0</td>\n",
       "      <td>r</td>\n",
       "      <td>8</td>\n",
       "      <td>3</td>\n",
       "    </tr>\n",
       "    <tr>\n",
       "      <th>42813</th>\n",
       "      <td>0.90</td>\n",
       "      <td>993.465800</td>\n",
       "      <td>-932.455000</td>\n",
       "      <td>272.317800</td>\n",
       "      <td>729.972400</td>\n",
       "      <td>-929.643900</td>\n",
       "      <td>279.947000</td>\n",
       "      <td>844.913800</td>\n",
       "      <td>-784.293700</td>\n",
       "      <td>304.279400</td>\n",
       "      <td>...</td>\n",
       "      <td>samc</td>\n",
       "      <td>515.417434</td>\n",
       "      <td>18.219732</td>\n",
       "      <td>1077.883760</td>\n",
       "      <td>0.525912</td>\n",
       "      <td>4.2930</td>\n",
       "      <td>0</td>\n",
       "      <td>r</td>\n",
       "      <td>8</td>\n",
       "      <td>6</td>\n",
       "    </tr>\n",
       "  </tbody>\n",
       "</table>\n",
       "<p>5 rows × 126 columns</p>\n",
       "</div>"
      ],
      "text/plain": [
       "       index     ASISl_X      ASISl_Y     ASISl_Z     ASISr_X      ASISr_Y  \\\n",
       "46957   0.93  794.554432 -1069.905242  358.342060  593.842402 -1134.171364   \n",
       "928     0.19  968.831792  -372.773292  265.376768         NaN          NaN   \n",
       "3464    0.30  900.098200  -424.562000  254.177400  878.811100  -190.522500   \n",
       "13413   0.81  849.142321 -1018.998331  423.307117  555.682480 -1021.658017   \n",
       "42813   0.90  993.465800  -932.455000  272.317800  729.972400  -929.643900   \n",
       "\n",
       "          ASISr_Z      PSISr_X     PSISr_Y     PSISr_Z  ...  participant  \\\n",
       "46957  342.044216   581.606752 -953.625276  375.341880  ...         sylg   \n",
       "928           NaN  1178.049204 -238.327276  335.527972  ...         antc   \n",
       "3464   256.726100  1054.976200 -258.176700  286.102000  ...         beng   \n",
       "13413  424.389867   658.399628 -860.824375  427.015183  ...         didl   \n",
       "42813  279.947000   844.913800 -784.293700  304.279400  ...         samc   \n",
       "\n",
       "       box_thorax  hip_displacement   box_height  box_speed    time  expert  \\\n",
       "46957  410.722972         20.770031  1185.143667  -1.707645  5.7567       0   \n",
       "928           NaN        -11.614276   376.931537  21.739490  1.2426       0   \n",
       "3464   238.016652          5.108768   429.190640  14.608020  2.3940       0   \n",
       "13413  446.460138         37.349377  1298.639993  -1.526579  5.9130       0   \n",
       "42813  515.417434         18.219732  1077.883760   0.525912  4.2930       0   \n",
       "\n",
       "       height  mass  n_trial  \n",
       "46957       r     8        6  \n",
       "928         r     8        5  \n",
       "3464        r     8        6  \n",
       "13413       r     8        3  \n",
       "42813       r     8        6  \n",
       "\n",
       "[5 rows x 126 columns]"
      ]
     },
     "execution_count": 9,
     "metadata": {},
     "output_type": "execute_result"
    }
   ],
   "source": [
    "markers = []\n",
    "f = []\n",
    "onsets = pd.read_csv(project_path / \"onsets.csv\")\n",
    "for _, ifile in onsets.iterrows():\n",
    "    filename = correct_path(ifile[\"filepathK\"])\n",
    "    if filename in f:\n",
    "        continue\n",
    "    else:\n",
    "        f.append(filename)\n",
    "    try:\n",
    "        e = Markers3d.from_csv(\n",
    "            filename,\n",
    "            header=3,\n",
    "            first_row=6,\n",
    "            first_column=1,\n",
    "            time_column=1,\n",
    "            delimiter=\"\\t\",\n",
    "            last_column_to_remove=1,\n",
    "        )\n",
    "    except FileNotFoundError:\n",
    "        print(f\"{filename} not found\")\n",
    "        continue\n",
    "\n",
    "    idx = np.logical_and(\n",
    "        e.get_time_frames < ifile[\"offset\"], e.get_time_frames > ifile[\"onset\"]\n",
    "    )\n",
    "\n",
    "    markers.append(\n",
    "        e[..., idx]\n",
    "        .time_normalization()\n",
    "        .to_dataframe()\n",
    "        .assign(\n",
    "            filename=filename.stem,\n",
    "            participant=filename.parent.parent.stem,\n",
    "            box_thorax=lambda x: box_thorax_distance(x),\n",
    "            hip_displacement=lambda x: hip_normalized_displacement(x),\n",
    "            box_height=lambda x: x[box_markers].filter(like=\"Z\").mean(axis=1),\n",
    "            box_speed=lambda x: x[box_markers].filter(like=\"Z\").mean(axis=1).diff(),\n",
    "            time=FrameDependentNpArray(e.get_time_frames.reshape(1, 1, -1))\n",
    "            .time_normalization()\n",
    "            .squeeze(),\n",
    "        )\n",
    "    )\n",
    "markers = (\n",
    "    pd.concat(markers)\n",
    "    .reset_index()\n",
    "    .assign(index=lambda x: x[\"index\"] / 100)\n",
    "    .pipe(parse_conditions)\n",
    "    .query('fatigue == 0 & height == \"r\"')\n",
    "    .drop(\"fatigue\", axis=1)\n",
    ")\n",
    "\n",
    "markers.sample(5)"
   ]
  },
  {
   "cell_type": "code",
   "execution_count": 10,
   "metadata": {},
   "outputs": [],
   "source": [
    "height = (\n",
    "    pd.read_csv(project_path / \"_conf.csv\")\n",
    "    .query(\"process == 1\")[[\"participant\", \"height\"]]\n",
    "    .rename(columns={\"height\": \"p_height\"})\n",
    ")"
   ]
  },
  {
   "cell_type": "code",
   "execution_count": 11,
   "metadata": {},
   "outputs": [],
   "source": [
    "data = (\n",
    "    markers.merge(height, on=\"participant\", how=\"left\")\n",
    "    .eval(\"box_thorax = box_thorax / (p_height * 10)\")\n",
    "    .eval(\"hip_displacement = hip_displacement / (p_height * 10)\")\n",
    "    .drop(\"p_height\", axis=1)\n",
    "    #     .dropna()\n",
    ")"
   ]
  },
  {
   "cell_type": "markdown",
   "metadata": {},
   "source": [
    "### Balance dataset\n",
    "\n",
    "By randomly taking the minimum number of trials for each condition"
   ]
  },
  {
   "cell_type": "code",
   "execution_count": 12,
   "metadata": {},
   "outputs": [
    {
     "data": {
      "text/plain": [
       "expert  mass\n",
       "0       8       72\n",
       "        12      79\n",
       "1       8       50\n",
       "        12      39\n",
       "dtype: int64"
      ]
     },
     "execution_count": 12,
     "metadata": {},
     "output_type": "execute_result"
    }
   ],
   "source": [
    "data.drop_duplicates([\"filename\", \"participant\"]).groupby([\"expert\", \"mass\"]).size()"
   ]
  },
  {
   "cell_type": "code",
   "execution_count": 13,
   "metadata": {},
   "outputs": [],
   "source": [
    "balanced_trials = random_balanced_design(\n",
    "    data, [\"expert\", \"mass\"], random_state=RANDOM_SEED, participant=True\n",
    ")\n",
    "_filename, _participant = (\n",
    "    balanced_trials[\"filename\"].to_list(),\n",
    "    balanced_trials[\"participant\"].to_list(),\n",
    ")"
   ]
  },
  {
   "cell_type": "code",
   "execution_count": 14,
   "metadata": {},
   "outputs": [
    {
     "data": {
      "text/plain": [
       "expert  mass\n",
       "0       8       39\n",
       "        12      39\n",
       "1       8       39\n",
       "        12      39\n",
       "dtype: int64"
      ]
     },
     "execution_count": 14,
     "metadata": {},
     "output_type": "execute_result"
    }
   ],
   "source": [
    "data = data.query(\"filename == @_filename & participant == @_participant\")\n",
    "data.drop_duplicates([\"filename\", \"participant\"]).groupby([\"expert\", \"mass\"]).size()"
   ]
  },
  {
   "cell_type": "markdown",
   "metadata": {},
   "source": [
    "### Stats"
   ]
  },
  {
   "cell_type": "code",
   "execution_count": 142,
   "metadata": {},
   "outputs": [
    {
     "data": {
      "text/html": [
       "<div>\n",
       "<style scoped>\n",
       "    .dataframe tbody tr th:only-of-type {\n",
       "        vertical-align: middle;\n",
       "    }\n",
       "\n",
       "    .dataframe tbody tr th {\n",
       "        vertical-align: top;\n",
       "    }\n",
       "\n",
       "    .dataframe thead tr th {\n",
       "        text-align: left;\n",
       "    }\n",
       "\n",
       "    .dataframe thead tr:last-of-type th {\n",
       "        text-align: right;\n",
       "    }\n",
       "</style>\n",
       "<table border=\"1\" class=\"dataframe\">\n",
       "  <thead>\n",
       "    <tr>\n",
       "      <th></th>\n",
       "      <th></th>\n",
       "      <th></th>\n",
       "      <th></th>\n",
       "      <th></th>\n",
       "      <th></th>\n",
       "      <th colspan=\"21\" halign=\"left\">value</th>\n",
       "    </tr>\n",
       "    <tr>\n",
       "      <th></th>\n",
       "      <th></th>\n",
       "      <th></th>\n",
       "      <th></th>\n",
       "      <th></th>\n",
       "      <th>index</th>\n",
       "      <th>0.00</th>\n",
       "      <th>0.01</th>\n",
       "      <th>0.02</th>\n",
       "      <th>0.03</th>\n",
       "      <th>0.04</th>\n",
       "      <th>0.05</th>\n",
       "      <th>0.06</th>\n",
       "      <th>0.07</th>\n",
       "      <th>0.08</th>\n",
       "      <th>0.09</th>\n",
       "      <th>...</th>\n",
       "      <th>0.91</th>\n",
       "      <th>0.92</th>\n",
       "      <th>0.93</th>\n",
       "      <th>0.94</th>\n",
       "      <th>0.95</th>\n",
       "      <th>0.96</th>\n",
       "      <th>0.97</th>\n",
       "      <th>0.98</th>\n",
       "      <th>0.99</th>\n",
       "      <th>1.00</th>\n",
       "    </tr>\n",
       "    <tr>\n",
       "      <th>filename</th>\n",
       "      <th>participant</th>\n",
       "      <th>expert</th>\n",
       "      <th>height</th>\n",
       "      <th>mass</th>\n",
       "      <th>n_trial</th>\n",
       "      <th></th>\n",
       "      <th></th>\n",
       "      <th></th>\n",
       "      <th></th>\n",
       "      <th></th>\n",
       "      <th></th>\n",
       "      <th></th>\n",
       "      <th></th>\n",
       "      <th></th>\n",
       "      <th></th>\n",
       "      <th></th>\n",
       "      <th></th>\n",
       "      <th></th>\n",
       "      <th></th>\n",
       "      <th></th>\n",
       "      <th></th>\n",
       "      <th></th>\n",
       "      <th></th>\n",
       "      <th></th>\n",
       "      <th></th>\n",
       "      <th></th>\n",
       "    </tr>\n",
       "  </thead>\n",
       "  <tbody>\n",
       "    <tr>\n",
       "      <th>antc_1_r08_1</th>\n",
       "      <th>0</th>\n",
       "      <th>0</th>\n",
       "      <th>r</th>\n",
       "      <th>8</th>\n",
       "      <th>1</th>\n",
       "      <td>0.000278</td>\n",
       "      <td>0.000211</td>\n",
       "      <td>0.000140</td>\n",
       "      <td>0.000088</td>\n",
       "      <td>0.000000</td>\n",
       "      <td>0.000060</td>\n",
       "      <td>0.000200</td>\n",
       "      <td>0.000267</td>\n",
       "      <td>0.000723</td>\n",
       "      <td>0.002287</td>\n",
       "      <td>...</td>\n",
       "      <td>0.973399</td>\n",
       "      <td>0.973020</td>\n",
       "      <td>0.972927</td>\n",
       "      <td>0.972861</td>\n",
       "      <td>0.972777</td>\n",
       "      <td>0.972724</td>\n",
       "      <td>0.972647</td>\n",
       "      <td>0.972654</td>\n",
       "      <td>0.972656</td>\n",
       "      <td>0.972667</td>\n",
       "    </tr>\n",
       "    <tr>\n",
       "      <th>antc_1_r08_4</th>\n",
       "      <th>0</th>\n",
       "      <th>0</th>\n",
       "      <th>r</th>\n",
       "      <th>8</th>\n",
       "      <th>4</th>\n",
       "      <td>0.000039</td>\n",
       "      <td>0.000075</td>\n",
       "      <td>0.000000</td>\n",
       "      <td>0.000002</td>\n",
       "      <td>0.000174</td>\n",
       "      <td>0.000409</td>\n",
       "      <td>0.001154</td>\n",
       "      <td>0.003348</td>\n",
       "      <td>0.006954</td>\n",
       "      <td>0.012501</td>\n",
       "      <td>...</td>\n",
       "      <td>0.969968</td>\n",
       "      <td>0.968764</td>\n",
       "      <td>0.968671</td>\n",
       "      <td>0.968612</td>\n",
       "      <td>0.968602</td>\n",
       "      <td>0.968590</td>\n",
       "      <td>0.968581</td>\n",
       "      <td>0.968575</td>\n",
       "      <td>0.968596</td>\n",
       "      <td>0.968581</td>\n",
       "    </tr>\n",
       "    <tr>\n",
       "      <th>antc_1_r08_5</th>\n",
       "      <th>0</th>\n",
       "      <th>0</th>\n",
       "      <th>r</th>\n",
       "      <th>8</th>\n",
       "      <th>5</th>\n",
       "      <td>0.000000</td>\n",
       "      <td>0.000003</td>\n",
       "      <td>0.000021</td>\n",
       "      <td>0.000255</td>\n",
       "      <td>0.000531</td>\n",
       "      <td>0.001635</td>\n",
       "      <td>0.003775</td>\n",
       "      <td>0.008090</td>\n",
       "      <td>0.014722</td>\n",
       "      <td>0.022356</td>\n",
       "      <td>...</td>\n",
       "      <td>0.965560</td>\n",
       "      <td>0.963499</td>\n",
       "      <td>0.960755</td>\n",
       "      <td>0.957146</td>\n",
       "      <td>0.954082</td>\n",
       "      <td>0.952407</td>\n",
       "      <td>0.951527</td>\n",
       "      <td>0.951605</td>\n",
       "      <td>0.951619</td>\n",
       "      <td>0.951622</td>\n",
       "    </tr>\n",
       "    <tr>\n",
       "      <th>antc_1_r08_6</th>\n",
       "      <th>0</th>\n",
       "      <th>0</th>\n",
       "      <th>r</th>\n",
       "      <th>8</th>\n",
       "      <th>6</th>\n",
       "      <td>0.000509</td>\n",
       "      <td>0.000508</td>\n",
       "      <td>0.000491</td>\n",
       "      <td>0.000496</td>\n",
       "      <td>0.000447</td>\n",
       "      <td>0.000460</td>\n",
       "      <td>0.000348</td>\n",
       "      <td>0.000358</td>\n",
       "      <td>0.000342</td>\n",
       "      <td>0.000327</td>\n",
       "      <td>...</td>\n",
       "      <td>0.860986</td>\n",
       "      <td>0.882199</td>\n",
       "      <td>0.903989</td>\n",
       "      <td>0.925422</td>\n",
       "      <td>0.945299</td>\n",
       "      <td>0.962483</td>\n",
       "      <td>0.976425</td>\n",
       "      <td>0.987384</td>\n",
       "      <td>0.995437</td>\n",
       "      <td>1.000000</td>\n",
       "    </tr>\n",
       "    <tr>\n",
       "      <th>antc_1_r12_1</th>\n",
       "      <th>0</th>\n",
       "      <th>0</th>\n",
       "      <th>r</th>\n",
       "      <th>12</th>\n",
       "      <th>1</th>\n",
       "      <td>0.001926</td>\n",
       "      <td>0.002000</td>\n",
       "      <td>0.002135</td>\n",
       "      <td>0.001913</td>\n",
       "      <td>0.001548</td>\n",
       "      <td>0.000823</td>\n",
       "      <td>0.000431</td>\n",
       "      <td>0.000141</td>\n",
       "      <td>0.000000</td>\n",
       "      <td>0.000101</td>\n",
       "      <td>...</td>\n",
       "      <td>0.906121</td>\n",
       "      <td>0.902355</td>\n",
       "      <td>0.901870</td>\n",
       "      <td>0.901445</td>\n",
       "      <td>0.901163</td>\n",
       "      <td>0.901100</td>\n",
       "      <td>0.901043</td>\n",
       "      <td>0.901009</td>\n",
       "      <td>0.900994</td>\n",
       "      <td>0.901008</td>\n",
       "    </tr>\n",
       "    <tr>\n",
       "      <th>...</th>\n",
       "      <th>...</th>\n",
       "      <th>...</th>\n",
       "      <th>...</th>\n",
       "      <th>...</th>\n",
       "      <th>...</th>\n",
       "      <td>...</td>\n",
       "      <td>...</td>\n",
       "      <td>...</td>\n",
       "      <td>...</td>\n",
       "      <td>...</td>\n",
       "      <td>...</td>\n",
       "      <td>...</td>\n",
       "      <td>...</td>\n",
       "      <td>...</td>\n",
       "      <td>...</td>\n",
       "      <td>...</td>\n",
       "      <td>...</td>\n",
       "      <td>...</td>\n",
       "      <td>...</td>\n",
       "      <td>...</td>\n",
       "      <td>...</td>\n",
       "      <td>...</td>\n",
       "      <td>...</td>\n",
       "      <td>...</td>\n",
       "      <td>...</td>\n",
       "      <td>...</td>\n",
       "    </tr>\n",
       "    <tr>\n",
       "      <th>stec_1_r12_5</th>\n",
       "      <th>22</th>\n",
       "      <th>1</th>\n",
       "      <th>r</th>\n",
       "      <th>12</th>\n",
       "      <th>5</th>\n",
       "      <td>0.004340</td>\n",
       "      <td>0.004374</td>\n",
       "      <td>0.004216</td>\n",
       "      <td>0.004274</td>\n",
       "      <td>0.004089</td>\n",
       "      <td>0.003961</td>\n",
       "      <td>0.003646</td>\n",
       "      <td>0.003251</td>\n",
       "      <td>0.002933</td>\n",
       "      <td>0.002451</td>\n",
       "      <td>...</td>\n",
       "      <td>0.963809</td>\n",
       "      <td>0.962103</td>\n",
       "      <td>0.958077</td>\n",
       "      <td>0.952010</td>\n",
       "      <td>0.944527</td>\n",
       "      <td>0.917424</td>\n",
       "      <td>0.917439</td>\n",
       "      <td>0.917427</td>\n",
       "      <td>0.917431</td>\n",
       "      <td>0.917424</td>\n",
       "    </tr>\n",
       "    <tr>\n",
       "      <th>sylg_1_r08_4</th>\n",
       "      <th>23</th>\n",
       "      <th>0</th>\n",
       "      <th>r</th>\n",
       "      <th>8</th>\n",
       "      <th>4</th>\n",
       "      <td>0.000000</td>\n",
       "      <td>0.000090</td>\n",
       "      <td>0.000415</td>\n",
       "      <td>0.001131</td>\n",
       "      <td>0.002679</td>\n",
       "      <td>0.006162</td>\n",
       "      <td>0.011364</td>\n",
       "      <td>0.017899</td>\n",
       "      <td>0.024965</td>\n",
       "      <td>0.032279</td>\n",
       "      <td>...</td>\n",
       "      <td>0.984321</td>\n",
       "      <td>0.984205</td>\n",
       "      <td>0.984465</td>\n",
       "      <td>0.984407</td>\n",
       "      <td>0.983984</td>\n",
       "      <td>0.983848</td>\n",
       "      <td>0.983720</td>\n",
       "      <td>0.983511</td>\n",
       "      <td>0.983460</td>\n",
       "      <td>0.983387</td>\n",
       "    </tr>\n",
       "    <tr>\n",
       "      <th>sylg_1_r08_6</th>\n",
       "      <th>23</th>\n",
       "      <th>0</th>\n",
       "      <th>r</th>\n",
       "      <th>8</th>\n",
       "      <th>6</th>\n",
       "      <td>0.000000</td>\n",
       "      <td>0.000002</td>\n",
       "      <td>0.000073</td>\n",
       "      <td>0.000425</td>\n",
       "      <td>0.000505</td>\n",
       "      <td>0.000630</td>\n",
       "      <td>0.001212</td>\n",
       "      <td>0.002860</td>\n",
       "      <td>0.006015</td>\n",
       "      <td>0.010925</td>\n",
       "      <td>...</td>\n",
       "      <td>0.963911</td>\n",
       "      <td>0.962571</td>\n",
       "      <td>0.960878</td>\n",
       "      <td>0.958857</td>\n",
       "      <td>0.956412</td>\n",
       "      <td>0.954475</td>\n",
       "      <td>0.953871</td>\n",
       "      <td>0.954078</td>\n",
       "      <td>0.953727</td>\n",
       "      <td>0.953333</td>\n",
       "    </tr>\n",
       "    <tr>\n",
       "      <th>sylg_1_r12_1</th>\n",
       "      <th>23</th>\n",
       "      <th>0</th>\n",
       "      <th>r</th>\n",
       "      <th>12</th>\n",
       "      <th>1</th>\n",
       "      <td>0.000000</td>\n",
       "      <td>0.000110</td>\n",
       "      <td>0.000345</td>\n",
       "      <td>0.000547</td>\n",
       "      <td>0.000838</td>\n",
       "      <td>0.001557</td>\n",
       "      <td>0.003501</td>\n",
       "      <td>0.007090</td>\n",
       "      <td>0.012002</td>\n",
       "      <td>0.017342</td>\n",
       "      <td>...</td>\n",
       "      <td>0.946113</td>\n",
       "      <td>0.945683</td>\n",
       "      <td>0.945426</td>\n",
       "      <td>0.945049</td>\n",
       "      <td>0.944309</td>\n",
       "      <td>0.944627</td>\n",
       "      <td>0.944483</td>\n",
       "      <td>0.944421</td>\n",
       "      <td>0.944461</td>\n",
       "      <td>0.944431</td>\n",
       "    </tr>\n",
       "    <tr>\n",
       "      <th>sylg_1_r12_6</th>\n",
       "      <th>23</th>\n",
       "      <th>0</th>\n",
       "      <th>r</th>\n",
       "      <th>12</th>\n",
       "      <th>6</th>\n",
       "      <td>0.000025</td>\n",
       "      <td>0.000000</td>\n",
       "      <td>0.000068</td>\n",
       "      <td>0.000223</td>\n",
       "      <td>0.000484</td>\n",
       "      <td>0.000806</td>\n",
       "      <td>0.001739</td>\n",
       "      <td>0.003683</td>\n",
       "      <td>0.006890</td>\n",
       "      <td>0.011241</td>\n",
       "      <td>...</td>\n",
       "      <td>0.962670</td>\n",
       "      <td>0.963690</td>\n",
       "      <td>0.963200</td>\n",
       "      <td>0.962439</td>\n",
       "      <td>0.962618</td>\n",
       "      <td>0.962332</td>\n",
       "      <td>0.962333</td>\n",
       "      <td>0.962206</td>\n",
       "      <td>0.962115</td>\n",
       "      <td>0.962035</td>\n",
       "    </tr>\n",
       "  </tbody>\n",
       "</table>\n",
       "<p>156 rows × 101 columns</p>\n",
       "</div>"
      ],
      "text/plain": [
       "                                                        value            \\\n",
       "index                                                    0.00      0.01   \n",
       "filename     participant expert height mass n_trial                       \n",
       "antc_1_r08_1 0           0      r      8    1        0.000278  0.000211   \n",
       "antc_1_r08_4 0           0      r      8    4        0.000039  0.000075   \n",
       "antc_1_r08_5 0           0      r      8    5        0.000000  0.000003   \n",
       "antc_1_r08_6 0           0      r      8    6        0.000509  0.000508   \n",
       "antc_1_r12_1 0           0      r      12   1        0.001926  0.002000   \n",
       "...                                                       ...       ...   \n",
       "stec_1_r12_5 22          1      r      12   5        0.004340  0.004374   \n",
       "sylg_1_r08_4 23          0      r      8    4        0.000000  0.000090   \n",
       "sylg_1_r08_6 23          0      r      8    6        0.000000  0.000002   \n",
       "sylg_1_r12_1 23          0      r      12   1        0.000000  0.000110   \n",
       "sylg_1_r12_6 23          0      r      12   6        0.000025  0.000000   \n",
       "\n",
       "                                                                         \\\n",
       "index                                                    0.02      0.03   \n",
       "filename     participant expert height mass n_trial                       \n",
       "antc_1_r08_1 0           0      r      8    1        0.000140  0.000088   \n",
       "antc_1_r08_4 0           0      r      8    4        0.000000  0.000002   \n",
       "antc_1_r08_5 0           0      r      8    5        0.000021  0.000255   \n",
       "antc_1_r08_6 0           0      r      8    6        0.000491  0.000496   \n",
       "antc_1_r12_1 0           0      r      12   1        0.002135  0.001913   \n",
       "...                                                       ...       ...   \n",
       "stec_1_r12_5 22          1      r      12   5        0.004216  0.004274   \n",
       "sylg_1_r08_4 23          0      r      8    4        0.000415  0.001131   \n",
       "sylg_1_r08_6 23          0      r      8    6        0.000073  0.000425   \n",
       "sylg_1_r12_1 23          0      r      12   1        0.000345  0.000547   \n",
       "sylg_1_r12_6 23          0      r      12   6        0.000068  0.000223   \n",
       "\n",
       "                                                                         \\\n",
       "index                                                    0.04      0.05   \n",
       "filename     participant expert height mass n_trial                       \n",
       "antc_1_r08_1 0           0      r      8    1        0.000000  0.000060   \n",
       "antc_1_r08_4 0           0      r      8    4        0.000174  0.000409   \n",
       "antc_1_r08_5 0           0      r      8    5        0.000531  0.001635   \n",
       "antc_1_r08_6 0           0      r      8    6        0.000447  0.000460   \n",
       "antc_1_r12_1 0           0      r      12   1        0.001548  0.000823   \n",
       "...                                                       ...       ...   \n",
       "stec_1_r12_5 22          1      r      12   5        0.004089  0.003961   \n",
       "sylg_1_r08_4 23          0      r      8    4        0.002679  0.006162   \n",
       "sylg_1_r08_6 23          0      r      8    6        0.000505  0.000630   \n",
       "sylg_1_r12_1 23          0      r      12   1        0.000838  0.001557   \n",
       "sylg_1_r12_6 23          0      r      12   6        0.000484  0.000806   \n",
       "\n",
       "                                                                         \\\n",
       "index                                                    0.06      0.07   \n",
       "filename     participant expert height mass n_trial                       \n",
       "antc_1_r08_1 0           0      r      8    1        0.000200  0.000267   \n",
       "antc_1_r08_4 0           0      r      8    4        0.001154  0.003348   \n",
       "antc_1_r08_5 0           0      r      8    5        0.003775  0.008090   \n",
       "antc_1_r08_6 0           0      r      8    6        0.000348  0.000358   \n",
       "antc_1_r12_1 0           0      r      12   1        0.000431  0.000141   \n",
       "...                                                       ...       ...   \n",
       "stec_1_r12_5 22          1      r      12   5        0.003646  0.003251   \n",
       "sylg_1_r08_4 23          0      r      8    4        0.011364  0.017899   \n",
       "sylg_1_r08_6 23          0      r      8    6        0.001212  0.002860   \n",
       "sylg_1_r12_1 23          0      r      12   1        0.003501  0.007090   \n",
       "sylg_1_r12_6 23          0      r      12   6        0.001739  0.003683   \n",
       "\n",
       "                                                                         ...  \\\n",
       "index                                                    0.08      0.09  ...   \n",
       "filename     participant expert height mass n_trial                      ...   \n",
       "antc_1_r08_1 0           0      r      8    1        0.000723  0.002287  ...   \n",
       "antc_1_r08_4 0           0      r      8    4        0.006954  0.012501  ...   \n",
       "antc_1_r08_5 0           0      r      8    5        0.014722  0.022356  ...   \n",
       "antc_1_r08_6 0           0      r      8    6        0.000342  0.000327  ...   \n",
       "antc_1_r12_1 0           0      r      12   1        0.000000  0.000101  ...   \n",
       "...                                                       ...       ...  ...   \n",
       "stec_1_r12_5 22          1      r      12   5        0.002933  0.002451  ...   \n",
       "sylg_1_r08_4 23          0      r      8    4        0.024965  0.032279  ...   \n",
       "sylg_1_r08_6 23          0      r      8    6        0.006015  0.010925  ...   \n",
       "sylg_1_r12_1 23          0      r      12   1        0.012002  0.017342  ...   \n",
       "sylg_1_r12_6 23          0      r      12   6        0.006890  0.011241  ...   \n",
       "\n",
       "                                                                         \\\n",
       "index                                                    0.91      0.92   \n",
       "filename     participant expert height mass n_trial                       \n",
       "antc_1_r08_1 0           0      r      8    1        0.973399  0.973020   \n",
       "antc_1_r08_4 0           0      r      8    4        0.969968  0.968764   \n",
       "antc_1_r08_5 0           0      r      8    5        0.965560  0.963499   \n",
       "antc_1_r08_6 0           0      r      8    6        0.860986  0.882199   \n",
       "antc_1_r12_1 0           0      r      12   1        0.906121  0.902355   \n",
       "...                                                       ...       ...   \n",
       "stec_1_r12_5 22          1      r      12   5        0.963809  0.962103   \n",
       "sylg_1_r08_4 23          0      r      8    4        0.984321  0.984205   \n",
       "sylg_1_r08_6 23          0      r      8    6        0.963911  0.962571   \n",
       "sylg_1_r12_1 23          0      r      12   1        0.946113  0.945683   \n",
       "sylg_1_r12_6 23          0      r      12   6        0.962670  0.963690   \n",
       "\n",
       "                                                                         \\\n",
       "index                                                    0.93      0.94   \n",
       "filename     participant expert height mass n_trial                       \n",
       "antc_1_r08_1 0           0      r      8    1        0.972927  0.972861   \n",
       "antc_1_r08_4 0           0      r      8    4        0.968671  0.968612   \n",
       "antc_1_r08_5 0           0      r      8    5        0.960755  0.957146   \n",
       "antc_1_r08_6 0           0      r      8    6        0.903989  0.925422   \n",
       "antc_1_r12_1 0           0      r      12   1        0.901870  0.901445   \n",
       "...                                                       ...       ...   \n",
       "stec_1_r12_5 22          1      r      12   5        0.958077  0.952010   \n",
       "sylg_1_r08_4 23          0      r      8    4        0.984465  0.984407   \n",
       "sylg_1_r08_6 23          0      r      8    6        0.960878  0.958857   \n",
       "sylg_1_r12_1 23          0      r      12   1        0.945426  0.945049   \n",
       "sylg_1_r12_6 23          0      r      12   6        0.963200  0.962439   \n",
       "\n",
       "                                                                         \\\n",
       "index                                                    0.95      0.96   \n",
       "filename     participant expert height mass n_trial                       \n",
       "antc_1_r08_1 0           0      r      8    1        0.972777  0.972724   \n",
       "antc_1_r08_4 0           0      r      8    4        0.968602  0.968590   \n",
       "antc_1_r08_5 0           0      r      8    5        0.954082  0.952407   \n",
       "antc_1_r08_6 0           0      r      8    6        0.945299  0.962483   \n",
       "antc_1_r12_1 0           0      r      12   1        0.901163  0.901100   \n",
       "...                                                       ...       ...   \n",
       "stec_1_r12_5 22          1      r      12   5        0.944527  0.917424   \n",
       "sylg_1_r08_4 23          0      r      8    4        0.983984  0.983848   \n",
       "sylg_1_r08_6 23          0      r      8    6        0.956412  0.954475   \n",
       "sylg_1_r12_1 23          0      r      12   1        0.944309  0.944627   \n",
       "sylg_1_r12_6 23          0      r      12   6        0.962618  0.962332   \n",
       "\n",
       "                                                                         \\\n",
       "index                                                    0.97      0.98   \n",
       "filename     participant expert height mass n_trial                       \n",
       "antc_1_r08_1 0           0      r      8    1        0.972647  0.972654   \n",
       "antc_1_r08_4 0           0      r      8    4        0.968581  0.968575   \n",
       "antc_1_r08_5 0           0      r      8    5        0.951527  0.951605   \n",
       "antc_1_r08_6 0           0      r      8    6        0.976425  0.987384   \n",
       "antc_1_r12_1 0           0      r      12   1        0.901043  0.901009   \n",
       "...                                                       ...       ...   \n",
       "stec_1_r12_5 22          1      r      12   5        0.917439  0.917427   \n",
       "sylg_1_r08_4 23          0      r      8    4        0.983720  0.983511   \n",
       "sylg_1_r08_6 23          0      r      8    6        0.953871  0.954078   \n",
       "sylg_1_r12_1 23          0      r      12   1        0.944483  0.944421   \n",
       "sylg_1_r12_6 23          0      r      12   6        0.962333  0.962206   \n",
       "\n",
       "                                                                         \n",
       "index                                                    0.99      1.00  \n",
       "filename     participant expert height mass n_trial                      \n",
       "antc_1_r08_1 0           0      r      8    1        0.972656  0.972667  \n",
       "antc_1_r08_4 0           0      r      8    4        0.968596  0.968581  \n",
       "antc_1_r08_5 0           0      r      8    5        0.951619  0.951622  \n",
       "antc_1_r08_6 0           0      r      8    6        0.995437  1.000000  \n",
       "antc_1_r12_1 0           0      r      12   1        0.900994  0.901008  \n",
       "...                                                       ...       ...  \n",
       "stec_1_r12_5 22          1      r      12   5        0.917431  0.917424  \n",
       "sylg_1_r08_4 23          0      r      8    4        0.983460  0.983387  \n",
       "sylg_1_r08_6 23          0      r      8    6        0.953727  0.953333  \n",
       "sylg_1_r12_1 23          0      r      12   1        0.944461  0.944431  \n",
       "sylg_1_r12_6 23          0      r      12   6        0.962115  0.962035  \n",
       "\n",
       "[156 rows x 101 columns]"
      ]
     },
     "execution_count": 142,
     "metadata": {},
     "output_type": "execute_result"
    }
   ],
   "source": [
    "id_vars = [\"filename\", \"participant\", \"expert\", \"height\", \"mass\", \"n_trial\", \"index\"]\n",
    "value = \"box_thorax\"\n",
    "# value = \"hip_displacement\"\n",
    "value = \"box_height\"\n",
    "stats_df = (\n",
    "    data[id_vars]\n",
    "    .assign(value=data[value])\n",
    "    .assign(participant=lambda x: x[\"participant\"].astype(\"category\").cat.codes)\n",
    "    .set_index(id_vars)\n",
    "    .unstack()\n",
    ")\n",
    "stats_df = stats_df.fillna(stats_df.mean())\n",
    "stats_df"
   ]
  },
  {
   "cell_type": "code",
   "execution_count": 143,
   "metadata": {},
   "outputs": [
    {
     "data": {
      "image/png": "[encoded data removed]",
      "text/plain": [
       "<Figure size 792x576 with 3 Axes>"
      ]
     },
     "metadata": {
      "needs_background": "light"
     },
     "output_type": "display_data"
    }
   ],
   "source": [
    "α = 0.05\n",
    "n_iter = 1000\n",
    "spm = spm1d.stats.nonparam.anova2(\n",
    "    stats_df.to_numpy(),\n",
    "    A=stats_df.index.get_level_values(\"expert\"),\n",
    "    B=stats_df.index.get_level_values(\"mass\"),\n",
    ")\n",
    "spmi = spm.inference(alpha=α, iterations=n_iter)\n",
    "\n",
    "plt.figure(figsize=(11, 8))\n",
    "spmi.plot()\n",
    "plt.tight_layout()"
   ]
  },
  {
   "cell_type": "code",
   "execution_count": 144,
   "metadata": {},
   "outputs": [
    {
     "data": {
      "text/html": [
       "<div>\n",
       "<style scoped>\n",
       "    .dataframe tbody tr th:only-of-type {\n",
       "        vertical-align: middle;\n",
       "    }\n",
       "\n",
       "    .dataframe tbody tr th {\n",
       "        vertical-align: top;\n",
       "    }\n",
       "\n",
       "    .dataframe thead th {\n",
       "        text-align: right;\n",
       "    }\n",
       "</style>\n",
       "<table border=\"1\" class=\"dataframe\">\n",
       "  <thead>\n",
       "    <tr style=\"text-align: right;\">\n",
       "      <th></th>\n",
       "      <th>effect</th>\n",
       "      <th>p</th>\n",
       "      <th>start</th>\n",
       "      <th>end</th>\n",
       "    </tr>\n",
       "  </thead>\n",
       "  <tbody>\n",
       "    <tr>\n",
       "      <th>0</th>\n",
       "      <td>main sex</td>\n",
       "      <td>0.0393333</td>\n",
       "      <td>0</td>\n",
       "      <td>0.00473227</td>\n",
       "    </tr>\n",
       "    <tr>\n",
       "      <th>1</th>\n",
       "      <td>main sex</td>\n",
       "      <td>0</td>\n",
       "      <td>0.302663</td>\n",
       "      <td>0.783289</td>\n",
       "    </tr>\n",
       "    <tr>\n",
       "      <th>2</th>\n",
       "      <td>main sex</td>\n",
       "      <td>0.026</td>\n",
       "      <td>0.907323</td>\n",
       "      <td>0.950176</td>\n",
       "    </tr>\n",
       "  </tbody>\n",
       "</table>\n",
       "</div>"
      ],
      "text/plain": [
       "     effect          p     start         end\n",
       "0  main sex  0.0393333         0  0.00473227\n",
       "1  main sex          0  0.302663    0.783289\n",
       "2  main sex      0.026  0.907323    0.950176"
      ]
     },
     "execution_count": 144,
     "metadata": {},
     "output_type": "execute_result"
    }
   ],
   "source": [
    "effect = {\n",
    "    \"Main A\": \"main sex\",\n",
    "    \"Main B\": \"main mass\",\n",
    "    \"Interaction AB\": \"interaction sex-mass\",\n",
    "}\n",
    "\n",
    "clusters = get_spm_cluster(spmi, labels=effect, mult=1 / stats_df.shape[1])\n",
    "clusters"
   ]
  },
  {
   "cell_type": "code",
   "execution_count": 145,
   "metadata": {},
   "outputs": [
    {
     "ename": "KeyError",
     "evalue": "'Column not found: value'",
     "output_type": "error",
     "traceback": [
      "\u001b[0;31m---------------------------------------------------------------------------\u001b[0m",
      "\u001b[0;31mKeyError\u001b[0m                                  Traceback (most recent call last)",
      "\u001b[0;32m<ipython-input-145-c2be81ba99aa>\u001b[0m in \u001b[0;36m<module>\u001b[0;34m\u001b[0m\n\u001b[1;32m      1\u001b[0m \u001b[0meffect\u001b[0m \u001b[0;34m=\u001b[0m \u001b[0;34m{\u001b[0m\u001b[0;34m\"main sex\"\u001b[0m\u001b[0;34m:\u001b[0m \u001b[0;34m\"expert\"\u001b[0m\u001b[0;34m,\u001b[0m \u001b[0;34m\"main mass\"\u001b[0m\u001b[0;34m:\u001b[0m \u001b[0;34m\"mass\"\u001b[0m\u001b[0;34m,\u001b[0m \u001b[0;34m\"interaction sex-mass\"\u001b[0m\u001b[0;34m:\u001b[0m \u001b[0;34m\"expert\"\u001b[0m\u001b[0;34m}\u001b[0m\u001b[0;34m\u001b[0m\u001b[0;34m\u001b[0m\u001b[0m\n\u001b[1;32m      2\u001b[0m clusters = describe_clusters(\n\u001b[0;32m----> 3\u001b[0;31m     \u001b[0mclusters\u001b[0m\u001b[0;34m,\u001b[0m \u001b[0mdata\u001b[0m\u001b[0;34m[\u001b[0m\u001b[0mid_vars\u001b[0m \u001b[0;34m+\u001b[0m \u001b[0;34m[\u001b[0m\u001b[0mvalue\u001b[0m\u001b[0;34m]\u001b[0m\u001b[0;34m]\u001b[0m\u001b[0;34m.\u001b[0m\u001b[0mrename\u001b[0m\u001b[0;34m(\u001b[0m\u001b[0mcolumns\u001b[0m\u001b[0;34m=\u001b[0m\u001b[0mdict\u001b[0m\u001b[0;34m(\u001b[0m\u001b[0mhip_displacement\u001b[0m\u001b[0;34m=\u001b[0m\u001b[0;34m\"box_thorax\"\u001b[0m\u001b[0;34m)\u001b[0m\u001b[0;34m)\u001b[0m\u001b[0;34m,\u001b[0m \u001b[0meffect\u001b[0m\u001b[0;34m\u001b[0m\u001b[0;34m\u001b[0m\u001b[0m\n\u001b[0m\u001b[1;32m      4\u001b[0m )\n\u001b[1;32m      5\u001b[0m \u001b[0mclusters\u001b[0m\u001b[0;34m\u001b[0m\u001b[0;34m\u001b[0m\u001b[0m\n",
      "\u001b[0;32m~/Documents/codes/pyosim_aws/src/util.py\u001b[0m in \u001b[0;36mdescribe_clusters\u001b[0;34m(clusters, data, effect, round)\u001b[0m\n\u001b[1;32m    135\u001b[0m             for _, i in data.query(\"@s < index < @e\").groupby(\n\u001b[1;32m    136\u001b[0m                 \u001b[0meffect\u001b[0m\u001b[0;34m[\u001b[0m\u001b[0micluster\u001b[0m\u001b[0;34m[\u001b[0m\u001b[0;34m\"effect\"\u001b[0m\u001b[0;34m]\u001b[0m\u001b[0;34m]\u001b[0m\u001b[0;34m\u001b[0m\u001b[0;34m\u001b[0m\u001b[0m\n\u001b[0;32m--> 137\u001b[0;31m             )[\"value\"]\n\u001b[0m\u001b[1;32m    138\u001b[0m         ]\n\u001b[1;32m    139\u001b[0m         \u001b[0mcolumns\u001b[0m \u001b[0;34m=\u001b[0m \u001b[0mdata\u001b[0m\u001b[0;34m[\u001b[0m\u001b[0meffect\u001b[0m\u001b[0;34m[\u001b[0m\u001b[0micluster\u001b[0m\u001b[0;34m[\u001b[0m\u001b[0;34m\"effect\"\u001b[0m\u001b[0;34m]\u001b[0m\u001b[0;34m]\u001b[0m\u001b[0;34m]\u001b[0m\u001b[0;34m.\u001b[0m\u001b[0munique\u001b[0m\u001b[0;34m(\u001b[0m\u001b[0;34m)\u001b[0m\u001b[0;34m\u001b[0m\u001b[0;34m\u001b[0m\u001b[0m\n",
      "\u001b[0;32m~/miniconda3/envs/pyosim_aws/lib/python3.7/site-packages/pandas/core/base.py\u001b[0m in \u001b[0;36m__getitem__\u001b[0;34m(self, key)\u001b[0m\n\u001b[1;32m    266\u001b[0m         \u001b[0;32melse\u001b[0m\u001b[0;34m:\u001b[0m\u001b[0;34m\u001b[0m\u001b[0;34m\u001b[0m\u001b[0m\n\u001b[1;32m    267\u001b[0m             \u001b[0;32mif\u001b[0m \u001b[0mkey\u001b[0m \u001b[0;32mnot\u001b[0m \u001b[0;32min\u001b[0m \u001b[0mself\u001b[0m\u001b[0;34m.\u001b[0m\u001b[0mobj\u001b[0m\u001b[0;34m:\u001b[0m\u001b[0;34m\u001b[0m\u001b[0;34m\u001b[0m\u001b[0m\n\u001b[0;32m--> 268\u001b[0;31m                 \u001b[0;32mraise\u001b[0m \u001b[0mKeyError\u001b[0m\u001b[0;34m(\u001b[0m\u001b[0;34m\"Column not found: {key}\"\u001b[0m\u001b[0;34m.\u001b[0m\u001b[0mformat\u001b[0m\u001b[0;34m(\u001b[0m\u001b[0mkey\u001b[0m\u001b[0;34m=\u001b[0m\u001b[0mkey\u001b[0m\u001b[0;34m)\u001b[0m\u001b[0;34m)\u001b[0m\u001b[0;34m\u001b[0m\u001b[0;34m\u001b[0m\u001b[0m\n\u001b[0m\u001b[1;32m    269\u001b[0m             \u001b[0;32mreturn\u001b[0m \u001b[0mself\u001b[0m\u001b[0;34m.\u001b[0m\u001b[0m_gotitem\u001b[0m\u001b[0;34m(\u001b[0m\u001b[0mkey\u001b[0m\u001b[0;34m,\u001b[0m \u001b[0mndim\u001b[0m\u001b[0;34m=\u001b[0m\u001b[0;36m1\u001b[0m\u001b[0;34m)\u001b[0m\u001b[0;34m\u001b[0m\u001b[0;34m\u001b[0m\u001b[0m\n\u001b[1;32m    270\u001b[0m \u001b[0;34m\u001b[0m\u001b[0m\n",
      "\u001b[0;31mKeyError\u001b[0m: 'Column not found: value'"
     ]
    }
   ],
   "source": [
    "effect = {\"main sex\": \"expert\", \"main mass\": \"mass\", \"interaction sex-mass\": \"expert\"}\n",
    "clusters = describe_clusters(\n",
    "    clusters, data[id_vars + [value]].rename(columns=dict(hip_displacement=\"box_thorax\")), effect\n",
    ")\n",
    "clusters"
   ]
  },
  {
   "cell_type": "code",
   "execution_count": 146,
   "metadata": {},
   "outputs": [],
   "source": [
    "c = (\n",
    "    alt.Chart(clusters)\n",
    "    .mark_rect(opacity=0.3, color=\"grey\")\n",
    "    .encode(alt.X(\"start\"), alt.X2(\"end\"))\n",
    ")"
   ]
  },
  {
   "cell_type": "code",
   "execution_count": 147,
   "metadata": {},
   "outputs": [],
   "source": [
    "base = alt.Chart(data[id_vars + [value]]).encode(\n",
    "    alt.X(\n",
    "        \"index\", title=\"normalized trial\", axis=alt.Axis(format=\"%\", labelFlush=False)\n",
    "    )\n",
    ")\n",
    "mu = base.mark_line().encode(\n",
    "    alt.Y(\n",
    "        f\"mean({value})\",\n",
    "        title=\"box-thorax distance (% height)\",\n",
    "        axis=alt.Axis(format=\"%\"),\n",
    "    )\n",
    ")\n",
    "sigma = base.mark_errorband(extent=\"ci\").encode(alt.Y(value, title=None))\n",
    "men_scale = alt.Scale(scheme=\"set1\")"
   ]
  },
  {
   "cell_type": "code",
   "execution_count": 148,
   "metadata": {},
   "outputs": [
    {
     "data": {
      "application/vnd.vegalite.v3+json": {
       "$schema": "https://vega.github.io/schema/vega-lite/v3.4.0.json",
       "config": {
        "mark": {
         "tooltip": null
        },
        "view": {
         "height": 300,
         "width": 400
        }
       },
       "data": {
        "format": {
         "type": "json"
        },
        "url": "altair-data-1f756fddba2222729f387b300d0cd5e9.json"
       },
       "layer": [
        {
         "encoding": {
          "x": {
           "axis": {
            "format": "%",
            "labelFlush": false
           },
           "field": "index",
           "title": "normalized trial",
           "type": "quantitative"
          },
          "y": {
           "aggregate": "mean",
           "axis": {
            "format": "%"
           },
           "field": "box_height",
           "title": "box-thorax distance (% height)",
           "type": "quantitative"
          }
         },
         "mark": "line"
        },
        {
         "encoding": {
          "x": {
           "axis": {
            "format": "%",
            "labelFlush": false
           },
           "field": "index",
           "title": "normalized trial",
           "type": "quantitative"
          },
          "y": {
           "field": "box_height",
           "title": null,
           "type": "quantitative"
          }
         },
         "mark": {
          "extent": "ci",
          "type": "errorband"
         }
        }
       ]
      },
      "image/png": "[encoded data removed]",
      "text/plain": [
       "<VegaLite 3 object>\n",
       "\n",
       "If you see this message, it means the renderer has not been properly enabled\n",
       "for the frontend that you are using. For more information, see\n",
       "https://altair-viz.github.io/user_guide/troubleshooting.html\n"
      ]
     },
     "execution_count": 148,
     "metadata": {},
     "output_type": "execute_result"
    }
   ],
   "source": [
    "(mu + sigma)  # + c.encode(alt.Color(\"effect\"))"
   ]
  },
  {
   "cell_type": "code",
   "execution_count": 149,
   "metadata": {},
   "outputs": [
    {
     "data": {
      "application/vnd.vegalite.v3+json": {
       "$schema": "https://vega.github.io/schema/vega-lite/v3.4.0.json",
       "config": {
        "mark": {
         "tooltip": null
        },
        "view": {
         "height": 300,
         "width": 400
        }
       },
       "layer": [
        {
         "data": {
          "format": {
           "type": "json"
          },
          "url": "altair-data-44742368fe9360f251f2070a5a3e3c76.json"
         },
         "encoding": {
          "x": {
           "field": "start",
           "type": "quantitative"
          },
          "x2": {
           "field": "end"
          }
         },
         "mark": {
          "color": "grey",
          "opacity": 0.3,
          "type": "rect"
         },
         "transform": [
          {
           "filter": "datum.effect == \"main sex\""
          }
         ]
        },
        {
         "data": {
          "format": {
           "type": "json"
          },
          "url": "altair-data-1f756fddba2222729f387b300d0cd5e9.json"
         },
         "encoding": {
          "color": {
           "field": "expert",
           "scale": {
            "scheme": "set1"
           },
           "type": "nominal"
          }
         },
         "layer": [
          {
           "encoding": {
            "x": {
             "axis": {
              "format": "%",
              "labelFlush": false
             },
             "field": "index",
             "title": "normalized trial",
             "type": "quantitative"
            },
            "y": {
             "aggregate": "mean",
             "axis": {
              "format": "%"
             },
             "field": "box_height",
             "title": "box-thorax distance (% height)",
             "type": "quantitative"
            }
           },
           "mark": "line"
          },
          {
           "encoding": {
            "x": {
             "axis": {
              "format": "%",
              "labelFlush": false
             },
             "field": "index",
             "title": "normalized trial",
             "type": "quantitative"
            },
            "y": {
             "field": "box_height",
             "title": null,
             "type": "quantitative"
            }
           },
           "mark": {
            "extent": "ci",
            "type": "errorband"
           }
          }
         ]
        }
       ]
      },
      "image/png": "[encoded data removed]",
      "text/plain": [
       "<VegaLite 3 object>\n",
       "\n",
       "If you see this message, it means the renderer has not been properly enabled\n",
       "for the frontend that you are using. For more information, see\n",
       "https://altair-viz.github.io/user_guide/troubleshooting.html\n"
      ]
     },
     "execution_count": 149,
     "metadata": {},
     "output_type": "execute_result"
    }
   ],
   "source": [
    "c.transform_filter('datum.effect == \"main sex\"') + (mu + sigma).encode(\n",
    "    alt.Color(\"expert:N\", scale=men_scale)\n",
    ")"
   ]
  },
  {
   "cell_type": "code",
   "execution_count": 150,
   "metadata": {},
   "outputs": [
    {
     "data": {
      "application/vnd.vegalite.v3+json": {
       "$schema": "https://vega.github.io/schema/vega-lite/v3.4.0.json",
       "config": {
        "mark": {
         "tooltip": null
        },
        "view": {
         "height": 300,
         "width": 400
        }
       },
       "layer": [
        {
         "data": {
          "format": {
           "type": "json"
          },
          "url": "altair-data-44742368fe9360f251f2070a5a3e3c76.json"
         },
         "encoding": {
          "x": {
           "field": "start",
           "type": "quantitative"
          },
          "x2": {
           "field": "end"
          }
         },
         "mark": {
          "color": "grey",
          "opacity": 0.3,
          "type": "rect"
         },
         "transform": [
          {
           "filter": "datum.effect == \"main mass\""
          }
         ]
        },
        {
         "data": {
          "format": {
           "type": "json"
          },
          "url": "altair-data-1f756fddba2222729f387b300d0cd5e9.json"
         },
         "encoding": {
          "color": {
           "field": "mass",
           "type": "nominal"
          }
         },
         "layer": [
          {
           "encoding": {
            "x": {
             "axis": {
              "format": "%",
              "labelFlush": false
             },
             "field": "index",
             "title": "normalized trial",
             "type": "quantitative"
            },
            "y": {
             "aggregate": "mean",
             "axis": {
              "format": "%"
             },
             "field": "box_height",
             "title": "box-thorax distance (% height)",
             "type": "quantitative"
            }
           },
           "mark": "line"
          },
          {
           "encoding": {
            "x": {
             "axis": {
              "format": "%",
              "labelFlush": false
             },
             "field": "index",
             "title": "normalized trial",
             "type": "quantitative"
            },
            "y": {
             "field": "box_height",
             "title": null,
             "type": "quantitative"
            }
           },
           "mark": {
            "extent": "ci",
            "type": "errorband"
           }
          }
         ]
        }
       ]
      },
      "image/png": "[encoded data removed]",
      "text/plain": [
       "<VegaLite 3 object>\n",
       "\n",
       "If you see this message, it means the renderer has not been properly enabled\n",
       "for the frontend that you are using. For more information, see\n",
       "https://altair-viz.github.io/user_guide/troubleshooting.html\n"
      ]
     },
     "execution_count": 150,
     "metadata": {},
     "output_type": "execute_result"
    }
   ],
   "source": [
    "c.transform_filter('datum.effect == \"main mass\"') + (mu + sigma).encode(\n",
    "    alt.Color(\"mass:N\")\n",
    ")"
   ]
  },
  {
   "cell_type": "code",
   "execution_count": 151,
   "metadata": {},
   "outputs": [
    {
     "data": {
      "application/vnd.vegalite.v3+json": {
       "$schema": "https://vega.github.io/schema/vega-lite/v3.4.0.json",
       "config": {
        "mark": {
         "tooltip": null
        },
        "view": {
         "height": 300,
         "width": 400
        }
       },
       "data": {
        "format": {
         "type": "json"
        },
        "url": "altair-data-1f756fddba2222729f387b300d0cd5e9.json"
       },
       "facet": {
        "column": {
         "field": "mass",
         "type": "quantitative"
        }
       },
       "spec": {
        "encoding": {
         "color": {
          "field": "expert",
          "scale": {
           "scheme": "set1"
          },
          "type": "nominal"
         }
        },
        "layer": [
         {
          "encoding": {
           "x": {
            "axis": {
             "format": "%",
             "labelFlush": false
            },
            "field": "index",
            "title": "normalized trial",
            "type": "quantitative"
           },
           "y": {
            "aggregate": "mean",
            "axis": {
             "format": "%"
            },
            "field": "box_height",
            "title": "box-thorax distance (% height)",
            "type": "quantitative"
           }
          },
          "mark": "line"
         },
         {
          "encoding": {
           "x": {
            "axis": {
             "format": "%",
             "labelFlush": false
            },
            "field": "index",
            "title": "normalized trial",
            "type": "quantitative"
           },
           "y": {
            "field": "box_height",
            "title": null,
            "type": "quantitative"
           }
          },
          "mark": {
           "extent": "ci",
           "type": "errorband"
          }
         }
        ]
       }
      },
      "image/png": "[encoded data removed]",
      "text/plain": [
       "<VegaLite 3 object>\n",
       "\n",
       "If you see this message, it means the renderer has not been properly enabled\n",
       "for the frontend that you are using. For more information, see\n",
       "https://altair-viz.github.io/user_guide/troubleshooting.html\n"
      ]
     },
     "execution_count": 151,
     "metadata": {},
     "output_type": "execute_result"
    }
   ],
   "source": [
    "(mu + sigma).encode(alt.Color(\"expert:N\", scale=men_scale)).facet(column=\"mass\")"
   ]
  },
  {
   "cell_type": "code",
   "execution_count": 128,
   "metadata": {},
   "outputs": [],
   "source": [
    "data[\"box_height\"] = data.groupby(\"filename\")[\"box_height\"].apply(\n",
    "    lambda x: (x - x.min()) / (x.max() - x.min())\n",
    ")"
   ]
  },
  {
   "cell_type": "code",
   "execution_count": null,
   "metadata": {},
   "outputs": [],
   "source": [
    "alt.Chart(data[id_vars + ['box_height']]).mark_line()"
   ]
  },
  {
   "cell_type": "code",
   "execution_count": 153,
   "metadata": {},
   "outputs": [
    {
     "data": {
      "application/vnd.vegalite.v3+json": {
       "$schema": "https://vega.github.io/schema/vega-lite/v3.4.0.json",
       "config": {
        "mark": {
         "tooltip": null
        },
        "view": {
         "height": 300,
         "width": 400
        }
       },
       "data": {
        "format": {
         "type": "json"
        },
        "url": "altair-data-0b3a7544a06ce9192401a071e0384e4d.json"
       },
       "encoding": {
        "color": {
         "field": "expert",
         "type": "nominal"
        },
        "column": {
         "field": "mass",
         "type": "quantitative"
        },
        "order": {
         "field": "index",
         "type": "quantitative"
        },
        "x": {
         "axis": {
          "format": "%"
         },
         "field": "box_height",
         "type": "quantitative"
        },
        "y": {
         "field": "box_speed",
         "type": "quantitative"
        }
       },
       "mark": "line"
      },
      "image/png": "[encoded data removed]",
      "text/plain": [
       "<VegaLite 3 object>\n",
       "\n",
       "If you see this message, it means the renderer has not been properly enabled\n",
       "for the frontend that you are using. For more information, see\n",
       "https://altair-viz.github.io/user_guide/troubleshooting.html\n"
      ]
     },
     "execution_count": 153,
     "metadata": {},
     "output_type": "execute_result"
    }
   ],
   "source": [
    "alt.Chart(\n",
    "    data[id_vars + [\"box_speed\", \"box_height\"]]\n",
    "    .groupby([\"expert\", \"mass\", \"index\"])[\"box_speed\", \"box_height\"]\n",
    "    .mean()\n",
    "    .reset_index()\n",
    ").mark_line().encode(\n",
    "    alt.X(\"box_height\", axis=alt.Axis(format=\"%\")),\n",
    "    alt.Y(\"box_speed\"),\n",
    "    alt.Color(\"expert:N\"),\n",
    "    alt.Order(\"index\"),\n",
    "    alt.Column(\"mass\"),\n",
    ")"
   ]
  },
  {
   "cell_type": "markdown",
   "metadata": {},
   "source": [
    "## Task duration"
   ]
  },
  {
   "cell_type": "code",
   "execution_count": 16,
   "metadata": {},
   "outputs": [],
   "source": [
    "duration = (\n",
    "    data.groupby([\"filename\", \"participant\", \"expert\", \"mass\"])\n",
    "    .apply(phase_duration)\n",
    "    .reset_index()\n",
    "    .dropna()\n",
    ")"
   ]
  },
  {
   "cell_type": "code",
   "execution_count": 24,
   "metadata": {},
   "outputs": [
    {
     "data": {
      "text/plain": [
       "('Main A', 'Main B', 'Interaction AB')"
      ]
     },
     "execution_count": 24,
     "metadata": {},
     "output_type": "execute_result"
    }
   ],
   "source": [
    "spmi.get_h0reject_values"
   ]
  },
  {
   "cell_type": "code",
   "execution_count": 34,
   "metadata": {},
   "outputs": [
    {
     "data": {
      "application/vnd.vegalite.v3+json": {
       "$schema": "https://vega.github.io/schema/vega-lite/v3.4.0.json",
       "config": {
        "mark": {
         "tooltip": null
        },
        "view": {
         "height": 300,
         "width": 400
        }
       },
       "data": {
        "format": {
         "type": "json"
        },
        "url": "altair-data-92fabbe6e447439d38b63c0b5149a913.json"
       },
       "encoding": {
        "color": {
         "field": "expert",
         "type": "nominal"
        },
        "column": {
         "field": "phase",
         "type": "nominal"
        },
        "x": {
         "field": "expert",
         "type": "nominal"
        },
        "y": {
         "field": "duration",
         "type": "quantitative"
        }
       },
       "mark": "boxplot"
      },
      "image/png": "[encoded data removed]",
      "text/plain": [
       "<VegaLite 3 object>\n",
       "\n",
       "If you see this message, it means the renderer has not been properly enabled\n",
       "for the frontend that you are using. For more information, see\n",
       "https://altair-viz.github.io/user_guide/troubleshooting.html\n"
      ]
     },
     "execution_count": 34,
     "metadata": {},
     "output_type": "execute_result"
    }
   ],
   "source": [
    "alt.Chart(\n",
    "    duration.melt(\n",
    "        id_vars=[\"filename\", \"participant\", \"expert\", \"mass\"],\n",
    "        var_name=\"phase\",\n",
    "        value_name=\"duration\",\n",
    "    )\n",
    ").mark_boxplot().encode(\n",
    "    alt.X(\"expert:N\"), alt.Y(\"duration\"), alt.Color(\"expert:N\"), alt.Column(\"phase\")\n",
    ")"
   ]
  },
  {
   "cell_type": "code",
   "execution_count": 26,
   "metadata": {},
   "outputs": [
    {
     "name": "stdout",
     "output_type": "stream",
     "text": [
      "FIRST phase\n",
      "SnPM{F} inference list (0D)\n",
      "   design      :  ANOVA2\n",
      "   nEffects    :  3\n",
      "   nPermUnique :  7.471e+275 permutations possible\n",
      "   nPermActual :  1000\n",
      "Effects:\n",
      "   A     F = 3.426    p = 0.061\n",
      "   B     F = 0.026    p = 0.878\n",
      "   AB    F = 2.266    p = 0.129\n",
      "\n",
      "\tMain A h0 rejected: False\n",
      "\tMain B h0 rejected: False\n",
      "\tInteraction AB h0 rejected: False\n",
      "--------------------\n",
      "SECOND phase\n",
      "SnPM{F} inference list (0D)\n",
      "   design      :  ANOVA2\n",
      "   nEffects    :  3\n",
      "   nPermUnique :  7.471e+275 permutations possible\n",
      "   nPermActual :  1000\n",
      "Effects:\n",
      "   A     F = 3.426    p = 0.062\n",
      "   B     F = 0.026    p = 0.876\n",
      "   AB    F = 2.266    p = 0.130\n",
      "\n",
      "\tMain A h0 rejected: False\n",
      "\tMain B h0 rejected: False\n",
      "\tInteraction AB h0 rejected: False\n",
      "--------------------\n",
      "THIRD phase\n",
      "SnPM{F} inference list (0D)\n",
      "   design      :  ANOVA2\n",
      "   nEffects    :  3\n",
      "   nPermUnique :  7.471e+275 permutations possible\n",
      "   nPermActual :  1000\n",
      "Effects:\n",
      "   A     F = 3.426    p = 0.072\n",
      "   B     F = 0.026    p = 0.872\n",
      "   AB    F = 2.266    p = 0.136\n",
      "\n",
      "\tMain A h0 rejected: False\n",
      "\tMain B h0 rejected: False\n",
      "\tInteraction AB h0 rejected: False\n",
      "--------------------\n",
      "TOTAL phase\n",
      "SnPM{F} inference list (0D)\n",
      "   design      :  ANOVA2\n",
      "   nEffects    :  3\n",
      "   nPermUnique :  7.471e+275 permutations possible\n",
      "   nPermActual :  1000\n",
      "Effects:\n",
      "   A     F = 3.426    p = 0.071\n",
      "   B     F = 0.026    p = 0.883\n",
      "   AB    F = 2.266    p = 0.138\n",
      "\n",
      "\tMain A h0 rejected: False\n",
      "\tMain B h0 rejected: False\n",
      "\tInteraction AB h0 rejected: False\n",
      "--------------------\n"
     ]
    }
   ],
   "source": [
    "α = 0.05\n",
    "n_iter = 1000\n",
    "\n",
    "for phase in [\"first\", \"second\", \"third\", \"total\"]:\n",
    "    spm = spm1d.stats.nonparam.anova2(\n",
    "        duration[\"first\"], A=duration[\"expert\"], B=duration[\"mass\"],\n",
    "    )\n",
    "    spmi = spm.inference(alpha=α, iterations=n_iter)\n",
    "    print(f\"{phase.upper()} phase\")\n",
    "    print(f\"{spmi}\")\n",
    "    for effect, h0 in zip(spmi.get_effect_labels(), spmi.get_h0reject_values()):\n",
    "        print(f\"\\t{effect} h0 rejected: {h0}\")\n",
    "    print(\"-\" * 20)"
   ]
  },
  {
   "cell_type": "markdown",
   "metadata": {},
   "source": [
    "<!--NAVIGATION-->\n",
    "< [Joint reactions](02.02-joint-reactions.ipynb) | [Contents](Index.ipynb) | [Analyses](03.00-experts-novices.ipynb) >"
   ]
  }
 ],
 "metadata": {
  "kernelspec": {
   "display_name": "Python [conda env:pyosim_aws]",
   "language": "python",
   "name": "conda-env-pyosim_aws-py"
  },
  "language_info": {
   "codemirror_mode": {
    "name": "ipython",
    "version": 3
   },
   "file_extension": ".py",
   "mimetype": "text/x-python",
   "name": "python",
   "nbconvert_exporter": "python",
   "pygments_lexer": "ipython3",
   "version": "3.7.3"
  },
  "pycharm": {
   "stem_cell": {
    "cell_type": "raw",
    "metadata": {
     "collapsed": false
    },
    "source": []
   }
  },
  "toc-autonumbering": false,
  "toc-showtags": true
 },
 "nbformat": 4,
 "nbformat_minor": 4
}
