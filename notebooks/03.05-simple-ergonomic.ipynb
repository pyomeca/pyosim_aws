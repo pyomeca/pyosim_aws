{
 "cells": [
  {
   "cell_type": "markdown",
   "metadata": {},
   "source": [
    "<!--BOOK_INFORMATION-->\n",
    "<img style=\"float: right; width: 100px\" src=\"https://raw.github.com/pyomeca/design/master/logo/logo_cropped.svg?sanitize=true\">\n",
    "\n",
    "<font size=\"+2\">Pyosim in the cloud</font>\n",
    "\n",
    "<font size=\"+1\">with [pyomeca](https://github.com/pyomeca/pyom</font>a)\n",
    "\n",
    "Romain Martinez (martinez.staps@gmail.com | [GitHub](https://github.com/romainmartinez))\n"
   ]
  },
  {
   "cell_type": "markdown",
   "metadata": {},
   "source": [
    "<!--NAVIGATION-->\n",
    "< [Joint reactions](02.02-joint-reactions.ipynb) | [Contents](Index.ipynb) | [Analyses](03.00-experts-novices.ipynb) >"
   ]
  },
  {
   "cell_type": "markdown",
   "metadata": {},
   "source": [
    "# Simple ergonomics indicator\n",
    "\n",
    "- box-chest distance\n",
    "- box inclination\n",
    "- hip-floor distance"
   ]
  },
  {
   "cell_type": "code",
   "execution_count": 1,
   "metadata": {},
   "outputs": [],
   "source": [
    "from pathlib import Path\n",
    "\n",
    "import yaml\n",
    "import numpy as np\n",
    "import pandas as pd\n",
    "import altair as alt\n",
    "# from pyosim import Conf\n",
    "from pyomeca import Markers3d, Analogs3d\n",
    "import spm1d\n",
    "import matplotlib.pyplot as plt\n",
    "\n",
    "from src.util import (\n",
    "    parse_conditions,\n",
    "    condition_counter,\n",
    "    random_balanced_design,\n",
    "    get_spm_cluster,\n",
    "    ridge_plot,\n",
    "    describe_clusters,\n",
    ")"
   ]
  },
  {
   "cell_type": "code",
   "execution_count": 2,
   "metadata": {},
   "outputs": [],
   "source": [
    "%load_ext autoreload\n",
    "%autoreload 2\n",
    "%load_ext lab_black\n",
    "alt.data_transformers.enable(\"json\")\n",
    "# to make this notebook's output stable across runs\n",
    "RANDOM_SEED = 42\n",
    "np.random.seed(RANDOM_SEED)"
   ]
  },
  {
   "cell_type": "code",
   "execution_count": 3,
   "metadata": {},
   "outputs": [],
   "source": [
    "project_path = Path(\"/media/romain/E/Projet_ExpertsNovices/opensim/\")"
   ]
  },
  {
   "cell_type": "code",
   "execution_count": 4,
   "metadata": {},
   "outputs": [],
   "source": [
    "def correct_path(x):\n",
    "    return Path(\n",
    "        x.replace(\"home/laboratoire/mnt/E\", \"/media/romain/E\")\n",
    "        #         .replace(\"E:\", \"/media/romain/E\")\n",
    "        .replace(\"1_inverse_kinematic\", \"0_markers\")\n",
    "        .replace(\".mot\", \".trc\")\n",
    "        .replace(\"wu_expertsnovicesD_\", \"\")\n",
    "        .replace(\"wu_expertsnovicesG_\", \"\")\n",
    "    )\n",
    "\n",
    "\n",
    "def parse_conditions(d):\n",
    "    return d.merge(\n",
    "        pd.read_csv(project_path / \"_conf.csv\")[[\"participant\", \"group\"]].rename(\n",
    "            columns={\"group\": \"expert\"}\n",
    "        ),\n",
    "        on=\"participant\",\n",
    "    ).assign(\n",
    "        fatigue=lambda x: x[\"filename\"].str[0].astype(int) - 1,\n",
    "        height=lambda x: x[\"filename\"].str[2].astype(\"category\"),\n",
    "        mass=lambda x: x[\"filename\"].str[3:5].astype(int),\n",
    "        filename=lambda x: x[\"participant\"] + \"_\" + x[\"filename\"],\n",
    "        participant=lambda x: x[\"participant\"].astype(\"category\"),\n",
    "        n_trial=lambda x: x[\"filename\"].str.split(\"_\").str[-1],\n",
    "    )"
   ]
  },
  {
   "cell_type": "code",
   "execution_count": 5,
   "metadata": {},
   "outputs": [],
   "source": [
    "box_markers = [\n",
    "    \"front_r_X\",\n",
    "    \"front_r_Y\",\n",
    "    \"front_r_Z\",\n",
    "    \"mid_r_X\",\n",
    "    \"mid_r_Y\",\n",
    "    \"mid_r_Z\",\n",
    "    \"back_r_X\",\n",
    "    \"back_r_Y\",\n",
    "    \"back_r_Z\",\n",
    "    \"back_l_X\",\n",
    "    \"back_l_Y\",\n",
    "    \"back_l_Z\",\n",
    "    \"front_l_X\",\n",
    "    \"front_l_Y\",\n",
    "    \"front_l_Z\",\n",
    "]\n",
    "\n",
    "\n",
    "def box_thorax_distance(x):\n",
    "    box = pd.concat(\n",
    "        [x[box_markers].filter(like=i).mean(axis=1).rename(i) for i in [\"X\", \"Y\"]],\n",
    "        axis=1,\n",
    "    )\n",
    "    thorax = x.filter(like=\"XIPH\").rename(columns=lambda x: x.replace(\"XIPH_\", \"\"))\n",
    "    return (\n",
    "        np.sqrt(((box - thorax) ** 2).sum(axis=1))\n",
    "        .replace(0, np.nan)\n",
    "        .interpolate()\n",
    "        .rename(\"box_thorax\")\n",
    "        .to_frame()\n",
    "    )"
   ]
  },
  {
   "cell_type": "code",
   "execution_count": 6,
   "metadata": {},
   "outputs": [],
   "source": [
    "hip_markers = [\n",
    "    \"ASISl_X\",\n",
    "    \"ASISl_Y\",\n",
    "    \"ASISl_Z\",\n",
    "    \"ASISr_X\",\n",
    "    \"ASISr_Y\",\n",
    "    \"ASISr_Z\",\n",
    "    \"PSISl_X\",\n",
    "    \"PSISl_Y\",\n",
    "    \"PSISl_Z\",\n",
    "    \"PSISr_X\",\n",
    "    \"PSISr_Y\",\n",
    "    \"PSISr_Z\",\n",
    "]\n",
    "\n",
    "\n",
    "def hip_normalized_displacement(x):\n",
    "    hip = x[hip_markers].filter(like=\"Z\").mean(axis=1)\n",
    "    #     ref = hip.loc[0]\n",
    "\n",
    "    p = x.loc[0, \"participant\"]\n",
    "    kwargs = dict(\n",
    "        header=3,\n",
    "        first_row=6,\n",
    "        first_column=1,\n",
    "        time_column=1,\n",
    "        delimiter=\"\\t\",\n",
    "        last_column_to_remove=1,\n",
    "    )\n",
    "    try:\n",
    "        try:\n",
    "            ref = (\n",
    "                Markers3d.from_csv(\n",
    "                    f\"{project_path}/{p}/0_markers/irssten_{p}d0.trc\", **kwargs\n",
    "                )\n",
    "                .to_dataframe()[hip_markers]\n",
    "                .filter(like=\"Z\")\n",
    "                .mean(axis=1)\n",
    "                .mean()\n",
    "            )\n",
    "        except IndexError:\n",
    "            kwargs[\"last_column_to_remove\"] = 0\n",
    "            ref = (\n",
    "                Markers3d.from_csv(\n",
    "                    f\"{project_path}/{p}/0_markers/irssten_{p}d0.trc\", **kwargs\n",
    "                )\n",
    "                .to_dataframe()[hip_markers]\n",
    "                .filter(like=\"Z\")\n",
    "                .mean(axis=1)\n",
    "                .mean()\n",
    "            )\n",
    "    except FileNotFoundError:\n",
    "        try:\n",
    "            ref = (\n",
    "                Markers3d.from_csv(\n",
    "                    f\"{project_path}/{p}/0_markers/irssten_{p}g0.trc\", **kwargs\n",
    "                )\n",
    "                .to_dataframe()[hip_markers]\n",
    "                .filter(like=\"Z\")\n",
    "                .mean(axis=1)\n",
    "                .mean()\n",
    "            )\n",
    "        except IndexError:\n",
    "            kwargs[\"last_column_to_remove\"] = 0\n",
    "            ref = (\n",
    "                Markers3d.from_csv(\n",
    "                    f\"{project_path}/{p}/0_markers/irssten_{p}g0.trc\", **kwargs\n",
    "                )\n",
    "                .to_dataframe()[hip_markers]\n",
    "                .filter(like=\"Z\")\n",
    "                .mean(axis=1)\n",
    "                .mean()\n",
    "            )\n",
    "\n",
    "    return (\n",
    "        (hip - ref)\n",
    "        .replace(0, np.nan)\n",
    "        .interpolate()\n",
    "        .rename(\"hip_displacement\")\n",
    "        .to_frame()\n",
    "    )"
   ]
  },
  {
   "cell_type": "code",
   "execution_count": 7,
   "metadata": {},
   "outputs": [],
   "source": [
    "# x = Markers3d.from_csv(\n",
    "#     filename,\n",
    "#     header=3,\n",
    "#     first_row=6,\n",
    "#     first_column=1,\n",
    "#     time_column=1,\n",
    "#     delimiter=\"\\t\",\n",
    "#     last_column_to_remove=1,\n",
    "# )\n",
    "# idx = np.logical_and(\n",
    "#     x.get_time_frames < ifile[\"offset\"], x.get_time_frames > ifile[\"onset\"]\n",
    "# )\n",
    "# x = (\n",
    "#     x[..., idx]\n",
    "#     .to_dataframe()\n",
    "#     .assign(\n",
    "#         filename=filename.stem,\n",
    "#         participant=filename.parent.parent.stem,\n",
    "#         time=lambda x: x.index / 100,\n",
    "#     )\n",
    "# )"
   ]
  },
  {
   "cell_type": "code",
   "execution_count": 8,
   "metadata": {},
   "outputs": [],
   "source": [
    "# clav_markers = [\n",
    "#     \"CLAV_SC_X\",\n",
    "#     \"CLAV_SC_Y\",\n",
    "#     \"CLAV_SC_Z\",\n",
    "#     \"CLAV_ACm_X\",\n",
    "#     \"CLAV_ACm_Y\",\n",
    "#     \"CLAV_ACm_Z\",\n",
    "# ]\n",
    "# clav_height = x[clav_markers].filter(like=\"Z\").mean(axis=1)\n",
    "# box_height = x[box_markers].filter(like=\"Z\").mean(axis=1)"
   ]
  },
  {
   "cell_type": "markdown",
   "metadata": {},
   "source": [
    "## Box-chest distance"
   ]
  },
  {
   "cell_type": "code",
   "execution_count": 10,
   "metadata": {},
   "outputs": [
    {
     "name": "stdout",
     "output_type": "stream",
     "text": [
      "/media/romain/E/Projet_ExpertsNovices/opensim/gaud/0_markers/1_r12_1.trc  not found\n",
      "/media/romain/E/Projet_ExpertsNovices/opensim/gaud/0_markers/1_r12_2.trc  not found\n"
     ]
    },
    {
     "data": {
      "text/html": [
       "<div>\n",
       "<style scoped>\n",
       "    .dataframe tbody tr th:only-of-type {\n",
       "        vertical-align: middle;\n",
       "    }\n",
       "\n",
       "    .dataframe tbody tr th {\n",
       "        vertical-align: top;\n",
       "    }\n",
       "\n",
       "    .dataframe thead th {\n",
       "        text-align: right;\n",
       "    }\n",
       "</style>\n",
       "<table border=\"1\" class=\"dataframe\">\n",
       "  <thead>\n",
       "    <tr style=\"text-align: right;\">\n",
       "      <th></th>\n",
       "      <th>index</th>\n",
       "      <th>box_thorax</th>\n",
       "      <th>filename</th>\n",
       "      <th>participant</th>\n",
       "      <th>expert</th>\n",
       "      <th>height</th>\n",
       "      <th>mass</th>\n",
       "      <th>n_trial</th>\n",
       "    </tr>\n",
       "  </thead>\n",
       "  <tbody>\n",
       "    <tr>\n",
       "      <th>46957</th>\n",
       "      <td>0.93</td>\n",
       "      <td>332.694791</td>\n",
       "      <td>sylg_1_r08_6</td>\n",
       "      <td>sylg</td>\n",
       "      <td>0</td>\n",
       "      <td>r</td>\n",
       "      <td>8</td>\n",
       "      <td>6</td>\n",
       "    </tr>\n",
       "    <tr>\n",
       "      <th>928</th>\n",
       "      <td>0.19</td>\n",
       "      <td>NaN</td>\n",
       "      <td>antc_1_r08_5</td>\n",
       "      <td>antc</td>\n",
       "      <td>0</td>\n",
       "      <td>r</td>\n",
       "      <td>8</td>\n",
       "      <td>5</td>\n",
       "    </tr>\n",
       "    <tr>\n",
       "      <th>3464</th>\n",
       "      <td>0.30</td>\n",
       "      <td>231.801332</td>\n",
       "      <td>beng_1_r08_6</td>\n",
       "      <td>beng</td>\n",
       "      <td>0</td>\n",
       "      <td>r</td>\n",
       "      <td>8</td>\n",
       "      <td>6</td>\n",
       "    </tr>\n",
       "    <tr>\n",
       "      <th>13413</th>\n",
       "      <td>0.81</td>\n",
       "      <td>366.877906</td>\n",
       "      <td>didl_1_r08_3</td>\n",
       "      <td>didl</td>\n",
       "      <td>0</td>\n",
       "      <td>r</td>\n",
       "      <td>8</td>\n",
       "      <td>3</td>\n",
       "    </tr>\n",
       "    <tr>\n",
       "      <th>42813</th>\n",
       "      <td>0.90</td>\n",
       "      <td>458.864611</td>\n",
       "      <td>samc_1_r08_6</td>\n",
       "      <td>samc</td>\n",
       "      <td>0</td>\n",
       "      <td>r</td>\n",
       "      <td>8</td>\n",
       "      <td>6</td>\n",
       "    </tr>\n",
       "  </tbody>\n",
       "</table>\n",
       "</div>"
      ],
      "text/plain": [
       "       index  box_thorax      filename participant  expert height  mass  \\\n",
       "46957   0.93  332.694791  sylg_1_r08_6        sylg       0      r     8   \n",
       "928     0.19         NaN  antc_1_r08_5        antc       0      r     8   \n",
       "3464    0.30  231.801332  beng_1_r08_6        beng       0      r     8   \n",
       "13413   0.81  366.877906  didl_1_r08_3        didl       0      r     8   \n",
       "42813   0.90  458.864611  samc_1_r08_6        samc       0      r     8   \n",
       "\n",
       "      n_trial  \n",
       "46957       6  \n",
       "928         5  \n",
       "3464        6  \n",
       "13413       3  \n",
       "42813       6  "
      ]
     },
     "execution_count": 10,
     "metadata": {},
     "output_type": "execute_result"
    }
   ],
   "source": [
    "markers = []\n",
    "f = []\n",
    "onsets = pd.read_csv(project_path / \"onsets.csv\")\n",
    "for _, ifile in onsets.iterrows():\n",
    "    filename = correct_path(ifile[\"filepathK\"])\n",
    "    if filename in f:\n",
    "        continue\n",
    "    else:\n",
    "        f.append(filename)\n",
    "    try:\n",
    "        e = Markers3d.from_csv(\n",
    "            filename,\n",
    "            header=3,\n",
    "            first_row=6,\n",
    "            first_column=1,\n",
    "            time_column=1,\n",
    "            delimiter=\"\\t\",\n",
    "            last_column_to_remove=1,\n",
    "        )\n",
    "    except FileNotFoundError:\n",
    "        print(f\"{filename} not found\")\n",
    "        continue\n",
    "\n",
    "    idx = np.logical_and(\n",
    "        e.get_time_frames < ifile[\"offset\"], e.get_time_frames > ifile[\"onset\"]\n",
    "    )\n",
    "    markers.append(\n",
    "        e[..., idx]\n",
    "        .time_normalization()\n",
    "        .to_dataframe()\n",
    "        .assign(filename=filename.stem, participant=filename.parent.parent.stem)\n",
    "        .pipe(box_thorax_distance)\n",
    "        #         .pipe(hip_normalized_displacement)\n",
    "        .assign(filename=filename.stem, participant=filename.parent.parent.stem)\n",
    "    )\n",
    "markers = (\n",
    "    pd.concat(markers)\n",
    "    .reset_index()\n",
    "    .assign(index=lambda x: x[\"index\"] / 100)\n",
    "    .pipe(parse_conditions)\n",
    "    .query('fatigue == 0 & height == \"r\"')\n",
    "    .drop(\"fatigue\", axis=1)\n",
    ")\n",
    "\n",
    "markers.sample(5)"
   ]
  },
  {
   "cell_type": "code",
   "execution_count": 12,
   "metadata": {},
   "outputs": [],
   "source": [
    "height = (\n",
    "    pd.read_csv(project_path / \"_conf.csv\")\n",
    "    .query(\"process == 1\")[[\"participant\", \"height\"]]\n",
    "    .rename(columns={\"height\": \"p_height\"})\n",
    ")"
   ]
  },
  {
   "cell_type": "code",
   "execution_count": 13,
   "metadata": {},
   "outputs": [],
   "source": [
    "box_thorax = (\n",
    "    markers.merge(height, on=\"participant\", how=\"left\").eval(\n",
    "        \"box_thorax = box_thorax / (p_height * 10)\"\n",
    "    )\n",
    "    #     .eval(\"box_thorax = hip_displacement / (p_height * 10)\")\n",
    "    .drop(\"p_height\", axis=1)\n",
    "    #     .drop(\"hip_displacement\", axis=1)\n",
    "    .dropna()\n",
    ")"
   ]
  },
  {
   "cell_type": "markdown",
   "metadata": {},
   "source": [
    "### Balance dataset\n",
    "\n",
    "By randomly taking the minimum number of trials for each condition"
   ]
  },
  {
   "cell_type": "code",
   "execution_count": 14,
   "metadata": {},
   "outputs": [
    {
     "data": {
      "text/plain": [
       "expert  mass\n",
       "0       8       72\n",
       "        12      79\n",
       "1       8       50\n",
       "        12      39\n",
       "dtype: int64"
      ]
     },
     "execution_count": 14,
     "metadata": {},
     "output_type": "execute_result"
    }
   ],
   "source": [
    "box_thorax.drop_duplicates([\"filename\", \"participant\"]).groupby(\n",
    "    [\"expert\", \"mass\"]\n",
    ").size()"
   ]
  },
  {
   "cell_type": "code",
   "execution_count": 15,
   "metadata": {},
   "outputs": [],
   "source": [
    "balanced_trials = random_balanced_design(\n",
    "    box_thorax, [\"expert\", \"mass\"], random_state=RANDOM_SEED, participant=True\n",
    ")\n",
    "_filename, _participant = (\n",
    "    balanced_trials[\"filename\"].to_list(),\n",
    "    balanced_trials[\"participant\"].to_list(),\n",
    ")"
   ]
  },
  {
   "cell_type": "code",
   "execution_count": 16,
   "metadata": {},
   "outputs": [
    {
     "data": {
      "text/plain": [
       "expert  mass\n",
       "0       8       39\n",
       "        12      39\n",
       "1       8       39\n",
       "        12      39\n",
       "dtype: int64"
      ]
     },
     "execution_count": 16,
     "metadata": {},
     "output_type": "execute_result"
    }
   ],
   "source": [
    "box_thorax = box_thorax.query(\"filename == @_filename & participant == @_participant\")\n",
    "box_thorax.drop_duplicates([\"filename\", \"participant\"]).groupby(\n",
    "    [\"expert\", \"mass\"]\n",
    ").size()"
   ]
  },
  {
   "cell_type": "markdown",
   "metadata": {},
   "source": [
    "### Stats"
   ]
  },
  {
   "cell_type": "code",
   "execution_count": 17,
   "metadata": {},
   "outputs": [
    {
     "data": {
      "text/html": [
       "<div>\n",
       "<style scoped>\n",
       "    .dataframe tbody tr th:only-of-type {\n",
       "        vertical-align: middle;\n",
       "    }\n",
       "\n",
       "    .dataframe tbody tr th {\n",
       "        vertical-align: top;\n",
       "    }\n",
       "\n",
       "    .dataframe thead tr th {\n",
       "        text-align: left;\n",
       "    }\n",
       "\n",
       "    .dataframe thead tr:last-of-type th {\n",
       "        text-align: right;\n",
       "    }\n",
       "</style>\n",
       "<table border=\"1\" class=\"dataframe\">\n",
       "  <thead>\n",
       "    <tr>\n",
       "      <th></th>\n",
       "      <th></th>\n",
       "      <th></th>\n",
       "      <th></th>\n",
       "      <th></th>\n",
       "      <th></th>\n",
       "      <th colspan=\"21\" halign=\"left\">box_thorax</th>\n",
       "    </tr>\n",
       "    <tr>\n",
       "      <th></th>\n",
       "      <th></th>\n",
       "      <th></th>\n",
       "      <th></th>\n",
       "      <th></th>\n",
       "      <th>index</th>\n",
       "      <th>0.00</th>\n",
       "      <th>0.01</th>\n",
       "      <th>0.02</th>\n",
       "      <th>0.03</th>\n",
       "      <th>0.04</th>\n",
       "      <th>0.05</th>\n",
       "      <th>0.06</th>\n",
       "      <th>0.07</th>\n",
       "      <th>0.08</th>\n",
       "      <th>0.09</th>\n",
       "      <th>...</th>\n",
       "      <th>0.91</th>\n",
       "      <th>0.92</th>\n",
       "      <th>0.93</th>\n",
       "      <th>0.94</th>\n",
       "      <th>0.95</th>\n",
       "      <th>0.96</th>\n",
       "      <th>0.97</th>\n",
       "      <th>0.98</th>\n",
       "      <th>0.99</th>\n",
       "      <th>1.00</th>\n",
       "    </tr>\n",
       "    <tr>\n",
       "      <th>filename</th>\n",
       "      <th>participant</th>\n",
       "      <th>expert</th>\n",
       "      <th>height</th>\n",
       "      <th>mass</th>\n",
       "      <th>n_trial</th>\n",
       "      <th></th>\n",
       "      <th></th>\n",
       "      <th></th>\n",
       "      <th></th>\n",
       "      <th></th>\n",
       "      <th></th>\n",
       "      <th></th>\n",
       "      <th></th>\n",
       "      <th></th>\n",
       "      <th></th>\n",
       "      <th></th>\n",
       "      <th></th>\n",
       "      <th></th>\n",
       "      <th></th>\n",
       "      <th></th>\n",
       "      <th></th>\n",
       "      <th></th>\n",
       "      <th></th>\n",
       "      <th></th>\n",
       "      <th></th>\n",
       "      <th></th>\n",
       "    </tr>\n",
       "  </thead>\n",
       "  <tbody>\n",
       "    <tr>\n",
       "      <th>antc_1_r08_1</th>\n",
       "      <th>0</th>\n",
       "      <th>0</th>\n",
       "      <th>r</th>\n",
       "      <th>8</th>\n",
       "      <th>1</th>\n",
       "      <td>0.172939</td>\n",
       "      <td>0.171920</td>\n",
       "      <td>0.170901</td>\n",
       "      <td>0.169882</td>\n",
       "      <td>0.168864</td>\n",
       "      <td>0.167845</td>\n",
       "      <td>0.166826</td>\n",
       "      <td>0.165807</td>\n",
       "      <td>0.164789</td>\n",
       "      <td>0.163770</td>\n",
       "      <td>...</td>\n",
       "      <td>0.217043</td>\n",
       "      <td>0.225738</td>\n",
       "      <td>0.235511</td>\n",
       "      <td>0.245357</td>\n",
       "      <td>0.254755</td>\n",
       "      <td>0.264154</td>\n",
       "      <td>0.271385</td>\n",
       "      <td>0.277234</td>\n",
       "      <td>0.281999</td>\n",
       "      <td>0.286761</td>\n",
       "    </tr>\n",
       "    <tr>\n",
       "      <th>antc_1_r08_4</th>\n",
       "      <th>0</th>\n",
       "      <th>0</th>\n",
       "      <th>r</th>\n",
       "      <th>8</th>\n",
       "      <th>4</th>\n",
       "      <td>0.178855</td>\n",
       "      <td>0.174063</td>\n",
       "      <td>0.169872</td>\n",
       "      <td>0.165694</td>\n",
       "      <td>0.161360</td>\n",
       "      <td>0.157029</td>\n",
       "      <td>0.152654</td>\n",
       "      <td>0.148313</td>\n",
       "      <td>0.144410</td>\n",
       "      <td>0.140638</td>\n",
       "      <td>...</td>\n",
       "      <td>0.272147</td>\n",
       "      <td>0.279357</td>\n",
       "      <td>0.286672</td>\n",
       "      <td>0.293904</td>\n",
       "      <td>0.300358</td>\n",
       "      <td>0.305985</td>\n",
       "      <td>0.311830</td>\n",
       "      <td>0.318017</td>\n",
       "      <td>0.324290</td>\n",
       "      <td>0.330552</td>\n",
       "    </tr>\n",
       "    <tr>\n",
       "      <th>antc_1_r08_5</th>\n",
       "      <th>0</th>\n",
       "      <th>0</th>\n",
       "      <th>r</th>\n",
       "      <th>8</th>\n",
       "      <th>5</th>\n",
       "      <td>0.178855</td>\n",
       "      <td>0.174063</td>\n",
       "      <td>0.169872</td>\n",
       "      <td>0.165694</td>\n",
       "      <td>0.161360</td>\n",
       "      <td>0.157029</td>\n",
       "      <td>0.152654</td>\n",
       "      <td>0.148313</td>\n",
       "      <td>0.144410</td>\n",
       "      <td>0.140638</td>\n",
       "      <td>...</td>\n",
       "      <td>0.250183</td>\n",
       "      <td>0.253158</td>\n",
       "      <td>0.256391</td>\n",
       "      <td>0.259117</td>\n",
       "      <td>0.261853</td>\n",
       "      <td>0.264429</td>\n",
       "      <td>0.266241</td>\n",
       "      <td>0.267616</td>\n",
       "      <td>0.269142</td>\n",
       "      <td>0.271356</td>\n",
       "    </tr>\n",
       "    <tr>\n",
       "      <th>antc_1_r08_6</th>\n",
       "      <th>0</th>\n",
       "      <th>0</th>\n",
       "      <th>r</th>\n",
       "      <th>8</th>\n",
       "      <th>6</th>\n",
       "      <td>0.285169</td>\n",
       "      <td>0.283806</td>\n",
       "      <td>0.281817</td>\n",
       "      <td>0.279593</td>\n",
       "      <td>0.276841</td>\n",
       "      <td>0.273583</td>\n",
       "      <td>0.269951</td>\n",
       "      <td>0.265913</td>\n",
       "      <td>0.261597</td>\n",
       "      <td>0.257011</td>\n",
       "      <td>...</td>\n",
       "      <td>0.101184</td>\n",
       "      <td>0.103976</td>\n",
       "      <td>0.107312</td>\n",
       "      <td>0.110918</td>\n",
       "      <td>0.114194</td>\n",
       "      <td>0.116748</td>\n",
       "      <td>0.118322</td>\n",
       "      <td>0.119308</td>\n",
       "      <td>0.120256</td>\n",
       "      <td>0.120819</td>\n",
       "    </tr>\n",
       "    <tr>\n",
       "      <th>antc_1_r12_1</th>\n",
       "      <th>0</th>\n",
       "      <th>0</th>\n",
       "      <th>r</th>\n",
       "      <th>12</th>\n",
       "      <th>1</th>\n",
       "      <td>0.178855</td>\n",
       "      <td>0.174063</td>\n",
       "      <td>0.169872</td>\n",
       "      <td>0.165694</td>\n",
       "      <td>0.161360</td>\n",
       "      <td>0.157029</td>\n",
       "      <td>0.152654</td>\n",
       "      <td>0.148313</td>\n",
       "      <td>0.144410</td>\n",
       "      <td>0.140638</td>\n",
       "      <td>...</td>\n",
       "      <td>0.273174</td>\n",
       "      <td>0.275023</td>\n",
       "      <td>0.276452</td>\n",
       "      <td>0.278693</td>\n",
       "      <td>0.282127</td>\n",
       "      <td>0.286132</td>\n",
       "      <td>0.290428</td>\n",
       "      <td>0.295271</td>\n",
       "      <td>0.298941</td>\n",
       "      <td>0.302072</td>\n",
       "    </tr>\n",
       "  </tbody>\n",
       "</table>\n",
       "<p>5 rows × 101 columns</p>\n",
       "</div>"
      ],
      "text/plain": [
       "                                                    box_thorax            \\\n",
       "index                                                     0.00      0.01   \n",
       "filename     participant expert height mass n_trial                        \n",
       "antc_1_r08_1 0           0      r      8    1         0.172939  0.171920   \n",
       "antc_1_r08_4 0           0      r      8    4         0.178855  0.174063   \n",
       "antc_1_r08_5 0           0      r      8    5         0.178855  0.174063   \n",
       "antc_1_r08_6 0           0      r      8    6         0.285169  0.283806   \n",
       "antc_1_r12_1 0           0      r      12   1         0.178855  0.174063   \n",
       "\n",
       "                                                                         \\\n",
       "index                                                    0.02      0.03   \n",
       "filename     participant expert height mass n_trial                       \n",
       "antc_1_r08_1 0           0      r      8    1        0.170901  0.169882   \n",
       "antc_1_r08_4 0           0      r      8    4        0.169872  0.165694   \n",
       "antc_1_r08_5 0           0      r      8    5        0.169872  0.165694   \n",
       "antc_1_r08_6 0           0      r      8    6        0.281817  0.279593   \n",
       "antc_1_r12_1 0           0      r      12   1        0.169872  0.165694   \n",
       "\n",
       "                                                                         \\\n",
       "index                                                    0.04      0.05   \n",
       "filename     participant expert height mass n_trial                       \n",
       "antc_1_r08_1 0           0      r      8    1        0.168864  0.167845   \n",
       "antc_1_r08_4 0           0      r      8    4        0.161360  0.157029   \n",
       "antc_1_r08_5 0           0      r      8    5        0.161360  0.157029   \n",
       "antc_1_r08_6 0           0      r      8    6        0.276841  0.273583   \n",
       "antc_1_r12_1 0           0      r      12   1        0.161360  0.157029   \n",
       "\n",
       "                                                                         \\\n",
       "index                                                    0.06      0.07   \n",
       "filename     participant expert height mass n_trial                       \n",
       "antc_1_r08_1 0           0      r      8    1        0.166826  0.165807   \n",
       "antc_1_r08_4 0           0      r      8    4        0.152654  0.148313   \n",
       "antc_1_r08_5 0           0      r      8    5        0.152654  0.148313   \n",
       "antc_1_r08_6 0           0      r      8    6        0.269951  0.265913   \n",
       "antc_1_r12_1 0           0      r      12   1        0.152654  0.148313   \n",
       "\n",
       "                                                                         ...  \\\n",
       "index                                                    0.08      0.09  ...   \n",
       "filename     participant expert height mass n_trial                      ...   \n",
       "antc_1_r08_1 0           0      r      8    1        0.164789  0.163770  ...   \n",
       "antc_1_r08_4 0           0      r      8    4        0.144410  0.140638  ...   \n",
       "antc_1_r08_5 0           0      r      8    5        0.144410  0.140638  ...   \n",
       "antc_1_r08_6 0           0      r      8    6        0.261597  0.257011  ...   \n",
       "antc_1_r12_1 0           0      r      12   1        0.144410  0.140638  ...   \n",
       "\n",
       "                                                                         \\\n",
       "index                                                    0.91      0.92   \n",
       "filename     participant expert height mass n_trial                       \n",
       "antc_1_r08_1 0           0      r      8    1        0.217043  0.225738   \n",
       "antc_1_r08_4 0           0      r      8    4        0.272147  0.279357   \n",
       "antc_1_r08_5 0           0      r      8    5        0.250183  0.253158   \n",
       "antc_1_r08_6 0           0      r      8    6        0.101184  0.103976   \n",
       "antc_1_r12_1 0           0      r      12   1        0.273174  0.275023   \n",
       "\n",
       "                                                                         \\\n",
       "index                                                    0.93      0.94   \n",
       "filename     participant expert height mass n_trial                       \n",
       "antc_1_r08_1 0           0      r      8    1        0.235511  0.245357   \n",
       "antc_1_r08_4 0           0      r      8    4        0.286672  0.293904   \n",
       "antc_1_r08_5 0           0      r      8    5        0.256391  0.259117   \n",
       "antc_1_r08_6 0           0      r      8    6        0.107312  0.110918   \n",
       "antc_1_r12_1 0           0      r      12   1        0.276452  0.278693   \n",
       "\n",
       "                                                                         \\\n",
       "index                                                    0.95      0.96   \n",
       "filename     participant expert height mass n_trial                       \n",
       "antc_1_r08_1 0           0      r      8    1        0.254755  0.264154   \n",
       "antc_1_r08_4 0           0      r      8    4        0.300358  0.305985   \n",
       "antc_1_r08_5 0           0      r      8    5        0.261853  0.264429   \n",
       "antc_1_r08_6 0           0      r      8    6        0.114194  0.116748   \n",
       "antc_1_r12_1 0           0      r      12   1        0.282127  0.286132   \n",
       "\n",
       "                                                                         \\\n",
       "index                                                    0.97      0.98   \n",
       "filename     participant expert height mass n_trial                       \n",
       "antc_1_r08_1 0           0      r      8    1        0.271385  0.277234   \n",
       "antc_1_r08_4 0           0      r      8    4        0.311830  0.318017   \n",
       "antc_1_r08_5 0           0      r      8    5        0.266241  0.267616   \n",
       "antc_1_r08_6 0           0      r      8    6        0.118322  0.119308   \n",
       "antc_1_r12_1 0           0      r      12   1        0.290428  0.295271   \n",
       "\n",
       "                                                                         \n",
       "index                                                    0.99      1.00  \n",
       "filename     participant expert height mass n_trial                      \n",
       "antc_1_r08_1 0           0      r      8    1        0.281999  0.286761  \n",
       "antc_1_r08_4 0           0      r      8    4        0.324290  0.330552  \n",
       "antc_1_r08_5 0           0      r      8    5        0.269142  0.271356  \n",
       "antc_1_r08_6 0           0      r      8    6        0.120256  0.120819  \n",
       "antc_1_r12_1 0           0      r      12   1        0.298941  0.302072  \n",
       "\n",
       "[5 rows x 101 columns]"
      ]
     },
     "execution_count": 17,
     "metadata": {},
     "output_type": "execute_result"
    }
   ],
   "source": [
    "id_vars = [\"filename\", \"participant\", \"expert\", \"height\", \"mass\", \"n_trial\", \"index\"]\n",
    "y = (\n",
    "    box_thorax.assign(\n",
    "        participant=lambda x: x[\"participant\"].astype(\"category\").cat.codes\n",
    "    )\n",
    "    .set_index(id_vars)\n",
    "    .unstack()\n",
    ")\n",
    "y = y.fillna(y.mean())\n",
    "\n",
    "y.head()"
   ]
  },
  {
   "cell_type": "code",
   "execution_count": 18,
   "metadata": {},
   "outputs": [
    {
     "data": {
      "image/png": "[encoded data removed]",
      "text/plain": [
       "<Figure size 792x576 with 3 Axes>"
      ]
     },
     "metadata": {
      "needs_background": "light"
     },
     "output_type": "display_data"
    }
   ],
   "source": [
    "α = 0.05\n",
    "n_iter = 1000\n",
    "spm = spm1d.stats.nonparam.anova2(\n",
    "    y.to_numpy(),\n",
    "    A=y.index.get_level_values(\"expert\"),\n",
    "    B=y.index.get_level_values(\"mass\"),\n",
    ")\n",
    "spmi = spm.inference(alpha=α, iterations=n_iter)\n",
    "\n",
    "plt.figure(figsize=(11, 8))\n",
    "spmi.plot()\n",
    "plt.tight_layout()"
   ]
  },
  {
   "cell_type": "code",
   "execution_count": 19,
   "metadata": {},
   "outputs": [
    {
     "data": {
      "text/html": [
       "<div>\n",
       "<style scoped>\n",
       "    .dataframe tbody tr th:only-of-type {\n",
       "        vertical-align: middle;\n",
       "    }\n",
       "\n",
       "    .dataframe tbody tr th {\n",
       "        vertical-align: top;\n",
       "    }\n",
       "\n",
       "    .dataframe thead th {\n",
       "        text-align: right;\n",
       "    }\n",
       "</style>\n",
       "<table border=\"1\" class=\"dataframe\">\n",
       "  <thead>\n",
       "    <tr style=\"text-align: right;\">\n",
       "      <th></th>\n",
       "      <th>effect</th>\n",
       "      <th>p</th>\n",
       "      <th>start</th>\n",
       "      <th>end</th>\n",
       "    </tr>\n",
       "  </thead>\n",
       "  <tbody>\n",
       "    <tr>\n",
       "      <th>0</th>\n",
       "      <td>main sex</td>\n",
       "      <td>0</td>\n",
       "      <td>0.079109</td>\n",
       "      <td>0.379952</td>\n",
       "    </tr>\n",
       "  </tbody>\n",
       "</table>\n",
       "</div>"
      ],
      "text/plain": [
       "     effect  p     start       end\n",
       "0  main sex  0  0.079109  0.379952"
      ]
     },
     "execution_count": 19,
     "metadata": {},
     "output_type": "execute_result"
    }
   ],
   "source": [
    "effect = {\n",
    "    \"Main A\": \"main sex\",\n",
    "    \"Main B\": \"main mass\",\n",
    "    \"Interaction AB\": \"interaction sex-mass\",\n",
    "}\n",
    "\n",
    "clusters = get_spm_cluster(spmi, labels=effect, mult=1 / y.shape[1])\n",
    "clusters"
   ]
  },
  {
   "cell_type": "code",
   "execution_count": 20,
   "metadata": {},
   "outputs": [
    {
     "data": {
      "text/html": [
       "<div>\n",
       "<style scoped>\n",
       "    .dataframe tbody tr th:only-of-type {\n",
       "        vertical-align: middle;\n",
       "    }\n",
       "\n",
       "    .dataframe tbody tr th {\n",
       "        vertical-align: top;\n",
       "    }\n",
       "\n",
       "    .dataframe thead th {\n",
       "        text-align: right;\n",
       "    }\n",
       "</style>\n",
       "<table border=\"1\" class=\"dataframe\">\n",
       "  <thead>\n",
       "    <tr style=\"text-align: right;\">\n",
       "      <th></th>\n",
       "      <th>effect</th>\n",
       "      <th>p</th>\n",
       "      <th>start</th>\n",
       "      <th>end</th>\n",
       "      <th>diff desc</th>\n",
       "      <th>mean diff</th>\n",
       "      <th>cohen d</th>\n",
       "      <th>cohen effect</th>\n",
       "    </tr>\n",
       "  </thead>\n",
       "  <tbody>\n",
       "    <tr>\n",
       "      <th>0</th>\n",
       "      <td>main sex</td>\n",
       "      <td>0.0</td>\n",
       "      <td>0.08</td>\n",
       "      <td>0.38</td>\n",
       "      <td>0 - 1</td>\n",
       "      <td>0.02</td>\n",
       "      <td>0.67</td>\n",
       "      <td>medium</td>\n",
       "    </tr>\n",
       "  </tbody>\n",
       "</table>\n",
       "</div>"
      ],
      "text/plain": [
       "     effect    p  start   end diff desc  mean diff  cohen d cohen effect\n",
       "0  main sex  0.0   0.08  0.38     0 - 1       0.02     0.67       medium"
      ]
     },
     "execution_count": 20,
     "metadata": {},
     "output_type": "execute_result"
    }
   ],
   "source": [
    "effect = {\"main sex\": \"expert\", \"main mass\": \"mass\", \"interaction sex-mass\": \"expert\"}\n",
    "clusters = describe_clusters(\n",
    "    clusters, box_thorax.rename(columns=dict(box_thorax=\"value\")), effect\n",
    ")\n",
    "clusters"
   ]
  },
  {
   "cell_type": "code",
   "execution_count": 21,
   "metadata": {},
   "outputs": [],
   "source": [
    "c = (\n",
    "    alt.Chart(clusters)\n",
    "    .mark_rect(opacity=0.3, color=\"grey\")\n",
    "    .encode(alt.X(\"start\"), alt.X2(\"end\"))\n",
    ")"
   ]
  },
  {
   "cell_type": "code",
   "execution_count": 22,
   "metadata": {},
   "outputs": [],
   "source": [
    "base = alt.Chart(box_thorax).encode(\n",
    "    alt.X(\n",
    "        \"index\", title=\"normalized trial\", axis=alt.Axis(format=\"%\", labelFlush=False)\n",
    "    )\n",
    ")\n",
    "mu = base.mark_line().encode(\n",
    "    alt.Y(\n",
    "        \"mean(box_thorax)\",\n",
    "        title=\"box-thorax distance (% height)\",\n",
    "        axis=alt.Axis(format=\"%\"),\n",
    "    )\n",
    ")\n",
    "sigma = base.mark_errorband(extent=\"ci\").encode(alt.Y(\"box_thorax\", title=None))\n",
    "men_scale = alt.Scale(scheme=\"set1\")"
   ]
  },
  {
   "cell_type": "code",
   "execution_count": 23,
   "metadata": {},
   "outputs": [
    {
     "data": {
      "application/vnd.vegalite.v3+json": {
       "$schema": "https://vega.github.io/schema/vega-lite/v3.4.0.json",
       "config": {
        "mark": {
         "tooltip": null
        },
        "view": {
         "height": 300,
         "width": 400
        }
       },
       "data": {
        "format": {
         "type": "json"
        },
        "url": "altair-data-06cef42276dbe44982d47efb20f2c7b1.json"
       },
       "layer": [
        {
         "encoding": {
          "x": {
           "axis": {
            "format": "%",
            "labelFlush": false
           },
           "field": "index",
           "title": "normalized trial",
           "type": "quantitative"
          },
          "y": {
           "aggregate": "mean",
           "axis": {
            "format": "%"
           },
           "field": "box_thorax",
           "title": "box-thorax distance (% height)",
           "type": "quantitative"
          }
         },
         "mark": "line"
        },
        {
         "encoding": {
          "x": {
           "axis": {
            "format": "%",
            "labelFlush": false
           },
           "field": "index",
           "title": "normalized trial",
           "type": "quantitative"
          },
          "y": {
           "field": "box_thorax",
           "title": null,
           "type": "quantitative"
          }
         },
         "mark": {
          "extent": "ci",
          "type": "errorband"
         }
        }
       ]
      },
      "image/png": "[encoded data removed]",
      "text/plain": [
       "<VegaLite 3 object>\n",
       "\n",
       "If you see this message, it means the renderer has not been properly enabled\n",
       "for the frontend that you are using. For more information, see\n",
       "https://altair-viz.github.io/user_guide/troubleshooting.html\n"
      ]
     },
     "execution_count": 23,
     "metadata": {},
     "output_type": "execute_result"
    }
   ],
   "source": [
    "(mu + sigma)  # + c.encode(alt.Color(\"effect\"))"
   ]
  },
  {
   "cell_type": "code",
   "execution_count": 24,
   "metadata": {},
   "outputs": [
    {
     "data": {
      "application/vnd.vegalite.v3+json": {
       "$schema": "https://vega.github.io/schema/vega-lite/v3.4.0.json",
       "config": {
        "mark": {
         "tooltip": null
        },
        "view": {
         "height": 300,
         "width": 400
        }
       },
       "layer": [
        {
         "data": {
          "format": {
           "type": "json"
          },
          "url": "altair-data-6a1125449e22df8eb5effd891b60e372.json"
         },
         "encoding": {
          "x": {
           "field": "start",
           "type": "quantitative"
          },
          "x2": {
           "field": "end"
          }
         },
         "mark": {
          "color": "grey",
          "opacity": 0.3,
          "type": "rect"
         },
         "transform": [
          {
           "filter": "datum.effect == \"main sex\""
          }
         ]
        },
        {
         "data": {
          "format": {
           "type": "json"
          },
          "url": "altair-data-06cef42276dbe44982d47efb20f2c7b1.json"
         },
         "encoding": {
          "color": {
           "field": "expert",
           "scale": {
            "scheme": "set1"
           },
           "type": "nominal"
          }
         },
         "layer": [
          {
           "encoding": {
            "x": {
             "axis": {
              "format": "%",
              "labelFlush": false
             },
             "field": "index",
             "title": "normalized trial",
             "type": "quantitative"
            },
            "y": {
             "aggregate": "mean",
             "axis": {
              "format": "%"
             },
             "field": "box_thorax",
             "title": "box-thorax distance (% height)",
             "type": "quantitative"
            }
           },
           "mark": "line"
          },
          {
           "encoding": {
            "x": {
             "axis": {
              "format": "%",
              "labelFlush": false
             },
             "field": "index",
             "title": "normalized trial",
             "type": "quantitative"
            },
            "y": {
             "field": "box_thorax",
             "title": null,
             "type": "quantitative"
            }
           },
           "mark": {
            "extent": "ci",
            "type": "errorband"
           }
          }
         ]
        }
       ]
      },
      "image/png": "[encoded data removed]",
      "text/plain": [
       "<VegaLite 3 object>\n",
       "\n",
       "If you see this message, it means the renderer has not been properly enabled\n",
       "for the frontend that you are using. For more information, see\n",
       "https://altair-viz.github.io/user_guide/troubleshooting.html\n"
      ]
     },
     "execution_count": 24,
     "metadata": {},
     "output_type": "execute_result"
    }
   ],
   "source": [
    "c.transform_filter('datum.effect == \"main sex\"') + (mu + sigma).encode(\n",
    "    alt.Color(\"expert:N\", scale=men_scale)\n",
    ")"
   ]
  },
  {
   "cell_type": "code",
   "execution_count": 25,
   "metadata": {},
   "outputs": [
    {
     "data": {
      "application/vnd.vegalite.v3+json": {
       "$schema": "https://vega.github.io/schema/vega-lite/v3.4.0.json",
       "config": {
        "mark": {
         "tooltip": null
        },
        "view": {
         "height": 300,
         "width": 400
        }
       },
       "layer": [
        {
         "data": {
          "format": {
           "type": "json"
          },
          "url": "altair-data-6a1125449e22df8eb5effd891b60e372.json"
         },
         "encoding": {
          "x": {
           "field": "start",
           "type": "quantitative"
          },
          "x2": {
           "field": "end"
          }
         },
         "mark": {
          "color": "grey",
          "opacity": 0.3,
          "type": "rect"
         },
         "transform": [
          {
           "filter": "datum.effect == \"main mass\""
          }
         ]
        },
        {
         "data": {
          "format": {
           "type": "json"
          },
          "url": "altair-data-06cef42276dbe44982d47efb20f2c7b1.json"
         },
         "encoding": {
          "color": {
           "field": "mass",
           "type": "nominal"
          }
         },
         "layer": [
          {
           "encoding": {
            "x": {
             "axis": {
              "format": "%",
              "labelFlush": false
             },
             "field": "index",
             "title": "normalized trial",
             "type": "quantitative"
            },
            "y": {
             "aggregate": "mean",
             "axis": {
              "format": "%"
             },
             "field": "box_thorax",
             "title": "box-thorax distance (% height)",
             "type": "quantitative"
            }
           },
           "mark": "line"
          },
          {
           "encoding": {
            "x": {
             "axis": {
              "format": "%",
              "labelFlush": false
             },
             "field": "index",
             "title": "normalized trial",
             "type": "quantitative"
            },
            "y": {
             "field": "box_thorax",
             "title": null,
             "type": "quantitative"
            }
           },
           "mark": {
            "extent": "ci",
            "type": "errorband"
           }
          }
         ]
        }
       ]
      },
      "image/png": "[encoded data removed]",
      "text/plain": [
       "<VegaLite 3 object>\n",
       "\n",
       "If you see this message, it means the renderer has not been properly enabled\n",
       "for the frontend that you are using. For more information, see\n",
       "https://altair-viz.github.io/user_guide/troubleshooting.html\n"
      ]
     },
     "execution_count": 25,
     "metadata": {},
     "output_type": "execute_result"
    }
   ],
   "source": [
    "c.transform_filter('datum.effect == \"main mass\"') + (mu + sigma).encode(\n",
    "    alt.Color(\"mass:N\")\n",
    ")"
   ]
  },
  {
   "cell_type": "code",
   "execution_count": 26,
   "metadata": {},
   "outputs": [
    {
     "data": {
      "application/vnd.vegalite.v3+json": {
       "$schema": "https://vega.github.io/schema/vega-lite/v3.4.0.json",
       "config": {
        "mark": {
         "tooltip": null
        },
        "view": {
         "height": 300,
         "width": 400
        }
       },
       "data": {
        "format": {
         "type": "json"
        },
        "url": "altair-data-06cef42276dbe44982d47efb20f2c7b1.json"
       },
       "facet": {
        "column": {
         "field": "mass",
         "type": "quantitative"
        }
       },
       "spec": {
        "encoding": {
         "color": {
          "field": "expert",
          "scale": {
           "scheme": "set1"
          },
          "type": "nominal"
         }
        },
        "layer": [
         {
          "encoding": {
           "x": {
            "axis": {
             "format": "%",
             "labelFlush": false
            },
            "field": "index",
            "title": "normalized trial",
            "type": "quantitative"
           },
           "y": {
            "aggregate": "mean",
            "axis": {
             "format": "%"
            },
            "field": "box_thorax",
            "title": "box-thorax distance (% height)",
            "type": "quantitative"
           }
          },
          "mark": "line"
         },
         {
          "encoding": {
           "x": {
            "axis": {
             "format": "%",
             "labelFlush": false
            },
            "field": "index",
            "title": "normalized trial",
            "type": "quantitative"
           },
           "y": {
            "field": "box_thorax",
            "title": null,
            "type": "quantitative"
           }
          },
          "mark": {
           "extent": "ci",
           "type": "errorband"
          }
         }
        ]
       }
      },
      "image/png": "[encoded data removed]",
      "text/plain": [
       "<VegaLite 3 object>\n",
       "\n",
       "If you see this message, it means the renderer has not been properly enabled\n",
       "for the frontend that you are using. For more information, see\n",
       "https://altair-viz.github.io/user_guide/troubleshooting.html\n"
      ]
     },
     "execution_count": 26,
     "metadata": {},
     "output_type": "execute_result"
    }
   ],
   "source": [
    "(mu + sigma).encode(alt.Color(\"expert:N\", scale=men_scale)).facet(column=\"mass\")"
   ]
  },
  {
   "cell_type": "markdown",
   "metadata": {},
   "source": [
    "<!--NAVIGATION-->\n",
    "< [Joint reactions](02.02-joint-reactions.ipynb) | [Contents](Index.ipynb) | [Analyses](03.00-experts-novices.ipynb) >"
   ]
  }
 ],
 "metadata": {
  "kernelspec": {
   "display_name": "Python [conda env:pyosim_aws]",
   "language": "python",
   "name": "conda-env-pyosim_aws-py"
  },
  "language_info": {
   "codemirror_mode": {
    "name": "ipython",
    "version": 3
   },
   "file_extension": ".py",
   "mimetype": "text/x-python",
   "name": "python",
   "nbconvert_exporter": "python",
   "pygments_lexer": "ipython3",
   "version": "3.7.3"
  },
  "pycharm": {
   "stem_cell": {
    "cell_type": "raw",
    "metadata": {
     "collapsed": false
    },
    "source": []
   }
  },
  "toc-autonumbering": false,
  "toc-showtags": true
 },
 "nbformat": 4,
 "nbformat_minor": 4
}
