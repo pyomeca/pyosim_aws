{
 "cells": [
  {
   "cell_type": "markdown",
   "metadata": {},
   "source": [
    "<!--BOOK_INFORMATION-->\n",
    "<img style=\"float: right; width: 100px\" src=\"https://raw.github.com/pyomeca/design/master/logo/logo_cropped.svg?sanitize=true\">\n",
    "\n",
    "<font size=\"+2\">Pyosim in the cloud</font>\n",
    "\n",
    "<font size=\"+1\">with [pyomeca](https://github.com/pyomeca/pyom</font>a)\n",
    "\n",
    "Romain Martinez (martinez.staps@gmail.com | [GitHub](https://github.com/romainmartinez))\n"
   ]
  },
  {
   "cell_type": "markdown",
   "metadata": {},
   "source": [
    "<!--NAVIGATION-->\n",
    "< [Muscle activations & muscles forces](03.03-muscle-activations-forces.ipynb) | [Contents](Index.ipynb) |"
   ]
  },
  {
   "cell_type": "markdown",
   "metadata": {},
   "source": [
    "# Joint reactions\n",
    "\n",
    "$$\\text{shear:compression} = \\frac{\\sqrt{x^2 + y^2}}{|z|}$$"
   ]
  },
  {
   "cell_type": "code",
   "execution_count": 1,
   "metadata": {},
   "outputs": [],
   "source": [
    "from pathlib import Path\n",
    "\n",
    "import numpy as np\n",
    "import pandas as pd\n",
    "import altair as alt\n",
    "from pyosim import Conf\n",
    "from pyomeca import Analogs3d\n",
    "import spm1d\n",
    "import matplotlib.pyplot as plt\n",
    "\n",
    "from src.util import (\n",
    "    condition_counter,\n",
    "    random_balanced_design,\n",
    "    get_spm_cluster,\n",
    ")"
   ]
  },
  {
   "cell_type": "code",
   "execution_count": 2,
   "metadata": {},
   "outputs": [],
   "source": [
    "%load_ext autoreload\n",
    "%autoreload 2\n",
    "%load_ext lab_black\n",
    "alt.data_transformers.enable(\"json\")\n",
    "# to make this notebook's output stable across runs\n",
    "RANDOM_SEED = 42\n",
    "np.random.seed(RANDOM_SEED)"
   ]
  },
  {
   "cell_type": "code",
   "execution_count": 3,
   "metadata": {},
   "outputs": [
    {
     "name": "stdout",
     "output_type": "stream",
     "text": [
      "Project loaded\n",
      "Configuration file loaded\n"
     ]
    }
   ],
   "source": [
    "project_path = Path(\"/media/romain/E/Projet_ExpertsNovices/opensim\")\n",
    "conf = Conf(project_path=project_path)\n",
    "conf.check_confs()"
   ]
  },
  {
   "cell_type": "markdown",
   "metadata": {},
   "source": [
    "## Reading files"
   ]
  },
  {
   "cell_type": "code",
   "execution_count": 4,
   "metadata": {},
   "outputs": [],
   "source": [
    "def parse_conditions(d):\n",
    "    return (\n",
    "        d.assign(\n",
    "            mass=lambda x: x[\"filename\"]\n",
    "            .str.contains(\"r08\")\n",
    "            .replace({True: 8, False: 12})\n",
    "        )\n",
    "        .merge(\n",
    "            pd.read_csv(project_path / \"_conf.csv\")[[\"participant\", \"group\"]].rename(\n",
    "                columns={\"group\": \"men\"}\n",
    "            ),\n",
    "            on=\"participant\",\n",
    "            how=\"left\",\n",
    "        )\n",
    "        .assign(height=1)\n",
    "    )"
   ]
  },
  {
   "cell_type": "code",
   "execution_count": 5,
   "metadata": {},
   "outputs": [
    {
     "data": {
      "text/html": [
       "<div>\n",
       "<style scoped>\n",
       "    .dataframe tbody tr th:only-of-type {\n",
       "        vertical-align: middle;\n",
       "    }\n",
       "\n",
       "    .dataframe tbody tr th {\n",
       "        vertical-align: top;\n",
       "    }\n",
       "\n",
       "    .dataframe thead th {\n",
       "        text-align: right;\n",
       "    }\n",
       "</style>\n",
       "<table border=\"1\" class=\"dataframe\">\n",
       "  <thead>\n",
       "    <tr style=\"text-align: right;\">\n",
       "      <th></th>\n",
       "      <th>index</th>\n",
       "      <th>participant</th>\n",
       "      <th>filename</th>\n",
       "      <th>mass</th>\n",
       "      <th>men</th>\n",
       "      <th>height</th>\n",
       "      <th>sc_ratio</th>\n",
       "      <th>ratio_sup</th>\n",
       "    </tr>\n",
       "  </thead>\n",
       "  <tbody>\n",
       "    <tr>\n",
       "      <th>0</th>\n",
       "      <td>0.00</td>\n",
       "      <td>antc</td>\n",
       "      <td>wu_expertsnovicesG_1_r08_4_JointReaction_React...</td>\n",
       "      <td>8</td>\n",
       "      <td>0</td>\n",
       "      <td>1</td>\n",
       "      <td>0.307743</td>\n",
       "      <td>False</td>\n",
       "    </tr>\n",
       "    <tr>\n",
       "      <th>1</th>\n",
       "      <td>0.01</td>\n",
       "      <td>antc</td>\n",
       "      <td>wu_expertsnovicesG_1_r08_4_JointReaction_React...</td>\n",
       "      <td>8</td>\n",
       "      <td>0</td>\n",
       "      <td>1</td>\n",
       "      <td>0.418359</td>\n",
       "      <td>False</td>\n",
       "    </tr>\n",
       "    <tr>\n",
       "      <th>2</th>\n",
       "      <td>0.02</td>\n",
       "      <td>antc</td>\n",
       "      <td>wu_expertsnovicesG_1_r08_4_JointReaction_React...</td>\n",
       "      <td>8</td>\n",
       "      <td>0</td>\n",
       "      <td>1</td>\n",
       "      <td>0.466880</td>\n",
       "      <td>False</td>\n",
       "    </tr>\n",
       "    <tr>\n",
       "      <th>3</th>\n",
       "      <td>0.03</td>\n",
       "      <td>antc</td>\n",
       "      <td>wu_expertsnovicesG_1_r08_4_JointReaction_React...</td>\n",
       "      <td>8</td>\n",
       "      <td>0</td>\n",
       "      <td>1</td>\n",
       "      <td>0.460193</td>\n",
       "      <td>False</td>\n",
       "    </tr>\n",
       "    <tr>\n",
       "      <th>4</th>\n",
       "      <td>0.04</td>\n",
       "      <td>antc</td>\n",
       "      <td>wu_expertsnovicesG_1_r08_4_JointReaction_React...</td>\n",
       "      <td>8</td>\n",
       "      <td>0</td>\n",
       "      <td>1</td>\n",
       "      <td>0.356652</td>\n",
       "      <td>False</td>\n",
       "    </tr>\n",
       "  </tbody>\n",
       "</table>\n",
       "</div>"
      ],
      "text/plain": [
       "   index participant                                           filename  mass  \\\n",
       "0   0.00        antc  wu_expertsnovicesG_1_r08_4_JointReaction_React...     8   \n",
       "1   0.01        antc  wu_expertsnovicesG_1_r08_4_JointReaction_React...     8   \n",
       "2   0.02        antc  wu_expertsnovicesG_1_r08_4_JointReaction_React...     8   \n",
       "3   0.03        antc  wu_expertsnovicesG_1_r08_4_JointReaction_React...     8   \n",
       "4   0.04        antc  wu_expertsnovicesG_1_r08_4_JointReaction_React...     8   \n",
       "\n",
       "   men  height  sc_ratio  ratio_sup  \n",
       "0    0       1  0.307743      False  \n",
       "1    0       1  0.418359      False  \n",
       "2    0       1  0.466880      False  \n",
       "3    0       1  0.460193      False  \n",
       "4    0       1  0.356652      False  "
      ]
     },
     "execution_count": 5,
     "metadata": {},
     "output_type": "execute_result"
    }
   ],
   "source": [
    "suffix = \"_JointReaction_ReactionLoads\"\n",
    "threshold = 0.56  # dislocation ratio (Dickerson et al.)\n",
    "\n",
    "\n",
    "d = (\n",
    "    pd.concat(\n",
    "        [\n",
    "            Analogs3d.from_sto(\n",
    "                ifile, na_values=[\"             nan\", \"            -nan\"]\n",
    "            )\n",
    "            .time_normalization()\n",
    "            .to_dataframe()\n",
    "            .assign(\n",
    "                participant=ifile.parts[-3],\n",
    "                filename=lambda x: ifile.stem + ifile.parts[-3] + f\"{i}\",\n",
    "            )\n",
    "            .reset_index()\n",
    "            for i, ifile in enumerate(\n",
    "                conf.project_path.glob(f\"*/5_joint_reaction_force/*{suffix}*\")\n",
    "            )\n",
    "        ]\n",
    "    )\n",
    "    .pipe(parse_conditions)\n",
    "    .eval(\n",
    "        \"sc_ratio = sqrt(GHJ_on_humerus_in_glenoid_fx ** 2 + GHJ_on_humerus_in_glenoid_fy ** 2) / GHJ_on_humerus_in_glenoid_fz.abs()\"\n",
    "    )\n",
    "    .assign(\n",
    "        index=lambda x: x[\"index\"] / 100, ratio_sup=lambda x: x[\"sc_ratio\"] > threshold\n",
    "    )\n",
    ")\n",
    "\n",
    "d = d.drop(d.filter(like=\"GH\", axis=1), axis=1)\n",
    "d.head()"
   ]
  },
  {
   "cell_type": "markdown",
   "metadata": {},
   "source": [
    "## Clean data"
   ]
  },
  {
   "cell_type": "markdown",
   "metadata": {},
   "source": [
    "### Balance dataset\n",
    "\n",
    "By randomly taking the minimum number of trials for each condition"
   ]
  },
  {
   "cell_type": "code",
   "execution_count": 6,
   "metadata": {},
   "outputs": [
    {
     "data": {
      "text/plain": [
       "men  mass\n",
       "0    8       76\n",
       "     12      84\n",
       "1    8       50\n",
       "     12      39\n",
       "dtype: int64"
      ]
     },
     "execution_count": 6,
     "metadata": {},
     "output_type": "execute_result"
    }
   ],
   "source": [
    "d.drop_duplicates([\"filename\"]).groupby([\"men\", \"mass\"]).size()"
   ]
  },
  {
   "cell_type": "code",
   "execution_count": 7,
   "metadata": {},
   "outputs": [],
   "source": [
    "balanced_trials = random_balanced_design(d, [\"men\", \"mass\"], random_state=RANDOM_SEED)[\n",
    "    \"filename\"\n",
    "].to_list()"
   ]
  },
  {
   "cell_type": "code",
   "execution_count": 8,
   "metadata": {},
   "outputs": [
    {
     "data": {
      "text/plain": [
       "men  mass\n",
       "0    8       39\n",
       "     12      39\n",
       "1    8       39\n",
       "     12      39\n",
       "dtype: int64"
      ]
     },
     "execution_count": 8,
     "metadata": {},
     "output_type": "execute_result"
    }
   ],
   "source": [
    "d = d.query(\"filename == @balanced_trials\")\n",
    "d.drop_duplicates([\"filename\"]).groupby([\"men\", \"mass\"]).size()"
   ]
  },
  {
   "cell_type": "markdown",
   "metadata": {},
   "source": [
    "## Time above dislocation ratio"
   ]
  },
  {
   "cell_type": "code",
   "execution_count": 9,
   "metadata": {},
   "outputs": [
    {
     "data": {
      "text/html": [
       "<div>\n",
       "<style scoped>\n",
       "    .dataframe tbody tr th:only-of-type {\n",
       "        vertical-align: middle;\n",
       "    }\n",
       "\n",
       "    .dataframe tbody tr th {\n",
       "        vertical-align: top;\n",
       "    }\n",
       "\n",
       "    .dataframe thead th {\n",
       "        text-align: right;\n",
       "    }\n",
       "</style>\n",
       "<table border=\"1\" class=\"dataframe\">\n",
       "  <thead>\n",
       "    <tr style=\"text-align: right;\">\n",
       "      <th></th>\n",
       "      <th>filename</th>\n",
       "      <th>men</th>\n",
       "      <th>mass</th>\n",
       "      <th>ratio_sup</th>\n",
       "    </tr>\n",
       "  </thead>\n",
       "  <tbody>\n",
       "    <tr>\n",
       "      <th>96</th>\n",
       "      <td>wu_expertsnovicesD_1_r12_4_JointReaction_React...</td>\n",
       "      <td>1</td>\n",
       "      <td>12</td>\n",
       "      <td>0.000000</td>\n",
       "    </tr>\n",
       "    <tr>\n",
       "      <th>69</th>\n",
       "      <td>wu_expertsnovicesD_1_r12_1_JointReaction_React...</td>\n",
       "      <td>1</td>\n",
       "      <td>12</td>\n",
       "      <td>0.059406</td>\n",
       "    </tr>\n",
       "    <tr>\n",
       "      <th>82</th>\n",
       "      <td>wu_expertsnovicesD_1_r12_2_JointReaction_React...</td>\n",
       "      <td>1</td>\n",
       "      <td>12</td>\n",
       "      <td>0.495050</td>\n",
       "    </tr>\n",
       "    <tr>\n",
       "      <th>76</th>\n",
       "      <td>wu_expertsnovicesD_1_r12_1_JointReaction_React...</td>\n",
       "      <td>1</td>\n",
       "      <td>12</td>\n",
       "      <td>0.049505</td>\n",
       "    </tr>\n",
       "    <tr>\n",
       "      <th>114</th>\n",
       "      <td>wu_expertsnovicesD_1_r12_5_JointReaction_React...</td>\n",
       "      <td>0</td>\n",
       "      <td>12</td>\n",
       "      <td>0.039604</td>\n",
       "    </tr>\n",
       "  </tbody>\n",
       "</table>\n",
       "</div>"
      ],
      "text/plain": [
       "                                              filename  men  mass  ratio_sup\n",
       "96   wu_expertsnovicesD_1_r12_4_JointReaction_React...    1    12   0.000000\n",
       "69   wu_expertsnovicesD_1_r12_1_JointReaction_React...    1    12   0.059406\n",
       "82   wu_expertsnovicesD_1_r12_2_JointReaction_React...    1    12   0.495050\n",
       "76   wu_expertsnovicesD_1_r12_1_JointReaction_React...    1    12   0.049505\n",
       "114  wu_expertsnovicesD_1_r12_5_JointReaction_React...    0    12   0.039604"
      ]
     },
     "execution_count": 9,
     "metadata": {},
     "output_type": "execute_result"
    }
   ],
   "source": [
    "sup_ratio = (\n",
    "    d.groupby([\"filename\", \"men\", \"mass\"])[\"ratio_sup\"]\n",
    "    .apply(lambda x: x.sum() / x.shape[0])\n",
    "    .reset_index()\n",
    ")\n",
    "\n",
    "sup_ratio.sample(5)"
   ]
  },
  {
   "cell_type": "code",
   "execution_count": 10,
   "metadata": {},
   "outputs": [
    {
     "data": {
      "text/plain": [
       "(156, 4)"
      ]
     },
     "execution_count": 10,
     "metadata": {},
     "output_type": "execute_result"
    }
   ],
   "source": [
    "sup_ratio.shape"
   ]
  },
  {
   "cell_type": "code",
   "execution_count": 11,
   "metadata": {},
   "outputs": [
    {
     "data": {
      "application/vnd.vegalite.v3+json": {
       "$schema": "https://vega.github.io/schema/vega-lite/v3.3.0.json",
       "config": {
        "mark": {
         "tooltip": null
        },
        "view": {
         "height": 300,
         "width": 400
        }
       },
       "data": {
        "format": {
         "type": "json"
        },
        "url": "altair-data-ef363afea1cd60b3ff3e814efedd8ea9.json"
       },
       "facet": {
        "column": {
         "field": "mass",
         "type": "quantitative"
        }
       },
       "spec": {
        "encoding": {
         "color": {
          "field": "men",
          "scale": {
           "scheme": "set1"
          },
          "type": "nominal"
         },
         "x": {
          "axis": {
           "domain": false,
           "labels": false,
           "ticks": false
          },
          "field": "men",
          "title": null,
          "type": "nominal"
         },
         "y": {
          "axis": {
           "format": "%"
          },
          "field": "ratio_sup",
          "title": "c:s > 0.56 (% temps total)",
          "type": "quantitative"
         }
        },
        "mark": "boxplot"
       }
      },
      "image/png": "[encoded data removed]",
      "text/plain": [
       "<VegaLite 3 object>\n",
       "\n",
       "If you see this message, it means the renderer has not been properly enabled\n",
       "for the frontend that you are using. For more information, see\n",
       "https://altair-viz.github.io/user_guide/troubleshooting.html\n"
      ]
     },
     "execution_count": 11,
     "metadata": {},
     "output_type": "execute_result"
    }
   ],
   "source": [
    "men_scale = alt.Scale(scheme=\"set1\")\n",
    "alt.Chart(sup_ratio).mark_boxplot().encode(\n",
    "    alt.X(\"men:N\", axis=alt.Axis(labels=False, ticks=False, domain=False), title=None),\n",
    "    alt.Y(\"ratio_sup\", axis=alt.Axis(format=\"%\"), title=\"c:s > 0.56 (% temps total)\"),\n",
    "    alt.Color(\"men:N\", scale=men_scale),\n",
    ").facet(column=\"mass\")"
   ]
  },
  {
   "cell_type": "code",
   "execution_count": 12,
   "metadata": {},
   "outputs": [
    {
     "data": {
      "text/plain": [
       "SnPM{F} inference list (0D)\n",
       "   design      :  ANOVA2\n",
       "   nEffects    :  3\n",
       "   nPermUnique :  7.471e+275 permutations possible\n",
       "   nPermActual :  10000\n",
       "Effects:\n",
       "   A     F = 14.825   p = <0.001\n",
       "   B     F = 5.345    p = 0.021\n",
       "   AB    F = 0.240    p = 0.626"
      ]
     },
     "execution_count": 12,
     "metadata": {},
     "output_type": "execute_result"
    }
   ],
   "source": [
    "import spm1d\n",
    "\n",
    "alpha = 0.05\n",
    "n_iter = 10_000\n",
    "\n",
    "spm = spm1d.stats.nonparam.anova2(\n",
    "    y=sup_ratio[\"ratio_sup\"], A=sup_ratio[\"men\"], B=sup_ratio[\"mass\"]\n",
    ")\n",
    "spmi = spm.inference(alpha=alpha, iterations=n_iter)\n",
    "spmi"
   ]
  },
  {
   "cell_type": "code",
   "execution_count": 13,
   "metadata": {},
   "outputs": [
    {
     "name": "stdout",
     "output_type": "stream",
     "text": [
      "Main A\n",
      "Main B\n"
     ]
    }
   ],
   "source": [
    "for ispmi in spmi:\n",
    "    if ispmi.h0reject:\n",
    "        print(ispmi.effect)"
   ]
  },
  {
   "cell_type": "code",
   "execution_count": 14,
   "metadata": {},
   "outputs": [],
   "source": [
    "def cohend(a, b):\n",
    "    d = (a.mean() - b.mean()) / (np.sqrt((a.std() ** 2 + b.std() ** 2) / 2))\n",
    "    if np.abs(d) >= 0.8:\n",
    "        effect = \"large\"\n",
    "    elif np.abs(d) >= 0.5:\n",
    "        effect = \"medium\"\n",
    "    elif np.abs(d) >= 0.2:\n",
    "        effect = \"small\"\n",
    "    else:\n",
    "        effect = \"no\"\n",
    "    return d, effect"
   ]
  },
  {
   "cell_type": "code",
   "execution_count": 20,
   "metadata": {},
   "outputs": [
    {
     "name": "stdout",
     "output_type": "stream",
     "text": [
      "-0.0682914445290683\n"
     ]
    },
    {
     "data": {
      "text/plain": [
       "(-0.357737675438888, 'small')"
      ]
     },
     "execution_count": 20,
     "metadata": {},
     "output_type": "execute_result"
    }
   ],
   "source": [
    "a, b = [i.values for _, i in sup_ratio.groupby(\"mass\")[\"ratio_sup\"]]\n",
    "print(a.mean() - b.mean())\n",
    "cohend(a, b)"
   ]
  },
  {
   "cell_type": "code",
   "execution_count": 18,
   "metadata": {},
   "outputs": [
    {
     "data": {
      "text/plain": [
       "-0.11373445036811371"
      ]
     },
     "execution_count": 18,
     "metadata": {},
     "output_type": "execute_result"
    }
   ],
   "source": [
    "sup_ratio.query(\"men == 0\")[\"ratio_sup\"].mean() - sup_ratio.query(\"men == 1\")[\n",
    "    \"ratio_sup\"\n",
    "].mean()"
   ]
  },
  {
   "cell_type": "markdown",
   "metadata": {},
   "source": [
    "<!--NAVIGATION-->\n",
    "< [Muscle activations & muscles forces](03.03-muscle-activations-forces.ipynb) | [Contents](Index.ipynb) |"
   ]
  }
 ],
 "metadata": {
  "kernelspec": {
   "display_name": "Python [conda env:pyosim_aws]",
   "language": "python",
   "name": "conda-env-pyosim_aws-py"
  },
  "language_info": {
   "codemirror_mode": {
    "name": "ipython",
    "version": 3
   },
   "file_extension": ".py",
   "mimetype": "text/x-python",
   "name": "python",
   "nbconvert_exporter": "python",
   "pygments_lexer": "ipython3",
   "version": "3.7.3"
  }
 },
 "nbformat": 4,
 "nbformat_minor": 4
}
