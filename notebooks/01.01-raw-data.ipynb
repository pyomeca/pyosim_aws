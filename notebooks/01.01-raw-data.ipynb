{
 "cells": [
  {
   "cell_type": "markdown",
   "metadata": {},
   "source": [
    "<!--BOOK_INFORMATION-->\n",
    "<img style=\"float: right; width: 100px\" src=\"https://raw.github.com/pyomeca/design/master/logo/logo_cropped.svg?sanitize=true\">\n",
    "\n",
    "# Pyosim in the cloud\n",
    "## with [pyomeca](https://github.com/pyomeca/pyomeca)\n",
    "Romain Martinez (martinez.staps@gmail.com | [GitHub](https://github.com/romainmartinez))\n"
   ]
  },
  {
   "cell_type": "markdown",
   "metadata": {},
   "source": [
    "<!--NAVIGATION-->\n",
    "< [Verification](01.00-verification.ipynb) | [Contents](Index.ipynb) | [Inverse kinematics](01.02-inverse-kinematics.ipynb) >"
   ]
  },
  {
   "cell_type": "markdown",
   "metadata": {},
   "source": [
    "# Raw data\n",
    "\n",
    "We want at least:\n",
    "\n",
    "- 50% men; 50% women\n",
    "- weight"
   ]
  },
  {
   "cell_type": "code",
   "execution_count": 1,
   "metadata": {},
   "outputs": [],
   "source": [
    "from pathlib import Path\n",
    "import pandas as pd\n",
    "import altair as alt"
   ]
  },
  {
   "cell_type": "code",
   "execution_count": 2,
   "metadata": {},
   "outputs": [],
   "source": [
    "PROJECT = Path(\"/home/romain/Downloads/irsst/\")\n",
    "MODEL = \"wu_\"\n",
    "EXT = \".mot\""
   ]
  },
  {
   "cell_type": "code",
   "execution_count": 3,
   "metadata": {},
   "outputs": [],
   "source": [
    "def parse_conditions(df):\n",
    "    x = df.copy()\n",
    "    x[\"trial\"] = x[\"trial\"].str.replace(MODEL, \"\").str.replace(EXT, \"\")\n",
    "    x[\"participant\"] = x[\"trial\"].str[:4].str.lower()\n",
    "    x[\"sex\"] = x[\"trial\"].str[4].replace({\"F\": \"W\", \"H\": \"M\"})\n",
    "    x[\"height\"] = x[\"trial\"].str[-3]\n",
    "    x[\"weight\"] = x[\"trial\"].str[5:].str.split(\"H\").str[0]\n",
    "    x[\"n_trial\"] = x[\"trial\"].str[-1]\n",
    "    return x"
   ]
  },
  {
   "cell_type": "code",
   "execution_count": 4,
   "metadata": {},
   "outputs": [],
   "source": [
    "verif = (\n",
    "    pd.read_csv(PROJECT / \"verification.csv\", index_col=[0])\n",
    "    .pipe(parse_conditions)\n",
    "    .assign(tag=lambda x: x[\"tag\"].replace({1: \"good\", 2: \"medium\", 3: \"bad\"}))\n",
    ")"
   ]
  },
  {
   "cell_type": "code",
   "execution_count": 5,
   "metadata": {},
   "outputs": [
    {
     "data": {
      "text/html": [
       "<div>\n",
       "<style scoped>\n",
       "    .dataframe tbody tr th:only-of-type {\n",
       "        vertical-align: middle;\n",
       "    }\n",
       "\n",
       "    .dataframe tbody tr th {\n",
       "        vertical-align: top;\n",
       "    }\n",
       "\n",
       "    .dataframe thead th {\n",
       "        text-align: right;\n",
       "    }\n",
       "</style>\n",
       "<table border=\"1\" class=\"dataframe\">\n",
       "  <thead>\n",
       "    <tr style=\"text-align: right;\">\n",
       "      <th></th>\n",
       "      <th>filename</th>\n",
       "      <th>trial</th>\n",
       "      <th>tag</th>\n",
       "      <th>note</th>\n",
       "      <th>participant</th>\n",
       "      <th>sex</th>\n",
       "      <th>height</th>\n",
       "      <th>weight</th>\n",
       "      <th>n_trial</th>\n",
       "    </tr>\n",
       "  </thead>\n",
       "  <tbody>\n",
       "    <tr>\n",
       "      <th>0</th>\n",
       "      <td>/home/romain/Downloads/irsst/verc/1_inverse_ki...</td>\n",
       "      <td>VerCF6H2_2</td>\n",
       "      <td>good</td>\n",
       "      <td>NaN</td>\n",
       "      <td>verc</td>\n",
       "      <td>W</td>\n",
       "      <td>2</td>\n",
       "      <td>6</td>\n",
       "      <td>2</td>\n",
       "    </tr>\n",
       "    <tr>\n",
       "      <th>1</th>\n",
       "      <td>/home/romain/Downloads/irsst/verc/1_inverse_ki...</td>\n",
       "      <td>VerCF12H2_3</td>\n",
       "      <td>good</td>\n",
       "      <td>NaN</td>\n",
       "      <td>verc</td>\n",
       "      <td>W</td>\n",
       "      <td>2</td>\n",
       "      <td>12</td>\n",
       "      <td>3</td>\n",
       "    </tr>\n",
       "    <tr>\n",
       "      <th>2</th>\n",
       "      <td>/home/romain/Downloads/irsst/verc/1_inverse_ki...</td>\n",
       "      <td>VerCF6H2_1</td>\n",
       "      <td>good</td>\n",
       "      <td>NaN</td>\n",
       "      <td>verc</td>\n",
       "      <td>W</td>\n",
       "      <td>2</td>\n",
       "      <td>6</td>\n",
       "      <td>1</td>\n",
       "    </tr>\n",
       "    <tr>\n",
       "      <th>3</th>\n",
       "      <td>/home/romain/Downloads/irsst/verc/1_inverse_ki...</td>\n",
       "      <td>VerCF12H2_2</td>\n",
       "      <td>good</td>\n",
       "      <td>NaN</td>\n",
       "      <td>verc</td>\n",
       "      <td>W</td>\n",
       "      <td>2</td>\n",
       "      <td>12</td>\n",
       "      <td>2</td>\n",
       "    </tr>\n",
       "    <tr>\n",
       "      <th>4</th>\n",
       "      <td>/home/romain/Downloads/irsst/verc/1_inverse_ki...</td>\n",
       "      <td>VerCF6H2_3</td>\n",
       "      <td>good</td>\n",
       "      <td>NaN</td>\n",
       "      <td>verc</td>\n",
       "      <td>W</td>\n",
       "      <td>2</td>\n",
       "      <td>6</td>\n",
       "      <td>3</td>\n",
       "    </tr>\n",
       "  </tbody>\n",
       "</table>\n",
       "</div>"
      ],
      "text/plain": [
       "                                            filename        trial   tag  note  \\\n",
       "0  /home/romain/Downloads/irsst/verc/1_inverse_ki...   VerCF6H2_2  good   NaN   \n",
       "1  /home/romain/Downloads/irsst/verc/1_inverse_ki...  VerCF12H2_3  good   NaN   \n",
       "2  /home/romain/Downloads/irsst/verc/1_inverse_ki...   VerCF6H2_1  good   NaN   \n",
       "3  /home/romain/Downloads/irsst/verc/1_inverse_ki...  VerCF12H2_2  good   NaN   \n",
       "4  /home/romain/Downloads/irsst/verc/1_inverse_ki...   VerCF6H2_3  good   NaN   \n",
       "\n",
       "  participant sex height weight n_trial  \n",
       "0        verc   W      2      6       2  \n",
       "1        verc   W      2     12       3  \n",
       "2        verc   W      2      6       1  \n",
       "3        verc   W      2     12       2  \n",
       "4        verc   W      2      6       3  "
      ]
     },
     "execution_count": 5,
     "metadata": {},
     "output_type": "execute_result"
    }
   ],
   "source": [
    "verif.head()"
   ]
  },
  {
   "cell_type": "code",
   "execution_count": 6,
   "metadata": {},
   "outputs": [
    {
     "data": {
      "text/plain": [
       "tag\n",
       "bad      24\n",
       "good    279\n",
       "dtype: int64"
      ]
     },
     "execution_count": 6,
     "metadata": {},
     "output_type": "execute_result"
    }
   ],
   "source": [
    "verif.groupby('tag').size()"
   ]
  },
  {
   "cell_type": "code",
   "execution_count": 7,
   "metadata": {},
   "outputs": [
    {
     "data": {
      "text/plain": [
       "sex\n",
       "M    62.0\n",
       "W    38.0\n",
       "dtype: float64"
      ]
     },
     "execution_count": 7,
     "metadata": {},
     "output_type": "execute_result"
    }
   ],
   "source": [
    "(verif.groupby('sex').size() / verif.shape[0] * 100).round()"
   ]
  },
  {
   "cell_type": "code",
   "execution_count": 8,
   "metadata": {},
   "outputs": [
    {
     "data": {
      "text/html": [
       "<div>\n",
       "<style scoped>\n",
       "    .dataframe tbody tr th:only-of-type {\n",
       "        vertical-align: middle;\n",
       "    }\n",
       "\n",
       "    .dataframe tbody tr th {\n",
       "        vertical-align: top;\n",
       "    }\n",
       "\n",
       "    .dataframe thead th {\n",
       "        text-align: right;\n",
       "    }\n",
       "</style>\n",
       "<table border=\"1\" class=\"dataframe\">\n",
       "  <thead>\n",
       "    <tr style=\"text-align: right;\">\n",
       "      <th></th>\n",
       "      <th>tag</th>\n",
       "      <th>weight</th>\n",
       "      <th>sex</th>\n",
       "      <th>n</th>\n",
       "    </tr>\n",
       "  </thead>\n",
       "  <tbody>\n",
       "    <tr>\n",
       "      <th>0</th>\n",
       "      <td>bad</td>\n",
       "      <td>12</td>\n",
       "      <td>M</td>\n",
       "      <td>3</td>\n",
       "    </tr>\n",
       "    <tr>\n",
       "      <th>1</th>\n",
       "      <td>bad</td>\n",
       "      <td>12</td>\n",
       "      <td>W</td>\n",
       "      <td>5</td>\n",
       "    </tr>\n",
       "    <tr>\n",
       "      <th>2</th>\n",
       "      <td>bad</td>\n",
       "      <td>18</td>\n",
       "      <td>M</td>\n",
       "      <td>12</td>\n",
       "    </tr>\n",
       "    <tr>\n",
       "      <th>3</th>\n",
       "      <td>bad</td>\n",
       "      <td>6</td>\n",
       "      <td>M</td>\n",
       "      <td>1</td>\n",
       "    </tr>\n",
       "    <tr>\n",
       "      <th>4</th>\n",
       "      <td>bad</td>\n",
       "      <td>6</td>\n",
       "      <td>W</td>\n",
       "      <td>3</td>\n",
       "    </tr>\n",
       "  </tbody>\n",
       "</table>\n",
       "</div>"
      ],
      "text/plain": [
       "   tag weight sex   n\n",
       "0  bad     12   M   3\n",
       "1  bad     12   W   5\n",
       "2  bad     18   M  12\n",
       "3  bad      6   M   1\n",
       "4  bad      6   W   3"
      ]
     },
     "execution_count": 8,
     "metadata": {},
     "output_type": "execute_result"
    }
   ],
   "source": [
    "size = verif.groupby([\"tag\", \"weight\", \"sex\"]).size().rename('n').reset_index()\n",
    "size.head()"
   ]
  },
  {
   "cell_type": "code",
   "execution_count": 10,
   "metadata": {},
   "outputs": [],
   "source": [
    "import plotly_express as px"
   ]
  },
  {
   "cell_type": "code",
   "execution_count": 48,
   "metadata": {},
   "outputs": [
    {
     "data": {
      "application/vnd.plotly.v1+json": {
       "config": {
        "linkText": "Export to plot.ly",
        "plotlyServerURL": "https://plot.ly",
        "showLink": false
       },
       "data": [
        {
         "alignmentgroup": "True",
         "hovertemplate": "weight=6<br>sex=M<br>tag=%{x}<br>n=%{y}<br>n=%{text}<extra></extra>",
         "legendgroup": "",
         "marker": {
          "color": "#636efa"
         },
         "name": " ",
         "offsetgroup": "",
         "orientation": "v",
         "showlegend": false,
         "text": [
          1,
          62
         ],
         "textposition": "auto",
         "type": "bar",
         "uid": "3f57a639-094e-4c94-b8c4-c179ebae91e0",
         "x": [
          "bad",
          "good"
         ],
         "xaxis": "x",
         "y": [
          1,
          62
         ],
         "yaxis": "y"
        },
        {
         "alignmentgroup": "True",
         "hovertemplate": "weight=6<br>sex=W<br>tag=%{x}<br>n=%{y}<br>n=%{text}<extra></extra>",
         "legendgroup": "",
         "marker": {
          "color": "#636efa"
         },
         "name": " ",
         "offsetgroup": "",
         "orientation": "v",
         "showlegend": false,
         "text": [
          3,
          54
         ],
         "textposition": "auto",
         "type": "bar",
         "uid": "1c5138a0-23cb-49dc-bbf2-9d976d5bca91",
         "x": [
          "bad",
          "good"
         ],
         "xaxis": "x2",
         "y": [
          3,
          54
         ],
         "yaxis": "y"
        },
        {
         "alignmentgroup": "True",
         "hovertemplate": "weight=12<br>sex=M<br>tag=%{x}<br>n=%{y}<br>n=%{text}<extra></extra>",
         "legendgroup": "",
         "marker": {
          "color": "#636efa"
         },
         "name": " ",
         "offsetgroup": "",
         "orientation": "v",
         "showlegend": false,
         "text": [
          3,
          60
         ],
         "textposition": "auto",
         "type": "bar",
         "uid": "4b23033b-2438-4094-bcac-767474f19c84",
         "x": [
          "bad",
          "good"
         ],
         "xaxis": "x",
         "y": [
          3,
          60
         ],
         "yaxis": "y2"
        },
        {
         "alignmentgroup": "True",
         "hovertemplate": "weight=12<br>sex=W<br>tag=%{x}<br>n=%{y}<br>n=%{text}<extra></extra>",
         "legendgroup": "",
         "marker": {
          "color": "#636efa"
         },
         "name": " ",
         "offsetgroup": "",
         "orientation": "v",
         "showlegend": false,
         "text": [
          5,
          52
         ],
         "textposition": "auto",
         "type": "bar",
         "uid": "ee4f0a3e-569e-429b-b3fa-864a4cc84970",
         "x": [
          "bad",
          "good"
         ],
         "xaxis": "x2",
         "y": [
          5,
          52
         ],
         "yaxis": "y2"
        },
        {
         "alignmentgroup": "True",
         "hovertemplate": "weight=18<br>sex=M<br>tag=%{x}<br>n=%{y}<br>n=%{text}<extra></extra>",
         "legendgroup": "",
         "marker": {
          "color": "#636efa"
         },
         "name": " ",
         "offsetgroup": "",
         "orientation": "v",
         "showlegend": false,
         "text": [
          12,
          51
         ],
         "textposition": "auto",
         "type": "bar",
         "uid": "8721f6b0-22f6-4847-82f6-6b0f75e4a20b",
         "x": [
          "bad",
          "good"
         ],
         "xaxis": "x",
         "y": [
          12,
          51
         ],
         "yaxis": "y3"
        }
       ],
       "layout": {
        "annotations": [
         {
          "showarrow": false,
          "text": "sex=M",
          "textangle": 0,
          "x": 0.23684210526315788,
          "xanchor": "center",
          "xref": "paper",
          "y": 1.02,
          "yanchor": "middle",
          "yref": "paper"
         },
         {
          "showarrow": false,
          "text": "sex=W",
          "textangle": 0,
          "x": 0.763157894736842,
          "xanchor": "center",
          "xref": "paper",
          "y": 1.02,
          "yanchor": "middle",
          "yref": "paper"
         },
         {
          "showarrow": false,
          "text": "weight=6",
          "textangle": 90,
          "x": 1.01,
          "xanchor": "center",
          "xref": "paper",
          "y": 0.8448275862068967,
          "yanchor": "middle",
          "yref": "paper"
         },
         {
          "showarrow": false,
          "text": "weight=12",
          "textangle": 90,
          "x": 1.01,
          "xanchor": "center",
          "xref": "paper",
          "y": 0.5,
          "yanchor": "middle",
          "yref": "paper"
         },
         {
          "showarrow": false,
          "text": "weight=18",
          "textangle": 90,
          "x": 1.01,
          "xanchor": "center",
          "xref": "paper",
          "y": 0.15517241379310345,
          "yanchor": "middle",
          "yref": "paper"
         }
        ],
        "barmode": "relative",
        "grid": {
         "xaxes": [
          "x",
          "x2"
         ],
         "xgap": 0.1,
         "xside": "bottom",
         "yaxes": [
          "y",
          "y2",
          "y3"
         ],
         "ygap": 0.1,
         "yside": "left"
        },
        "height": 600,
        "legend": {
         "tracegroupgap": 0
        },
        "margin": {
         "t": 60
        },
        "template": {
         "data": {
          "bar": [
           {
            "marker": {
             "line": {
              "color": "white",
              "width": 0.5
             }
            },
            "type": "bar"
           }
          ],
          "barpolar": [
           {
            "marker": {
             "line": {
              "color": "white",
              "width": 0.5
             }
            },
            "type": "barpolar"
           }
          ],
          "carpet": [
           {
            "aaxis": {
             "endlinecolor": "#2a3f5f",
             "gridcolor": "#C8D4E3",
             "linecolor": "#C8D4E3",
             "minorgridcolor": "#C8D4E3",
             "startlinecolor": "#2a3f5f"
            },
            "baxis": {
             "endlinecolor": "#2a3f5f",
             "gridcolor": "#C8D4E3",
             "linecolor": "#C8D4E3",
             "minorgridcolor": "#C8D4E3",
             "startlinecolor": "#2a3f5f"
            },
            "type": "carpet"
           }
          ],
          "choropleth": [
           {
            "colorbar": {
             "outlinewidth": 0,
             "ticks": ""
            },
            "type": "choropleth"
           }
          ],
          "contour": [
           {
            "autocolorscale": true,
            "colorbar": {
             "outlinewidth": 0,
             "ticks": ""
            },
            "type": "contour"
           }
          ],
          "contourcarpet": [
           {
            "colorbar": {
             "outlinewidth": 0,
             "ticks": ""
            },
            "type": "contourcarpet"
           }
          ],
          "heatmap": [
           {
            "autocolorscale": true,
            "colorbar": {
             "outlinewidth": 0,
             "ticks": ""
            },
            "type": "heatmap"
           }
          ],
          "heatmapgl": [
           {
            "colorbar": {
             "outlinewidth": 0,
             "ticks": ""
            },
            "type": "heatmapgl"
           }
          ],
          "histogram": [
           {
            "marker": {
             "colorbar": {
              "outlinewidth": 0,
              "ticks": ""
             }
            },
            "type": "histogram"
           }
          ],
          "histogram2d": [
           {
            "autocolorscale": true,
            "colorbar": {
             "outlinewidth": 0,
             "ticks": ""
            },
            "type": "histogram2d"
           }
          ],
          "histogram2dcontour": [
           {
            "autocolorscale": true,
            "colorbar": {
             "outlinewidth": 0,
             "ticks": ""
            },
            "type": "histogram2dcontour"
           }
          ],
          "mesh3d": [
           {
            "colorbar": {
             "outlinewidth": 0,
             "ticks": ""
            },
            "type": "mesh3d"
           }
          ],
          "parcoords": [
           {
            "line": {
             "colorbar": {
              "outlinewidth": 0,
              "ticks": ""
             }
            },
            "type": "parcoords"
           }
          ],
          "scatter": [
           {
            "marker": {
             "colorbar": {
              "outlinewidth": 0,
              "ticks": ""
             }
            },
            "type": "scatter"
           }
          ],
          "scatter3d": [
           {
            "marker": {
             "colorbar": {
              "outlinewidth": 0,
              "ticks": ""
             }
            },
            "type": "scatter3d"
           }
          ],
          "scattercarpet": [
           {
            "marker": {
             "colorbar": {
              "outlinewidth": 0,
              "ticks": ""
             }
            },
            "type": "scattercarpet"
           }
          ],
          "scattergeo": [
           {
            "marker": {
             "colorbar": {
              "outlinewidth": 0,
              "ticks": ""
             }
            },
            "type": "scattergeo"
           }
          ],
          "scattergl": [
           {
            "marker": {
             "colorbar": {
              "outlinewidth": 0,
              "ticks": ""
             }
            },
            "type": "scattergl"
           }
          ],
          "scattermapbox": [
           {
            "marker": {
             "colorbar": {
              "outlinewidth": 0,
              "ticks": ""
             }
            },
            "type": "scattermapbox"
           }
          ],
          "scatterpolar": [
           {
            "marker": {
             "colorbar": {
              "outlinewidth": 0,
              "ticks": ""
             }
            },
            "type": "scatterpolar"
           }
          ],
          "scatterpolargl": [
           {
            "marker": {
             "colorbar": {
              "outlinewidth": 0,
              "ticks": ""
             }
            },
            "type": "scatterpolargl"
           }
          ],
          "scatterternary": [
           {
            "marker": {
             "colorbar": {
              "outlinewidth": 0,
              "ticks": ""
             }
            },
            "type": "scatterternary"
           }
          ],
          "surface": [
           {
            "colorbar": {
             "outlinewidth": 0,
             "ticks": ""
            },
            "type": "surface"
           }
          ],
          "table": [
           {
            "cells": {
             "fill": {
              "color": "#EBF0F8"
             },
             "line": {
              "color": "white"
             }
            },
            "header": {
             "fill": {
              "color": "#C8D4E3"
             },
             "line": {
              "color": "white"
             }
            },
            "type": "table"
           }
          ]
         },
         "layout": {
          "annotationdefaults": {
           "arrowcolor": "#506784",
           "arrowhead": 0,
           "arrowwidth": 1
          },
          "colorscale": {
           "diverging": [
            [
             0,
             "#8e0152"
            ],
            [
             0.1,
             "#c51b7d"
            ],
            [
             0.2,
             "#de77ae"
            ],
            [
             0.3,
             "#f1b6da"
            ],
            [
             0.4,
             "#fde0ef"
            ],
            [
             0.5,
             "#f7f7f7"
            ],
            [
             0.6,
             "#e6f5d0"
            ],
            [
             0.7,
             "#b8e186"
            ],
            [
             0.8,
             "#7fbc41"
            ],
            [
             0.9,
             "#4d9221"
            ],
            [
             1,
             "#276419"
            ]
           ],
           "sequential": [
            [
             0,
             "#0508b8"
            ],
            [
             0.0893854748603352,
             "#1910d8"
            ],
            [
             0.1787709497206704,
             "#3c19f0"
            ],
            [
             0.2681564245810056,
             "#6b1cfb"
            ],
            [
             0.3575418994413408,
             "#981cfd"
            ],
            [
             0.44692737430167595,
             "#bf1cfd"
            ],
            [
             0.5363128491620112,
             "#dd2bfd"
            ],
            [
             0.6256983240223464,
             "#f246fe"
            ],
            [
             0.7150837988826816,
             "#fc67fd"
            ],
            [
             0.8044692737430168,
             "#fe88fc"
            ],
            [
             0.8938547486033519,
             "#fea5fd"
            ],
            [
             0.9832402234636871,
             "#febefe"
            ],
            [
             1,
             "#fec3fe"
            ]
           ],
           "sequentialminus": [
            [
             0,
             "#0508b8"
            ],
            [
             0.0893854748603352,
             "#1910d8"
            ],
            [
             0.1787709497206704,
             "#3c19f0"
            ],
            [
             0.2681564245810056,
             "#6b1cfb"
            ],
            [
             0.3575418994413408,
             "#981cfd"
            ],
            [
             0.44692737430167595,
             "#bf1cfd"
            ],
            [
             0.5363128491620112,
             "#dd2bfd"
            ],
            [
             0.6256983240223464,
             "#f246fe"
            ],
            [
             0.7150837988826816,
             "#fc67fd"
            ],
            [
             0.8044692737430168,
             "#fe88fc"
            ],
            [
             0.8938547486033519,
             "#fea5fd"
            ],
            [
             0.9832402234636871,
             "#febefe"
            ],
            [
             1,
             "#fec3fe"
            ]
           ]
          },
          "colorway": [
           "#636efa",
           "#EF553B",
           "#00cc96",
           "#ab63fa",
           "#19d3f3",
           "#e763fa",
           "#FECB52",
           "#FFA15A",
           "#FF6692",
           "#B6E880"
          ],
          "font": {
           "color": "#2a3f5f"
          },
          "geo": {
           "bgcolor": "white",
           "lakecolor": "white",
           "landcolor": "white",
           "showlakes": true,
           "showland": true,
           "subunitcolor": "#C8D4E3"
          },
          "hovermode": "closest",
          "mapbox": {
           "style": "light"
          },
          "paper_bgcolor": "white",
          "plot_bgcolor": "white",
          "polar": {
           "angularaxis": {
            "gridcolor": "#EBF0F8",
            "linecolor": "#EBF0F8",
            "ticks": ""
           },
           "bgcolor": "white",
           "radialaxis": {
            "gridcolor": "#EBF0F8",
            "linecolor": "#EBF0F8",
            "ticks": ""
           }
          },
          "scene": {
           "xaxis": {
            "backgroundcolor": "white",
            "gridcolor": "#DFE8F3",
            "gridwidth": 2,
            "linecolor": "#EBF0F8",
            "showbackground": true,
            "ticks": "",
            "zerolinecolor": "#EBF0F8"
           },
           "yaxis": {
            "backgroundcolor": "white",
            "gridcolor": "#DFE8F3",
            "gridwidth": 2,
            "linecolor": "#EBF0F8",
            "showbackground": true,
            "ticks": "",
            "zerolinecolor": "#EBF0F8"
           },
           "zaxis": {
            "backgroundcolor": "white",
            "gridcolor": "#DFE8F3",
            "gridwidth": 2,
            "linecolor": "#EBF0F8",
            "showbackground": true,
            "ticks": "",
            "zerolinecolor": "#EBF0F8"
           }
          },
          "shapedefaults": {
           "fillcolor": "#506784",
           "line": {
            "width": 0
           },
           "opacity": 0.4
          },
          "ternary": {
           "aaxis": {
            "gridcolor": "#DFE8F3",
            "linecolor": "#A2B1C6",
            "ticks": ""
           },
           "baxis": {
            "gridcolor": "#DFE8F3",
            "linecolor": "#A2B1C6",
            "ticks": ""
           },
           "bgcolor": "white",
           "caxis": {
            "gridcolor": "#DFE8F3",
            "linecolor": "#A2B1C6",
            "ticks": ""
           }
          },
          "title": {
           "x": 0.05
          },
          "xaxis": {
           "automargin": true,
           "gridcolor": "#EBF0F8",
           "linecolor": "#EBF0F8",
           "ticks": "",
           "zerolinecolor": "#EBF0F8",
           "zerolinewidth": 2
          },
          "yaxis": {
           "automargin": true,
           "gridcolor": "#EBF0F8",
           "linecolor": "#EBF0F8",
           "ticks": "",
           "zerolinecolor": "#EBF0F8",
           "zerolinewidth": 2
          }
         }
        },
        "width": 500,
        "xaxis": {
         "autorange": true,
         "categoryarray": [
          "good",
          "bad"
         ],
         "categoryorder": "array",
         "range": [
          -0.5,
          1.5
         ],
         "title": {
          "text": "tag"
         },
         "type": "category"
        },
        "xaxis2": {
         "autorange": true,
         "matches": "x",
         "range": [
          -0.5,
          1.5
         ],
         "title": {
          "text": "tag"
         },
         "type": "category"
        },
        "yaxis": {
         "autorange": true,
         "range": [
          0,
          65.26315789473685
         ],
         "title": {
          "text": "n"
         },
         "type": "linear"
        },
        "yaxis2": {
         "autorange": true,
         "matches": "y",
         "range": [
          0,
          65.26315789473685
         ],
         "title": {
          "text": "n"
         },
         "type": "linear"
        },
        "yaxis3": {
         "autorange": true,
         "matches": "y",
         "range": [
          0,
          65.26315789473685
         ],
         "title": {
          "text": "n"
         },
         "type": "linear"
        }
       }
      },
      "image/png": "[encoded data removed]",
      "text/html": [
       "<div id=\"aa154ae8-a287-4d32-84c3-50e10390a6c6\" style=\"height: 600px; width: 500px;\" class=\"plotly-graph-div\"></div><script type=\"text/javascript\">require([\"plotly\"], function(Plotly) { window.PLOTLYENV=window.PLOTLYENV || {};window.PLOTLYENV.BASE_URL=\"https://plot.ly\";\n",
       "if (document.getElementById(\"aa154ae8-a287-4d32-84c3-50e10390a6c6\")) {\n",
       "    Plotly.newPlot(\"aa154ae8-a287-4d32-84c3-50e10390a6c6\", [{\"alignmentgroup\": \"True\", \"hovertemplate\": \"weight=6<br>sex=M<br>tag=%{x}<br>n=%{y}<br>n=%{text}<extra></extra>\", \"legendgroup\": \"\", \"marker\": {\"color\": \"#636efa\"}, \"name\": \" \", \"offsetgroup\": \"\", \"orientation\": \"v\", \"showlegend\": false, \"text\": [1.0, 62.0], \"textposition\": \"auto\", \"x\": [\"bad\", \"good\"], \"xaxis\": \"x\", \"y\": [1, 62], \"yaxis\": \"y\", \"type\": \"bar\", \"uid\": \"3f57a639-094e-4c94-b8c4-c179ebae91e0\"}, {\"alignmentgroup\": \"True\", \"hovertemplate\": \"weight=6<br>sex=W<br>tag=%{x}<br>n=%{y}<br>n=%{text}<extra></extra>\", \"legendgroup\": \"\", \"marker\": {\"color\": \"#636efa\"}, \"name\": \" \", \"offsetgroup\": \"\", \"orientation\": \"v\", \"showlegend\": false, \"text\": [3.0, 54.0], \"textposition\": \"auto\", \"x\": [\"bad\", \"good\"], \"xaxis\": \"x2\", \"y\": [3, 54], \"yaxis\": \"y\", \"type\": \"bar\", \"uid\": \"1c5138a0-23cb-49dc-bbf2-9d976d5bca91\"}, {\"alignmentgroup\": \"True\", \"hovertemplate\": \"weight=12<br>sex=M<br>tag=%{x}<br>n=%{y}<br>n=%{text}<extra></extra>\", \"legendgroup\": \"\", \"marker\": {\"color\": \"#636efa\"}, \"name\": \" \", \"offsetgroup\": \"\", \"orientation\": \"v\", \"showlegend\": false, \"text\": [3.0, 60.0], \"textposition\": \"auto\", \"x\": [\"bad\", \"good\"], \"xaxis\": \"x\", \"y\": [3, 60], \"yaxis\": \"y2\", \"type\": \"bar\", \"uid\": \"4b23033b-2438-4094-bcac-767474f19c84\"}, {\"alignmentgroup\": \"True\", \"hovertemplate\": \"weight=12<br>sex=W<br>tag=%{x}<br>n=%{y}<br>n=%{text}<extra></extra>\", \"legendgroup\": \"\", \"marker\": {\"color\": \"#636efa\"}, \"name\": \" \", \"offsetgroup\": \"\", \"orientation\": \"v\", \"showlegend\": false, \"text\": [5.0, 52.0], \"textposition\": \"auto\", \"x\": [\"bad\", \"good\"], \"xaxis\": \"x2\", \"y\": [5, 52], \"yaxis\": \"y2\", \"type\": \"bar\", \"uid\": \"ee4f0a3e-569e-429b-b3fa-864a4cc84970\"}, {\"alignmentgroup\": \"True\", \"hovertemplate\": \"weight=18<br>sex=M<br>tag=%{x}<br>n=%{y}<br>n=%{text}<extra></extra>\", \"legendgroup\": \"\", \"marker\": {\"color\": \"#636efa\"}, \"name\": \" \", \"offsetgroup\": \"\", \"orientation\": \"v\", \"showlegend\": false, \"text\": [12.0, 51.0], \"textposition\": \"auto\", \"x\": [\"bad\", \"good\"], \"xaxis\": \"x\", \"y\": [12, 51], \"yaxis\": \"y3\", \"type\": \"bar\", \"uid\": \"8721f6b0-22f6-4847-82f6-6b0f75e4a20b\"}], {\"barmode\": \"relative\", \"height\": 600, \"legend\": {\"tracegroupgap\": 0}, \"margin\": {\"t\": 60}, \"template\": {\"data\": {\"barpolar\": [{\"marker\": {\"line\": {\"color\": \"white\", \"width\": 0.5}}, \"type\": \"barpolar\"}], \"bar\": [{\"marker\": {\"line\": {\"color\": \"white\", \"width\": 0.5}}, \"type\": \"bar\"}], \"carpet\": [{\"aaxis\": {\"endlinecolor\": \"#2a3f5f\", \"gridcolor\": \"#C8D4E3\", \"linecolor\": \"#C8D4E3\", \"minorgridcolor\": \"#C8D4E3\", \"startlinecolor\": \"#2a3f5f\"}, \"baxis\": {\"endlinecolor\": \"#2a3f5f\", \"gridcolor\": \"#C8D4E3\", \"linecolor\": \"#C8D4E3\", \"minorgridcolor\": \"#C8D4E3\", \"startlinecolor\": \"#2a3f5f\"}, \"type\": \"carpet\"}], \"choropleth\": [{\"colorbar\": {\"outlinewidth\": 0, \"ticks\": \"\"}, \"type\": \"choropleth\"}], \"contourcarpet\": [{\"colorbar\": {\"outlinewidth\": 0, \"ticks\": \"\"}, \"type\": \"contourcarpet\"}], \"contour\": [{\"autocolorscale\": true, \"colorbar\": {\"outlinewidth\": 0, \"ticks\": \"\"}, \"type\": \"contour\"}], \"heatmapgl\": [{\"colorbar\": {\"outlinewidth\": 0, \"ticks\": \"\"}, \"type\": \"heatmapgl\"}], \"heatmap\": [{\"autocolorscale\": true, \"colorbar\": {\"outlinewidth\": 0, \"ticks\": \"\"}, \"type\": \"heatmap\"}], \"histogram2dcontour\": [{\"autocolorscale\": true, \"colorbar\": {\"outlinewidth\": 0, \"ticks\": \"\"}, \"type\": \"histogram2dcontour\"}], \"histogram2d\": [{\"autocolorscale\": true, \"colorbar\": {\"outlinewidth\": 0, \"ticks\": \"\"}, \"type\": \"histogram2d\"}], \"histogram\": [{\"marker\": {\"colorbar\": {\"outlinewidth\": 0, \"ticks\": \"\"}}, \"type\": \"histogram\"}], \"mesh3d\": [{\"colorbar\": {\"outlinewidth\": 0, \"ticks\": \"\"}, \"type\": \"mesh3d\"}], \"parcoords\": [{\"line\": {\"colorbar\": {\"outlinewidth\": 0, \"ticks\": \"\"}}, \"type\": \"parcoords\"}], \"scatter3d\": [{\"marker\": {\"colorbar\": {\"outlinewidth\": 0, \"ticks\": \"\"}}, \"type\": \"scatter3d\"}], \"scattercarpet\": [{\"marker\": {\"colorbar\": {\"outlinewidth\": 0, \"ticks\": \"\"}}, \"type\": \"scattercarpet\"}], \"scattergeo\": [{\"marker\": {\"colorbar\": {\"outlinewidth\": 0, \"ticks\": \"\"}}, \"type\": \"scattergeo\"}], \"scattergl\": [{\"marker\": {\"colorbar\": {\"outlinewidth\": 0, \"ticks\": \"\"}}, \"type\": \"scattergl\"}], \"scattermapbox\": [{\"marker\": {\"colorbar\": {\"outlinewidth\": 0, \"ticks\": \"\"}}, \"type\": \"scattermapbox\"}], \"scatterpolargl\": [{\"marker\": {\"colorbar\": {\"outlinewidth\": 0, \"ticks\": \"\"}}, \"type\": \"scatterpolargl\"}], \"scatterpolar\": [{\"marker\": {\"colorbar\": {\"outlinewidth\": 0, \"ticks\": \"\"}}, \"type\": \"scatterpolar\"}], \"scatter\": [{\"marker\": {\"colorbar\": {\"outlinewidth\": 0, \"ticks\": \"\"}}, \"type\": \"scatter\"}], \"scatterternary\": [{\"marker\": {\"colorbar\": {\"outlinewidth\": 0, \"ticks\": \"\"}}, \"type\": \"scatterternary\"}], \"surface\": [{\"colorbar\": {\"outlinewidth\": 0, \"ticks\": \"\"}, \"type\": \"surface\"}], \"table\": [{\"cells\": {\"fill\": {\"color\": \"#EBF0F8\"}, \"line\": {\"color\": \"white\"}}, \"header\": {\"fill\": {\"color\": \"#C8D4E3\"}, \"line\": {\"color\": \"white\"}}, \"type\": \"table\"}]}, \"layout\": {\"annotationdefaults\": {\"arrowcolor\": \"#506784\", \"arrowhead\": 0, \"arrowwidth\": 1}, \"colorscale\": {\"diverging\": [[0, \"#8e0152\"], [0.1, \"#c51b7d\"], [0.2, \"#de77ae\"], [0.3, \"#f1b6da\"], [0.4, \"#fde0ef\"], [0.5, \"#f7f7f7\"], [0.6, \"#e6f5d0\"], [0.7, \"#b8e186\"], [0.8, \"#7fbc41\"], [0.9, \"#4d9221\"], [1, \"#276419\"]], \"sequential\": [[0.0, \"#0508b8\"], [0.0893854748603352, \"#1910d8\"], [0.1787709497206704, \"#3c19f0\"], [0.2681564245810056, \"#6b1cfb\"], [0.3575418994413408, \"#981cfd\"], [0.44692737430167595, \"#bf1cfd\"], [0.5363128491620112, \"#dd2bfd\"], [0.6256983240223464, \"#f246fe\"], [0.7150837988826816, \"#fc67fd\"], [0.8044692737430168, \"#fe88fc\"], [0.8938547486033519, \"#fea5fd\"], [0.9832402234636871, \"#febefe\"], [1.0, \"#fec3fe\"]], \"sequentialminus\": [[0.0, \"#0508b8\"], [0.0893854748603352, \"#1910d8\"], [0.1787709497206704, \"#3c19f0\"], [0.2681564245810056, \"#6b1cfb\"], [0.3575418994413408, \"#981cfd\"], [0.44692737430167595, \"#bf1cfd\"], [0.5363128491620112, \"#dd2bfd\"], [0.6256983240223464, \"#f246fe\"], [0.7150837988826816, \"#fc67fd\"], [0.8044692737430168, \"#fe88fc\"], [0.8938547486033519, \"#fea5fd\"], [0.9832402234636871, \"#febefe\"], [1.0, \"#fec3fe\"]]}, \"colorway\": [\"#636efa\", \"#EF553B\", \"#00cc96\", \"#ab63fa\", \"#19d3f3\", \"#e763fa\", \"#FECB52\", \"#FFA15A\", \"#FF6692\", \"#B6E880\"], \"font\": {\"color\": \"#2a3f5f\"}, \"geo\": {\"bgcolor\": \"white\", \"lakecolor\": \"white\", \"landcolor\": \"white\", \"showlakes\": true, \"showland\": true, \"subunitcolor\": \"#C8D4E3\"}, \"hovermode\": \"closest\", \"mapbox\": {\"style\": \"light\"}, \"paper_bgcolor\": \"white\", \"plot_bgcolor\": \"white\", \"polar\": {\"angularaxis\": {\"gridcolor\": \"#EBF0F8\", \"linecolor\": \"#EBF0F8\", \"ticks\": \"\"}, \"bgcolor\": \"white\", \"radialaxis\": {\"gridcolor\": \"#EBF0F8\", \"linecolor\": \"#EBF0F8\", \"ticks\": \"\"}}, \"scene\": {\"xaxis\": {\"backgroundcolor\": \"white\", \"gridcolor\": \"#DFE8F3\", \"gridwidth\": 2, \"linecolor\": \"#EBF0F8\", \"showbackground\": true, \"ticks\": \"\", \"zerolinecolor\": \"#EBF0F8\"}, \"yaxis\": {\"backgroundcolor\": \"white\", \"gridcolor\": \"#DFE8F3\", \"gridwidth\": 2, \"linecolor\": \"#EBF0F8\", \"showbackground\": true, \"ticks\": \"\", \"zerolinecolor\": \"#EBF0F8\"}, \"zaxis\": {\"backgroundcolor\": \"white\", \"gridcolor\": \"#DFE8F3\", \"gridwidth\": 2, \"linecolor\": \"#EBF0F8\", \"showbackground\": true, \"ticks\": \"\", \"zerolinecolor\": \"#EBF0F8\"}}, \"shapedefaults\": {\"fillcolor\": \"#506784\", \"line\": {\"width\": 0}, \"opacity\": 0.4}, \"ternary\": {\"aaxis\": {\"gridcolor\": \"#DFE8F3\", \"linecolor\": \"#A2B1C6\", \"ticks\": \"\"}, \"baxis\": {\"gridcolor\": \"#DFE8F3\", \"linecolor\": \"#A2B1C6\", \"ticks\": \"\"}, \"bgcolor\": \"white\", \"caxis\": {\"gridcolor\": \"#DFE8F3\", \"linecolor\": \"#A2B1C6\", \"ticks\": \"\"}}, \"title\": {\"x\": 0.05}, \"xaxis\": {\"automargin\": true, \"gridcolor\": \"#EBF0F8\", \"linecolor\": \"#EBF0F8\", \"ticks\": \"\", \"zerolinecolor\": \"#EBF0F8\", \"zerolinewidth\": 2}, \"yaxis\": {\"automargin\": true, \"gridcolor\": \"#EBF0F8\", \"linecolor\": \"#EBF0F8\", \"ticks\": \"\", \"zerolinecolor\": \"#EBF0F8\", \"zerolinewidth\": 2}}}, \"width\": 500, \"grid\": {\"xaxes\": [\"x\", \"x2\"], \"yaxes\": [\"y\", \"y2\", \"y3\"], \"xgap\": 0.1, \"ygap\": 0.1, \"xside\": \"bottom\", \"yside\": \"left\"}, \"xaxis\": {\"title\": {\"text\": \"tag\"}, \"categoryorder\": \"array\", \"categoryarray\": [\"good\", \"bad\"]}, \"xaxis2\": {\"title\": {\"text\": \"tag\"}, \"matches\": \"x\"}, \"yaxis2\": {\"title\": {\"text\": \"n\"}, \"matches\": \"y\"}, \"yaxis3\": {\"title\": {\"text\": \"n\"}, \"matches\": \"y\"}, \"annotations\": [{\"showarrow\": false, \"text\": \"sex=M\", \"textangle\": 0, \"x\": 0.23684210526315788, \"xanchor\": \"center\", \"xref\": \"paper\", \"y\": 1.02, \"yanchor\": \"middle\", \"yref\": \"paper\"}, {\"showarrow\": false, \"text\": \"sex=W\", \"textangle\": 0, \"x\": 0.763157894736842, \"xanchor\": \"center\", \"xref\": \"paper\", \"y\": 1.02, \"yanchor\": \"middle\", \"yref\": \"paper\"}, {\"showarrow\": false, \"text\": \"weight=6\", \"textangle\": 90, \"x\": 1.01, \"xanchor\": \"center\", \"xref\": \"paper\", \"y\": 0.8448275862068967, \"yanchor\": \"middle\", \"yref\": \"paper\"}, {\"showarrow\": false, \"text\": \"weight=12\", \"textangle\": 90, \"x\": 1.01, \"xanchor\": \"center\", \"xref\": \"paper\", \"y\": 0.5, \"yanchor\": \"middle\", \"yref\": \"paper\"}, {\"showarrow\": false, \"text\": \"weight=18\", \"textangle\": 90, \"x\": 1.01, \"xanchor\": \"center\", \"xref\": \"paper\", \"y\": 0.15517241379310345, \"yanchor\": \"middle\", \"yref\": \"paper\"}], \"yaxis\": {\"title\": {\"text\": \"n\"}}}, {\"showLink\": false, \"linkText\": \"Export to plot.ly\", \"plotlyServerURL\": \"https://plot.ly\"}); \n",
       "}\n",
       "});</script>"
      ],
      "text/vnd.plotly.v1+html": [
       "<div id=\"aa154ae8-a287-4d32-84c3-50e10390a6c6\" style=\"height: 600px; width: 500px;\" class=\"plotly-graph-div\"></div><script type=\"text/javascript\">require([\"plotly\"], function(Plotly) { window.PLOTLYENV=window.PLOTLYENV || {};window.PLOTLYENV.BASE_URL=\"https://plot.ly\";\n",
       "if (document.getElementById(\"aa154ae8-a287-4d32-84c3-50e10390a6c6\")) {\n",
       "    Plotly.newPlot(\"aa154ae8-a287-4d32-84c3-50e10390a6c6\", [{\"alignmentgroup\": \"True\", \"hovertemplate\": \"weight=6<br>sex=M<br>tag=%{x}<br>n=%{y}<br>n=%{text}<extra></extra>\", \"legendgroup\": \"\", \"marker\": {\"color\": \"#636efa\"}, \"name\": \" \", \"offsetgroup\": \"\", \"orientation\": \"v\", \"showlegend\": false, \"text\": [1.0, 62.0], \"textposition\": \"auto\", \"x\": [\"bad\", \"good\"], \"xaxis\": \"x\", \"y\": [1, 62], \"yaxis\": \"y\", \"type\": \"bar\", \"uid\": \"3f57a639-094e-4c94-b8c4-c179ebae91e0\"}, {\"alignmentgroup\": \"True\", \"hovertemplate\": \"weight=6<br>sex=W<br>tag=%{x}<br>n=%{y}<br>n=%{text}<extra></extra>\", \"legendgroup\": \"\", \"marker\": {\"color\": \"#636efa\"}, \"name\": \" \", \"offsetgroup\": \"\", \"orientation\": \"v\", \"showlegend\": false, \"text\": [3.0, 54.0], \"textposition\": \"auto\", \"x\": [\"bad\", \"good\"], \"xaxis\": \"x2\", \"y\": [3, 54], \"yaxis\": \"y\", \"type\": \"bar\", \"uid\": \"1c5138a0-23cb-49dc-bbf2-9d976d5bca91\"}, {\"alignmentgroup\": \"True\", \"hovertemplate\": \"weight=12<br>sex=M<br>tag=%{x}<br>n=%{y}<br>n=%{text}<extra></extra>\", \"legendgroup\": \"\", \"marker\": {\"color\": \"#636efa\"}, \"name\": \" \", \"offsetgroup\": \"\", \"orientation\": \"v\", \"showlegend\": false, \"text\": [3.0, 60.0], \"textposition\": \"auto\", \"x\": [\"bad\", \"good\"], \"xaxis\": \"x\", \"y\": [3, 60], \"yaxis\": \"y2\", \"type\": \"bar\", \"uid\": \"4b23033b-2438-4094-bcac-767474f19c84\"}, {\"alignmentgroup\": \"True\", \"hovertemplate\": \"weight=12<br>sex=W<br>tag=%{x}<br>n=%{y}<br>n=%{text}<extra></extra>\", \"legendgroup\": \"\", \"marker\": {\"color\": \"#636efa\"}, \"name\": \" \", \"offsetgroup\": \"\", \"orientation\": \"v\", \"showlegend\": false, \"text\": [5.0, 52.0], \"textposition\": \"auto\", \"x\": [\"bad\", \"good\"], \"xaxis\": \"x2\", \"y\": [5, 52], \"yaxis\": \"y2\", \"type\": \"bar\", \"uid\": \"ee4f0a3e-569e-429b-b3fa-864a4cc84970\"}, {\"alignmentgroup\": \"True\", \"hovertemplate\": \"weight=18<br>sex=M<br>tag=%{x}<br>n=%{y}<br>n=%{text}<extra></extra>\", \"legendgroup\": \"\", \"marker\": {\"color\": \"#636efa\"}, \"name\": \" \", \"offsetgroup\": \"\", \"orientation\": \"v\", \"showlegend\": false, \"text\": [12.0, 51.0], \"textposition\": \"auto\", \"x\": [\"bad\", \"good\"], \"xaxis\": \"x\", \"y\": [12, 51], \"yaxis\": \"y3\", \"type\": \"bar\", \"uid\": \"8721f6b0-22f6-4847-82f6-6b0f75e4a20b\"}], {\"barmode\": \"relative\", \"height\": 600, \"legend\": {\"tracegroupgap\": 0}, \"margin\": {\"t\": 60}, \"template\": {\"data\": {\"barpolar\": [{\"marker\": {\"line\": {\"color\": \"white\", \"width\": 0.5}}, \"type\": \"barpolar\"}], \"bar\": [{\"marker\": {\"line\": {\"color\": \"white\", \"width\": 0.5}}, \"type\": \"bar\"}], \"carpet\": [{\"aaxis\": {\"endlinecolor\": \"#2a3f5f\", \"gridcolor\": \"#C8D4E3\", \"linecolor\": \"#C8D4E3\", \"minorgridcolor\": \"#C8D4E3\", \"startlinecolor\": \"#2a3f5f\"}, \"baxis\": {\"endlinecolor\": \"#2a3f5f\", \"gridcolor\": \"#C8D4E3\", \"linecolor\": \"#C8D4E3\", \"minorgridcolor\": \"#C8D4E3\", \"startlinecolor\": \"#2a3f5f\"}, \"type\": \"carpet\"}], \"choropleth\": [{\"colorbar\": {\"outlinewidth\": 0, \"ticks\": \"\"}, \"type\": \"choropleth\"}], \"contourcarpet\": [{\"colorbar\": {\"outlinewidth\": 0, \"ticks\": \"\"}, \"type\": \"contourcarpet\"}], \"contour\": [{\"autocolorscale\": true, \"colorbar\": {\"outlinewidth\": 0, \"ticks\": \"\"}, \"type\": \"contour\"}], \"heatmapgl\": [{\"colorbar\": {\"outlinewidth\": 0, \"ticks\": \"\"}, \"type\": \"heatmapgl\"}], \"heatmap\": [{\"autocolorscale\": true, \"colorbar\": {\"outlinewidth\": 0, \"ticks\": \"\"}, \"type\": \"heatmap\"}], \"histogram2dcontour\": [{\"autocolorscale\": true, \"colorbar\": {\"outlinewidth\": 0, \"ticks\": \"\"}, \"type\": \"histogram2dcontour\"}], \"histogram2d\": [{\"autocolorscale\": true, \"colorbar\": {\"outlinewidth\": 0, \"ticks\": \"\"}, \"type\": \"histogram2d\"}], \"histogram\": [{\"marker\": {\"colorbar\": {\"outlinewidth\": 0, \"ticks\": \"\"}}, \"type\": \"histogram\"}], \"mesh3d\": [{\"colorbar\": {\"outlinewidth\": 0, \"ticks\": \"\"}, \"type\": \"mesh3d\"}], \"parcoords\": [{\"line\": {\"colorbar\": {\"outlinewidth\": 0, \"ticks\": \"\"}}, \"type\": \"parcoords\"}], \"scatter3d\": [{\"marker\": {\"colorbar\": {\"outlinewidth\": 0, \"ticks\": \"\"}}, \"type\": \"scatter3d\"}], \"scattercarpet\": [{\"marker\": {\"colorbar\": {\"outlinewidth\": 0, \"ticks\": \"\"}}, \"type\": \"scattercarpet\"}], \"scattergeo\": [{\"marker\": {\"colorbar\": {\"outlinewidth\": 0, \"ticks\": \"\"}}, \"type\": \"scattergeo\"}], \"scattergl\": [{\"marker\": {\"colorbar\": {\"outlinewidth\": 0, \"ticks\": \"\"}}, \"type\": \"scattergl\"}], \"scattermapbox\": [{\"marker\": {\"colorbar\": {\"outlinewidth\": 0, \"ticks\": \"\"}}, \"type\": \"scattermapbox\"}], \"scatterpolargl\": [{\"marker\": {\"colorbar\": {\"outlinewidth\": 0, \"ticks\": \"\"}}, \"type\": \"scatterpolargl\"}], \"scatterpolar\": [{\"marker\": {\"colorbar\": {\"outlinewidth\": 0, \"ticks\": \"\"}}, \"type\": \"scatterpolar\"}], \"scatter\": [{\"marker\": {\"colorbar\": {\"outlinewidth\": 0, \"ticks\": \"\"}}, \"type\": \"scatter\"}], \"scatterternary\": [{\"marker\": {\"colorbar\": {\"outlinewidth\": 0, \"ticks\": \"\"}}, \"type\": \"scatterternary\"}], \"surface\": [{\"colorbar\": {\"outlinewidth\": 0, \"ticks\": \"\"}, \"type\": \"surface\"}], \"table\": [{\"cells\": {\"fill\": {\"color\": \"#EBF0F8\"}, \"line\": {\"color\": \"white\"}}, \"header\": {\"fill\": {\"color\": \"#C8D4E3\"}, \"line\": {\"color\": \"white\"}}, \"type\": \"table\"}]}, \"layout\": {\"annotationdefaults\": {\"arrowcolor\": \"#506784\", \"arrowhead\": 0, \"arrowwidth\": 1}, \"colorscale\": {\"diverging\": [[0, \"#8e0152\"], [0.1, \"#c51b7d\"], [0.2, \"#de77ae\"], [0.3, \"#f1b6da\"], [0.4, \"#fde0ef\"], [0.5, \"#f7f7f7\"], [0.6, \"#e6f5d0\"], [0.7, \"#b8e186\"], [0.8, \"#7fbc41\"], [0.9, \"#4d9221\"], [1, \"#276419\"]], \"sequential\": [[0.0, \"#0508b8\"], [0.0893854748603352, \"#1910d8\"], [0.1787709497206704, \"#3c19f0\"], [0.2681564245810056, \"#6b1cfb\"], [0.3575418994413408, \"#981cfd\"], [0.44692737430167595, \"#bf1cfd\"], [0.5363128491620112, \"#dd2bfd\"], [0.6256983240223464, \"#f246fe\"], [0.7150837988826816, \"#fc67fd\"], [0.8044692737430168, \"#fe88fc\"], [0.8938547486033519, \"#fea5fd\"], [0.9832402234636871, \"#febefe\"], [1.0, \"#fec3fe\"]], \"sequentialminus\": [[0.0, \"#0508b8\"], [0.0893854748603352, \"#1910d8\"], [0.1787709497206704, \"#3c19f0\"], [0.2681564245810056, \"#6b1cfb\"], [0.3575418994413408, \"#981cfd\"], [0.44692737430167595, \"#bf1cfd\"], [0.5363128491620112, \"#dd2bfd\"], [0.6256983240223464, \"#f246fe\"], [0.7150837988826816, \"#fc67fd\"], [0.8044692737430168, \"#fe88fc\"], [0.8938547486033519, \"#fea5fd\"], [0.9832402234636871, \"#febefe\"], [1.0, \"#fec3fe\"]]}, \"colorway\": [\"#636efa\", \"#EF553B\", \"#00cc96\", \"#ab63fa\", \"#19d3f3\", \"#e763fa\", \"#FECB52\", \"#FFA15A\", \"#FF6692\", \"#B6E880\"], \"font\": {\"color\": \"#2a3f5f\"}, \"geo\": {\"bgcolor\": \"white\", \"lakecolor\": \"white\", \"landcolor\": \"white\", \"showlakes\": true, \"showland\": true, \"subunitcolor\": \"#C8D4E3\"}, \"hovermode\": \"closest\", \"mapbox\": {\"style\": \"light\"}, \"paper_bgcolor\": \"white\", \"plot_bgcolor\": \"white\", \"polar\": {\"angularaxis\": {\"gridcolor\": \"#EBF0F8\", \"linecolor\": \"#EBF0F8\", \"ticks\": \"\"}, \"bgcolor\": \"white\", \"radialaxis\": {\"gridcolor\": \"#EBF0F8\", \"linecolor\": \"#EBF0F8\", \"ticks\": \"\"}}, \"scene\": {\"xaxis\": {\"backgroundcolor\": \"white\", \"gridcolor\": \"#DFE8F3\", \"gridwidth\": 2, \"linecolor\": \"#EBF0F8\", \"showbackground\": true, \"ticks\": \"\", \"zerolinecolor\": \"#EBF0F8\"}, \"yaxis\": {\"backgroundcolor\": \"white\", \"gridcolor\": \"#DFE8F3\", \"gridwidth\": 2, \"linecolor\": \"#EBF0F8\", \"showbackground\": true, \"ticks\": \"\", \"zerolinecolor\": \"#EBF0F8\"}, \"zaxis\": {\"backgroundcolor\": \"white\", \"gridcolor\": \"#DFE8F3\", \"gridwidth\": 2, \"linecolor\": \"#EBF0F8\", \"showbackground\": true, \"ticks\": \"\", \"zerolinecolor\": \"#EBF0F8\"}}, \"shapedefaults\": {\"fillcolor\": \"#506784\", \"line\": {\"width\": 0}, \"opacity\": 0.4}, \"ternary\": {\"aaxis\": {\"gridcolor\": \"#DFE8F3\", \"linecolor\": \"#A2B1C6\", \"ticks\": \"\"}, \"baxis\": {\"gridcolor\": \"#DFE8F3\", \"linecolor\": \"#A2B1C6\", \"ticks\": \"\"}, \"bgcolor\": \"white\", \"caxis\": {\"gridcolor\": \"#DFE8F3\", \"linecolor\": \"#A2B1C6\", \"ticks\": \"\"}}, \"title\": {\"x\": 0.05}, \"xaxis\": {\"automargin\": true, \"gridcolor\": \"#EBF0F8\", \"linecolor\": \"#EBF0F8\", \"ticks\": \"\", \"zerolinecolor\": \"#EBF0F8\", \"zerolinewidth\": 2}, \"yaxis\": {\"automargin\": true, \"gridcolor\": \"#EBF0F8\", \"linecolor\": \"#EBF0F8\", \"ticks\": \"\", \"zerolinecolor\": \"#EBF0F8\", \"zerolinewidth\": 2}}}, \"width\": 500, \"grid\": {\"xaxes\": [\"x\", \"x2\"], \"yaxes\": [\"y\", \"y2\", \"y3\"], \"xgap\": 0.1, \"ygap\": 0.1, \"xside\": \"bottom\", \"yside\": \"left\"}, \"xaxis\": {\"title\": {\"text\": \"tag\"}, \"categoryorder\": \"array\", \"categoryarray\": [\"good\", \"bad\"]}, \"xaxis2\": {\"title\": {\"text\": \"tag\"}, \"matches\": \"x\"}, \"yaxis2\": {\"title\": {\"text\": \"n\"}, \"matches\": \"y\"}, \"yaxis3\": {\"title\": {\"text\": \"n\"}, \"matches\": \"y\"}, \"annotations\": [{\"showarrow\": false, \"text\": \"sex=M\", \"textangle\": 0, \"x\": 0.23684210526315788, \"xanchor\": \"center\", \"xref\": \"paper\", \"y\": 1.02, \"yanchor\": \"middle\", \"yref\": \"paper\"}, {\"showarrow\": false, \"text\": \"sex=W\", \"textangle\": 0, \"x\": 0.763157894736842, \"xanchor\": \"center\", \"xref\": \"paper\", \"y\": 1.02, \"yanchor\": \"middle\", \"yref\": \"paper\"}, {\"showarrow\": false, \"text\": \"weight=6\", \"textangle\": 90, \"x\": 1.01, \"xanchor\": \"center\", \"xref\": \"paper\", \"y\": 0.8448275862068967, \"yanchor\": \"middle\", \"yref\": \"paper\"}, {\"showarrow\": false, \"text\": \"weight=12\", \"textangle\": 90, \"x\": 1.01, \"xanchor\": \"center\", \"xref\": \"paper\", \"y\": 0.5, \"yanchor\": \"middle\", \"yref\": \"paper\"}, {\"showarrow\": false, \"text\": \"weight=18\", \"textangle\": 90, \"x\": 1.01, \"xanchor\": \"center\", \"xref\": \"paper\", \"y\": 0.15517241379310345, \"yanchor\": \"middle\", \"yref\": \"paper\"}], \"yaxis\": {\"title\": {\"text\": \"n\"}}}, {\"showLink\": false, \"linkText\": \"Export to plot.ly\", \"plotlyServerURL\": \"https://plot.ly\"}); \n",
       "}\n",
       "});</script>"
      ]
     },
     "metadata": {},
     "output_type": "display_data"
    }
   ],
   "source": [
    "px.bar(\n",
    "    size,\n",
    "    x=\"tag\",\n",
    "    y=\"n\",\n",
    "    facet_row=\"weight\",\n",
    "    facet_col=\"sex\",\n",
    "    text=\"n\",\n",
    "    width=500,\n",
    "    template=\"plotly_white\",\n",
    "    category_orders={\"weight\": [\"6\", \"12\", \"18\"], \"tag\": [\"good\", \"bad\"]},\n",
    ")"
   ]
  },
  {
   "cell_type": "code",
   "execution_count": 45,
   "metadata": {},
   "outputs": [
    {
     "data": {
      "application/vnd.vegalite.v2+json": {
       "$schema": "https://vega.github.io/schema/vega-lite/v2.6.0.json",
       "config": {
        "view": {
         "height": 300,
         "width": 400
        }
       },
       "data": {
        "name": "data-453652cfc7fb1c4e820ad94f40a8ceb3"
       },
       "datasets": {
        "data-453652cfc7fb1c4e820ad94f40a8ceb3": [
         {
          "filename": "/home/romain/Downloads/irsst/verc/1_inverse_kinematic/wu_VerCF6H2_2.mot",
          "height": "2",
          "n_trial": "2",
          "note": null,
          "participant": "verc",
          "sex": "W",
          "tag": "good",
          "trial": "VerCF6H2_2",
          "weight": "6"
         },
         {
          "filename": "/home/romain/Downloads/irsst/verc/1_inverse_kinematic/wu_VerCF12H2_3.mot",
          "height": "2",
          "n_trial": "3",
          "note": null,
          "participant": "verc",
          "sex": "W",
          "tag": "good",
          "trial": "VerCF12H2_3",
          "weight": "12"
         },
         {
          "filename": "/home/romain/Downloads/irsst/verc/1_inverse_kinematic/wu_VerCF6H2_1.mot",
          "height": "2",
          "n_trial": "1",
          "note": null,
          "participant": "verc",
          "sex": "W",
          "tag": "good",
          "trial": "VerCF6H2_1",
          "weight": "6"
         },
         {
          "filename": "/home/romain/Downloads/irsst/verc/1_inverse_kinematic/wu_VerCF12H2_2.mot",
          "height": "2",
          "n_trial": "2",
          "note": null,
          "participant": "verc",
          "sex": "W",
          "tag": "good",
          "trial": "VerCF12H2_2",
          "weight": "12"
         },
         {
          "filename": "/home/romain/Downloads/irsst/verc/1_inverse_kinematic/wu_VerCF6H2_3.mot",
          "height": "2",
          "n_trial": "3",
          "note": null,
          "participant": "verc",
          "sex": "W",
          "tag": "good",
          "trial": "VerCF6H2_3",
          "weight": "6"
         },
         {
          "filename": "/home/romain/Downloads/irsst/verc/1_inverse_kinematic/wu_VerCF12H2_1.mot",
          "height": "2",
          "n_trial": "1",
          "note": null,
          "participant": "verc",
          "sex": "W",
          "tag": "good",
          "trial": "VerCF12H2_1",
          "weight": "12"
         },
         {
          "filename": "/home/romain/Downloads/irsst/jawr/1_inverse_kinematic/wu_JawRH12H2_2.mot",
          "height": "2",
          "n_trial": "2",
          "note": null,
          "participant": "jawr",
          "sex": "M",
          "tag": "good",
          "trial": "JawRH12H2_2",
          "weight": "12"
         },
         {
          "filename": "/home/romain/Downloads/irsst/jawr/1_inverse_kinematic/wu_JawRH18H2_2.mot",
          "height": "2",
          "n_trial": "2",
          "note": null,
          "participant": "jawr",
          "sex": "M",
          "tag": "good",
          "trial": "JawRH18H2_2",
          "weight": "18"
         },
         {
          "filename": "/home/romain/Downloads/irsst/jawr/1_inverse_kinematic/wu_JawRH12H2_1.mot",
          "height": "2",
          "n_trial": "1",
          "note": null,
          "participant": "jawr",
          "sex": "M",
          "tag": "bad",
          "trial": "JawRH12H2_1",
          "weight": "12"
         },
         {
          "filename": "/home/romain/Downloads/irsst/jawr/1_inverse_kinematic/wu_JawRH18H2_3.mot",
          "height": "2",
          "n_trial": "3",
          "note": null,
          "participant": "jawr",
          "sex": "M",
          "tag": "good",
          "trial": "JawRH18H2_3",
          "weight": "18"
         },
         {
          "filename": "/home/romain/Downloads/irsst/jawr/1_inverse_kinematic/wu_JawRH18H2_1.mot",
          "height": "2",
          "n_trial": "1",
          "note": null,
          "participant": "jawr",
          "sex": "M",
          "tag": "good",
          "trial": "JawRH18H2_1",
          "weight": "18"
         },
         {
          "filename": "/home/romain/Downloads/irsst/jawr/1_inverse_kinematic/wu_JawRH12H2_3.mot",
          "height": "2",
          "n_trial": "3",
          "note": null,
          "participant": "jawr",
          "sex": "M",
          "tag": "good",
          "trial": "JawRH12H2_3",
          "weight": "12"
         },
         {
          "filename": "/home/romain/Downloads/irsst/jawr/1_inverse_kinematic/wu_JawRH6H2_2.mot",
          "height": "2",
          "n_trial": "2",
          "note": null,
          "participant": "jawr",
          "sex": "M",
          "tag": "good",
          "trial": "JawRH6H2_2",
          "weight": "6"
         },
         {
          "filename": "/home/romain/Downloads/irsst/jawr/1_inverse_kinematic/wu_JawRH6H2_3.mot",
          "height": "2",
          "n_trial": "3",
          "note": null,
          "participant": "jawr",
          "sex": "M",
          "tag": "good",
          "trial": "JawRH6H2_3",
          "weight": "6"
         },
         {
          "filename": "/home/romain/Downloads/irsst/jawr/1_inverse_kinematic/wu_JawRH6H2_1.mot",
          "height": "2",
          "n_trial": "1",
          "note": null,
          "participant": "jawr",
          "sex": "M",
          "tag": "good",
          "trial": "JawRH6H2_1",
          "weight": "6"
         },
         {
          "filename": "/home/romain/Downloads/irsst/gabf/1_inverse_kinematic/wu_GabFH12H2_1.mot",
          "height": "2",
          "n_trial": "1",
          "note": null,
          "participant": "gabf",
          "sex": "M",
          "tag": "good",
          "trial": "GabFH12H2_1",
          "weight": "12"
         },
         {
          "filename": "/home/romain/Downloads/irsst/gabf/1_inverse_kinematic/wu_GabFH18H2_1.mot",
          "height": "2",
          "n_trial": "1",
          "note": null,
          "participant": "gabf",
          "sex": "M",
          "tag": "good",
          "trial": "GabFH18H2_1",
          "weight": "18"
         },
         {
          "filename": "/home/romain/Downloads/irsst/gabf/1_inverse_kinematic/wu_GabFH6H2_2.mot",
          "height": "2",
          "n_trial": "2",
          "note": null,
          "participant": "gabf",
          "sex": "M",
          "tag": "good",
          "trial": "GabFH6H2_2",
          "weight": "6"
         },
         {
          "filename": "/home/romain/Downloads/irsst/gabf/1_inverse_kinematic/wu_GabFH12H2_2.mot",
          "height": "2",
          "n_trial": "2",
          "note": null,
          "participant": "gabf",
          "sex": "M",
          "tag": "good",
          "trial": "GabFH12H2_2",
          "weight": "12"
         },
         {
          "filename": "/home/romain/Downloads/irsst/gabf/1_inverse_kinematic/wu_GabFH18H2_2.mot",
          "height": "2",
          "n_trial": "2",
          "note": null,
          "participant": "gabf",
          "sex": "M",
          "tag": "good",
          "trial": "GabFH18H2_2",
          "weight": "18"
         },
         {
          "filename": "/home/romain/Downloads/irsst/gabf/1_inverse_kinematic/wu_GabFH6H2_3.mot",
          "height": "2",
          "n_trial": "3",
          "note": null,
          "participant": "gabf",
          "sex": "M",
          "tag": "good",
          "trial": "GabFH6H2_3",
          "weight": "6"
         },
         {
          "filename": "/home/romain/Downloads/irsst/gabf/1_inverse_kinematic/wu_GabFH6H2_1.mot",
          "height": "2",
          "n_trial": "1",
          "note": null,
          "participant": "gabf",
          "sex": "M",
          "tag": "good",
          "trial": "GabFH6H2_1",
          "weight": "6"
         },
         {
          "filename": "/home/romain/Downloads/irsst/gabf/1_inverse_kinematic/wu_GabFH18H2_3.mot",
          "height": "2",
          "n_trial": "3",
          "note": null,
          "participant": "gabf",
          "sex": "M",
          "tag": "good",
          "trial": "GabFH18H2_3",
          "weight": "18"
         },
         {
          "filename": "/home/romain/Downloads/irsst/gabf/1_inverse_kinematic/wu_GabFH12H2_3.mot",
          "height": "2",
          "n_trial": "3",
          "note": null,
          "participant": "gabf",
          "sex": "M",
          "tag": "good",
          "trial": "GabFH12H2_3",
          "weight": "12"
         },
         {
          "filename": "/home/romain/Downloads/irsst/aleb/1_inverse_kinematic/wu_AleBH12H2_2.mot",
          "height": "2",
          "n_trial": "2",
          "note": null,
          "participant": "aleb",
          "sex": "M",
          "tag": "bad",
          "trial": "AleBH12H2_2",
          "weight": "12"
         },
         {
          "filename": "/home/romain/Downloads/irsst/aleb/1_inverse_kinematic/wu_AleBH6H2_1.mot",
          "height": "2",
          "n_trial": "1",
          "note": null,
          "participant": "aleb",
          "sex": "M",
          "tag": "good",
          "trial": "AleBH6H2_1",
          "weight": "6"
         },
         {
          "filename": "/home/romain/Downloads/irsst/aleb/1_inverse_kinematic/wu_AleBH6H2_3.mot",
          "height": "2",
          "n_trial": "3",
          "note": null,
          "participant": "aleb",
          "sex": "M",
          "tag": "good",
          "trial": "AleBH6H2_3",
          "weight": "6"
         },
         {
          "filename": "/home/romain/Downloads/irsst/aleb/1_inverse_kinematic/wu_AleBH18H2_2.mot",
          "height": "2",
          "n_trial": "2",
          "note": null,
          "participant": "aleb",
          "sex": "M",
          "tag": "good",
          "trial": "AleBH18H2_2",
          "weight": "18"
         },
         {
          "filename": "/home/romain/Downloads/irsst/aleb/1_inverse_kinematic/wu_AleBH12H2_1.mot",
          "height": "2",
          "n_trial": "1",
          "note": null,
          "participant": "aleb",
          "sex": "M",
          "tag": "good",
          "trial": "AleBH12H2_1",
          "weight": "12"
         },
         {
          "filename": "/home/romain/Downloads/irsst/aleb/1_inverse_kinematic/wu_AleBH6H2_2.mot",
          "height": "2",
          "n_trial": "2",
          "note": null,
          "participant": "aleb",
          "sex": "M",
          "tag": "good",
          "trial": "AleBH6H2_2",
          "weight": "6"
         },
         {
          "filename": "/home/romain/Downloads/irsst/aleb/1_inverse_kinematic/wu_AleBH18H2_3.mot",
          "height": "2",
          "n_trial": "3",
          "note": null,
          "participant": "aleb",
          "sex": "M",
          "tag": "good",
          "trial": "AleBH18H2_3",
          "weight": "18"
         },
         {
          "filename": "/home/romain/Downloads/irsst/aleb/1_inverse_kinematic/wu_AleBH18H2_1.mot",
          "height": "2",
          "n_trial": "1",
          "note": null,
          "participant": "aleb",
          "sex": "M",
          "tag": "bad",
          "trial": "AleBH18H2_1",
          "weight": "18"
         },
         {
          "filename": "/home/romain/Downloads/irsst/aleb/1_inverse_kinematic/wu_AleBH12H2_3.mot",
          "height": "2",
          "n_trial": "3",
          "note": null,
          "participant": "aleb",
          "sex": "M",
          "tag": "good",
          "trial": "AleBH12H2_3",
          "weight": "12"
         },
         {
          "filename": "/home/romain/Downloads/irsst/doca/1_inverse_kinematic/wu_DocAH18H2_3.mot",
          "height": "2",
          "n_trial": "3",
          "note": null,
          "participant": "doca",
          "sex": "M",
          "tag": "good",
          "trial": "DocAH18H2_3",
          "weight": "18"
         },
         {
          "filename": "/home/romain/Downloads/irsst/doca/1_inverse_kinematic/wu_DocAH6H2_2.mot",
          "height": "2",
          "n_trial": "2",
          "note": null,
          "participant": "doca",
          "sex": "M",
          "tag": "good",
          "trial": "DocAH6H2_2",
          "weight": "6"
         },
         {
          "filename": "/home/romain/Downloads/irsst/doca/1_inverse_kinematic/wu_DocAH6H2_3.mot",
          "height": "2",
          "n_trial": "3",
          "note": null,
          "participant": "doca",
          "sex": "M",
          "tag": "good",
          "trial": "DocAH6H2_3",
          "weight": "6"
         },
         {
          "filename": "/home/romain/Downloads/irsst/doca/1_inverse_kinematic/wu_DocAH12H2_1.mot",
          "height": "2",
          "n_trial": "1",
          "note": null,
          "participant": "doca",
          "sex": "M",
          "tag": "good",
          "trial": "DocAH12H2_1",
          "weight": "12"
         },
         {
          "filename": "/home/romain/Downloads/irsst/doca/1_inverse_kinematic/wu_DocAH6H2_1.mot",
          "height": "2",
          "n_trial": "1",
          "note": null,
          "participant": "doca",
          "sex": "M",
          "tag": "good",
          "trial": "DocAH6H2_1",
          "weight": "6"
         },
         {
          "filename": "/home/romain/Downloads/irsst/doca/1_inverse_kinematic/wu_DocAH12H2_2.mot",
          "height": "2",
          "n_trial": "2",
          "note": null,
          "participant": "doca",
          "sex": "M",
          "tag": "good",
          "trial": "DocAH12H2_2",
          "weight": "12"
         },
         {
          "filename": "/home/romain/Downloads/irsst/doca/1_inverse_kinematic/wu_DocAH12H2_3.mot",
          "height": "2",
          "n_trial": "3",
          "note": null,
          "participant": "doca",
          "sex": "M",
          "tag": "good",
          "trial": "DocAH12H2_3",
          "weight": "12"
         },
         {
          "filename": "/home/romain/Downloads/irsst/doca/1_inverse_kinematic/wu_DocAH18H2_2.mot",
          "height": "2",
          "n_trial": "2",
          "note": null,
          "participant": "doca",
          "sex": "M",
          "tag": "good",
          "trial": "DocAH18H2_2",
          "weight": "18"
         },
         {
          "filename": "/home/romain/Downloads/irsst/doca/1_inverse_kinematic/wu_DocAH18H2_1.mot",
          "height": "2",
          "n_trial": "1",
          "note": null,
          "participant": "doca",
          "sex": "M",
          "tag": "good",
          "trial": "DocAH18H2_1",
          "weight": "18"
         },
         {
          "filename": "/home/romain/Downloads/irsst/amia/1_inverse_kinematic/wu_AmiAF12H2_1.mot",
          "height": "2",
          "n_trial": "1",
          "note": null,
          "participant": "amia",
          "sex": "W",
          "tag": "good",
          "trial": "AmiAF12H2_1",
          "weight": "12"
         },
         {
          "filename": "/home/romain/Downloads/irsst/amia/1_inverse_kinematic/wu_AmiAF6H2_1.mot",
          "height": "2",
          "n_trial": "1",
          "note": null,
          "participant": "amia",
          "sex": "W",
          "tag": "bad",
          "trial": "AmiAF6H2_1",
          "weight": "6"
         },
         {
          "filename": "/home/romain/Downloads/irsst/amia/1_inverse_kinematic/wu_AmiAF12H2_2.mot",
          "height": "2",
          "n_trial": "2",
          "note": null,
          "participant": "amia",
          "sex": "W",
          "tag": "good",
          "trial": "AmiAF12H2_2",
          "weight": "12"
         },
         {
          "filename": "/home/romain/Downloads/irsst/amia/1_inverse_kinematic/wu_AmiAF6H2_2.mot",
          "height": "2",
          "n_trial": "2",
          "note": null,
          "participant": "amia",
          "sex": "W",
          "tag": "good",
          "trial": "AmiAF6H2_2",
          "weight": "6"
         },
         {
          "filename": "/home/romain/Downloads/irsst/amia/1_inverse_kinematic/wu_AmiAF12H2_3.mot",
          "height": "2",
          "n_trial": "3",
          "note": null,
          "participant": "amia",
          "sex": "W",
          "tag": "good",
          "trial": "AmiAF12H2_3",
          "weight": "12"
         },
         {
          "filename": "/home/romain/Downloads/irsst/amia/1_inverse_kinematic/wu_AmiAF6H2_3.mot",
          "height": "2",
          "n_trial": "3",
          "note": null,
          "participant": "amia",
          "sex": "W",
          "tag": "good",
          "trial": "AmiAF6H2_3",
          "weight": "6"
         },
         {
          "filename": "/home/romain/Downloads/irsst/eved/1_inverse_kinematic/wu_EveDF6H2_1.mot",
          "height": "2",
          "n_trial": "1",
          "note": null,
          "participant": "eved",
          "sex": "W",
          "tag": "good",
          "trial": "EveDF6H2_1",
          "weight": "6"
         },
         {
          "filename": "/home/romain/Downloads/irsst/eved/1_inverse_kinematic/wu_EveDF12H2_2.mot",
          "height": "2",
          "n_trial": "2",
          "note": null,
          "participant": "eved",
          "sex": "W",
          "tag": "good",
          "trial": "EveDF12H2_2",
          "weight": "12"
         },
         {
          "filename": "/home/romain/Downloads/irsst/eved/1_inverse_kinematic/wu_EveDF6H2_3.mot",
          "height": "2",
          "n_trial": "3",
          "note": null,
          "participant": "eved",
          "sex": "W",
          "tag": "good",
          "trial": "EveDF6H2_3",
          "weight": "6"
         },
         {
          "filename": "/home/romain/Downloads/irsst/eved/1_inverse_kinematic/wu_EveDF6H2_2.mot",
          "height": "2",
          "n_trial": "2",
          "note": null,
          "participant": "eved",
          "sex": "W",
          "tag": "good",
          "trial": "EveDF6H2_2",
          "weight": "6"
         },
         {
          "filename": "/home/romain/Downloads/irsst/eved/1_inverse_kinematic/wu_EveDF12H2_1.mot",
          "height": "2",
          "n_trial": "1",
          "note": null,
          "participant": "eved",
          "sex": "W",
          "tag": "bad",
          "trial": "EveDF12H2_1",
          "weight": "12"
         },
         {
          "filename": "/home/romain/Downloads/irsst/eved/1_inverse_kinematic/wu_EveDF12H2_3.mot",
          "height": "2",
          "n_trial": "3",
          "note": null,
          "participant": "eved",
          "sex": "W",
          "tag": "bad",
          "trial": "EveDF12H2_3",
          "weight": "12"
         },
         {
          "filename": "/home/romain/Downloads/irsst/alef/1_inverse_kinematic/wu_AleFF12H2_1.mot",
          "height": "2",
          "n_trial": "1",
          "note": null,
          "participant": "alef",
          "sex": "W",
          "tag": "good",
          "trial": "AleFF12H2_1",
          "weight": "12"
         },
         {
          "filename": "/home/romain/Downloads/irsst/alef/1_inverse_kinematic/wu_AleFF12H2_2.mot",
          "height": "2",
          "n_trial": "2",
          "note": null,
          "participant": "alef",
          "sex": "W",
          "tag": "good",
          "trial": "AleFF12H2_2",
          "weight": "12"
         },
         {
          "filename": "/home/romain/Downloads/irsst/alef/1_inverse_kinematic/wu_AleFF6H2_2.mot",
          "height": "2",
          "n_trial": "2",
          "note": null,
          "participant": "alef",
          "sex": "W",
          "tag": "good",
          "trial": "AleFF6H2_2",
          "weight": "6"
         },
         {
          "filename": "/home/romain/Downloads/irsst/alef/1_inverse_kinematic/wu_AleFF6H2_3.mot",
          "height": "2",
          "n_trial": "3",
          "note": null,
          "participant": "alef",
          "sex": "W",
          "tag": "good",
          "trial": "AleFF6H2_3",
          "weight": "6"
         },
         {
          "filename": "/home/romain/Downloads/irsst/alef/1_inverse_kinematic/wu_AleFF12H2_3.mot",
          "height": "2",
          "n_trial": "3",
          "note": null,
          "participant": "alef",
          "sex": "W",
          "tag": "good",
          "trial": "AleFF12H2_3",
          "weight": "12"
         },
         {
          "filename": "/home/romain/Downloads/irsst/alef/1_inverse_kinematic/wu_AleFF6H2_1.mot",
          "height": "2",
          "n_trial": "1",
          "note": null,
          "participant": "alef",
          "sex": "W",
          "tag": "good",
          "trial": "AleFF6H2_1",
          "weight": "6"
         },
         {
          "filename": "/home/romain/Downloads/irsst/patm/1_inverse_kinematic/wu_PatMH6H2_2.mot",
          "height": "2",
          "n_trial": "2",
          "note": null,
          "participant": "patm",
          "sex": "M",
          "tag": "good",
          "trial": "PatMH6H2_2",
          "weight": "6"
         },
         {
          "filename": "/home/romain/Downloads/irsst/patm/1_inverse_kinematic/wu_PatMH12H2_1.mot",
          "height": "2",
          "n_trial": "1",
          "note": null,
          "participant": "patm",
          "sex": "M",
          "tag": "good",
          "trial": "PatMH12H2_1",
          "weight": "12"
         },
         {
          "filename": "/home/romain/Downloads/irsst/patm/1_inverse_kinematic/wu_PatMH12H2_3.mot",
          "height": "2",
          "n_trial": "3",
          "note": null,
          "participant": "patm",
          "sex": "M",
          "tag": "good",
          "trial": "PatMH12H2_3",
          "weight": "12"
         },
         {
          "filename": "/home/romain/Downloads/irsst/patm/1_inverse_kinematic/wu_PatMH6H2_1.mot",
          "height": "2",
          "n_trial": "1",
          "note": null,
          "participant": "patm",
          "sex": "M",
          "tag": "good",
          "trial": "PatMH6H2_1",
          "weight": "6"
         },
         {
          "filename": "/home/romain/Downloads/irsst/patm/1_inverse_kinematic/wu_PatMH6H2_3.mot",
          "height": "2",
          "n_trial": "3",
          "note": null,
          "participant": "patm",
          "sex": "M",
          "tag": "good",
          "trial": "PatMH6H2_3",
          "weight": "6"
         },
         {
          "filename": "/home/romain/Downloads/irsst/patm/1_inverse_kinematic/wu_PatMH12H2_2.mot",
          "height": "2",
          "n_trial": "2",
          "note": null,
          "participant": "patm",
          "sex": "M",
          "tag": "good",
          "trial": "PatMH12H2_2",
          "weight": "12"
         },
         {
          "filename": "/home/romain/Downloads/irsst/patm/1_inverse_kinematic/wu_PatMH18H2_1.mot",
          "height": "2",
          "n_trial": "1",
          "note": null,
          "participant": "patm",
          "sex": "M",
          "tag": "good",
          "trial": "PatMH18H2_1",
          "weight": "18"
         },
         {
          "filename": "/home/romain/Downloads/irsst/patm/1_inverse_kinematic/wu_PatMH18H2_2.mot",
          "height": "2",
          "n_trial": "2",
          "note": null,
          "participant": "patm",
          "sex": "M",
          "tag": "good",
          "trial": "PatMH18H2_2",
          "weight": "18"
         },
         {
          "filename": "/home/romain/Downloads/irsst/patm/1_inverse_kinematic/wu_PatMH18H2_3.mot",
          "height": "2",
          "n_trial": "3",
          "note": null,
          "participant": "patm",
          "sex": "M",
          "tag": "good",
          "trial": "PatMH18H2_3",
          "weight": "18"
         },
         {
          "filename": "/home/romain/Downloads/irsst/romm/1_inverse_kinematic/wu_RomMH6H2_2.mot",
          "height": "2",
          "n_trial": "2",
          "note": null,
          "participant": "romm",
          "sex": "M",
          "tag": "good",
          "trial": "RomMH6H2_2",
          "weight": "6"
         },
         {
          "filename": "/home/romain/Downloads/irsst/romm/1_inverse_kinematic/wu_RomMH6H2_1.mot",
          "height": "2",
          "n_trial": "1",
          "note": null,
          "participant": "romm",
          "sex": "M",
          "tag": "good",
          "trial": "RomMH6H2_1",
          "weight": "6"
         },
         {
          "filename": "/home/romain/Downloads/irsst/romm/1_inverse_kinematic/wu_RomMH12H2_3.mot",
          "height": "2",
          "n_trial": "3",
          "note": null,
          "participant": "romm",
          "sex": "M",
          "tag": "good",
          "trial": "RomMH12H2_3",
          "weight": "12"
         },
         {
          "filename": "/home/romain/Downloads/irsst/romm/1_inverse_kinematic/wu_RomMH18H2_1.mot",
          "height": "2",
          "n_trial": "1",
          "note": null,
          "participant": "romm",
          "sex": "M",
          "tag": "good",
          "trial": "RomMH18H2_1",
          "weight": "18"
         },
         {
          "filename": "/home/romain/Downloads/irsst/romm/1_inverse_kinematic/wu_RomMH12H2_2.mot",
          "height": "2",
          "n_trial": "2",
          "note": null,
          "participant": "romm",
          "sex": "M",
          "tag": "good",
          "trial": "RomMH12H2_2",
          "weight": "12"
         },
         {
          "filename": "/home/romain/Downloads/irsst/romm/1_inverse_kinematic/wu_RomMH12H2_1.mot",
          "height": "2",
          "n_trial": "1",
          "note": null,
          "participant": "romm",
          "sex": "M",
          "tag": "good",
          "trial": "RomMH12H2_1",
          "weight": "12"
         },
         {
          "filename": "/home/romain/Downloads/irsst/romm/1_inverse_kinematic/wu_RomMH18H2_3.mot",
          "height": "2",
          "n_trial": "3",
          "note": null,
          "participant": "romm",
          "sex": "M",
          "tag": "good",
          "trial": "RomMH18H2_3",
          "weight": "18"
         },
         {
          "filename": "/home/romain/Downloads/irsst/romm/1_inverse_kinematic/wu_RomMH6H2_3.mot",
          "height": "2",
          "n_trial": "3",
          "note": null,
          "participant": "romm",
          "sex": "M",
          "tag": "good",
          "trial": "RomMH6H2_3",
          "weight": "6"
         },
         {
          "filename": "/home/romain/Downloads/irsst/romm/1_inverse_kinematic/wu_RomMH18H2_2.mot",
          "height": "2",
          "n_trial": "2",
          "note": null,
          "participant": "romm",
          "sex": "M",
          "tag": "good",
          "trial": "RomMH18H2_2",
          "weight": "18"
         },
         {
          "filename": "/home/romain/Downloads/irsst/dapo/1_inverse_kinematic/wu_DapOF6H2_3.mot",
          "height": "2",
          "n_trial": "3",
          "note": null,
          "participant": "dapo",
          "sex": "W",
          "tag": "good",
          "trial": "DapOF6H2_3",
          "weight": "6"
         },
         {
          "filename": "/home/romain/Downloads/irsst/dapo/1_inverse_kinematic/wu_DapOF12H2_1.mot",
          "height": "2",
          "n_trial": "1",
          "note": null,
          "participant": "dapo",
          "sex": "W",
          "tag": "good",
          "trial": "DapOF12H2_1",
          "weight": "12"
         },
         {
          "filename": "/home/romain/Downloads/irsst/dapo/1_inverse_kinematic/wu_DapOF12H2_2.mot",
          "height": "2",
          "n_trial": "2",
          "note": null,
          "participant": "dapo",
          "sex": "W",
          "tag": "good",
          "trial": "DapOF12H2_2",
          "weight": "12"
         },
         {
          "filename": "/home/romain/Downloads/irsst/dapo/1_inverse_kinematic/wu_DapOF12H2_3.mot",
          "height": "2",
          "n_trial": "3",
          "note": null,
          "participant": "dapo",
          "sex": "W",
          "tag": "good",
          "trial": "DapOF12H2_3",
          "weight": "12"
         },
         {
          "filename": "/home/romain/Downloads/irsst/dapo/1_inverse_kinematic/wu_DapOF6H2_1.mot",
          "height": "2",
          "n_trial": "1",
          "note": null,
          "participant": "dapo",
          "sex": "W",
          "tag": "good",
          "trial": "DapOF6H2_1",
          "weight": "6"
         },
         {
          "filename": "/home/romain/Downloads/irsst/dapo/1_inverse_kinematic/wu_DapOF6H2_2.mot",
          "height": "2",
          "n_trial": "2",
          "note": null,
          "participant": "dapo",
          "sex": "W",
          "tag": "good",
          "trial": "DapOF6H2_2",
          "weight": "6"
         },
         {
          "filename": "/home/romain/Downloads/irsst/noel/1_inverse_kinematic/wu_NoeLF6H2_1.mot",
          "height": "2",
          "n_trial": "1",
          "note": null,
          "participant": "noel",
          "sex": "W",
          "tag": "good",
          "trial": "NoeLF6H2_1",
          "weight": "6"
         },
         {
          "filename": "/home/romain/Downloads/irsst/noel/1_inverse_kinematic/wu_NoeLF12H2_3.mot",
          "height": "2",
          "n_trial": "3",
          "note": null,
          "participant": "noel",
          "sex": "W",
          "tag": "good",
          "trial": "NoeLF12H2_3",
          "weight": "12"
         },
         {
          "filename": "/home/romain/Downloads/irsst/noel/1_inverse_kinematic/wu_NoeLF6H2_2.mot",
          "height": "2",
          "n_trial": "2",
          "note": null,
          "participant": "noel",
          "sex": "W",
          "tag": "good",
          "trial": "NoeLF6H2_2",
          "weight": "6"
         },
         {
          "filename": "/home/romain/Downloads/irsst/noel/1_inverse_kinematic/wu_NoeLF12H2_2.mot",
          "height": "2",
          "n_trial": "2",
          "note": null,
          "participant": "noel",
          "sex": "W",
          "tag": "good",
          "trial": "NoeLF12H2_2",
          "weight": "12"
         },
         {
          "filename": "/home/romain/Downloads/irsst/noel/1_inverse_kinematic/wu_NoeLF6H2_3.mot",
          "height": "2",
          "n_trial": "3",
          "note": null,
          "participant": "noel",
          "sex": "W",
          "tag": "good",
          "trial": "NoeLF6H2_3",
          "weight": "6"
         },
         {
          "filename": "/home/romain/Downloads/irsst/noel/1_inverse_kinematic/wu_NoeLF12H2_1.mot",
          "height": "2",
          "n_trial": "1",
          "note": null,
          "participant": "noel",
          "sex": "W",
          "tag": "good",
          "trial": "NoeLF12H2_1",
          "weight": "12"
         },
         {
          "filename": "/home/romain/Downloads/irsst/sarc/1_inverse_kinematic/wu_SarCF12H2_2.mot",
          "height": "2",
          "n_trial": "2",
          "note": null,
          "participant": "sarc",
          "sex": "W",
          "tag": "good",
          "trial": "SarCF12H2_2",
          "weight": "12"
         },
         {
          "filename": "/home/romain/Downloads/irsst/sarc/1_inverse_kinematic/wu_SarCF6H2_1.mot",
          "height": "2",
          "n_trial": "1",
          "note": null,
          "participant": "sarc",
          "sex": "W",
          "tag": "good",
          "trial": "SarCF6H2_1",
          "weight": "6"
         },
         {
          "filename": "/home/romain/Downloads/irsst/sarc/1_inverse_kinematic/wu_SarCF12H2_3.mot",
          "height": "2",
          "n_trial": "3",
          "note": null,
          "participant": "sarc",
          "sex": "W",
          "tag": "good",
          "trial": "SarCF12H2_3",
          "weight": "12"
         },
         {
          "filename": "/home/romain/Downloads/irsst/sarc/1_inverse_kinematic/wu_SarCF12H2_1.mot",
          "height": "2",
          "n_trial": "1",
          "note": null,
          "participant": "sarc",
          "sex": "W",
          "tag": "good",
          "trial": "SarCF12H2_1",
          "weight": "12"
         },
         {
          "filename": "/home/romain/Downloads/irsst/sarc/1_inverse_kinematic/wu_SarCF6H2_2.mot",
          "height": "2",
          "n_trial": "2",
          "note": null,
          "participant": "sarc",
          "sex": "W",
          "tag": "good",
          "trial": "SarCF6H2_2",
          "weight": "6"
         },
         {
          "filename": "/home/romain/Downloads/irsst/sarc/1_inverse_kinematic/wu_SarCF6H2_3.mot",
          "height": "2",
          "n_trial": "3",
          "note": null,
          "participant": "sarc",
          "sex": "W",
          "tag": "good",
          "trial": "SarCF6H2_3",
          "weight": "6"
         },
         {
          "filename": "/home/romain/Downloads/irsst/roxd/1_inverse_kinematic/wu_RoxDF12H2_1.mot",
          "height": "2",
          "n_trial": "1",
          "note": null,
          "participant": "roxd",
          "sex": "W",
          "tag": "good",
          "trial": "RoxDF12H2_1",
          "weight": "12"
         },
         {
          "filename": "/home/romain/Downloads/irsst/roxd/1_inverse_kinematic/wu_RoxDF6H2_2.mot",
          "height": "2",
          "n_trial": "2",
          "note": null,
          "participant": "roxd",
          "sex": "W",
          "tag": "good",
          "trial": "RoxDF6H2_2",
          "weight": "6"
         },
         {
          "filename": "/home/romain/Downloads/irsst/roxd/1_inverse_kinematic/wu_RoxDF12H2_3.mot",
          "height": "2",
          "n_trial": "3",
          "note": null,
          "participant": "roxd",
          "sex": "W",
          "tag": "good",
          "trial": "RoxDF12H2_3",
          "weight": "12"
         },
         {
          "filename": "/home/romain/Downloads/irsst/roxd/1_inverse_kinematic/wu_RoxDF12H2_2.mot",
          "height": "2",
          "n_trial": "2",
          "note": null,
          "participant": "roxd",
          "sex": "W",
          "tag": "good",
          "trial": "RoxDF12H2_2",
          "weight": "12"
         },
         {
          "filename": "/home/romain/Downloads/irsst/roxd/1_inverse_kinematic/wu_RoxDF6H2_1.mot",
          "height": "2",
          "n_trial": "1",
          "note": null,
          "participant": "roxd",
          "sex": "W",
          "tag": "good",
          "trial": "RoxDF6H2_1",
          "weight": "6"
         },
         {
          "filename": "/home/romain/Downloads/irsst/roxd/1_inverse_kinematic/wu_RoxDF6H2_3.mot",
          "height": "2",
          "n_trial": "3",
          "note": null,
          "participant": "roxd",
          "sex": "W",
          "tag": "good",
          "trial": "RoxDF6H2_3",
          "weight": "6"
         },
         {
          "filename": "/home/romain/Downloads/irsst/aimq/1_inverse_kinematic/wu_AimQF12H2_3.mot",
          "height": "2",
          "n_trial": "3",
          "note": null,
          "participant": "aimq",
          "sex": "W",
          "tag": "good",
          "trial": "AimQF12H2_3",
          "weight": "12"
         },
         {
          "filename": "/home/romain/Downloads/irsst/aimq/1_inverse_kinematic/wu_AimQF6H2_2.mot",
          "height": "2",
          "n_trial": "2",
          "note": null,
          "participant": "aimq",
          "sex": "W",
          "tag": "good",
          "trial": "AimQF6H2_2",
          "weight": "6"
         },
         {
          "filename": "/home/romain/Downloads/irsst/aimq/1_inverse_kinematic/wu_AimQF12H2_2.mot",
          "height": "2",
          "n_trial": "2",
          "note": null,
          "participant": "aimq",
          "sex": "W",
          "tag": "good",
          "trial": "AimQF12H2_2",
          "weight": "12"
         },
         {
          "filename": "/home/romain/Downloads/irsst/aimq/1_inverse_kinematic/wu_AimQF6H2_3.mot",
          "height": "2",
          "n_trial": "3",
          "note": null,
          "participant": "aimq",
          "sex": "W",
          "tag": "good",
          "trial": "AimQF6H2_3",
          "weight": "6"
         },
         {
          "filename": "/home/romain/Downloads/irsst/aimq/1_inverse_kinematic/wu_AimQF6H2_1.mot",
          "height": "2",
          "n_trial": "1",
          "note": null,
          "participant": "aimq",
          "sex": "W",
          "tag": "good",
          "trial": "AimQF6H2_1",
          "weight": "6"
         },
         {
          "filename": "/home/romain/Downloads/irsst/aimq/1_inverse_kinematic/wu_AimQF12H2_1.mot",
          "height": "2",
          "n_trial": "1",
          "note": null,
          "participant": "aimq",
          "sex": "W",
          "tag": "good",
          "trial": "AimQF12H2_1",
          "weight": "12"
         },
         {
          "filename": "/home/romain/Downloads/irsst/anns/1_inverse_kinematic/wu_AnnSF12H2_2.mot",
          "height": "2",
          "n_trial": "2",
          "note": null,
          "participant": "anns",
          "sex": "W",
          "tag": "good",
          "trial": "AnnSF12H2_2",
          "weight": "12"
         },
         {
          "filename": "/home/romain/Downloads/irsst/anns/1_inverse_kinematic/wu_AnnSF6H2_2.mot",
          "height": "2",
          "n_trial": "2",
          "note": null,
          "participant": "anns",
          "sex": "W",
          "tag": "good",
          "trial": "AnnSF6H2_2",
          "weight": "6"
         },
         {
          "filename": "/home/romain/Downloads/irsst/anns/1_inverse_kinematic/wu_AnnSF6H2_3.mot",
          "height": "2",
          "n_trial": "3",
          "note": null,
          "participant": "anns",
          "sex": "W",
          "tag": "bad",
          "trial": "AnnSF6H2_3",
          "weight": "6"
         },
         {
          "filename": "/home/romain/Downloads/irsst/anns/1_inverse_kinematic/wu_AnnSF12H2_3.mot",
          "height": "2",
          "n_trial": "3",
          "note": null,
          "participant": "anns",
          "sex": "W",
          "tag": "good",
          "trial": "AnnSF12H2_3",
          "weight": "12"
         },
         {
          "filename": "/home/romain/Downloads/irsst/anns/1_inverse_kinematic/wu_AnnSF12H2_1.mot",
          "height": "2",
          "n_trial": "1",
          "note": null,
          "participant": "anns",
          "sex": "W",
          "tag": "good",
          "trial": "AnnSF12H2_1",
          "weight": "12"
         },
         {
          "filename": "/home/romain/Downloads/irsst/anns/1_inverse_kinematic/wu_AnnSF6H2_1.mot",
          "height": "2",
          "n_trial": "1",
          "note": null,
          "participant": "anns",
          "sex": "W",
          "tag": "good",
          "trial": "AnnSF6H2_1",
          "weight": "6"
         },
         {
          "filename": "/home/romain/Downloads/irsst/marm/1_inverse_kinematic/wu_MarMH6H2_1.mot",
          "height": "2",
          "n_trial": "1",
          "note": null,
          "participant": "marm",
          "sex": "M",
          "tag": "good",
          "trial": "MarMH6H2_1",
          "weight": "6"
         },
         {
          "filename": "/home/romain/Downloads/irsst/marm/1_inverse_kinematic/wu_MarMH12H2_2.mot",
          "height": "2",
          "n_trial": "2",
          "note": null,
          "participant": "marm",
          "sex": "M",
          "tag": "good",
          "trial": "MarMH12H2_2",
          "weight": "12"
         },
         {
          "filename": "/home/romain/Downloads/irsst/marm/1_inverse_kinematic/wu_MarMH12H2_3.mot",
          "height": "2",
          "n_trial": "3",
          "note": null,
          "participant": "marm",
          "sex": "M",
          "tag": "good",
          "trial": "MarMH12H2_3",
          "weight": "12"
         },
         {
          "filename": "/home/romain/Downloads/irsst/marm/1_inverse_kinematic/wu_MarMH12H2_1.mot",
          "height": "2",
          "n_trial": "1",
          "note": null,
          "participant": "marm",
          "sex": "M",
          "tag": "good",
          "trial": "MarMH12H2_1",
          "weight": "12"
         },
         {
          "filename": "/home/romain/Downloads/irsst/marm/1_inverse_kinematic/wu_MarMH18H2_2.mot",
          "height": "2",
          "n_trial": "2",
          "note": null,
          "participant": "marm",
          "sex": "M",
          "tag": "good",
          "trial": "MarMH18H2_2",
          "weight": "18"
         },
         {
          "filename": "/home/romain/Downloads/irsst/marm/1_inverse_kinematic/wu_MarMH6H2_2.mot",
          "height": "2",
          "n_trial": "2",
          "note": null,
          "participant": "marm",
          "sex": "M",
          "tag": "good",
          "trial": "MarMH6H2_2",
          "weight": "6"
         },
         {
          "filename": "/home/romain/Downloads/irsst/marm/1_inverse_kinematic/wu_MarMH18H2_1.mot",
          "height": "2",
          "n_trial": "1",
          "note": null,
          "participant": "marm",
          "sex": "M",
          "tag": "good",
          "trial": "MarMH18H2_1",
          "weight": "18"
         },
         {
          "filename": "/home/romain/Downloads/irsst/marm/1_inverse_kinematic/wu_MarMH6H2_3.mot",
          "height": "2",
          "n_trial": "3",
          "note": null,
          "participant": "marm",
          "sex": "M",
          "tag": "good",
          "trial": "MarMH6H2_3",
          "weight": "6"
         },
         {
          "filename": "/home/romain/Downloads/irsst/marm/1_inverse_kinematic/wu_MarMH18H2_3.mot",
          "height": "2",
          "n_trial": "3",
          "note": null,
          "participant": "marm",
          "sex": "M",
          "tag": "good",
          "trial": "MarMH18H2_3",
          "weight": "18"
         },
         {
          "filename": "/home/romain/Downloads/irsst/geoa/1_inverse_kinematic/wu_GeoAH18H2_3.mot",
          "height": "2",
          "n_trial": "3",
          "note": null,
          "participant": "geoa",
          "sex": "M",
          "tag": "bad",
          "trial": "GeoAH18H2_3",
          "weight": "18"
         },
         {
          "filename": "/home/romain/Downloads/irsst/geoa/1_inverse_kinematic/wu_GeoAH6H2_2.mot",
          "height": "2",
          "n_trial": "2",
          "note": null,
          "participant": "geoa",
          "sex": "M",
          "tag": "good",
          "trial": "GeoAH6H2_2",
          "weight": "6"
         },
         {
          "filename": "/home/romain/Downloads/irsst/geoa/1_inverse_kinematic/wu_GeoAH6H2_1.mot",
          "height": "2",
          "n_trial": "1",
          "note": null,
          "participant": "geoa",
          "sex": "M",
          "tag": "good",
          "trial": "GeoAH6H2_1",
          "weight": "6"
         },
         {
          "filename": "/home/romain/Downloads/irsst/geoa/1_inverse_kinematic/wu_GeoAH12H2_1.mot",
          "height": "2",
          "n_trial": "1",
          "note": null,
          "participant": "geoa",
          "sex": "M",
          "tag": "good",
          "trial": "GeoAH12H2_1",
          "weight": "12"
         },
         {
          "filename": "/home/romain/Downloads/irsst/geoa/1_inverse_kinematic/wu_GeoAH18H2_2.mot",
          "height": "2",
          "n_trial": "2",
          "note": null,
          "participant": "geoa",
          "sex": "M",
          "tag": "good",
          "trial": "GeoAH18H2_2",
          "weight": "18"
         },
         {
          "filename": "/home/romain/Downloads/irsst/geoa/1_inverse_kinematic/wu_GeoAH18H2_1.mot",
          "height": "2",
          "n_trial": "1",
          "note": null,
          "participant": "geoa",
          "sex": "M",
          "tag": "good",
          "trial": "GeoAH18H2_1",
          "weight": "18"
         },
         {
          "filename": "/home/romain/Downloads/irsst/geoa/1_inverse_kinematic/wu_GeoAH12H2_3.mot",
          "height": "2",
          "n_trial": "3",
          "note": null,
          "participant": "geoa",
          "sex": "M",
          "tag": "good",
          "trial": "GeoAH12H2_3",
          "weight": "12"
         },
         {
          "filename": "/home/romain/Downloads/irsst/geoa/1_inverse_kinematic/wu_GeoAH6H2_3.mot",
          "height": "2",
          "n_trial": "3",
          "note": null,
          "participant": "geoa",
          "sex": "M",
          "tag": "good",
          "trial": "GeoAH6H2_3",
          "weight": "6"
         },
         {
          "filename": "/home/romain/Downloads/irsst/geoa/1_inverse_kinematic/wu_GeoAH12H2_2.mot",
          "height": "2",
          "n_trial": "2",
          "note": null,
          "participant": "geoa",
          "sex": "M",
          "tag": "good",
          "trial": "GeoAH12H2_2",
          "weight": "12"
         },
         {
          "filename": "/home/romain/Downloads/irsst/camb/1_inverse_kinematic/wu_CamBF12H2_3.mot",
          "height": "2",
          "n_trial": "3",
          "note": null,
          "participant": "camb",
          "sex": "W",
          "tag": "bad",
          "trial": "CamBF12H2_3",
          "weight": "12"
         },
         {
          "filename": "/home/romain/Downloads/irsst/camb/1_inverse_kinematic/wu_CamBF6H2_3.mot",
          "height": "2",
          "n_trial": "3",
          "note": null,
          "participant": "camb",
          "sex": "W",
          "tag": "good",
          "trial": "CamBF6H2_3",
          "weight": "6"
         },
         {
          "filename": "/home/romain/Downloads/irsst/camb/1_inverse_kinematic/wu_CamBF6H2_1.mot",
          "height": "2",
          "n_trial": "1",
          "note": null,
          "participant": "camb",
          "sex": "W",
          "tag": "good",
          "trial": "CamBF6H2_1",
          "weight": "6"
         },
         {
          "filename": "/home/romain/Downloads/irsst/camb/1_inverse_kinematic/wu_CamBF12H2_2.mot",
          "height": "2",
          "n_trial": "2",
          "note": null,
          "participant": "camb",
          "sex": "W",
          "tag": "good",
          "trial": "CamBF12H2_2",
          "weight": "12"
         },
         {
          "filename": "/home/romain/Downloads/irsst/camb/1_inverse_kinematic/wu_CamBF6H2_2.mot",
          "height": "2",
          "n_trial": "2",
          "note": null,
          "participant": "camb",
          "sex": "W",
          "tag": "good",
          "trial": "CamBF6H2_2",
          "weight": "6"
         },
         {
          "filename": "/home/romain/Downloads/irsst/camb/1_inverse_kinematic/wu_CamBF12H2_1.mot",
          "height": "2",
          "n_trial": "1",
          "note": null,
          "participant": "camb",
          "sex": "W",
          "tag": "good",
          "trial": "CamBF12H2_1",
          "weight": "12"
         },
         {
          "filename": "/home/romain/Downloads/irsst/karm/1_inverse_kinematic/wu_KarMH6H2_2.mot",
          "height": "2",
          "n_trial": "2",
          "note": null,
          "participant": "karm",
          "sex": "M",
          "tag": "good",
          "trial": "KarMH6H2_2",
          "weight": "6"
         },
         {
          "filename": "/home/romain/Downloads/irsst/karm/1_inverse_kinematic/wu_KarMH18H2_1.mot",
          "height": "2",
          "n_trial": "1",
          "note": null,
          "participant": "karm",
          "sex": "M",
          "tag": "good",
          "trial": "KarMH18H2_1",
          "weight": "18"
         },
         {
          "filename": "/home/romain/Downloads/irsst/karm/1_inverse_kinematic/wu_KarMH18H2_2.mot",
          "height": "2",
          "n_trial": "2",
          "note": null,
          "participant": "karm",
          "sex": "M",
          "tag": "bad",
          "trial": "KarMH18H2_2",
          "weight": "18"
         },
         {
          "filename": "/home/romain/Downloads/irsst/karm/1_inverse_kinematic/wu_KarMH6H2_3.mot",
          "height": "2",
          "n_trial": "3",
          "note": null,
          "participant": "karm",
          "sex": "M",
          "tag": "good",
          "trial": "KarMH6H2_3",
          "weight": "6"
         },
         {
          "filename": "/home/romain/Downloads/irsst/karm/1_inverse_kinematic/wu_KarMH12H2_3.mot",
          "height": "2",
          "n_trial": "3",
          "note": null,
          "participant": "karm",
          "sex": "M",
          "tag": "good",
          "trial": "KarMH12H2_3",
          "weight": "12"
         },
         {
          "filename": "/home/romain/Downloads/irsst/karm/1_inverse_kinematic/wu_KarMH6H2_1.mot",
          "height": "2",
          "n_trial": "1",
          "note": null,
          "participant": "karm",
          "sex": "M",
          "tag": "good",
          "trial": "KarMH6H2_1",
          "weight": "6"
         },
         {
          "filename": "/home/romain/Downloads/irsst/karm/1_inverse_kinematic/wu_KarMH12H2_2.mot",
          "height": "2",
          "n_trial": "2",
          "note": null,
          "participant": "karm",
          "sex": "M",
          "tag": "good",
          "trial": "KarMH12H2_2",
          "weight": "12"
         },
         {
          "filename": "/home/romain/Downloads/irsst/karm/1_inverse_kinematic/wu_KarMH18H2_3.mot",
          "height": "2",
          "n_trial": "3",
          "note": null,
          "participant": "karm",
          "sex": "M",
          "tag": "bad",
          "trial": "KarMH18H2_3",
          "weight": "18"
         },
         {
          "filename": "/home/romain/Downloads/irsst/karm/1_inverse_kinematic/wu_KarMH12H2_1.mot",
          "height": "2",
          "n_trial": "1",
          "note": null,
          "participant": "karm",
          "sex": "M",
          "tag": "good",
          "trial": "KarMH12H2_1",
          "weight": "12"
         },
         {
          "filename": "/home/romain/Downloads/irsst/sylg/1_inverse_kinematic/wu_SylGM12H2_2.mot",
          "height": "2",
          "n_trial": "2",
          "note": null,
          "participant": "sylg",
          "sex": "M",
          "tag": "bad",
          "trial": "SylGM12H2_2",
          "weight": "12"
         },
         {
          "filename": "/home/romain/Downloads/irsst/sylg/1_inverse_kinematic/wu_SylGM18H2_3.mot",
          "height": "2",
          "n_trial": "3",
          "note": null,
          "participant": "sylg",
          "sex": "M",
          "tag": "good",
          "trial": "SylGM18H2_3",
          "weight": "18"
         },
         {
          "filename": "/home/romain/Downloads/irsst/sylg/1_inverse_kinematic/wu_SylGM18H2_2.mot",
          "height": "2",
          "n_trial": "2",
          "note": null,
          "participant": "sylg",
          "sex": "M",
          "tag": "good",
          "trial": "SylGM18H2_2",
          "weight": "18"
         },
         {
          "filename": "/home/romain/Downloads/irsst/sylg/1_inverse_kinematic/wu_SylGM6H2_1.mot",
          "height": "2",
          "n_trial": "1",
          "note": null,
          "participant": "sylg",
          "sex": "M",
          "tag": "good",
          "trial": "SylGM6H2_1",
          "weight": "6"
         },
         {
          "filename": "/home/romain/Downloads/irsst/sylg/1_inverse_kinematic/wu_SylGM12H2_3.mot",
          "height": "2",
          "n_trial": "3",
          "note": null,
          "participant": "sylg",
          "sex": "M",
          "tag": "good",
          "trial": "SylGM12H2_3",
          "weight": "12"
         },
         {
          "filename": "/home/romain/Downloads/irsst/sylg/1_inverse_kinematic/wu_SylGM6H2_2.mot",
          "height": "2",
          "n_trial": "2",
          "note": null,
          "participant": "sylg",
          "sex": "M",
          "tag": "good",
          "trial": "SylGM6H2_2",
          "weight": "6"
         },
         {
          "filename": "/home/romain/Downloads/irsst/sylg/1_inverse_kinematic/wu_SylGM18H2_1.mot",
          "height": "2",
          "n_trial": "1",
          "note": null,
          "participant": "sylg",
          "sex": "M",
          "tag": "good",
          "trial": "SylGM18H2_1",
          "weight": "18"
         },
         {
          "filename": "/home/romain/Downloads/irsst/sylg/1_inverse_kinematic/wu_SylGM12H2_1.mot",
          "height": "2",
          "n_trial": "1",
          "note": null,
          "participant": "sylg",
          "sex": "M",
          "tag": "good",
          "trial": "SylGM12H2_1",
          "weight": "12"
         },
         {
          "filename": "/home/romain/Downloads/irsst/sylg/1_inverse_kinematic/wu_SylGM6H2_3.mot",
          "height": "2",
          "n_trial": "3",
          "note": null,
          "participant": "sylg",
          "sex": "M",
          "tag": "good",
          "trial": "SylGM6H2_3",
          "weight": "6"
         },
         {
          "filename": "/home/romain/Downloads/irsst/laug/1_inverse_kinematic/wu_LauGF12H2_2.mot",
          "height": "2",
          "n_trial": "2",
          "note": null,
          "participant": "laug",
          "sex": "W",
          "tag": "good",
          "trial": "LauGF12H2_2",
          "weight": "12"
         },
         {
          "filename": "/home/romain/Downloads/irsst/laug/1_inverse_kinematic/wu_LauGF12H2_1.mot",
          "height": "2",
          "n_trial": "1",
          "note": null,
          "participant": "laug",
          "sex": "W",
          "tag": "good",
          "trial": "LauGF12H2_1",
          "weight": "12"
         },
         {
          "filename": "/home/romain/Downloads/irsst/laug/1_inverse_kinematic/wu_LauGF12H2_3.mot",
          "height": "2",
          "n_trial": "3",
          "note": null,
          "participant": "laug",
          "sex": "W",
          "tag": "good",
          "trial": "LauGF12H2_3",
          "weight": "12"
         },
         {
          "filename": "/home/romain/Downloads/irsst/laug/1_inverse_kinematic/wu_LauGF6H2_1.mot",
          "height": "2",
          "n_trial": "1",
          "note": null,
          "participant": "laug",
          "sex": "W",
          "tag": "good",
          "trial": "LauGF6H2_1",
          "weight": "6"
         },
         {
          "filename": "/home/romain/Downloads/irsst/laug/1_inverse_kinematic/wu_LauGF6H2_2.mot",
          "height": "2",
          "n_trial": "2",
          "note": null,
          "participant": "laug",
          "sex": "W",
          "tag": "good",
          "trial": "LauGF6H2_2",
          "weight": "6"
         },
         {
          "filename": "/home/romain/Downloads/irsst/laug/1_inverse_kinematic/wu_LauGF6H2_3.mot",
          "height": "2",
          "n_trial": "3",
          "note": null,
          "participant": "laug",
          "sex": "W",
          "tag": "good",
          "trial": "LauGF6H2_3",
          "weight": "6"
         },
         {
          "filename": "/home/romain/Downloads/irsst/mars/1_inverse_kinematic/wu_MarSF12H2_3.mot",
          "height": "2",
          "n_trial": "3",
          "note": null,
          "participant": "mars",
          "sex": "W",
          "tag": "good",
          "trial": "MarSF12H2_3",
          "weight": "12"
         },
         {
          "filename": "/home/romain/Downloads/irsst/mars/1_inverse_kinematic/wu_MarSF12H2_2.mot",
          "height": "2",
          "n_trial": "2",
          "note": null,
          "participant": "mars",
          "sex": "W",
          "tag": "good",
          "trial": "MarSF12H2_2",
          "weight": "12"
         },
         {
          "filename": "/home/romain/Downloads/irsst/mars/1_inverse_kinematic/wu_MarSF6H2_1.mot",
          "height": "2",
          "n_trial": "1",
          "note": null,
          "participant": "mars",
          "sex": "W",
          "tag": "good",
          "trial": "MarSF6H2_1",
          "weight": "6"
         },
         {
          "filename": "/home/romain/Downloads/irsst/mars/1_inverse_kinematic/wu_MarSF6H2_3.mot",
          "height": "2",
          "n_trial": "3",
          "note": null,
          "participant": "mars",
          "sex": "W",
          "tag": "good",
          "trial": "MarSF6H2_3",
          "weight": "6"
         },
         {
          "filename": "/home/romain/Downloads/irsst/mars/1_inverse_kinematic/wu_MarSF6H2_2.mot",
          "height": "2",
          "n_trial": "2",
          "note": null,
          "participant": "mars",
          "sex": "W",
          "tag": "good",
          "trial": "MarSF6H2_2",
          "weight": "6"
         },
         {
          "filename": "/home/romain/Downloads/irsst/mars/1_inverse_kinematic/wu_MarSF12H2_1.mot",
          "height": "2",
          "n_trial": "1",
          "note": null,
          "participant": "mars",
          "sex": "W",
          "tag": "good",
          "trial": "MarSF12H2_1",
          "weight": "12"
         },
         {
          "filename": "/home/romain/Downloads/irsst/steb/1_inverse_kinematic/wu_SteBF12H2_1.mot",
          "height": "2",
          "n_trial": "1",
          "note": null,
          "participant": "steb",
          "sex": "W",
          "tag": "good",
          "trial": "SteBF12H2_1",
          "weight": "12"
         },
         {
          "filename": "/home/romain/Downloads/irsst/steb/1_inverse_kinematic/wu_SteBF6H2_3.mot",
          "height": "2",
          "n_trial": "3",
          "note": null,
          "participant": "steb",
          "sex": "W",
          "tag": "good",
          "trial": "SteBF6H2_3",
          "weight": "6"
         },
         {
          "filename": "/home/romain/Downloads/irsst/steb/1_inverse_kinematic/wu_SteBF12H2_2.mot",
          "height": "2",
          "n_trial": "2",
          "note": null,
          "participant": "steb",
          "sex": "W",
          "tag": "good",
          "trial": "SteBF12H2_2",
          "weight": "12"
         },
         {
          "filename": "/home/romain/Downloads/irsst/steb/1_inverse_kinematic/wu_SteBF6H2_1.mot",
          "height": "2",
          "n_trial": "1",
          "note": null,
          "participant": "steb",
          "sex": "W",
          "tag": "good",
          "trial": "SteBF6H2_1",
          "weight": "6"
         },
         {
          "filename": "/home/romain/Downloads/irsst/steb/1_inverse_kinematic/wu_SteBF12H2_3.mot",
          "height": "2",
          "n_trial": "3",
          "note": null,
          "participant": "steb",
          "sex": "W",
          "tag": "good",
          "trial": "SteBF12H2_3",
          "weight": "12"
         },
         {
          "filename": "/home/romain/Downloads/irsst/steb/1_inverse_kinematic/wu_SteBF6H2_2.mot",
          "height": "2",
          "n_trial": "2",
          "note": null,
          "participant": "steb",
          "sex": "W",
          "tag": "good",
          "trial": "SteBF6H2_2",
          "weight": "6"
         },
         {
          "filename": "/home/romain/Downloads/irsst/gatb/1_inverse_kinematic/wu_GatBH12H2_1.mot",
          "height": "2",
          "n_trial": "1",
          "note": null,
          "participant": "gatb",
          "sex": "M",
          "tag": "good",
          "trial": "GatBH12H2_1",
          "weight": "12"
         },
         {
          "filename": "/home/romain/Downloads/irsst/gatb/1_inverse_kinematic/wu_GatBH6H2_2.mot",
          "height": "2",
          "n_trial": "2",
          "note": null,
          "participant": "gatb",
          "sex": "M",
          "tag": "good",
          "trial": "GatBH6H2_2",
          "weight": "6"
         },
         {
          "filename": "/home/romain/Downloads/irsst/gatb/1_inverse_kinematic/wu_GatBH6H2_3.mot",
          "height": "2",
          "n_trial": "3",
          "note": null,
          "participant": "gatb",
          "sex": "M",
          "tag": "good",
          "trial": "GatBH6H2_3",
          "weight": "6"
         },
         {
          "filename": "/home/romain/Downloads/irsst/gatb/1_inverse_kinematic/wu_GatBH12H2_2.mot",
          "height": "2",
          "n_trial": "2",
          "note": null,
          "participant": "gatb",
          "sex": "M",
          "tag": "good",
          "trial": "GatBH12H2_2",
          "weight": "12"
         },
         {
          "filename": "/home/romain/Downloads/irsst/gatb/1_inverse_kinematic/wu_GatBH12H2_3.mot",
          "height": "2",
          "n_trial": "3",
          "note": null,
          "participant": "gatb",
          "sex": "M",
          "tag": "good",
          "trial": "GatBH12H2_3",
          "weight": "12"
         },
         {
          "filename": "/home/romain/Downloads/irsst/gatb/1_inverse_kinematic/wu_GatBH18H2_1.mot",
          "height": "2",
          "n_trial": "1",
          "note": null,
          "participant": "gatb",
          "sex": "M",
          "tag": "good",
          "trial": "GatBH18H2_1",
          "weight": "18"
         },
         {
          "filename": "/home/romain/Downloads/irsst/gatb/1_inverse_kinematic/wu_GatBH18H2_2.mot",
          "height": "2",
          "n_trial": "2",
          "note": null,
          "participant": "gatb",
          "sex": "M",
          "tag": "bad",
          "trial": "GatBH18H2_2",
          "weight": "18"
         },
         {
          "filename": "/home/romain/Downloads/irsst/gatb/1_inverse_kinematic/wu_GatBH18H2_3.mot",
          "height": "2",
          "n_trial": "3",
          "note": null,
          "participant": "gatb",
          "sex": "M",
          "tag": "bad",
          "trial": "GatBH18H2_3",
          "weight": "18"
         },
         {
          "filename": "/home/romain/Downloads/irsst/gatb/1_inverse_kinematic/wu_GatBH6H2_1.mot",
          "height": "2",
          "n_trial": "1",
          "note": null,
          "participant": "gatb",
          "sex": "M",
          "tag": "good",
          "trial": "GatBH6H2_1",
          "weight": "6"
         },
         {
          "filename": "/home/romain/Downloads/irsst/damg/1_inverse_kinematic/wu_DamGH12H2_3.mot",
          "height": "2",
          "n_trial": "3",
          "note": null,
          "participant": "damg",
          "sex": "M",
          "tag": "good",
          "trial": "DamGH12H2_3",
          "weight": "12"
         },
         {
          "filename": "/home/romain/Downloads/irsst/damg/1_inverse_kinematic/wu_DamGH6H2_3.mot",
          "height": "2",
          "n_trial": "3",
          "note": null,
          "participant": "damg",
          "sex": "M",
          "tag": "good",
          "trial": "DamGH6H2_3",
          "weight": "6"
         },
         {
          "filename": "/home/romain/Downloads/irsst/damg/1_inverse_kinematic/wu_DamGH18H2_1.mot",
          "height": "2",
          "n_trial": "1",
          "note": null,
          "participant": "damg",
          "sex": "M",
          "tag": "good",
          "trial": "DamGH18H2_1",
          "weight": "18"
         },
         {
          "filename": "/home/romain/Downloads/irsst/damg/1_inverse_kinematic/wu_DamGH12H2_2.mot",
          "height": "2",
          "n_trial": "2",
          "note": null,
          "participant": "damg",
          "sex": "M",
          "tag": "good",
          "trial": "DamGH12H2_2",
          "weight": "12"
         },
         {
          "filename": "/home/romain/Downloads/irsst/damg/1_inverse_kinematic/wu_DamGH18H2_2.mot",
          "height": "2",
          "n_trial": "2",
          "note": null,
          "participant": "damg",
          "sex": "M",
          "tag": "good",
          "trial": "DamGH18H2_2",
          "weight": "18"
         },
         {
          "filename": "/home/romain/Downloads/irsst/damg/1_inverse_kinematic/wu_DamGH12H2_1.mot",
          "height": "2",
          "n_trial": "1",
          "note": null,
          "participant": "damg",
          "sex": "M",
          "tag": "good",
          "trial": "DamGH12H2_1",
          "weight": "12"
         },
         {
          "filename": "/home/romain/Downloads/irsst/damg/1_inverse_kinematic/wu_DamGH18H2_3.mot",
          "height": "2",
          "n_trial": "3",
          "note": null,
          "participant": "damg",
          "sex": "M",
          "tag": "good",
          "trial": "DamGH18H2_3",
          "weight": "18"
         },
         {
          "filename": "/home/romain/Downloads/irsst/damg/1_inverse_kinematic/wu_DamGH6H2_2.mot",
          "height": "2",
          "n_trial": "2",
          "note": null,
          "participant": "damg",
          "sex": "M",
          "tag": "good",
          "trial": "DamGH6H2_2",
          "weight": "6"
         },
         {
          "filename": "/home/romain/Downloads/irsst/damg/1_inverse_kinematic/wu_DamGH6H2_1.mot",
          "height": "2",
          "n_trial": "1",
          "note": null,
          "participant": "damg",
          "sex": "M",
          "tag": "good",
          "trial": "DamGH6H2_1",
          "weight": "6"
         },
         {
          "filename": "/home/romain/Downloads/irsst/marh/1_inverse_kinematic/wu_MarHF12H2_3.mot",
          "height": "2",
          "n_trial": "3",
          "note": null,
          "participant": "marh",
          "sex": "W",
          "tag": "good",
          "trial": "MarHF12H2_3",
          "weight": "12"
         },
         {
          "filename": "/home/romain/Downloads/irsst/marh/1_inverse_kinematic/wu_MarHF6H2_2.mot",
          "height": "2",
          "n_trial": "2",
          "note": null,
          "participant": "marh",
          "sex": "W",
          "tag": "good",
          "trial": "MarHF6H2_2",
          "weight": "6"
         },
         {
          "filename": "/home/romain/Downloads/irsst/marh/1_inverse_kinematic/wu_MarHF6H2_1.mot",
          "height": "2",
          "n_trial": "1",
          "note": null,
          "participant": "marh",
          "sex": "W",
          "tag": "good",
          "trial": "MarHF6H2_1",
          "weight": "6"
         },
         {
          "filename": "/home/romain/Downloads/irsst/marh/1_inverse_kinematic/wu_MarHF6H2_3.mot",
          "height": "2",
          "n_trial": "3",
          "note": null,
          "participant": "marh",
          "sex": "W",
          "tag": "good",
          "trial": "MarHF6H2_3",
          "weight": "6"
         },
         {
          "filename": "/home/romain/Downloads/irsst/marh/1_inverse_kinematic/wu_MarHF12H2_1.mot",
          "height": "2",
          "n_trial": "1",
          "note": null,
          "participant": "marh",
          "sex": "W",
          "tag": "good",
          "trial": "MarHF12H2_1",
          "weight": "12"
         },
         {
          "filename": "/home/romain/Downloads/irsst/marh/1_inverse_kinematic/wu_MarHF12H2_2.mot",
          "height": "2",
          "n_trial": "2",
          "note": null,
          "participant": "marh",
          "sex": "W",
          "tag": "good",
          "trial": "MarHF12H2_2",
          "weight": "12"
         },
         {
          "filename": "/home/romain/Downloads/irsst/ameg/1_inverse_kinematic/wu_AmeGF6H2_1.mot",
          "height": "2",
          "n_trial": "1",
          "note": null,
          "participant": "ameg",
          "sex": "W",
          "tag": "good",
          "trial": "AmeGF6H2_1",
          "weight": "6"
         },
         {
          "filename": "/home/romain/Downloads/irsst/ameg/1_inverse_kinematic/wu_AmeGF12H2_3.mot",
          "height": "2",
          "n_trial": "3",
          "note": null,
          "participant": "ameg",
          "sex": "W",
          "tag": "good",
          "trial": "AmeGF12H2_3",
          "weight": "12"
         },
         {
          "filename": "/home/romain/Downloads/irsst/ameg/1_inverse_kinematic/wu_AmeGF12H2_2.mot",
          "height": "2",
          "n_trial": "2",
          "note": null,
          "participant": "ameg",
          "sex": "W",
          "tag": "good",
          "trial": "AmeGF12H2_2",
          "weight": "12"
         },
         {
          "filename": "/home/romain/Downloads/irsst/ameg/1_inverse_kinematic/wu_AmeGF12H2_1.mot",
          "height": "2",
          "n_trial": "1",
          "note": null,
          "participant": "ameg",
          "sex": "W",
          "tag": "good",
          "trial": "AmeGF12H2_1",
          "weight": "12"
         },
         {
          "filename": "/home/romain/Downloads/irsst/ameg/1_inverse_kinematic/wu_AmeGF6H2_3.mot",
          "height": "2",
          "n_trial": "3",
          "note": null,
          "participant": "ameg",
          "sex": "W",
          "tag": "good",
          "trial": "AmeGF6H2_3",
          "weight": "6"
         },
         {
          "filename": "/home/romain/Downloads/irsst/ameg/1_inverse_kinematic/wu_AmeGF6H2_2.mot",
          "height": "2",
          "n_trial": "2",
          "note": null,
          "participant": "ameg",
          "sex": "W",
          "tag": "good",
          "trial": "AmeGF6H2_2",
          "weight": "6"
         },
         {
          "filename": "/home/romain/Downloads/irsst/inea/1_inverse_kinematic/wu_IneAF12H2_1.mot",
          "height": "2",
          "n_trial": "1",
          "note": null,
          "participant": "inea",
          "sex": "W",
          "tag": "good",
          "trial": "IneAF12H2_1",
          "weight": "12"
         },
         {
          "filename": "/home/romain/Downloads/irsst/inea/1_inverse_kinematic/wu_IneAF12H2_3.mot",
          "height": "2",
          "n_trial": "3",
          "note": null,
          "participant": "inea",
          "sex": "W",
          "tag": "good",
          "trial": "IneAF12H2_3",
          "weight": "12"
         },
         {
          "filename": "/home/romain/Downloads/irsst/inea/1_inverse_kinematic/wu_IneAF6H2_1.mot",
          "height": "2",
          "n_trial": "1",
          "note": null,
          "participant": "inea",
          "sex": "W",
          "tag": "good",
          "trial": "IneAF6H2_1",
          "weight": "6"
         },
         {
          "filename": "/home/romain/Downloads/irsst/inea/1_inverse_kinematic/wu_IneAF12H2_2.mot",
          "height": "2",
          "n_trial": "2",
          "note": null,
          "participant": "inea",
          "sex": "W",
          "tag": "good",
          "trial": "IneAF12H2_2",
          "weight": "12"
         },
         {
          "filename": "/home/romain/Downloads/irsst/inea/1_inverse_kinematic/wu_IneAF6H2_3.mot",
          "height": "2",
          "n_trial": "3",
          "note": null,
          "participant": "inea",
          "sex": "W",
          "tag": "good",
          "trial": "IneAF6H2_3",
          "weight": "6"
         },
         {
          "filename": "/home/romain/Downloads/irsst/inea/1_inverse_kinematic/wu_IneAF6H2_2.mot",
          "height": "2",
          "n_trial": "2",
          "note": null,
          "participant": "inea",
          "sex": "W",
          "tag": "good",
          "trial": "IneAF6H2_2",
          "weight": "6"
         },
         {
          "filename": "/home/romain/Downloads/irsst/arst/1_inverse_kinematic/wu_ArsTH18H2_3.mot",
          "height": "2",
          "n_trial": "3",
          "note": null,
          "participant": "arst",
          "sex": "M",
          "tag": "good",
          "trial": "ArsTH18H2_3",
          "weight": "18"
         },
         {
          "filename": "/home/romain/Downloads/irsst/arst/1_inverse_kinematic/wu_ArsTH12H2_2.mot",
          "height": "2",
          "n_trial": "2",
          "note": null,
          "participant": "arst",
          "sex": "M",
          "tag": "good",
          "trial": "ArsTH12H2_2",
          "weight": "12"
         },
         {
          "filename": "/home/romain/Downloads/irsst/arst/1_inverse_kinematic/wu_ArsTH18H2_2.mot",
          "height": "2",
          "n_trial": "2",
          "note": null,
          "participant": "arst",
          "sex": "M",
          "tag": "good",
          "trial": "ArsTH18H2_2",
          "weight": "18"
         },
         {
          "filename": "/home/romain/Downloads/irsst/arst/1_inverse_kinematic/wu_ArsTH6H2_1.mot",
          "height": "2",
          "n_trial": "1",
          "note": null,
          "participant": "arst",
          "sex": "M",
          "tag": "good",
          "trial": "ArsTH6H2_1",
          "weight": "6"
         },
         {
          "filename": "/home/romain/Downloads/irsst/arst/1_inverse_kinematic/wu_ArsTH12H2_3.mot",
          "height": "2",
          "n_trial": "3",
          "note": null,
          "participant": "arst",
          "sex": "M",
          "tag": "good",
          "trial": "ArsTH12H2_3",
          "weight": "12"
         },
         {
          "filename": "/home/romain/Downloads/irsst/arst/1_inverse_kinematic/wu_ArsTH12H2_1.mot",
          "height": "2",
          "n_trial": "1",
          "note": null,
          "participant": "arst",
          "sex": "M",
          "tag": "good",
          "trial": "ArsTH12H2_1",
          "weight": "12"
         },
         {
          "filename": "/home/romain/Downloads/irsst/arst/1_inverse_kinematic/wu_ArsTH6H2_2.mot",
          "height": "2",
          "n_trial": "2",
          "note": null,
          "participant": "arst",
          "sex": "M",
          "tag": "good",
          "trial": "ArsTH6H2_2",
          "weight": "6"
         },
         {
          "filename": "/home/romain/Downloads/irsst/arst/1_inverse_kinematic/wu_ArsTH18H2_1.mot",
          "height": "2",
          "n_trial": "1",
          "note": null,
          "participant": "arst",
          "sex": "M",
          "tag": "good",
          "trial": "ArsTH18H2_1",
          "weight": "18"
         },
         {
          "filename": "/home/romain/Downloads/irsst/arst/1_inverse_kinematic/wu_ArsTH6H2_3.mot",
          "height": "2",
          "n_trial": "3",
          "note": null,
          "participant": "arst",
          "sex": "M",
          "tag": "good",
          "trial": "ArsTH6H2_3",
          "weight": "6"
         },
         {
          "filename": "/home/romain/Downloads/irsst/nemk/1_inverse_kinematic/wu_NemKH6H2_1.mot",
          "height": "2",
          "n_trial": "1",
          "note": null,
          "participant": "nemk",
          "sex": "M",
          "tag": "good",
          "trial": "NemKH6H2_1",
          "weight": "6"
         },
         {
          "filename": "/home/romain/Downloads/irsst/nemk/1_inverse_kinematic/wu_NemKH18H2_2.mot",
          "height": "2",
          "n_trial": "2",
          "note": null,
          "participant": "nemk",
          "sex": "M",
          "tag": "good",
          "trial": "NemKH18H2_2",
          "weight": "18"
         },
         {
          "filename": "/home/romain/Downloads/irsst/nemk/1_inverse_kinematic/wu_NemKH12H2_2.mot",
          "height": "2",
          "n_trial": "2",
          "note": null,
          "participant": "nemk",
          "sex": "M",
          "tag": "good",
          "trial": "NemKH12H2_2",
          "weight": "12"
         },
         {
          "filename": "/home/romain/Downloads/irsst/nemk/1_inverse_kinematic/wu_NemKH6H2_2.mot",
          "height": "2",
          "n_trial": "2",
          "note": null,
          "participant": "nemk",
          "sex": "M",
          "tag": "good",
          "trial": "NemKH6H2_2",
          "weight": "6"
         },
         {
          "filename": "/home/romain/Downloads/irsst/nemk/1_inverse_kinematic/wu_NemKH18H2_1.mot",
          "height": "2",
          "n_trial": "1",
          "note": null,
          "participant": "nemk",
          "sex": "M",
          "tag": "good",
          "trial": "NemKH18H2_1",
          "weight": "18"
         },
         {
          "filename": "/home/romain/Downloads/irsst/nemk/1_inverse_kinematic/wu_NemKH18H2_3.mot",
          "height": "2",
          "n_trial": "3",
          "note": null,
          "participant": "nemk",
          "sex": "M",
          "tag": "bad",
          "trial": "NemKH18H2_3",
          "weight": "18"
         },
         {
          "filename": "/home/romain/Downloads/irsst/nemk/1_inverse_kinematic/wu_NemKH12H2_1.mot",
          "height": "2",
          "n_trial": "1",
          "note": null,
          "participant": "nemk",
          "sex": "M",
          "tag": "good",
          "trial": "NemKH12H2_1",
          "weight": "12"
         },
         {
          "filename": "/home/romain/Downloads/irsst/nemk/1_inverse_kinematic/wu_NemKH6H2_3.mot",
          "height": "2",
          "n_trial": "3",
          "note": null,
          "participant": "nemk",
          "sex": "M",
          "tag": "bad",
          "trial": "NemKH6H2_3",
          "weight": "6"
         },
         {
          "filename": "/home/romain/Downloads/irsst/nemk/1_inverse_kinematic/wu_NemKH12H2_3.mot",
          "height": "2",
          "n_trial": "3",
          "note": null,
          "participant": "nemk",
          "sex": "M",
          "tag": "good",
          "trial": "NemKH12H2_3",
          "weight": "12"
         },
         {
          "filename": "/home/romain/Downloads/irsst/fabd/1_inverse_kinematic/wu_FabDH12H2_1.mot",
          "height": "2",
          "n_trial": "1",
          "note": null,
          "participant": "fabd",
          "sex": "M",
          "tag": "good",
          "trial": "FabDH12H2_1",
          "weight": "12"
         },
         {
          "filename": "/home/romain/Downloads/irsst/fabd/1_inverse_kinematic/wu_FabDH18H2_3.mot",
          "height": "2",
          "n_trial": "3",
          "note": null,
          "participant": "fabd",
          "sex": "M",
          "tag": "good",
          "trial": "FabDH18H2_3",
          "weight": "18"
         },
         {
          "filename": "/home/romain/Downloads/irsst/fabd/1_inverse_kinematic/wu_FabDH12H2_3.mot",
          "height": "2",
          "n_trial": "3",
          "note": null,
          "participant": "fabd",
          "sex": "M",
          "tag": "good",
          "trial": "FabDH12H2_3",
          "weight": "12"
         },
         {
          "filename": "/home/romain/Downloads/irsst/fabd/1_inverse_kinematic/wu_FabDH18H2_1.mot",
          "height": "2",
          "n_trial": "1",
          "note": null,
          "participant": "fabd",
          "sex": "M",
          "tag": "good",
          "trial": "FabDH18H2_1",
          "weight": "18"
         },
         {
          "filename": "/home/romain/Downloads/irsst/fabd/1_inverse_kinematic/wu_FabDH6H2_1.mot",
          "height": "2",
          "n_trial": "1",
          "note": null,
          "participant": "fabd",
          "sex": "M",
          "tag": "good",
          "trial": "FabDH6H2_1",
          "weight": "6"
         },
         {
          "filename": "/home/romain/Downloads/irsst/fabd/1_inverse_kinematic/wu_FabDH6H2_2.mot",
          "height": "2",
          "n_trial": "2",
          "note": null,
          "participant": "fabd",
          "sex": "M",
          "tag": "good",
          "trial": "FabDH6H2_2",
          "weight": "6"
         },
         {
          "filename": "/home/romain/Downloads/irsst/fabd/1_inverse_kinematic/wu_FabDH6H2_3.mot",
          "height": "2",
          "n_trial": "3",
          "note": null,
          "participant": "fabd",
          "sex": "M",
          "tag": "good",
          "trial": "FabDH6H2_3",
          "weight": "6"
         },
         {
          "filename": "/home/romain/Downloads/irsst/fabd/1_inverse_kinematic/wu_FabDH18H2_2.mot",
          "height": "2",
          "n_trial": "2",
          "note": null,
          "participant": "fabd",
          "sex": "M",
          "tag": "good",
          "trial": "FabDH18H2_2",
          "weight": "18"
         },
         {
          "filename": "/home/romain/Downloads/irsst/fabd/1_inverse_kinematic/wu_FabDH12H2_2.mot",
          "height": "2",
          "n_trial": "2",
          "note": null,
          "participant": "fabd",
          "sex": "M",
          "tag": "good",
          "trial": "FabDH12H2_2",
          "weight": "12"
         },
         {
          "filename": "/home/romain/Downloads/irsst/yoab/1_inverse_kinematic/wu_YoaBH6H2_3.mot",
          "height": "2",
          "n_trial": "3",
          "note": null,
          "participant": "yoab",
          "sex": "M",
          "tag": "good",
          "trial": "YoaBH6H2_3",
          "weight": "6"
         },
         {
          "filename": "/home/romain/Downloads/irsst/yoab/1_inverse_kinematic/wu_YoaBH12H2_2.mot",
          "height": "2",
          "n_trial": "2",
          "note": null,
          "participant": "yoab",
          "sex": "M",
          "tag": "good",
          "trial": "YoaBH12H2_2",
          "weight": "12"
         },
         {
          "filename": "/home/romain/Downloads/irsst/yoab/1_inverse_kinematic/wu_YoaBH18H2_3.mot",
          "height": "2",
          "n_trial": "3",
          "note": null,
          "participant": "yoab",
          "sex": "M",
          "tag": "good",
          "trial": "YoaBH18H2_3",
          "weight": "18"
         },
         {
          "filename": "/home/romain/Downloads/irsst/yoab/1_inverse_kinematic/wu_YoaBH6H2_1.mot",
          "height": "2",
          "n_trial": "1",
          "note": null,
          "participant": "yoab",
          "sex": "M",
          "tag": "good",
          "trial": "YoaBH6H2_1",
          "weight": "6"
         },
         {
          "filename": "/home/romain/Downloads/irsst/yoab/1_inverse_kinematic/wu_YoaBH6H2_2.mot",
          "height": "2",
          "n_trial": "2",
          "note": null,
          "participant": "yoab",
          "sex": "M",
          "tag": "good",
          "trial": "YoaBH6H2_2",
          "weight": "6"
         },
         {
          "filename": "/home/romain/Downloads/irsst/yoab/1_inverse_kinematic/wu_YoaBH12H2_3.mot",
          "height": "2",
          "n_trial": "3",
          "note": null,
          "participant": "yoab",
          "sex": "M",
          "tag": "good",
          "trial": "YoaBH12H2_3",
          "weight": "12"
         },
         {
          "filename": "/home/romain/Downloads/irsst/yoab/1_inverse_kinematic/wu_YoaBH18H2_1.mot",
          "height": "2",
          "n_trial": "1",
          "note": null,
          "participant": "yoab",
          "sex": "M",
          "tag": "good",
          "trial": "YoaBH18H2_1",
          "weight": "18"
         },
         {
          "filename": "/home/romain/Downloads/irsst/yoab/1_inverse_kinematic/wu_YoaBH12H2_1.mot",
          "height": "2",
          "n_trial": "1",
          "note": null,
          "participant": "yoab",
          "sex": "M",
          "tag": "good",
          "trial": "YoaBH12H2_1",
          "weight": "12"
         },
         {
          "filename": "/home/romain/Downloads/irsst/yoab/1_inverse_kinematic/wu_YoaBH18H2_2.mot",
          "height": "2",
          "n_trial": "2",
          "note": null,
          "participant": "yoab",
          "sex": "M",
          "tag": "good",
          "trial": "YoaBH18H2_2",
          "weight": "18"
         },
         {
          "filename": "/home/romain/Downloads/irsst/phil/1_inverse_kinematic/wu_PhiIH6H2_2.mot",
          "height": "2",
          "n_trial": "2",
          "note": null,
          "participant": "phii",
          "sex": "M",
          "tag": "good",
          "trial": "PhiIH6H2_2",
          "weight": "6"
         },
         {
          "filename": "/home/romain/Downloads/irsst/phil/1_inverse_kinematic/wu_PhiIH18H2_2.mot",
          "height": "2",
          "n_trial": "2",
          "note": null,
          "participant": "phii",
          "sex": "M",
          "tag": "good",
          "trial": "PhiIH18H2_2",
          "weight": "18"
         },
         {
          "filename": "/home/romain/Downloads/irsst/phil/1_inverse_kinematic/wu_PhiIH6H2_3.mot",
          "height": "2",
          "n_trial": "3",
          "note": null,
          "participant": "phii",
          "sex": "M",
          "tag": "good",
          "trial": "PhiIH6H2_3",
          "weight": "6"
         },
         {
          "filename": "/home/romain/Downloads/irsst/phil/1_inverse_kinematic/wu_PhiIH18H2_1.mot",
          "height": "2",
          "n_trial": "1",
          "note": null,
          "participant": "phii",
          "sex": "M",
          "tag": "good",
          "trial": "PhiIH18H2_1",
          "weight": "18"
         },
         {
          "filename": "/home/romain/Downloads/irsst/phil/1_inverse_kinematic/wu_PhiIH6H2_1.mot",
          "height": "2",
          "n_trial": "1",
          "note": null,
          "participant": "phii",
          "sex": "M",
          "tag": "good",
          "trial": "PhiIH6H2_1",
          "weight": "6"
         },
         {
          "filename": "/home/romain/Downloads/irsst/phil/1_inverse_kinematic/wu_PhiIH18H2_3.mot",
          "height": "2",
          "n_trial": "3",
          "note": null,
          "participant": "phii",
          "sex": "M",
          "tag": "bad",
          "trial": "PhiIH18H2_3",
          "weight": "18"
         },
         {
          "filename": "/home/romain/Downloads/irsst/phil/1_inverse_kinematic/wu_PhiIH12H2_2.mot",
          "height": "2",
          "n_trial": "2",
          "note": null,
          "participant": "phii",
          "sex": "M",
          "tag": "good",
          "trial": "PhiIH12H2_2",
          "weight": "12"
         },
         {
          "filename": "/home/romain/Downloads/irsst/phil/1_inverse_kinematic/wu_PhiIH12H2_3.mot",
          "height": "2",
          "n_trial": "3",
          "note": null,
          "participant": "phii",
          "sex": "M",
          "tag": "good",
          "trial": "PhiIH12H2_3",
          "weight": "12"
         },
         {
          "filename": "/home/romain/Downloads/irsst/phil/1_inverse_kinematic/wu_PhiIH12H2_1.mot",
          "height": "2",
          "n_trial": "1",
          "note": null,
          "participant": "phii",
          "sex": "M",
          "tag": "good",
          "trial": "PhiIH12H2_1",
          "weight": "12"
         },
         {
          "filename": "/home/romain/Downloads/irsst/naus/1_inverse_kinematic/wu_NauSF12H2_3.mot",
          "height": "2",
          "n_trial": "3",
          "note": null,
          "participant": "naus",
          "sex": "W",
          "tag": "bad",
          "trial": "NauSF12H2_3",
          "weight": "12"
         },
         {
          "filename": "/home/romain/Downloads/irsst/naus/1_inverse_kinematic/wu_NauSF12H2_1.mot",
          "height": "2",
          "n_trial": "1",
          "note": null,
          "participant": "naus",
          "sex": "W",
          "tag": "good",
          "trial": "NauSF12H2_1",
          "weight": "12"
         },
         {
          "filename": "/home/romain/Downloads/irsst/naus/1_inverse_kinematic/wu_NauSF6H2_3.mot",
          "height": "2",
          "n_trial": "3",
          "note": null,
          "participant": "naus",
          "sex": "W",
          "tag": "good",
          "trial": "NauSF6H2_3",
          "weight": "6"
         },
         {
          "filename": "/home/romain/Downloads/irsst/naus/1_inverse_kinematic/wu_NauSF12H2_2.mot",
          "height": "2",
          "n_trial": "2",
          "note": null,
          "participant": "naus",
          "sex": "W",
          "tag": "good",
          "trial": "NauSF12H2_2",
          "weight": "12"
         },
         {
          "filename": "/home/romain/Downloads/irsst/naus/1_inverse_kinematic/wu_NauSF6H2_1.mot",
          "height": "2",
          "n_trial": "1",
          "note": null,
          "participant": "naus",
          "sex": "W",
          "tag": "bad",
          "trial": "NauSF6H2_1",
          "weight": "6"
         },
         {
          "filename": "/home/romain/Downloads/irsst/naus/1_inverse_kinematic/wu_NauSF6H2_2.mot",
          "height": "2",
          "n_trial": "2",
          "note": null,
          "participant": "naus",
          "sex": "W",
          "tag": "good",
          "trial": "NauSF6H2_2",
          "weight": "6"
         },
         {
          "filename": "/home/romain/Downloads/irsst/benl/1_inverse_kinematic/wu_BenLH6H2_2.mot",
          "height": "2",
          "n_trial": "2",
          "note": null,
          "participant": "benl",
          "sex": "M",
          "tag": "good",
          "trial": "BenLH6H2_2",
          "weight": "6"
         },
         {
          "filename": "/home/romain/Downloads/irsst/benl/1_inverse_kinematic/wu_BenLH18H2_3.mot",
          "height": "2",
          "n_trial": "3",
          "note": null,
          "participant": "benl",
          "sex": "M",
          "tag": "bad",
          "trial": "BenLH18H2_3",
          "weight": "18"
         },
         {
          "filename": "/home/romain/Downloads/irsst/benl/1_inverse_kinematic/wu_BenLH6H2_3.mot",
          "height": "2",
          "n_trial": "3",
          "note": null,
          "participant": "benl",
          "sex": "M",
          "tag": "good",
          "trial": "BenLH6H2_3",
          "weight": "6"
         },
         {
          "filename": "/home/romain/Downloads/irsst/benl/1_inverse_kinematic/wu_BenLH18H2_2.mot",
          "height": "2",
          "n_trial": "2",
          "note": null,
          "participant": "benl",
          "sex": "M",
          "tag": "bad",
          "trial": "BenLH18H2_2",
          "weight": "18"
         },
         {
          "filename": "/home/romain/Downloads/irsst/benl/1_inverse_kinematic/wu_BenLH6H2_1.mot",
          "height": "2",
          "n_trial": "1",
          "note": null,
          "participant": "benl",
          "sex": "M",
          "tag": "good",
          "trial": "BenLH6H2_1",
          "weight": "6"
         },
         {
          "filename": "/home/romain/Downloads/irsst/benl/1_inverse_kinematic/wu_BenLH12H2_3.mot",
          "height": "2",
          "n_trial": "3",
          "note": null,
          "participant": "benl",
          "sex": "M",
          "tag": "good",
          "trial": "BenLH12H2_3",
          "weight": "12"
         },
         {
          "filename": "/home/romain/Downloads/irsst/benl/1_inverse_kinematic/wu_BenLH18H2_1.mot",
          "height": "2",
          "n_trial": "1",
          "note": null,
          "participant": "benl",
          "sex": "M",
          "tag": "good",
          "trial": "BenLH18H2_1",
          "weight": "18"
         },
         {
          "filename": "/home/romain/Downloads/irsst/benl/1_inverse_kinematic/wu_BenLH12H2_1.mot",
          "height": "2",
          "n_trial": "1",
          "note": null,
          "participant": "benl",
          "sex": "M",
          "tag": "good",
          "trial": "BenLH12H2_1",
          "weight": "12"
         },
         {
          "filename": "/home/romain/Downloads/irsst/benl/1_inverse_kinematic/wu_BenLH12H2_2.mot",
          "height": "2",
          "n_trial": "2",
          "note": null,
          "participant": "benl",
          "sex": "M",
          "tag": "good",
          "trial": "BenLH12H2_2",
          "weight": "12"
         },
         {
          "filename": "/home/romain/Downloads/irsst/samn/1_inverse_kinematic/wu_SamNF6H2_2.mot",
          "height": "2",
          "n_trial": "2",
          "note": null,
          "participant": "samn",
          "sex": "W",
          "tag": "good",
          "trial": "SamNF6H2_2",
          "weight": "6"
         },
         {
          "filename": "/home/romain/Downloads/irsst/samn/1_inverse_kinematic/wu_SamNF12H2_2.mot",
          "height": "2",
          "n_trial": "2",
          "note": null,
          "participant": "samn",
          "sex": "W",
          "tag": "bad",
          "trial": "SamNF12H2_2",
          "weight": "12"
         },
         {
          "filename": "/home/romain/Downloads/irsst/samn/1_inverse_kinematic/wu_SamNF6H2_3.mot",
          "height": "2",
          "n_trial": "3",
          "note": null,
          "participant": "samn",
          "sex": "W",
          "tag": "good",
          "trial": "SamNF6H2_3",
          "weight": "6"
         },
         {
          "filename": "/home/romain/Downloads/irsst/samn/1_inverse_kinematic/wu_SamNF12H2_3.mot",
          "height": "2",
          "n_trial": "3",
          "note": null,
          "participant": "samn",
          "sex": "W",
          "tag": "good",
          "trial": "SamNF12H2_3",
          "weight": "12"
         },
         {
          "filename": "/home/romain/Downloads/irsst/samn/1_inverse_kinematic/wu_SamNF6H2_1.mot",
          "height": "2",
          "n_trial": "1",
          "note": null,
          "participant": "samn",
          "sex": "W",
          "tag": "good",
          "trial": "SamNF6H2_1",
          "weight": "6"
         },
         {
          "filename": "/home/romain/Downloads/irsst/samn/1_inverse_kinematic/wu_SamNF12H2_1.mot",
          "height": "2",
          "n_trial": "1",
          "note": null,
          "participant": "samn",
          "sex": "W",
          "tag": "good",
          "trial": "SamNF12H2_1",
          "weight": "12"
         },
         {
          "filename": "/home/romain/Downloads/irsst/yoap/1_inverse_kinematic/wu_YoaPH12H2_2.mot",
          "height": "2",
          "n_trial": "2",
          "note": null,
          "participant": "yoap",
          "sex": "M",
          "tag": "good",
          "trial": "YoaPH12H2_2",
          "weight": "12"
         },
         {
          "filename": "/home/romain/Downloads/irsst/yoap/1_inverse_kinematic/wu_YoaPH18H2_1.mot",
          "height": "2",
          "n_trial": "1",
          "note": null,
          "participant": "yoap",
          "sex": "M",
          "tag": "good",
          "trial": "YoaPH18H2_1",
          "weight": "18"
         },
         {
          "filename": "/home/romain/Downloads/irsst/yoap/1_inverse_kinematic/wu_YoaPH6H2_2.mot",
          "height": "2",
          "n_trial": "2",
          "note": null,
          "participant": "yoap",
          "sex": "M",
          "tag": "good",
          "trial": "YoaPH6H2_2",
          "weight": "6"
         },
         {
          "filename": "/home/romain/Downloads/irsst/yoap/1_inverse_kinematic/wu_YoaPH18H2_3.mot",
          "height": "2",
          "n_trial": "3",
          "note": null,
          "participant": "yoap",
          "sex": "M",
          "tag": "good",
          "trial": "YoaPH18H2_3",
          "weight": "18"
         },
         {
          "filename": "/home/romain/Downloads/irsst/yoap/1_inverse_kinematic/wu_YoaPH6H2_3.mot",
          "height": "2",
          "n_trial": "3",
          "note": null,
          "participant": "yoap",
          "sex": "M",
          "tag": "good",
          "trial": "YoaPH6H2_3",
          "weight": "6"
         },
         {
          "filename": "/home/romain/Downloads/irsst/yoap/1_inverse_kinematic/wu_YoaPH12H2_1.mot",
          "height": "2",
          "n_trial": "1",
          "note": null,
          "participant": "yoap",
          "sex": "M",
          "tag": "good",
          "trial": "YoaPH12H2_1",
          "weight": "12"
         },
         {
          "filename": "/home/romain/Downloads/irsst/yoap/1_inverse_kinematic/wu_YoaPH18H2_2.mot",
          "height": "2",
          "n_trial": "2",
          "note": null,
          "participant": "yoap",
          "sex": "M",
          "tag": "good",
          "trial": "YoaPH18H2_2",
          "weight": "18"
         },
         {
          "filename": "/home/romain/Downloads/irsst/yoap/1_inverse_kinematic/wu_YoaPH12H2_3.mot",
          "height": "2",
          "n_trial": "3",
          "note": null,
          "participant": "yoap",
          "sex": "M",
          "tag": "good",
          "trial": "YoaPH12H2_3",
          "weight": "12"
         },
         {
          "filename": "/home/romain/Downloads/irsst/yoap/1_inverse_kinematic/wu_YoaPH6H2_1.mot",
          "height": "2",
          "n_trial": "1",
          "note": null,
          "participant": "yoap",
          "sex": "M",
          "tag": "good",
          "trial": "YoaPH6H2_1",
          "weight": "6"
         },
         {
          "filename": "/home/romain/Downloads/irsst/matr/1_inverse_kinematic/wu_MatRH18H2_2.mot",
          "height": "2",
          "n_trial": "2",
          "note": null,
          "participant": "matr",
          "sex": "M",
          "tag": "bad",
          "trial": "MatRH18H2_2",
          "weight": "18"
         },
         {
          "filename": "/home/romain/Downloads/irsst/matr/1_inverse_kinematic/wu_MatRH6H2_1.mot",
          "height": "2",
          "n_trial": "1",
          "note": null,
          "participant": "matr",
          "sex": "M",
          "tag": "good",
          "trial": "MatRH6H2_1",
          "weight": "6"
         },
         {
          "filename": "/home/romain/Downloads/irsst/matr/1_inverse_kinematic/wu_MatRH18H2_1.mot",
          "height": "2",
          "n_trial": "1",
          "note": null,
          "participant": "matr",
          "sex": "M",
          "tag": "good",
          "trial": "MatRH18H2_1",
          "weight": "18"
         },
         {
          "filename": "/home/romain/Downloads/irsst/matr/1_inverse_kinematic/wu_MatRH12H2_3.mot",
          "height": "2",
          "n_trial": "3",
          "note": null,
          "participant": "matr",
          "sex": "M",
          "tag": "good",
          "trial": "MatRH12H2_3",
          "weight": "12"
         },
         {
          "filename": "/home/romain/Downloads/irsst/matr/1_inverse_kinematic/wu_MatRH6H2_3.mot",
          "height": "2",
          "n_trial": "3",
          "note": null,
          "participant": "matr",
          "sex": "M",
          "tag": "good",
          "trial": "MatRH6H2_3",
          "weight": "6"
         },
         {
          "filename": "/home/romain/Downloads/irsst/matr/1_inverse_kinematic/wu_MatRH18H2_3.mot",
          "height": "2",
          "n_trial": "3",
          "note": null,
          "participant": "matr",
          "sex": "M",
          "tag": "good",
          "trial": "MatRH18H2_3",
          "weight": "18"
         },
         {
          "filename": "/home/romain/Downloads/irsst/matr/1_inverse_kinematic/wu_MatRH12H2_1.mot",
          "height": "2",
          "n_trial": "1",
          "note": null,
          "participant": "matr",
          "sex": "M",
          "tag": "good",
          "trial": "MatRH12H2_1",
          "weight": "12"
         },
         {
          "filename": "/home/romain/Downloads/irsst/matr/1_inverse_kinematic/wu_MatRH6H2_2.mot",
          "height": "2",
          "n_trial": "2",
          "note": null,
          "participant": "matr",
          "sex": "M",
          "tag": "good",
          "trial": "MatRH6H2_2",
          "weight": "6"
         },
         {
          "filename": "/home/romain/Downloads/irsst/matr/1_inverse_kinematic/wu_MatRH12H2_2.mot",
          "height": "2",
          "n_trial": "2",
          "note": null,
          "participant": "matr",
          "sex": "M",
          "tag": "good",
          "trial": "MatRH12H2_2",
          "weight": "12"
         },
         {
          "filename": "/home/romain/Downloads/irsst/davo/1_inverse_kinematic/wu_DavOH6H2_1.mot",
          "height": "2",
          "n_trial": "1",
          "note": null,
          "participant": "davo",
          "sex": "M",
          "tag": "good",
          "trial": "DavOH6H2_1",
          "weight": "6"
         },
         {
          "filename": "/home/romain/Downloads/irsst/davo/1_inverse_kinematic/wu_DavOH6H2_2.mot",
          "height": "2",
          "n_trial": "2",
          "note": null,
          "participant": "davo",
          "sex": "M",
          "tag": "good",
          "trial": "DavOH6H2_2",
          "weight": "6"
         },
         {
          "filename": "/home/romain/Downloads/irsst/davo/1_inverse_kinematic/wu_DavOH12H2_1.mot",
          "height": "2",
          "n_trial": "1",
          "note": null,
          "participant": "davo",
          "sex": "M",
          "tag": "good",
          "trial": "DavOH12H2_1",
          "weight": "12"
         },
         {
          "filename": "/home/romain/Downloads/irsst/davo/1_inverse_kinematic/wu_DavOH18H2_1.mot",
          "height": "2",
          "n_trial": "1",
          "note": null,
          "participant": "davo",
          "sex": "M",
          "tag": "good",
          "trial": "DavOH18H2_1",
          "weight": "18"
         },
         {
          "filename": "/home/romain/Downloads/irsst/davo/1_inverse_kinematic/wu_DavOH18H2_2.mot",
          "height": "2",
          "n_trial": "2",
          "note": null,
          "participant": "davo",
          "sex": "M",
          "tag": "good",
          "trial": "DavOH18H2_2",
          "weight": "18"
         },
         {
          "filename": "/home/romain/Downloads/irsst/davo/1_inverse_kinematic/wu_DavOH12H2_2.mot",
          "height": "2",
          "n_trial": "2",
          "note": null,
          "participant": "davo",
          "sex": "M",
          "tag": "good",
          "trial": "DavOH12H2_2",
          "weight": "12"
         },
         {
          "filename": "/home/romain/Downloads/irsst/davo/1_inverse_kinematic/wu_DavOH12H2_3.mot",
          "height": "2",
          "n_trial": "3",
          "note": null,
          "participant": "davo",
          "sex": "M",
          "tag": "good",
          "trial": "DavOH12H2_3",
          "weight": "12"
         },
         {
          "filename": "/home/romain/Downloads/irsst/davo/1_inverse_kinematic/wu_DavOH6H2_3.mot",
          "height": "2",
          "n_trial": "3",
          "note": null,
          "participant": "davo",
          "sex": "M",
          "tag": "good",
          "trial": "DavOH6H2_3",
          "weight": "6"
         },
         {
          "filename": "/home/romain/Downloads/irsst/davo/1_inverse_kinematic/wu_DavOH18H2_3.mot",
          "height": "2",
          "n_trial": "3",
          "note": null,
          "participant": "davo",
          "sex": "M",
          "tag": "bad",
          "trial": "DavOH18H2_3",
          "weight": "18"
         }
        ]
       },
       "encoding": {
        "color": {
         "field": "sex",
         "type": "nominal"
        },
        "column": {
         "field": "tag",
         "sort": [
          "good",
          "medium",
          "bad"
         ],
         "type": "nominal"
        },
        "tooltip": {
         "aggregate": "count",
         "type": "quantitative"
        },
        "x": {
         "field": "sex",
         "type": "nominal"
        },
        "y": {
         "aggregate": "count",
         "type": "quantitative"
        }
       },
       "mark": "bar"
      },
      "image/png": "[encoded data removed]",
      "text/plain": [
       "<VegaLite 2 object>\n",
       "\n",
       "If you see this message, it means the renderer has not been properly enabled\n",
       "for the frontend that you are using. For more information, see\n",
       "https://altair-viz.github.io/user_guide/troubleshooting.html\n"
      ]
     },
     "execution_count": 45,
     "metadata": {},
     "output_type": "execute_result"
    }
   ],
   "source": [
    "alt.Chart(verif).mark_bar().encode(\n",
    "    alt.X(\"sex\"),\n",
    "    alt.Y(\"count()\"),\n",
    "    alt.Color(\"sex\"),\n",
    "    alt.Column(\"tag\", sort=alt.Sort([\"good\", \"medium\", \"bad\"])),\n",
    "    alt.Tooltip(\"count()\"),\n",
    ")"
   ]
  },
  {
   "cell_type": "markdown",
   "metadata": {},
   "source": [
    "<!--NAVIGATION-->\n",
    "< [Verification](01.00-verification.ipynb) | [Contents](Index.ipynb) | [Inverse kinematics](01.02-inverse-kinematics.ipynb) >"
   ]
  }
 ],
 "metadata": {
  "kernelspec": {
   "display_name": "Python [conda env:pyosim_aws]",
   "language": "python",
   "name": "conda-env-pyosim_aws-py"
  },
  "language_info": {
   "codemirror_mode": {
    "name": "ipython",
    "version": 3
   },
   "file_extension": ".py",
   "mimetype": "text/x-python",
   "name": "python",
   "nbconvert_exporter": "python",
   "pygments_lexer": "ipython3",
   "version": "3.7.2"
  }
 },
 "nbformat": 4,
 "nbformat_minor": 2
}
