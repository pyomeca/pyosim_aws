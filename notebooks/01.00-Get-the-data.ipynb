{
 "cells": [
  {
   "cell_type": "markdown",
   "metadata": {},
   "source": [
    "<!--BOOK_INFORMATION-->\n",
    "<img style=\"float: right; width: 100px\" src=\"https://raw.github.com/pyomeca/design/master/logo/logo_cropped.svg?sanitize=true\">\n",
    "\n",
    "# Pyosim in the cloud :cloud:\n",
    "## with [pyomeca](https://github.com/pyomeca/pyomeca)\n",
    "Romain Martinez (martinez.staps@gmail.com | [GitHub](https://github.com/romainmartinez))\n"
   ]
  },
  {
   "cell_type": "markdown",
   "metadata": {},
   "source": [
    "<!--NAVIGATION-->\n",
    "< [Logistics](00.00-Logistics.ipynb) | [Contents](Index.ipynb) | [Get Catapult by period data](01.01-Catapult-by-period.ipynb) >"
   ]
  },
  {
   "cell_type": "markdown",
   "metadata": {},
   "source": [
    "# Get the data (include cleaning)"
   ]
  },
  {
   "cell_type": "markdown",
   "metadata": {},
   "source": [
    "<!--NAVIGATION-->\n",
    "< [Logistics](00.00-Logistics.ipynb) | [Contents](Index.ipynb) | [Get Catapult by period data](01.01-Catapult-by-period.ipynb) >"
   ]
  }
 ],
 "metadata": {
  "kernelspec": {
   "display_name": "Python 3",
   "language": "python",
   "name": "conda-env-rocket-py"
  },
  "language_info": {
   "codemirror_mode": {
    "name": "ipython",
    "version": 3
   },
   "file_extension": ".py",
   "mimetype": "text/x-python",
   "name": "python",
   "nbconvert_exporter": "python",
   "pygments_lexer": "ipython3",
   "version": "3.6.7"
  }
 },
 "nbformat": 4,
 "nbformat_minor": 2
}
