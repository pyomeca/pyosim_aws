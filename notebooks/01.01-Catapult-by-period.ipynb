{
 "cells": [
  {
   "cell_type": "markdown",
   "metadata": {},
   "source": [
    "<!--BOOK_INFORMATION-->\n",
    "<img style=\"float: right; width: 100px\" src=\"https://raw.github.com/pyomeca/design/master/logo/logo_cropped.svg?sanitize=true\">\n",
    "\n",
    "# Pyosim in the cloud :cloud:\n",
    "## with [pyomeca](https://github.com/pyomeca/pyomeca)\n",
    "Romain Martinez (martinez.staps@gmail.com | [GitHub](https://github.com/romainmartinez))\n"
   ]
  },
  {
   "cell_type": "markdown",
   "metadata": {},
   "source": [
    "<!--NAVIGATION-->\n",
    "< [Get the data (include cleaning)](01.00-Get-the-data.ipynb) | [Contents](Index.ipynb) |"
   ]
  },
  {
   "cell_type": "markdown",
   "metadata": {},
   "source": [
    "# Get Catapult by period data"
   ]
  },
  {
   "cell_type": "code",
   "execution_count": 1,
   "metadata": {},
   "outputs": [],
   "source": [
    "from pathlib import Path\n",
    "import pandas as pd\n",
    "import numpy as np\n",
    "from src.data.get_catapult_by_period import GetCatapultPeriod\n",
    "from src.data.tools import export_data, read_dtypes_json"
   ]
  },
  {
   "cell_type": "code",
   "execution_count": 2,
   "metadata": {},
   "outputs": [],
   "source": [
    "RAW_DATA_PATH = Path(\"../data/raw/catapult/\")\n",
    "PROCESSED_DATA_PATH = Path(\"../data/processed/\")"
   ]
  },
  {
   "cell_type": "markdown",
   "metadata": {},
   "source": [
    "## Import"
   ]
  },
  {
   "cell_type": "code",
   "execution_count": 3,
   "metadata": {},
   "outputs": [
    {
     "data": {
      "text/plain": [
       "\u001b[0;31mInit signature:\u001b[0m \u001b[0mGetCatapultPeriod\u001b[0m\u001b[0;34m(\u001b[0m\u001b[0minput_dir\u001b[0m\u001b[0;34m,\u001b[0m \u001b[0mby\u001b[0m\u001b[0;34m,\u001b[0m \u001b[0moutput_filename\u001b[0m\u001b[0;34m,\u001b[0m \u001b[0mblacklist\u001b[0m\u001b[0;34m)\u001b[0m\u001b[0;34m\u001b[0m\u001b[0m\n",
       "\u001b[0;31mDocstring:\u001b[0m      <no docstring>\n",
       "\u001b[0;31mSource:\u001b[0m        \n",
       "\u001b[0;32mclass\u001b[0m \u001b[0mGetCatapultPeriod\u001b[0m\u001b[0;34m:\u001b[0m\u001b[0;34m\u001b[0m\n",
       "\u001b[0;34m\u001b[0m    \u001b[0;32mdef\u001b[0m \u001b[0m__init__\u001b[0m\u001b[0;34m(\u001b[0m\u001b[0mself\u001b[0m\u001b[0;34m,\u001b[0m \u001b[0minput_dir\u001b[0m\u001b[0;34m,\u001b[0m \u001b[0mby\u001b[0m\u001b[0;34m,\u001b[0m \u001b[0moutput_filename\u001b[0m\u001b[0;34m,\u001b[0m \u001b[0mblacklist\u001b[0m\u001b[0;34m)\u001b[0m\u001b[0;34m:\u001b[0m\u001b[0;34m\u001b[0m\n",
       "\u001b[0;34m\u001b[0m        \u001b[0;34m\"\"\"\u001b[0m\n",
       "\u001b[0;34m        Parameters\u001b[0m\n",
       "\u001b[0;34m        ----------\u001b[0m\n",
       "\u001b[0;34m        input_dir : Path\u001b[0m\n",
       "\u001b[0;34m            Data directory containing csv files\u001b[0m\n",
       "\u001b[0;34m        by : str\u001b[0m\n",
       "\u001b[0;34m            return data by session (mean of period) or by period\u001b[0m\n",
       "\u001b[0;34m        output_filename : Path\u001b[0m\n",
       "\u001b[0;34m            filename where to export data (support feather & csv extension)\u001b[0m\n",
       "\u001b[0;34m        blacklist : list\u001b[0m\n",
       "\u001b[0;34m            list of columns to remove (use filter's `like`)\u001b[0m\n",
       "\u001b[0;34m        \"\"\"\u001b[0m\u001b[0;34m\u001b[0m\n",
       "\u001b[0;34m\u001b[0m        \u001b[0mself\u001b[0m\u001b[0;34m.\u001b[0m\u001b[0mdata_dir\u001b[0m \u001b[0;34m=\u001b[0m \u001b[0minput_dir\u001b[0m\u001b[0;34m\u001b[0m\n",
       "\u001b[0;34m\u001b[0m        \u001b[0mself\u001b[0m\u001b[0;34m.\u001b[0m\u001b[0mby\u001b[0m \u001b[0;34m=\u001b[0m \u001b[0;34m\"==\"\u001b[0m \u001b[0;32mif\u001b[0m \u001b[0mby\u001b[0m \u001b[0;34m==\u001b[0m \u001b[0;34m\"session\"\u001b[0m \u001b[0;32melse\u001b[0m \u001b[0;34m\"!=\"\u001b[0m\u001b[0;34m\u001b[0m\n",
       "\u001b[0;34m\u001b[0m        \u001b[0mself\u001b[0m\u001b[0;34m.\u001b[0m\u001b[0moutput_filename\u001b[0m \u001b[0;34m=\u001b[0m \u001b[0moutput_filename\u001b[0m\u001b[0;34m\u001b[0m\n",
       "\u001b[0;34m\u001b[0m        \u001b[0mself\u001b[0m\u001b[0;34m.\u001b[0m\u001b[0mblacklist\u001b[0m \u001b[0;34m=\u001b[0m \u001b[0mblacklist\u001b[0m\u001b[0;34m\u001b[0m\n",
       "\u001b[0;34m\u001b[0m\u001b[0;34m\u001b[0m\n",
       "\u001b[0;34m\u001b[0m        \u001b[0mself\u001b[0m\u001b[0;34m.\u001b[0m\u001b[0miter_file\u001b[0m\u001b[0;34m(\u001b[0m\u001b[0;34m)\u001b[0m\u001b[0;34m\u001b[0m\n",
       "\u001b[0;34m\u001b[0m\u001b[0;34m\u001b[0m\n",
       "\u001b[0;34m\u001b[0m    \u001b[0;32mdef\u001b[0m \u001b[0miter_file\u001b[0m\u001b[0;34m(\u001b[0m\u001b[0mself\u001b[0m\u001b[0;34m)\u001b[0m\u001b[0;34m:\u001b[0m\u001b[0;34m\u001b[0m\n",
       "\u001b[0;34m\u001b[0m        \u001b[0mexport_data\u001b[0m\u001b[0;34m(\u001b[0m\u001b[0;34m\u001b[0m\n",
       "\u001b[0;34m\u001b[0m            \u001b[0mdata\u001b[0m\u001b[0;34m=\u001b[0m\u001b[0mpd\u001b[0m\u001b[0;34m.\u001b[0m\u001b[0mconcat\u001b[0m\u001b[0;34m(\u001b[0m\u001b[0;34m\u001b[0m\n",
       "\u001b[0;34m\u001b[0m                \u001b[0;34m[\u001b[0m\u001b[0mself\u001b[0m\u001b[0;34m.\u001b[0m\u001b[0mopen_file\u001b[0m\u001b[0;34m(\u001b[0m\u001b[0mifile\u001b[0m\u001b[0;34m)\u001b[0m \u001b[0;32mfor\u001b[0m \u001b[0mifile\u001b[0m \u001b[0;32min\u001b[0m \u001b[0mself\u001b[0m\u001b[0;34m.\u001b[0m\u001b[0mdata_dir\u001b[0m\u001b[0;34m.\u001b[0m\u001b[0mglob\u001b[0m\u001b[0;34m(\u001b[0m\u001b[0;34m\"*.csv\"\u001b[0m\u001b[0;34m)\u001b[0m\u001b[0;34m]\u001b[0m\u001b[0;34m\u001b[0m\n",
       "\u001b[0;34m\u001b[0m            \u001b[0;34m)\u001b[0m\u001b[0;34m,\u001b[0m\u001b[0;34m\u001b[0m\n",
       "\u001b[0;34m\u001b[0m            \u001b[0mfilename\u001b[0m\u001b[0;34m=\u001b[0m\u001b[0mself\u001b[0m\u001b[0;34m.\u001b[0m\u001b[0moutput_filename\u001b[0m\u001b[0;34m,\u001b[0m\u001b[0;34m\u001b[0m\n",
       "\u001b[0;34m\u001b[0m            \u001b[0moptimize_dtypes\u001b[0m\u001b[0;34m=\u001b[0m\u001b[0;32mTrue\u001b[0m\u001b[0;34m,\u001b[0m\u001b[0;34m\u001b[0m\n",
       "\u001b[0;34m\u001b[0m            \u001b[0mblacklist\u001b[0m\u001b[0;34m=\u001b[0m\u001b[0mself\u001b[0m\u001b[0;34m.\u001b[0m\u001b[0mblacklist\u001b[0m\u001b[0;34m,\u001b[0m\u001b[0;34m\u001b[0m\n",
       "\u001b[0;34m\u001b[0m            \u001b[0mduration_cols\u001b[0m\u001b[0;34m=\u001b[0m\u001b[0;34m[\u001b[0m\u001b[0;34m\"duration\"\u001b[0m\u001b[0;34m]\u001b[0m\u001b[0;34m,\u001b[0m\u001b[0;34m\u001b[0m\n",
       "\u001b[0;34m\u001b[0m        \u001b[0;34m)\u001b[0m\u001b[0;34m\u001b[0m\n",
       "\u001b[0;34m\u001b[0m\u001b[0;34m\u001b[0m\n",
       "\u001b[0;34m\u001b[0m    \u001b[0;32mdef\u001b[0m \u001b[0mopen_file\u001b[0m\u001b[0;34m(\u001b[0m\u001b[0mself\u001b[0m\u001b[0;34m,\u001b[0m \u001b[0mfilename\u001b[0m\u001b[0;34m)\u001b[0m\u001b[0;34m:\u001b[0m\u001b[0;34m\u001b[0m\n",
       "\u001b[0;34m\u001b[0m        \u001b[0;32mreturn\u001b[0m \u001b[0;34m(\u001b[0m\u001b[0;34m\u001b[0m\n",
       "\u001b[0;34m\u001b[0m            \u001b[0mpd\u001b[0m\u001b[0;34m.\u001b[0m\u001b[0mread_csv\u001b[0m\u001b[0;34m(\u001b[0m\u001b[0mfilename\u001b[0m\u001b[0;34m,\u001b[0m \u001b[0mheader\u001b[0m\u001b[0;34m=\u001b[0m\u001b[0;36m9\u001b[0m\u001b[0;34m)\u001b[0m\u001b[0;34m\u001b[0m\n",
       "\u001b[0;34m\u001b[0m            \u001b[0;34m.\u001b[0m\u001b[0mrename\u001b[0m\u001b[0;34m(\u001b[0m\u001b[0mcolumns\u001b[0m\u001b[0;34m=\u001b[0m\u001b[0;32mlambda\u001b[0m \u001b[0mx\u001b[0m\u001b[0;34m:\u001b[0m \u001b[0mx\u001b[0m\u001b[0;34m.\u001b[0m\u001b[0mlower\u001b[0m\u001b[0;34m(\u001b[0m\u001b[0;34m)\u001b[0m\u001b[0;34m.\u001b[0m\u001b[0mreplace\u001b[0m\u001b[0;34m(\u001b[0m\u001b[0;34m\" \"\u001b[0m\u001b[0;34m,\u001b[0m \u001b[0;34m\"_\"\u001b[0m\u001b[0;34m)\u001b[0m\u001b[0;34m)\u001b[0m\u001b[0;34m\u001b[0m\n",
       "\u001b[0;34m\u001b[0m            \u001b[0;34m.\u001b[0m\u001b[0massign\u001b[0m\u001b[0;34m(\u001b[0m\u001b[0;34m\u001b[0m\n",
       "\u001b[0;34m\u001b[0m                \u001b[0msession_type\u001b[0m\u001b[0;34m=\u001b[0m\u001b[0mfilename\u001b[0m\u001b[0;34m.\u001b[0m\u001b[0mstem\u001b[0m\u001b[0;34m.\u001b[0m\u001b[0msplit\u001b[0m\u001b[0;34m(\u001b[0m\u001b[0;34m\"_\"\u001b[0m\u001b[0;34m)\u001b[0m\u001b[0;34m[\u001b[0m\u001b[0;34m-\u001b[0m\u001b[0;36m1\u001b[0m\u001b[0;34m]\u001b[0m\u001b[0;34m,\u001b[0m\u001b[0;34m\u001b[0m\n",
       "\u001b[0;34m\u001b[0m                \u001b[0mdate\u001b[0m\u001b[0;34m=\u001b[0m\u001b[0;32mlambda\u001b[0m \u001b[0mx\u001b[0m\u001b[0;34m:\u001b[0m \u001b[0mpd\u001b[0m\u001b[0;34m.\u001b[0m\u001b[0mto_datetime\u001b[0m\u001b[0;34m(\u001b[0m\u001b[0mx\u001b[0m\u001b[0;34m[\u001b[0m\u001b[0;34m\"date\"\u001b[0m\u001b[0;34m]\u001b[0m\u001b[0;34m,\u001b[0m \u001b[0mformat\u001b[0m\u001b[0;34m=\u001b[0m\u001b[0;34m\"%d/%m/%Y\"\u001b[0m\u001b[0;34m)\u001b[0m\u001b[0;34m,\u001b[0m\u001b[0;34m\u001b[0m\n",
       "\u001b[0;34m\u001b[0m            \u001b[0;34m)\u001b[0m\u001b[0;34m\u001b[0m\n",
       "\u001b[0;34m\u001b[0m            \u001b[0;34m.\u001b[0m\u001b[0mquery\u001b[0m\u001b[0;34m(\u001b[0m\u001b[0;34mf\"period_name {self.by} 'Session'\"\u001b[0m\u001b[0;34m)\u001b[0m\u001b[0;34m\u001b[0m\n",
       "\u001b[0;34m\u001b[0m        \u001b[0;34m)\u001b[0m\u001b[0;34m\u001b[0m\u001b[0m\n",
       "\u001b[0;31mFile:\u001b[0m           ~/Documents/codes/rocket/src/data/get_catapult_by_period.py\n",
       "\u001b[0;31mType:\u001b[0m           type\n"
      ]
     },
     "metadata": {},
     "output_type": "display_data"
    }
   ],
   "source": [
    "??GetCatapultPeriod"
   ]
  },
  {
   "cell_type": "code",
   "execution_count": 4,
   "metadata": {},
   "outputs": [
    {
     "name": "stdout",
     "output_type": "stream",
     "text": [
      "memory usage:\n",
      "\t39.99 MB\n",
      "cols dropped:\n",
      "\t['hr_0-50%_mins', 'hr_50-65%_mins', 'hr_65-75%_mins', 'hr_75-85%_mins', 'hr_85-90%_mins', 'hr_>90%_mins', 'minimum_heart_rate', 'mean_heart_rate', 'maximum_heart_rate', 'start_time', 'end_time', 'trimp', 'trimp/min', 'trimp/pl']\n",
      "cols converted to total seconds:\n",
      "\t['total_duration', 'player_load_band_1_total_duration', 'player_load_band_2_total_duration', 'player_load_band_3_total_duration', 'player_load_band_4_total_duration', 'player_load_band_5_total_duration', 'player_load_band_6_total_duration', 'player_load_band_7_total_duration', 'player_load_band_8_total_duration', 'total_work_bout_duration', 'total_work_duration']\n",
      "optimized memory usage:\n",
      "\t6.51 MB\n",
      "`catapult_by_period` writtten in: `/home/romain/Documents/codes/rocket/data/processed`\n"
     ]
    }
   ],
   "source": [
    "# we want to drop the `session` data (mean of all periods)\n",
    "by = \"period\"\n",
    "\n",
    "# we want to drop somes fields (containing the following strings)\n",
    "blacklist = [\"hr\", \"heart\", \"time\", \"trimp\"]\n",
    "\n",
    "output_filename = PROCESSED_DATA_PATH / \"catapult_by_period.csv\"\n",
    "GetCatapultPeriod(RAW_DATA_PATH / \"by_period\", by, output_filename, blacklist);"
   ]
  },
  {
   "cell_type": "markdown",
   "metadata": {
    "toc-hr-collapsed": true
   },
   "source": [
    "## Cleaning"
   ]
  },
  {
   "cell_type": "code",
   "execution_count": 5,
   "metadata": {},
   "outputs": [
    {
     "name": "stdout",
     "output_type": "stream",
     "text": [
      "you may want to convert ['date'] to datetime\n"
     ]
    }
   ],
   "source": [
    "by_period = pd.read_csv(\n",
    "    output_filename, dtype=read_dtypes_json(output_filename), parse_dates=[\"date\"]\n",
    ")"
   ]
  },
  {
   "cell_type": "markdown",
   "metadata": {},
   "source": [
    "### Fix strings"
   ]
  },
  {
   "cell_type": "code",
   "execution_count": 6,
   "metadata": {},
   "outputs": [],
   "source": [
    "periods = {\n",
    "    \"1ST\": \"1 ST\",\n",
    "    \" 1 ST\": \"1 ST\",\n",
    "    \"2 nd\": \"2 ND\",\n",
    "    \"Quarter 3\": \"3 RD\",\n",
    "    \"Quarter 4\": \"OT\",\n",
    "    \"EXTRA\": \"OVERTIME\",\n",
    "}\n",
    "positions = {\"D\": \"Defenseman\", \"RW\": \"Winger\", \"LW\": \"Winger\", \"C\": \"Center\"}\n",
    "\n",
    "by_period = by_period.assign(\n",
    "    player_name=by_period[\"player_name\"].apply(\n",
    "        lambda a: f\"{a.split(' ')[1].upper()}, {a.split(' ')[0]}\"\n",
    "    ),\n",
    "    position_name=by_period[\"position_name\"].replace(positions),\n",
    "    period_name=by_period[\"period_name\"].replace(periods),\n",
    ")"
   ]
  },
  {
   "cell_type": "markdown",
   "metadata": {},
   "source": [
    "### Fix assigment mistake"
   ]
  },
  {
   "cell_type": "code",
   "execution_count": 7,
   "metadata": {},
   "outputs": [],
   "source": [
    "by_period.loc[\n",
    "    by_period[\"player_name\"] == \"MCCARRON, Michael\", \"position_name\"\n",
    "] = \"Center\"\n",
    "\n",
    "by_period[\"player_name\"].cat.rename_categories(\n",
    "    {\", Trevor\": \"OWENS, Trevor\"}, inplace=True\n",
    ")"
   ]
  },
  {
   "cell_type": "code",
   "execution_count": 9,
   "metadata": {},
   "outputs": [],
   "source": [
    "def replace_session_type(l):\n",
    "    by_period.loc[\n",
    "        (by_period[\"date\"] == l[0]) & (by_period[\"session_type\"] == l[1]),\n",
    "        \"session_type\",\n",
    "    ] = l[2]\n",
    "\n",
    "\n",
    "r = [\n",
    "    [\"2018-04-11\", \"SKILL\", \"PRACTICE\"],\n",
    "    [\"2017-10-07\", \"MORNING\", \"HEALTHY\"],\n",
    "    [\"2017-12-01\", \"MORNING\", \"OPT\"],\n",
    "    [\"2018-02-09\", \"MORNING\", \"OPT\"],\n",
    "    [\"2018-02-23\", \"MORNING\", \"HEALTHY\"],\n",
    "    [\"2018-03-02\", \"MORNING\", \"HEALTHY\"],\n",
    "    [\"2018-03-07\", \"MORNING\", \"OPT\"],\n",
    "    [\"2018-04-13\", \"MORNING\", \"OPT\"],\n",
    "]\n",
    "\n",
    "\n",
    "for i in r:\n",
    "    replace_session_type(i)"
   ]
  },
  {
   "cell_type": "code",
   "execution_count": 10,
   "metadata": {},
   "outputs": [],
   "source": [
    "def drop_rows(l):\n",
    "    return by_period[\n",
    "        ~(\n",
    "            (by_period[\"player_name\"] == l[0])\n",
    "            & (by_period[\"session_type\"] == l[1])\n",
    "            & (by_period[\"date\"] == l[2])\n",
    "        )\n",
    "    ]\n",
    "\n",
    "\n",
    "d = [\n",
    "    [\"TAORMINA, Matt\", \"GAME\", \"2017-10-06\"],\n",
    "    [\"BROLL, David\", \"GAME\", \"2017-10-13\"],\n",
    "    [\"BAUN, Kyle\", \"GAME\", \"2017-10-20\"],\n",
    "    [\"BAUN, Kyle\", \"GAME\", \"2017-10-21\"],\n",
    "    [\"BROLL, David\", \"GAME\", \"2017-10-28\"],\n",
    "    [\"JERABEK, Jakub\", \"GAME\", \"2017-11-11\"],\n",
    "    [\"PARISI, Thomas\", \"GAME\", \"2017-11-11\"],\n",
    "    [\"AUDETTE, Daniel\", \"GAME\", \"2017-11-17\"],\n",
    "    [\"GELINAS, Eric\", \"GAME\", \"2017-11-29\"],\n",
    "    [\"AUDETTE, Daniel\", \"GAME\", \"2017-12-01\"],\n",
    "    [\"LERNOUT, Brett\", \"GAME\", \"2017-12-02\"],\n",
    "    [\"BROLL, David\", \"GAME\", \"2017-12-02\"],\n",
    "    [\"TERRY, Chris\", \"GAME\", \"2017-12-09\"],\n",
    "    [\"BOURQUE, Simon\", \"GAME\", \"2017-12-09\"],\n",
    "    [\"BROLL, David\", \"GAME\", \"2018-01-13\"],\n",
    "    [\"GREGOIRE, Jeremy\", \"GAME\", \"2018-01-19\"],\n",
    "    [\"TERRY, Chris\", \"GAME\", \"2018-01-27\"],\n",
    "    [\"VEILLEUX, Yannick\", \"GAME\", \"2018-01-27\"],\n",
    "    [\"AUDETTE, Daniel\", \"GAME\", \"2018-02-10\"],\n",
    "    [\"EBBING, Thomas\", \"GAME\", \"2018-02-10\"],\n",
    "    [\"AUDETTE, Daniel\", \"GAME\", \"2018-02-23\"],\n",
    "    [\"BROLL, David\", \"GAME\", \"2018-02-23\"],\n",
    "    [\"PARISI, Thomas\", \"GAME\", \"2018-02-23\"],\n",
    "    [\"BROLL, David\", \"GAME\", \"2018-03-02\"],\n",
    "    [\"GELINAS, Eric\", \"GAME\", \"2018-03-16\"],\n",
    "    [\"AUSTIN, Johnny\", \"GAME\", \"2018-03-28\"],\n",
    "    [\"EISENSCHMID, Markus\", \"GAME\", \"2018-03-28\"],\n",
    "    [\"GREGOIRE, Jeremy\", \"GAME\", \"2018-03-31\"],\n",
    "    [\"VEILLEUX, Yannick\", \"GAME\", \"2018-04-04\"],\n",
    "    [\"EBBING, Thomas\", \"GAME\", \"2018-04-14\"],\n",
    "    [\"WAKED, Antoine\", \"GAME\", \"2018-04-14\"],\n",
    "    [\"PARISI, Thomas\", \"GAME\", \"2018-02-03\"],\n",
    "    [\"PARISI, Thomas\", \"GAME\", \"2018-02-07\"],\n",
    "    [\"PARISI, Thomas\", \"GAME\", \"2018-02-09\"],\n",
    "    [\"PARISI, Thomas\", \"GAME\", \"2018-02-10\"],\n",
    "]\n",
    "\n",
    "for i in d:\n",
    "    by_period = drop_rows(i)"
   ]
  },
  {
   "cell_type": "markdown",
   "metadata": {
    "toc-hr-collapsed": true
   },
   "source": [
    "## Export data"
   ]
  },
  {
   "cell_type": "code",
   "execution_count": 11,
   "metadata": {},
   "outputs": [
    {
     "name": "stdout",
     "output_type": "stream",
     "text": [
      "memory usage:\n",
      "\t8.71 MB\n",
      "optimized memory usage:\n",
      "\t6.49 MB\n",
      "`catapult_by_period` writtten in: `/home/romain/Documents/codes/rocket/data/processed`\n"
     ]
    }
   ],
   "source": [
    "export_data(by_period, output_filename, optimize_dtypes=True)"
   ]
  },
  {
   "cell_type": "markdown",
   "metadata": {},
   "source": [
    "<!--NAVIGATION-->\n",
    "< [Get the data (include cleaning)](01.00-Get-the-data.ipynb) | [Contents](Index.ipynb) |"
   ]
  }
 ],
 "metadata": {
  "kernelspec": {
   "display_name": "Python 3",
   "language": "python",
   "name": "conda-env-pyosim_aws-py"
  },
  "language_info": {
   "codemirror_mode": {
    "name": "ipython",
    "version": 3
   },
   "file_extension": ".py",
   "mimetype": "text/x-python",
   "name": "python",
   "nbconvert_exporter": "python",
   "pygments_lexer": "ipython3",
   "version": "3.7.2"
  }
 },
 "nbformat": 4,
 "nbformat_minor": 2
}
