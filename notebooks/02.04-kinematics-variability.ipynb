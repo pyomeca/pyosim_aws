{
 "cells": [
  {
   "cell_type": "markdown",
   "metadata": {},
   "source": [
    "<!--BOOK_INFORMATION-->\n",
    "<img style=\"float: right; width: 100px\" src=\"https://raw.github.com/pyomeca/design/master/logo/logo_cropped.svg?sanitize=true\">\n",
    "\n",
    "<font size=\"+2\">Pyosim in the cloud</font>\n",
    "\n",
    "<font size=\"+1\">with [pyomeca](https://github.com/pyomeca/pyom</font>a)\n",
    "\n",
    "Romain Martinez (martinez.staps@gmail.com | [GitHub](https://github.com/romainmartinez))\n"
   ]
  },
  {
   "cell_type": "markdown",
   "metadata": {},
   "source": [
    "<!--NAVIGATION-->\n",
    "< [Analyses](02.00-men-women.ipynb) | [Contents](Index.ipynb) | [Joint reactions](02.02-joint-reactions.ipynb) >"
   ]
  },
  {
   "cell_type": "markdown",
   "metadata": {},
   "source": [
    "# Kinematics variability"
   ]
  },
  {
   "cell_type": "code",
   "execution_count": 1,
   "metadata": {},
   "outputs": [],
   "source": [
    "from pathlib import Path\n",
    "\n",
    "import yaml\n",
    "import numpy as np\n",
    "import pandas as pd\n",
    "import altair as alt\n",
    "from pyosim import Conf\n",
    "from pyomeca import Analogs3d\n",
    "import spm1d\n",
    "import matplotlib.pyplot as plt\n",
    "\n",
    "from src.util import (\n",
    "    parse_conditions,\n",
    "    condition_counter,\n",
    "    random_balanced_design,\n",
    "    get_spm_cluster,\n",
    "    ridge_plot,\n",
    "    describe_clusters,\n",
    ")"
   ]
  },
  {
   "cell_type": "code",
   "execution_count": 2,
   "metadata": {},
   "outputs": [],
   "source": [
    "%load_ext autoreload\n",
    "%autoreload 2\n",
    "%load_ext lab_black\n",
    "alt.data_transformers.enable(\"json\")\n",
    "# to make this notebook's output stable across runs\n",
    "RANDOM_SEED = 42\n",
    "np.random.seed(RANDOM_SEED)"
   ]
  },
  {
   "cell_type": "code",
   "execution_count": 3,
   "metadata": {},
   "outputs": [
    {
     "name": "stdout",
     "output_type": "stream",
     "text": [
      "Project loaded\n",
      "Configuration file loaded\n"
     ]
    }
   ],
   "source": [
    "aws_conf = yaml.safe_load(open(\"../conf.yml\"))\n",
    "\n",
    "conf = Conf(project_path=aws_conf[\"path\"][\"project\"][\"local\"])\n",
    "conf.check_confs()"
   ]
  },
  {
   "cell_type": "markdown",
   "metadata": {},
   "source": [
    "## Reading files"
   ]
  },
  {
   "cell_type": "code",
   "execution_count": 4,
   "metadata": {},
   "outputs": [
    {
     "data": {
      "text/html": [
       "<div>\n",
       "<style scoped>\n",
       "    .dataframe tbody tr th:only-of-type {\n",
       "        vertical-align: middle;\n",
       "    }\n",
       "\n",
       "    .dataframe tbody tr th {\n",
       "        vertical-align: top;\n",
       "    }\n",
       "\n",
       "    .dataframe thead th {\n",
       "        text-align: right;\n",
       "    }\n",
       "</style>\n",
       "<table border=\"1\" class=\"dataframe\">\n",
       "  <thead>\n",
       "    <tr style=\"text-align: right;\">\n",
       "      <th></th>\n",
       "      <th>index</th>\n",
       "      <th>thorax_tilt_moment</th>\n",
       "      <th>thorax_list_moment</th>\n",
       "      <th>thorax_rotation_moment</th>\n",
       "      <th>thorax_tx_force</th>\n",
       "      <th>thorax_ty_force</th>\n",
       "      <th>thorax_tz_force</th>\n",
       "      <th>box_rotX_moment</th>\n",
       "      <th>box_rotY_moment</th>\n",
       "      <th>box_rotZ_moment</th>\n",
       "      <th>...</th>\n",
       "      <th>elbow_flexion_moment</th>\n",
       "      <th>pro_sup_moment</th>\n",
       "      <th>hand_r_Add_moment</th>\n",
       "      <th>hand_r_Flex_moment</th>\n",
       "      <th>filename</th>\n",
       "      <th>participant</th>\n",
       "      <th>men</th>\n",
       "      <th>height</th>\n",
       "      <th>mass</th>\n",
       "      <th>n_trial</th>\n",
       "    </tr>\n",
       "  </thead>\n",
       "  <tbody>\n",
       "    <tr>\n",
       "      <th>101</th>\n",
       "      <td>0.00</td>\n",
       "      <td>7.449919</td>\n",
       "      <td>-12.017170</td>\n",
       "      <td>-0.409545</td>\n",
       "      <td>0.254581</td>\n",
       "      <td>233.261989</td>\n",
       "      <td>2.144789</td>\n",
       "      <td>0.000000</td>\n",
       "      <td>0.000000e+00</td>\n",
       "      <td>0.000000</td>\n",
       "      <td>...</td>\n",
       "      <td>1.722348</td>\n",
       "      <td>0.050725</td>\n",
       "      <td>0.061872</td>\n",
       "      <td>-0.264751</td>\n",
       "      <td>CamBF6H2_1</td>\n",
       "      <td>camb</td>\n",
       "      <td>0</td>\n",
       "      <td>2</td>\n",
       "      <td>6</td>\n",
       "      <td>1</td>\n",
       "    </tr>\n",
       "    <tr>\n",
       "      <th>102</th>\n",
       "      <td>0.01</td>\n",
       "      <td>9.791712</td>\n",
       "      <td>-13.028653</td>\n",
       "      <td>-1.435676</td>\n",
       "      <td>-6.909239</td>\n",
       "      <td>235.801182</td>\n",
       "      <td>7.671516</td>\n",
       "      <td>0.000043</td>\n",
       "      <td>-1.942890e-05</td>\n",
       "      <td>-0.000033</td>\n",
       "      <td>...</td>\n",
       "      <td>1.900383</td>\n",
       "      <td>0.240947</td>\n",
       "      <td>0.111326</td>\n",
       "      <td>-0.298590</td>\n",
       "      <td>CamBF6H2_1</td>\n",
       "      <td>camb</td>\n",
       "      <td>0</td>\n",
       "      <td>2</td>\n",
       "      <td>6</td>\n",
       "      <td>1</td>\n",
       "    </tr>\n",
       "    <tr>\n",
       "      <th>103</th>\n",
       "      <td>0.02</td>\n",
       "      <td>10.055537</td>\n",
       "      <td>-11.154893</td>\n",
       "      <td>-2.009678</td>\n",
       "      <td>-4.840682</td>\n",
       "      <td>236.902413</td>\n",
       "      <td>13.315561</td>\n",
       "      <td>-0.000024</td>\n",
       "      <td>6.716200e-06</td>\n",
       "      <td>0.000008</td>\n",
       "      <td>...</td>\n",
       "      <td>2.164831</td>\n",
       "      <td>0.531914</td>\n",
       "      <td>0.087649</td>\n",
       "      <td>-0.389567</td>\n",
       "      <td>CamBF6H2_1</td>\n",
       "      <td>camb</td>\n",
       "      <td>0</td>\n",
       "      <td>2</td>\n",
       "      <td>6</td>\n",
       "      <td>1</td>\n",
       "    </tr>\n",
       "    <tr>\n",
       "      <th>104</th>\n",
       "      <td>0.03</td>\n",
       "      <td>10.758266</td>\n",
       "      <td>-7.961517</td>\n",
       "      <td>-2.373552</td>\n",
       "      <td>-1.727230</td>\n",
       "      <td>242.003493</td>\n",
       "      <td>15.856095</td>\n",
       "      <td>-0.000020</td>\n",
       "      <td>-8.490000e-07</td>\n",
       "      <td>0.000045</td>\n",
       "      <td>...</td>\n",
       "      <td>2.660041</td>\n",
       "      <td>1.041233</td>\n",
       "      <td>0.014597</td>\n",
       "      <td>-0.562963</td>\n",
       "      <td>CamBF6H2_1</td>\n",
       "      <td>camb</td>\n",
       "      <td>0</td>\n",
       "      <td>2</td>\n",
       "      <td>6</td>\n",
       "      <td>1</td>\n",
       "    </tr>\n",
       "    <tr>\n",
       "      <th>105</th>\n",
       "      <td>0.04</td>\n",
       "      <td>15.107797</td>\n",
       "      <td>-4.962267</td>\n",
       "      <td>-4.273886</td>\n",
       "      <td>4.669713</td>\n",
       "      <td>245.803917</td>\n",
       "      <td>15.682532</td>\n",
       "      <td>0.000075</td>\n",
       "      <td>-2.693480e-05</td>\n",
       "      <td>-0.000093</td>\n",
       "      <td>...</td>\n",
       "      <td>2.622905</td>\n",
       "      <td>1.532940</td>\n",
       "      <td>-0.142399</td>\n",
       "      <td>-0.854626</td>\n",
       "      <td>CamBF6H2_1</td>\n",
       "      <td>camb</td>\n",
       "      <td>0</td>\n",
       "      <td>2</td>\n",
       "      <td>6</td>\n",
       "      <td>1</td>\n",
       "    </tr>\n",
       "  </tbody>\n",
       "</table>\n",
       "<p>5 rows × 32 columns</p>\n",
       "</div>"
      ],
      "text/plain": [
       "     index  thorax_tilt_moment  thorax_list_moment  thorax_rotation_moment  \\\n",
       "101   0.00            7.449919          -12.017170               -0.409545   \n",
       "102   0.01            9.791712          -13.028653               -1.435676   \n",
       "103   0.02           10.055537          -11.154893               -2.009678   \n",
       "104   0.03           10.758266           -7.961517               -2.373552   \n",
       "105   0.04           15.107797           -4.962267               -4.273886   \n",
       "\n",
       "     thorax_tx_force  thorax_ty_force  thorax_tz_force  box_rotX_moment  \\\n",
       "101         0.254581       233.261989         2.144789         0.000000   \n",
       "102        -6.909239       235.801182         7.671516         0.000043   \n",
       "103        -4.840682       236.902413        13.315561        -0.000024   \n",
       "104        -1.727230       242.003493        15.856095        -0.000020   \n",
       "105         4.669713       245.803917        15.682532         0.000075   \n",
       "\n",
       "     box_rotY_moment  box_rotZ_moment  ...  elbow_flexion_moment  \\\n",
       "101     0.000000e+00         0.000000  ...              1.722348   \n",
       "102    -1.942890e-05        -0.000033  ...              1.900383   \n",
       "103     6.716200e-06         0.000008  ...              2.164831   \n",
       "104    -8.490000e-07         0.000045  ...              2.660041   \n",
       "105    -2.693480e-05        -0.000093  ...              2.622905   \n",
       "\n",
       "     pro_sup_moment  hand_r_Add_moment  hand_r_Flex_moment    filename  \\\n",
       "101        0.050725           0.061872           -0.264751  CamBF6H2_1   \n",
       "102        0.240947           0.111326           -0.298590  CamBF6H2_1   \n",
       "103        0.531914           0.087649           -0.389567  CamBF6H2_1   \n",
       "104        1.041233           0.014597           -0.562963  CamBF6H2_1   \n",
       "105        1.532940          -0.142399           -0.854626  CamBF6H2_1   \n",
       "\n",
       "     participant  men  height  mass  n_trial  \n",
       "101         camb    0       2     6        1  \n",
       "102         camb    0       2     6        1  \n",
       "103         camb    0       2     6        1  \n",
       "104         camb    0       2     6        1  \n",
       "105         camb    0       2     6        1  \n",
       "\n",
       "[5 rows x 32 columns]"
      ]
     },
     "execution_count": 4,
     "metadata": {},
     "output_type": "execute_result"
    }
   ],
   "source": [
    "suffix = \"\"\n",
    "\n",
    "kin = (\n",
    "    pd.concat(\n",
    "        [\n",
    "            Analogs3d.from_sto(ifile)\n",
    "            .time_normalization()\n",
    "            .to_dataframe()\n",
    "            .assign(filename=ifile.stem)\n",
    "            for ifile in conf.project_path.glob(f\"*/2_inverse_dynamic/*.sto\")\n",
    "        ]\n",
    "    )\n",
    "    .pipe(parse_conditions, suffix=\"wu_\", prefix=suffix)\n",
    "    .reset_index()\n",
    "    .assign(index=lambda x: x[\"index\"] / 100)\n",
    "    .query(\"mass != 18 & height == 2\")\n",
    ")\n",
    "\n",
    "kin.head()"
   ]
  },
  {
   "cell_type": "markdown",
   "metadata": {},
   "source": [
    "## Clean data"
   ]
  },
  {
   "cell_type": "markdown",
   "metadata": {},
   "source": [
    "### Balance dataset\n",
    "\n",
    "By randomly taking the minimum number of trials for each condition"
   ]
  },
  {
   "cell_type": "code",
   "execution_count": 5,
   "metadata": {},
   "outputs": [
    {
     "name": "stdout",
     "output_type": "stream",
     "text": [
      "\u001b[1mInitial\u001b[0m\n",
      "n. participants: 40\n",
      "----------\n",
      "men\n",
      "0    111\n",
      "1    123\n",
      "----------\n",
      "height\n",
      "2    234\n",
      "----------\n",
      "mass\n",
      "6     116\n",
      "12    118\n",
      "----------\n",
      "men  mass\n",
      "0    6       54\n",
      "     12      57\n",
      "1    6       62\n",
      "     12      61\n",
      "----------\n"
     ]
    }
   ],
   "source": [
    "to_bold = lambda x: \"\\033[1m\" + x + \"\\033[0m\"\n",
    "\n",
    "print(to_bold(\"Initial\"))\n",
    "condition_counter(kin)"
   ]
  },
  {
   "cell_type": "code",
   "execution_count": 6,
   "metadata": {},
   "outputs": [
    {
     "name": "stdout",
     "output_type": "stream",
     "text": [
      "\u001b[1mBalanced:\u001b[0m\n",
      "n. participants: 40\n",
      "----------\n",
      "men\n",
      "0    108\n",
      "1    108\n",
      "----------\n",
      "height\n",
      "2    216\n",
      "----------\n",
      "mass\n",
      "6     108\n",
      "12    108\n",
      "----------\n",
      "men  mass\n",
      "0    6       54\n",
      "     12      54\n",
      "1    6       54\n",
      "     12      54\n",
      "----------\n"
     ]
    }
   ],
   "source": [
    "balanced_trials = random_balanced_design(\n",
    "    kin, [\"men\", \"mass\"], random_state=RANDOM_SEED\n",
    ")[\"filename\"].tolist()\n",
    "kin = kin.query(\"filename == @balanced_trials\")\n",
    "\n",
    "print(to_bold(\"Balanced:\"))\n",
    "condition_counter(kin)"
   ]
  },
  {
   "cell_type": "markdown",
   "metadata": {},
   "source": [
    "### Drop unwanted variables"
   ]
  },
  {
   "cell_type": "code",
   "execution_count": 7,
   "metadata": {},
   "outputs": [
    {
     "data": {
      "text/html": [
       "<div>\n",
       "<style scoped>\n",
       "    .dataframe tbody tr th:only-of-type {\n",
       "        vertical-align: middle;\n",
       "    }\n",
       "\n",
       "    .dataframe tbody tr th {\n",
       "        vertical-align: top;\n",
       "    }\n",
       "\n",
       "    .dataframe thead th {\n",
       "        text-align: right;\n",
       "    }\n",
       "</style>\n",
       "<table border=\"1\" class=\"dataframe\">\n",
       "  <thead>\n",
       "    <tr style=\"text-align: right;\">\n",
       "      <th></th>\n",
       "      <th>filename</th>\n",
       "      <th>participant</th>\n",
       "      <th>men</th>\n",
       "      <th>height</th>\n",
       "      <th>mass</th>\n",
       "      <th>n_trial</th>\n",
       "      <th>index</th>\n",
       "      <th>variable</th>\n",
       "      <th>value</th>\n",
       "    </tr>\n",
       "  </thead>\n",
       "  <tbody>\n",
       "    <tr>\n",
       "      <th>0</th>\n",
       "      <td>CamBF6H2_1</td>\n",
       "      <td>camb</td>\n",
       "      <td>0</td>\n",
       "      <td>2</td>\n",
       "      <td>6</td>\n",
       "      <td>1</td>\n",
       "      <td>0.00</td>\n",
       "      <td>thorax_tilt_moment</td>\n",
       "      <td>7.449919</td>\n",
       "    </tr>\n",
       "    <tr>\n",
       "      <th>1</th>\n",
       "      <td>CamBF6H2_1</td>\n",
       "      <td>camb</td>\n",
       "      <td>0</td>\n",
       "      <td>2</td>\n",
       "      <td>6</td>\n",
       "      <td>1</td>\n",
       "      <td>0.01</td>\n",
       "      <td>thorax_tilt_moment</td>\n",
       "      <td>9.791712</td>\n",
       "    </tr>\n",
       "    <tr>\n",
       "      <th>2</th>\n",
       "      <td>CamBF6H2_1</td>\n",
       "      <td>camb</td>\n",
       "      <td>0</td>\n",
       "      <td>2</td>\n",
       "      <td>6</td>\n",
       "      <td>1</td>\n",
       "      <td>0.02</td>\n",
       "      <td>thorax_tilt_moment</td>\n",
       "      <td>10.055537</td>\n",
       "    </tr>\n",
       "    <tr>\n",
       "      <th>3</th>\n",
       "      <td>CamBF6H2_1</td>\n",
       "      <td>camb</td>\n",
       "      <td>0</td>\n",
       "      <td>2</td>\n",
       "      <td>6</td>\n",
       "      <td>1</td>\n",
       "      <td>0.03</td>\n",
       "      <td>thorax_tilt_moment</td>\n",
       "      <td>10.758266</td>\n",
       "    </tr>\n",
       "    <tr>\n",
       "      <th>4</th>\n",
       "      <td>CamBF6H2_1</td>\n",
       "      <td>camb</td>\n",
       "      <td>0</td>\n",
       "      <td>2</td>\n",
       "      <td>6</td>\n",
       "      <td>1</td>\n",
       "      <td>0.04</td>\n",
       "      <td>thorax_tilt_moment</td>\n",
       "      <td>15.107797</td>\n",
       "    </tr>\n",
       "  </tbody>\n",
       "</table>\n",
       "</div>"
      ],
      "text/plain": [
       "     filename participant  men  height  mass  n_trial  index  \\\n",
       "0  CamBF6H2_1        camb    0       2     6        1   0.00   \n",
       "1  CamBF6H2_1        camb    0       2     6        1   0.01   \n",
       "2  CamBF6H2_1        camb    0       2     6        1   0.02   \n",
       "3  CamBF6H2_1        camb    0       2     6        1   0.03   \n",
       "4  CamBF6H2_1        camb    0       2     6        1   0.04   \n",
       "\n",
       "             variable      value  \n",
       "0  thorax_tilt_moment   7.449919  \n",
       "1  thorax_tilt_moment   9.791712  \n",
       "2  thorax_tilt_moment  10.055537  \n",
       "3  thorax_tilt_moment  10.758266  \n",
       "4  thorax_tilt_moment  15.107797  "
      ]
     },
     "execution_count": 7,
     "metadata": {},
     "output_type": "execute_result"
    }
   ],
   "source": [
    "id_vars = [\"filename\", \"participant\", \"men\", \"height\", \"mass\", \"n_trial\", \"index\"]\n",
    "kin_melt = kin.melt(id_vars=id_vars)\n",
    "kin_melt.head()"
   ]
  },
  {
   "cell_type": "code",
   "execution_count": 8,
   "metadata": {},
   "outputs": [],
   "source": [
    "blacklist = [\n",
    "    \"thorax_tx\",\n",
    "    \"thorax_ty\",\n",
    "    \"thorax_tz\",\n",
    "    \"box_rotX\",\n",
    "    \"box_rotY\",\n",
    "    \"box_rotZ\",\n",
    "    \"box_transX\",\n",
    "    \"box_transY\",\n",
    "    \"box_transZ\",\n",
    "]\n",
    "\n",
    "kin_melt = kin_melt.query(\"variable != @blacklist\")"
   ]
  },
  {
   "cell_type": "code",
   "execution_count": 9,
   "metadata": {},
   "outputs": [],
   "source": [
    "x = kin_melt.groupby([\"variable\", \"mass\", \"men\", \"index\"])[\"value\"].std().reset_index()"
   ]
  },
  {
   "cell_type": "code",
   "execution_count": 18,
   "metadata": {},
   "outputs": [
    {
     "data": {
      "text/html": [
       "<div>\n",
       "<style scoped>\n",
       "    .dataframe tbody tr th:only-of-type {\n",
       "        vertical-align: middle;\n",
       "    }\n",
       "\n",
       "    .dataframe tbody tr th {\n",
       "        vertical-align: top;\n",
       "    }\n",
       "\n",
       "    .dataframe thead th {\n",
       "        text-align: right;\n",
       "    }\n",
       "</style>\n",
       "<table border=\"1\" class=\"dataframe\">\n",
       "  <thead>\n",
       "    <tr style=\"text-align: right;\">\n",
       "      <th></th>\n",
       "      <th>men</th>\n",
       "      <th>mass</th>\n",
       "      <th>index</th>\n",
       "      <th>value</th>\n",
       "    </tr>\n",
       "  </thead>\n",
       "  <tbody>\n",
       "    <tr>\n",
       "      <th>0</th>\n",
       "      <td>0</td>\n",
       "      <td>6</td>\n",
       "      <td>0.0</td>\n",
       "      <td>41.063209</td>\n",
       "    </tr>\n",
       "  </tbody>\n",
       "</table>\n",
       "</div>"
      ],
      "text/plain": [
       "   men  mass  index      value\n",
       "0    0     6    0.0  41.063209"
      ]
     },
     "execution_count": 18,
     "metadata": {},
     "output_type": "execute_result"
    }
   ],
   "source": [
    "y = (\n",
    "    x.loc[x.variable.str.contains(\"moment\")]\n",
    "    .groupby([\"men\", \"mass\", \"index\"])[\"value\"]\n",
    "    .sum()\n",
    "    .reset_index()\n",
    ")\n",
    "y.head(1)"
   ]
  },
  {
   "cell_type": "code",
   "execution_count": 19,
   "metadata": {},
   "outputs": [
    {
     "data": {
      "application/vnd.vegalite.v3+json": {
       "$schema": "https://vega.github.io/schema/vega-lite/v3.3.0.json",
       "config": {
        "mark": {
         "tooltip": null
        },
        "view": {
         "height": 300,
         "width": 400
        }
       },
       "data": {
        "format": {
         "type": "json"
        },
        "url": "altair-data-c10741ea25487dce6bfeb787cf030bf2.json"
       },
       "facet": {
        "column": {
         "field": "mass",
         "type": "quantitative"
        }
       },
       "spec": {
        "encoding": {
         "color": {
          "field": "men",
          "type": "nominal"
         },
         "x": {
          "field": "index",
          "type": "quantitative"
         },
         "y": {
          "field": "value",
          "type": "quantitative"
         }
        },
        "mark": "line"
       }
      },
      "image/png": "[encoded data removed]",
      "text/plain": [
       "<VegaLite 3 object>\n",
       "\n",
       "If you see this message, it means the renderer has not been properly enabled\n",
       "for the frontend that you are using. For more information, see\n",
       "https://altair-viz.github.io/user_guide/troubleshooting.html\n"
      ]
     },
     "execution_count": 19,
     "metadata": {},
     "output_type": "execute_result"
    }
   ],
   "source": [
    "alt.Chart().mark_line().encode(\n",
    "    alt.X(\"index\"), alt.Y(\"value\"), alt.Color(\"men:N\")\n",
    ").facet(data=y, column=\"mass\")"
   ]
  },
  {
   "cell_type": "markdown",
   "metadata": {},
   "source": [
    "<!--NAVIGATION-->\n",
    "< [Analyses](02.00-men-women.ipynb) | [Contents](Index.ipynb) | [Joint reactions](02.02-joint-reactions.ipynb) >"
   ]
  }
 ],
 "metadata": {
  "kernelspec": {
   "display_name": "Python [conda env:pyosim_aws]",
   "language": "python",
   "name": "conda-env-pyosim_aws-py"
  },
  "language_info": {
   "codemirror_mode": {
    "name": "ipython",
    "version": 3
   },
   "file_extension": ".py",
   "mimetype": "text/x-python",
   "name": "python",
   "nbconvert_exporter": "python",
   "pygments_lexer": "ipython3",
   "version": "3.7.3"
  },
  "toc-autonumbering": true,
  "toc-showtags": true
 },
 "nbformat": 4,
 "nbformat_minor": 4
}
