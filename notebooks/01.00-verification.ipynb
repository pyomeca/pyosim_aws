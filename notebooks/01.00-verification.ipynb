{
 "cells": [
  {
   "cell_type": "markdown",
   "metadata": {},
   "source": [
    "<!--BOOK_INFORMATION-->\n",
    "<img style=\"float: right; width: 100px\" src=\"https://raw.github.com/pyomeca/design/master/logo/logo_cropped.svg?sanitize=true\">\n",
    "\n",
    "# Pyosim in the cloud\n",
    "## with [pyomeca](https://github.com/pyomeca/pyomeca)\n",
    "Romain Martinez (martinez.staps@gmail.com | [GitHub](https://github.com/romainmartinez))\n"
   ]
  },
  {
   "cell_type": "markdown",
   "metadata": {},
   "source": [
    "<!--NAVIGATION-->\n",
    "< [Logistics](00.00-logistics.ipynb) | [Contents](Index.ipynb) | [Inverse kinematics](01.01-inverse-kinematics.ipynb) >"
   ]
  },
  {
   "cell_type": "markdown",
   "metadata": {},
   "source": [
    "# Verification"
   ]
  },
  {
   "cell_type": "code",
   "execution_count": 1,
   "metadata": {},
   "outputs": [],
   "source": [
    "from pathlib import Path\n",
    "\n",
    "import yaml\n",
    "import numpy as np\n",
    "import pandas as pd\n",
    "import altair as alt\n",
    "from pyosim import Conf\n",
    "from pyomeca import Analogs3d\n",
    "\n",
    "from src.util import parse_conditions"
   ]
  },
  {
   "cell_type": "code",
   "execution_count": 2,
   "metadata": {},
   "outputs": [
    {
     "name": "stdout",
     "output_type": "stream",
     "text": [
      "Project loaded\n",
      "Configuration file loaded\n"
     ]
    }
   ],
   "source": [
    "aws_conf = yaml.safe_load(open(\"../conf.yml\"))\n",
    "\n",
    "conf = Conf(project_path=aws_conf[\"path\"][\"project\"][\"local\"])\n",
    "conf.check_confs()"
   ]
  },
  {
   "cell_type": "markdown",
   "metadata": {},
   "source": [
    "## Project cleaner"
   ]
  },
  {
   "cell_type": "code",
   "execution_count": 3,
   "metadata": {},
   "outputs": [],
   "source": [
    "def clean_project_dir(project, query, contains=None):\n",
    "    for ifile in project.glob(query):\n",
    "        if contains:\n",
    "            if contains not in ifile.stem:\n",
    "                print(ifile.stem)\n",
    "                ifile.unlink()\n",
    "        else:\n",
    "            print(ifile.stem)\n",
    "            ifile.unlink()"
   ]
  },
  {
   "cell_type": "code",
   "execution_count": 4,
   "metadata": {},
   "outputs": [],
   "source": [
    "clean_project_dir(\n",
    "    project=conf.project_path, query=\"*/4_muscle_analysis/*\"\n",
    ")"
   ]
  },
  {
   "cell_type": "code",
   "execution_count": 5,
   "metadata": {},
   "outputs": [],
   "source": [
    "# clean_project_dir(project=conf.project_path, query=\"*/3_static_optimization/*\")"
   ]
  },
  {
   "cell_type": "markdown",
   "metadata": {},
   "source": [
    "## Condition counter"
   ]
  },
  {
   "cell_type": "code",
   "execution_count": 6,
   "metadata": {},
   "outputs": [],
   "source": [
    "PROJECT = Path(\"/home/romain/Downloads/irsst/\")\n",
    "MODEL = \"wu_\"\n",
    "EXT = \".mot\""
   ]
  },
  {
   "cell_type": "code",
   "execution_count": 8,
   "metadata": {},
   "outputs": [
    {
     "data": {
      "text/html": [
       "<div>\n",
       "<style scoped>\n",
       "    .dataframe tbody tr th:only-of-type {\n",
       "        vertical-align: middle;\n",
       "    }\n",
       "\n",
       "    .dataframe tbody tr th {\n",
       "        vertical-align: top;\n",
       "    }\n",
       "\n",
       "    .dataframe thead th {\n",
       "        text-align: right;\n",
       "    }\n",
       "</style>\n",
       "<table border=\"1\" class=\"dataframe\">\n",
       "  <thead>\n",
       "    <tr style=\"text-align: right;\">\n",
       "      <th></th>\n",
       "      <th>filename</th>\n",
       "      <th>trial</th>\n",
       "      <th>tag</th>\n",
       "      <th>note</th>\n",
       "      <th>participant</th>\n",
       "      <th>sex</th>\n",
       "      <th>height</th>\n",
       "      <th>weight</th>\n",
       "      <th>n_trial</th>\n",
       "    </tr>\n",
       "  </thead>\n",
       "  <tbody>\n",
       "    <tr>\n",
       "      <th>0</th>\n",
       "      <td>VerCF6H2_2</td>\n",
       "      <td>wu_VerCF6H2_2.mot</td>\n",
       "      <td>1</td>\n",
       "      <td>NaN</td>\n",
       "      <td>wu_v</td>\n",
       "      <td>e</td>\n",
       "      <td>m</td>\n",
       "      <td>rCF6</td>\n",
       "      <td>t</td>\n",
       "    </tr>\n",
       "    <tr>\n",
       "      <th>1</th>\n",
       "      <td>VerCF12H2_3</td>\n",
       "      <td>wu_VerCF12H2_3.mot</td>\n",
       "      <td>1</td>\n",
       "      <td>NaN</td>\n",
       "      <td>wu_v</td>\n",
       "      <td>e</td>\n",
       "      <td>m</td>\n",
       "      <td>rCF12</td>\n",
       "      <td>t</td>\n",
       "    </tr>\n",
       "    <tr>\n",
       "      <th>2</th>\n",
       "      <td>VerCF6H2_1</td>\n",
       "      <td>wu_VerCF6H2_1.mot</td>\n",
       "      <td>1</td>\n",
       "      <td>NaN</td>\n",
       "      <td>wu_v</td>\n",
       "      <td>e</td>\n",
       "      <td>m</td>\n",
       "      <td>rCF6</td>\n",
       "      <td>t</td>\n",
       "    </tr>\n",
       "    <tr>\n",
       "      <th>3</th>\n",
       "      <td>VerCF12H2_2</td>\n",
       "      <td>wu_VerCF12H2_2.mot</td>\n",
       "      <td>1</td>\n",
       "      <td>NaN</td>\n",
       "      <td>wu_v</td>\n",
       "      <td>e</td>\n",
       "      <td>m</td>\n",
       "      <td>rCF12</td>\n",
       "      <td>t</td>\n",
       "    </tr>\n",
       "    <tr>\n",
       "      <th>4</th>\n",
       "      <td>VerCF6H2_3</td>\n",
       "      <td>wu_VerCF6H2_3.mot</td>\n",
       "      <td>1</td>\n",
       "      <td>NaN</td>\n",
       "      <td>wu_v</td>\n",
       "      <td>e</td>\n",
       "      <td>m</td>\n",
       "      <td>rCF6</td>\n",
       "      <td>t</td>\n",
       "    </tr>\n",
       "  </tbody>\n",
       "</table>\n",
       "</div>"
      ],
      "text/plain": [
       "      filename               trial  tag  note participant sex height weight  \\\n",
       "0   VerCF6H2_2   wu_VerCF6H2_2.mot    1   NaN        wu_v   e      m   rCF6   \n",
       "1  VerCF12H2_3  wu_VerCF12H2_3.mot    1   NaN        wu_v   e      m  rCF12   \n",
       "2   VerCF6H2_1   wu_VerCF6H2_1.mot    1   NaN        wu_v   e      m   rCF6   \n",
       "3  VerCF12H2_2  wu_VerCF12H2_2.mot    1   NaN        wu_v   e      m  rCF12   \n",
       "4   VerCF6H2_3   wu_VerCF6H2_3.mot    1   NaN        wu_v   e      m   rCF6   \n",
       "\n",
       "  n_trial  \n",
       "0       t  \n",
       "1       t  \n",
       "2       t  \n",
       "3       t  \n",
       "4       t  "
      ]
     },
     "execution_count": 8,
     "metadata": {},
     "output_type": "execute_result"
    }
   ],
   "source": [
    "verif.head()"
   ]
  },
  {
   "cell_type": "markdown",
   "metadata": {},
   "source": [
    "<!--NAVIGATION-->\n",
    "< [Logistics](00.00-logistics.ipynb) | [Contents](Index.ipynb) | [Inverse kinematics](01.01-inverse-kinematics.ipynb) >"
   ]
  }
 ],
 "metadata": {
  "kernelspec": {
   "display_name": "Python [conda env:pyosim_aws]",
   "language": "python",
   "name": "conda-env-pyosim_aws-py"
  },
  "language_info": {
   "codemirror_mode": {
    "name": "ipython",
    "version": 3
   },
   "file_extension": ".py",
   "mimetype": "text/x-python",
   "name": "python",
   "nbconvert_exporter": "python",
   "pygments_lexer": "ipython3",
   "version": "3.7.3"
  }
 },
 "nbformat": 4,
 "nbformat_minor": 2
}
