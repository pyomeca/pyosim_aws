{
 "cells": [
  {
   "cell_type": "markdown",
   "metadata": {},
   "source": [
    "<!--BOOK_INFORMATION-->\n",
    "<img style=\"float: right; width: 100px\" src=\"https://upload.wikimedia.org/wikipedia/commons/6/69/Montreal_Canadiens.svg\">\n",
    "\n",
    "# Montreal Canadiens\n",
    "## Machine learning & statistics\n",
    "Romain Martinez ([GitHub](https://github.com/romainmartinez))"
   ]
  },
  {
   "cell_type": "markdown",
   "metadata": {},
   "source": [
    "<!--INDEX_COMMENT-->\n",
    "## Table of Contents\n",
    "\n",
    "### [0. Logistics](00.00-Logistics.ipynb)\n",
    "\n",
    "### [1. Get the data (include cleaning)](01.00-Get-the-data.ipynb)\n",
    "- [Get Catapult by period data](01.01-Catapult-by-period.ipynb)"
   ]
  }
 ],
 "metadata": {
  "anaconda-cloud": {},
  "kernelspec": {
   "display_name": "Python [conda env:rocket]",
   "language": "python",
   "name": "conda-env-rocket-py"
  },
  "language_info": {
   "codemirror_mode": {
    "name": "ipython",
    "version": 3
   },
   "file_extension": ".py",
   "mimetype": "text/x-python",
   "name": "python",
   "nbconvert_exporter": "python",
   "pygments_lexer": "ipython3",
   "version": "3.6.7"
  },
  "toc-autonumbering": false
 },
 "nbformat": 4,
 "nbformat_minor": 2
}
