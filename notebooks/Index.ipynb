{
 "cells": [
  {
   "cell_type": "markdown",
   "metadata": {},
   "source": [
    "<!--BOOK_INFORMATION-->\n",
    "<img style=\"float: right; width: 100px\" src=\"https://upload.wikimedia.org/wikipedia/commons/6/69/Montreal_Canadiens.svg\">\n",
    "\n",
    "# Montreal Canadiens\n",
    "## Machine learning & statistics\n",
    "Romain Martinez ([GitHub](https://github.com/romainmartinez))"
   ]
  },
  {
   "cell_type": "markdown",
   "metadata": {},
   "source": [
    "<!--INDEX_COMMENT-->\n",
    "## Table of Contents\n",
    "\n",
    "### [0. Logistics](00.00-logistics.ipynb)\n",
    "\n",
    "### [1. Verification](01.00-verification.ipynb)\n",
    "- [Raw data](01.01-raw-data.ipynb)\n",
    "- [Inverse kinematics](01.02-inverse-kinematics.ipynb)"
   ]
  }
 ],
 "metadata": {
  "anaconda-cloud": {},
  "kernelspec": {
   "display_name": "Python [conda env:pyosim_aws]",
   "language": "python",
   "name": "conda-env-pyosim_aws-py"
  },
  "language_info": {
   "codemirror_mode": {
    "name": "ipython",
    "version": 3
   },
   "file_extension": ".py",
   "mimetype": "text/x-python",
   "name": "python",
   "nbconvert_exporter": "python",
   "pygments_lexer": "ipython3",
   "version": "3.7.2"
  },
  "toc-autonumbering": false
 },
 "nbformat": 4,
 "nbformat_minor": 2
}
