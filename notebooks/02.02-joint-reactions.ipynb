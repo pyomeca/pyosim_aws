{
 "cells": [
  {
   "cell_type": "markdown",
   "metadata": {},
   "source": [
    "<!--BOOK_INFORMATION-->\n",
    "<img style=\"float: right; width: 100px\" src=\"https://raw.github.com/pyomeca/design/master/logo/logo_cropped.svg?sanitize=true\">\n",
    "\n",
    "<font size=\"+2\">Pyosim in the cloud</font>\n",
    "\n",
    "<font size=\"+1\">with [pyomeca](https://github.com/pyomeca/pyom</font>a)\n",
    "\n",
    "Romain Martinez (martinez.staps@gmail.com | [GitHub](https://github.com/romainmartinez))\n"
   ]
  },
  {
   "cell_type": "markdown",
   "metadata": {},
   "source": [
    "<!--NAVIGATION-->\n",
    "< [Muscle activations & muscles forces](02.01-muscle-activations-forces.ipynb) | [Contents](Index.ipynb) | [Simple ergonomics indicator](02.03-simple-ergonomic.ipynb) >"
   ]
  },
  {
   "cell_type": "markdown",
   "metadata": {},
   "source": [
    "# Joint reactions\n",
    "\n",
    "$$\\text{shear:compression} = \\frac{\\sqrt{x^2 + y^2}}{|z|}$$"
   ]
  },
  {
   "cell_type": "code",
   "execution_count": 1,
   "metadata": {},
   "outputs": [],
   "source": [
    "from pathlib import Path\n",
    "\n",
    "import yaml\n",
    "import numpy as np\n",
    "import pandas as pd\n",
    "import altair as alt\n",
    "from pyosim import Conf\n",
    "from pyomeca import Analogs3d\n",
    "import spm1d\n",
    "import matplotlib.pyplot as plt\n",
    "\n",
    "from src.util import (\n",
    "    parse_conditions,\n",
    "    condition_counter,\n",
    "    random_balanced_design,\n",
    "    get_spm_cluster,\n",
    ")"
   ]
  },
  {
   "cell_type": "code",
   "execution_count": 2,
   "metadata": {},
   "outputs": [],
   "source": [
    "%load_ext autoreload\n",
    "%autoreload 2\n",
    "%load_ext lab_black\n",
    "alt.data_transformers.enable(\"json\")\n",
    "# to make this notebook's output stable across runs\n",
    "RANDOM_SEED = 42\n",
    "np.random.seed(RANDOM_SEED)"
   ]
  },
  {
   "cell_type": "code",
   "execution_count": 3,
   "metadata": {},
   "outputs": [
    {
     "name": "stdout",
     "output_type": "stream",
     "text": [
      "Project loaded\n",
      "Configuration file loaded\n"
     ]
    }
   ],
   "source": [
    "aws_conf = yaml.safe_load(open(\"../conf.yml\"))\n",
    "\n",
    "conf = Conf(project_path=aws_conf[\"path\"][\"project\"][\"local\"])\n",
    "participants = conf.get_participants_to_process()\n",
    "conf.check_confs()"
   ]
  },
  {
   "cell_type": "markdown",
   "metadata": {},
   "source": [
    "## Reading files"
   ]
  },
  {
   "cell_type": "code",
   "execution_count": 4,
   "metadata": {},
   "outputs": [
    {
     "data": {
      "text/html": [
       "<div>\n",
       "<style scoped>\n",
       "    .dataframe tbody tr th:only-of-type {\n",
       "        vertical-align: middle;\n",
       "    }\n",
       "\n",
       "    .dataframe tbody tr th {\n",
       "        vertical-align: top;\n",
       "    }\n",
       "\n",
       "    .dataframe thead th {\n",
       "        text-align: right;\n",
       "    }\n",
       "</style>\n",
       "<table border=\"1\" class=\"dataframe\">\n",
       "  <thead>\n",
       "    <tr style=\"text-align: right;\">\n",
       "      <th></th>\n",
       "      <th>index</th>\n",
       "      <th>filename</th>\n",
       "      <th>participant</th>\n",
       "      <th>men</th>\n",
       "      <th>height</th>\n",
       "      <th>mass</th>\n",
       "      <th>n_trial</th>\n",
       "      <th>sc_ratio</th>\n",
       "      <th>ratio_sup</th>\n",
       "    </tr>\n",
       "  </thead>\n",
       "  <tbody>\n",
       "    <tr>\n",
       "      <th>606</th>\n",
       "      <td>0.00</td>\n",
       "      <td>CamBF6H2_1</td>\n",
       "      <td>camb</td>\n",
       "      <td>0</td>\n",
       "      <td>2</td>\n",
       "      <td>6</td>\n",
       "      <td>1</td>\n",
       "      <td>0.187457</td>\n",
       "      <td>False</td>\n",
       "    </tr>\n",
       "    <tr>\n",
       "      <th>607</th>\n",
       "      <td>0.01</td>\n",
       "      <td>CamBF6H2_1</td>\n",
       "      <td>camb</td>\n",
       "      <td>0</td>\n",
       "      <td>2</td>\n",
       "      <td>6</td>\n",
       "      <td>1</td>\n",
       "      <td>0.195044</td>\n",
       "      <td>False</td>\n",
       "    </tr>\n",
       "    <tr>\n",
       "      <th>608</th>\n",
       "      <td>0.02</td>\n",
       "      <td>CamBF6H2_1</td>\n",
       "      <td>camb</td>\n",
       "      <td>0</td>\n",
       "      <td>2</td>\n",
       "      <td>6</td>\n",
       "      <td>1</td>\n",
       "      <td>0.225951</td>\n",
       "      <td>False</td>\n",
       "    </tr>\n",
       "    <tr>\n",
       "      <th>609</th>\n",
       "      <td>0.03</td>\n",
       "      <td>CamBF6H2_1</td>\n",
       "      <td>camb</td>\n",
       "      <td>0</td>\n",
       "      <td>2</td>\n",
       "      <td>6</td>\n",
       "      <td>1</td>\n",
       "      <td>0.278695</td>\n",
       "      <td>False</td>\n",
       "    </tr>\n",
       "    <tr>\n",
       "      <th>610</th>\n",
       "      <td>0.04</td>\n",
       "      <td>CamBF6H2_1</td>\n",
       "      <td>camb</td>\n",
       "      <td>0</td>\n",
       "      <td>2</td>\n",
       "      <td>6</td>\n",
       "      <td>1</td>\n",
       "      <td>0.219224</td>\n",
       "      <td>False</td>\n",
       "    </tr>\n",
       "  </tbody>\n",
       "</table>\n",
       "</div>"
      ],
      "text/plain": [
       "     index    filename participant  men  height  mass  n_trial  sc_ratio  \\\n",
       "606   0.00  CamBF6H2_1        camb    0       2     6        1  0.187457   \n",
       "607   0.01  CamBF6H2_1        camb    0       2     6        1  0.195044   \n",
       "608   0.02  CamBF6H2_1        camb    0       2     6        1  0.225951   \n",
       "609   0.03  CamBF6H2_1        camb    0       2     6        1  0.278695   \n",
       "610   0.04  CamBF6H2_1        camb    0       2     6        1  0.219224   \n",
       "\n",
       "     ratio_sup  \n",
       "606      False  \n",
       "607      False  \n",
       "608      False  \n",
       "609      False  \n",
       "610      False  "
      ]
     },
     "execution_count": 4,
     "metadata": {},
     "output_type": "execute_result"
    }
   ],
   "source": [
    "suffix = \"_JointReaction_ReactionLoads*\"\n",
    "threshold = 0.56  # dislocation ratio (Dickerson et al.)\n",
    "\n",
    "\n",
    "d = (\n",
    "    pd.concat(\n",
    "        [\n",
    "            Analogs3d.from_sto(\n",
    "                ifile, na_values=[\"             nan\", \"            -nan\"]\n",
    "            )\n",
    "            .time_normalization()\n",
    "            .to_dataframe()\n",
    "            .assign(filename=ifile.stem)\n",
    "            for ifile in conf.project_path.glob(f\"*/5_joint_reaction_force/*{suffix}\")\n",
    "        ]\n",
    "    )\n",
    "    .pipe(parse_conditions, suffix=\"wu_\", prefix=suffix)\n",
    "    .reset_index()\n",
    "    .query(\"mass != 18 & height == 2\")\n",
    "    .eval(\n",
    "        \"sc_ratio = sqrt(GHJ_on_glenoid_in_glenoid_fx ** 2 + GHJ_on_glenoid_in_glenoid_fy ** 2) / GHJ_on_glenoid_in_glenoid_fz.abs()\"\n",
    "    )\n",
    "    .assign(\n",
    "        index=lambda x: x[\"index\"] / 100, ratio_sup=lambda x: x[\"sc_ratio\"] > threshold\n",
    "    )\n",
    ")\n",
    "\n",
    "d = d.drop(d.filter(like=\"GH\", axis=1), axis=1)\n",
    "d.head()"
   ]
  },
  {
   "cell_type": "markdown",
   "metadata": {},
   "source": [
    "## Clean data"
   ]
  },
  {
   "cell_type": "markdown",
   "metadata": {},
   "source": [
    "### Balance dataset\n",
    "\n",
    "By randomly taking the minimum number of trials for each condition"
   ]
  },
  {
   "cell_type": "code",
   "execution_count": 5,
   "metadata": {},
   "outputs": [
    {
     "name": "stdout",
     "output_type": "stream",
     "text": [
      "\u001b[1mInitial\u001b[0m\n",
      "n. participants: 37\n",
      "----------\n",
      "men\n",
      "0    110\n",
      "1    101\n",
      "----------\n",
      "height\n",
      "2    211\n",
      "----------\n",
      "mass\n",
      "6     106\n",
      "12    105\n",
      "----------\n",
      "men  mass\n",
      "0    6       54\n",
      "     12      56\n",
      "1    6       52\n",
      "     12      49\n",
      "----------\n"
     ]
    }
   ],
   "source": [
    "to_bold = lambda x: \"\\033[1m\" + x + \"\\033[0m\"\n",
    "\n",
    "print(to_bold(\"Initial\"))\n",
    "condition_counter(d)"
   ]
  },
  {
   "cell_type": "code",
   "execution_count": 6,
   "metadata": {},
   "outputs": [
    {
     "name": "stdout",
     "output_type": "stream",
     "text": [
      "\u001b[1mBalanced:\u001b[0m\n",
      "n. participants: 37\n",
      "----------\n",
      "men\n",
      "0    98\n",
      "1    98\n",
      "----------\n",
      "height\n",
      "2    196\n",
      "----------\n",
      "mass\n",
      "6     98\n",
      "12    98\n",
      "----------\n",
      "men  mass\n",
      "0    6       49\n",
      "     12      49\n",
      "1    6       49\n",
      "     12      49\n",
      "----------\n"
     ]
    }
   ],
   "source": [
    "balanced_trials = random_balanced_design(d, [\"men\", \"mass\"], random_state=RANDOM_SEED)[\n",
    "    \"filename\"\n",
    "].tolist()\n",
    "d = d.query(\"filename == @balanced_trials\")\n",
    "\n",
    "print(to_bold(\"Balanced:\"))\n",
    "condition_counter(d)"
   ]
  },
  {
   "cell_type": "markdown",
   "metadata": {},
   "source": [
    "## Time above dislocation ratio"
   ]
  },
  {
   "cell_type": "code",
   "execution_count": 7,
   "metadata": {},
   "outputs": [
    {
     "data": {
      "text/html": [
       "<div>\n",
       "<style scoped>\n",
       "    .dataframe tbody tr th:only-of-type {\n",
       "        vertical-align: middle;\n",
       "    }\n",
       "\n",
       "    .dataframe tbody tr th {\n",
       "        vertical-align: top;\n",
       "    }\n",
       "\n",
       "    .dataframe thead th {\n",
       "        text-align: right;\n",
       "    }\n",
       "</style>\n",
       "<table border=\"1\" class=\"dataframe\">\n",
       "  <thead>\n",
       "    <tr style=\"text-align: right;\">\n",
       "      <th></th>\n",
       "      <th>filename</th>\n",
       "      <th>men</th>\n",
       "      <th>mass</th>\n",
       "      <th>ratio_sup</th>\n",
       "    </tr>\n",
       "  </thead>\n",
       "  <tbody>\n",
       "    <tr>\n",
       "      <th>139</th>\n",
       "      <td>NoeLF12H2_1</td>\n",
       "      <td>0</td>\n",
       "      <td>12</td>\n",
       "      <td>0.029703</td>\n",
       "    </tr>\n",
       "    <tr>\n",
       "      <th>113</th>\n",
       "      <td>MarMH12H2_2</td>\n",
       "      <td>1</td>\n",
       "      <td>12</td>\n",
       "      <td>0.000000</td>\n",
       "    </tr>\n",
       "    <tr>\n",
       "      <th>16</th>\n",
       "      <td>AmeGF12H2_1</td>\n",
       "      <td>0</td>\n",
       "      <td>12</td>\n",
       "      <td>0.207921</td>\n",
       "    </tr>\n",
       "    <tr>\n",
       "      <th>75</th>\n",
       "      <td>GabFH12H2_2</td>\n",
       "      <td>1</td>\n",
       "      <td>12</td>\n",
       "      <td>0.000000</td>\n",
       "    </tr>\n",
       "    <tr>\n",
       "      <th>154</th>\n",
       "      <td>RoxDF12H2_1</td>\n",
       "      <td>0</td>\n",
       "      <td>12</td>\n",
       "      <td>0.435644</td>\n",
       "    </tr>\n",
       "  </tbody>\n",
       "</table>\n",
       "</div>"
      ],
      "text/plain": [
       "        filename  men  mass  ratio_sup\n",
       "139  NoeLF12H2_1    0    12   0.029703\n",
       "113  MarMH12H2_2    1    12   0.000000\n",
       "16   AmeGF12H2_1    0    12   0.207921\n",
       "75   GabFH12H2_2    1    12   0.000000\n",
       "154  RoxDF12H2_1    0    12   0.435644"
      ]
     },
     "execution_count": 7,
     "metadata": {},
     "output_type": "execute_result"
    }
   ],
   "source": [
    "sup_ratio = (\n",
    "    d.groupby([\"filename\", \"men\", \"mass\"])[\"ratio_sup\"]\n",
    "    .apply(lambda x: x.sum() / x.shape[0])\n",
    "    .reset_index()\n",
    ")\n",
    "\n",
    "sup_ratio.sample(5)"
   ]
  },
  {
   "cell_type": "code",
   "execution_count": 8,
   "metadata": {},
   "outputs": [
    {
     "data": {
      "application/vnd.vegalite.v3+json": {
       "$schema": "https://vega.github.io/schema/vega-lite/v3.3.0.json",
       "config": {
        "mark": {
         "tooltip": null
        },
        "view": {
         "height": 300,
         "width": 400
        }
       },
       "data": {
        "format": {
         "type": "json"
        },
        "url": "altair-data-ad6d7514c03d5ebf8e744547ad285395.json"
       },
       "facet": {
        "column": {
         "field": "mass",
         "type": "quantitative"
        }
       },
       "spec": {
        "encoding": {
         "color": {
          "field": "men",
          "scale": {
           "scheme": "set1"
          },
          "type": "nominal"
         },
         "x": {
          "axis": {
           "domain": false,
           "labels": false,
           "ticks": false
          },
          "field": "men",
          "title": null,
          "type": "nominal"
         },
         "y": {
          "axis": {
           "format": "%"
          },
          "field": "ratio_sup",
          "title": "c:s > 0.56 (% temps total)",
          "type": "quantitative"
         }
        },
        "mark": "boxplot"
       }
      },
      "image/png": "[encoded data removed]",
      "text/plain": [
       "<VegaLite 3 object>\n",
       "\n",
       "If you see this message, it means the renderer has not been properly enabled\n",
       "for the frontend that you are using. For more information, see\n",
       "https://altair-viz.github.io/user_guide/troubleshooting.html\n"
      ]
     },
     "execution_count": 8,
     "metadata": {},
     "output_type": "execute_result"
    }
   ],
   "source": [
    "men_scale = alt.Scale(scheme=\"set1\")\n",
    "alt.Chart(sup_ratio).mark_boxplot().encode(\n",
    "    alt.X(\"men:N\", axis=alt.Axis(labels=False, ticks=False, domain=False), title=None),\n",
    "    alt.Y(\"ratio_sup\", axis=alt.Axis(format=\"%\"), title=\"c:s > 0.56 (% temps total)\"),\n",
    "    alt.Color(\"men:N\", scale=men_scale),\n",
    ").facet(column=\"mass\")"
   ]
  },
  {
   "cell_type": "code",
   "execution_count": 9,
   "metadata": {},
   "outputs": [
    {
     "data": {
      "text/plain": [
       "SnPM{F} inference list (0D)\n",
       "   design      :  ANOVA2\n",
       "   nEffects    :  3\n",
       "   nPermUnique :  -1 permutations possible\n",
       "   nPermActual :  10000\n",
       "Effects:\n",
       "   A     F = 4.026    p = 0.045\n",
       "   B     F = 0.603    p = 0.441\n",
       "   AB    F = 0.220    p = 0.643"
      ]
     },
     "execution_count": 9,
     "metadata": {},
     "output_type": "execute_result"
    }
   ],
   "source": [
    "import spm1d\n",
    "\n",
    "alpha = 0.05\n",
    "n_iter = 10_000\n",
    "\n",
    "spm = spm1d.stats.nonparam.anova2(\n",
    "    y=sup_ratio[\"ratio_sup\"], A=sup_ratio[\"men\"], B=sup_ratio[\"mass\"]\n",
    ")\n",
    "spmi = spm.inference(alpha=alpha, iterations=n_iter)\n",
    "spmi"
   ]
  },
  {
   "cell_type": "code",
   "execution_count": 10,
   "metadata": {},
   "outputs": [
    {
     "name": "stdout",
     "output_type": "stream",
     "text": [
      "Main A\n"
     ]
    }
   ],
   "source": [
    "for ispmi in spmi:\n",
    "    if ispmi.h0reject:\n",
    "        print(ispmi.effect)"
   ]
  },
  {
   "cell_type": "code",
   "execution_count": 11,
   "metadata": {},
   "outputs": [],
   "source": [
    "def cohend(a, b):\n",
    "    d = (a.mean() - b.mean()) / (np.sqrt((a.std() ** 2 + b.std() ** 2) / 2))\n",
    "    if np.abs(d) >= 0.8:\n",
    "        effect = \"large\"\n",
    "    elif np.abs(d) >= 0.5:\n",
    "        effect = \"medium\"\n",
    "    elif np.abs(d) >= 0.2:\n",
    "        effect = \"small\"\n",
    "    else:\n",
    "        effect = \"no\"\n",
    "    return d, effect"
   ]
  },
  {
   "cell_type": "code",
   "execution_count": 12,
   "metadata": {},
   "outputs": [
    {
     "name": "stdout",
     "output_type": "stream",
     "text": [
      "0.054051323499696935\n"
     ]
    },
    {
     "data": {
      "text/plain": [
       "(0.28898591507710775, 'small')"
      ]
     },
     "execution_count": 12,
     "metadata": {},
     "output_type": "execute_result"
    }
   ],
   "source": [
    "a, b = [i.values for _, i in sup_ratio.groupby(\"men\")[\"ratio_sup\"]]\n",
    "print(a.mean() - b.mean())\n",
    "cohend(a, b)"
   ]
  },
  {
   "cell_type": "code",
   "execution_count": 13,
   "metadata": {},
   "outputs": [
    {
     "data": {
      "text/plain": [
       "0.054051323499696935"
      ]
     },
     "execution_count": 13,
     "metadata": {},
     "output_type": "execute_result"
    }
   ],
   "source": [
    "sup_ratio.query(\"men == 0\")[\"ratio_sup\"].mean() - sup_ratio.query(\"men == 1\")[\n",
    "    \"ratio_sup\"\n",
    "].mean()"
   ]
  },
  {
   "cell_type": "code",
   "execution_count": 14,
   "metadata": {},
   "outputs": [
    {
     "data": {
      "text/plain": [
       "0.04129880838959851"
      ]
     },
     "execution_count": 14,
     "metadata": {},
     "output_type": "execute_result"
    }
   ],
   "source": [
    "sup_ratio.query(\"men == 0\")[\"ratio_sup\"].std() - sup_ratio.query(\"men == 1\")[\n",
    "    \"ratio_sup\"\n",
    "].std()"
   ]
  },
  {
   "cell_type": "code",
   "execution_count": 15,
   "metadata": {},
   "outputs": [
    {
     "name": "stdout",
     "output_type": "stream",
     "text": [
      "SnPM{F} inference list (0D)\n",
      "   design      :  ANOVA2\n",
      "   nEffects    :  3\n",
      "   nPermUnique :  -1 permutations possible\n",
      "   nPermActual :  10000\n",
      "Effects:\n",
      "   A     F = 4.026    p = 0.045\n",
      "   B     F = 0.603    p = 0.441\n",
      "   AB    F = 0.220    p = 0.643\n",
      "\n"
     ]
    }
   ],
   "source": [
    "spmi.print_summary()"
   ]
  },
  {
   "cell_type": "markdown",
   "metadata": {},
   "source": [
    "<!--NAVIGATION-->\n",
    "< [Muscle activations & muscles forces](02.01-muscle-activations-forces.ipynb) | [Contents](Index.ipynb) | [Simple ergonomics indicator](02.03-simple-ergonomic.ipynb) >"
   ]
  }
 ],
 "metadata": {
  "kernelspec": {
   "display_name": "Python [conda env:pyosim_aws]",
   "language": "python",
   "name": "conda-env-pyosim_aws-py"
  },
  "language_info": {
   "codemirror_mode": {
    "name": "ipython",
    "version": 3
   },
   "file_extension": ".py",
   "mimetype": "text/x-python",
   "name": "python",
   "nbconvert_exporter": "python",
   "pygments_lexer": "ipython3",
   "version": "3.7.3"
  },
  "pycharm": {
   "stem_cell": {
    "cell_type": "raw",
    "metadata": {
     "collapsed": false
    },
    "source": []
   }
  }
 },
 "nbformat": 4,
 "nbformat_minor": 4
}
