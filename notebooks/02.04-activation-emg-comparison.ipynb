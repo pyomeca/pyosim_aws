{
 "cells": [
  {
   "cell_type": "markdown",
   "metadata": {},
   "source": [
    "<!--BOOK_INFORMATION-->\n",
    "<img style=\"float: right; width: 100px\" src=\"https://raw.github.com/pyomeca/design/master/logo/logo_cropped.svg?sanitize=true\">\n",
    "\n",
    "<font size=\"+2\">Pyosim in the cloud</font>\n",
    "\n",
    "<font size=\"+1\">with [pyomeca](https://github.com/pyomeca/pyom</font>a)\n",
    "\n",
    "Romain Martinez (martinez.staps@gmail.com | [GitHub](https://github.com/romainmartinez))\n"
   ]
  },
  {
   "cell_type": "markdown",
   "metadata": {},
   "source": [
    "<!--NAVIGATION-->\n",
    "< [Analyses](02.00-men-women.ipynb) | [Contents](Index.ipynb) | [Joint reactions](02.02-joint-reactions.ipynb) >"
   ]
  },
  {
   "cell_type": "markdown",
   "metadata": {},
   "source": [
    "# Muscle activations & muscles forces"
   ]
  },
  {
   "cell_type": "code",
   "execution_count": 1,
   "metadata": {},
   "outputs": [],
   "source": [
    "from pathlib import Path\n",
    "\n",
    "import yaml\n",
    "import numpy as np\n",
    "import pandas as pd\n",
    "import altair as alt\n",
    "from pyosim import Conf\n",
    "from pyomeca import Analogs3d\n",
    "import spm1d\n",
    "import matplotlib.pyplot as plt\n",
    "\n",
    "from src.util import (\n",
    "    parse_conditions,\n",
    "    condition_counter,\n",
    "    random_balanced_design,\n",
    "    get_spm_cluster,\n",
    "    ridge_plot,\n",
    "    describe_clusters,\n",
    ")"
   ]
  },
  {
   "cell_type": "code",
   "execution_count": 2,
   "metadata": {},
   "outputs": [],
   "source": [
    "%load_ext autoreload\n",
    "%autoreload 2\n",
    "%load_ext lab_black\n",
    "alt.data_transformers.enable(\"json\")\n",
    "# to make this notebook's output stable across runs\n",
    "RANDOM_SEED = 42\n",
    "np.random.seed(RANDOM_SEED)"
   ]
  },
  {
   "cell_type": "code",
   "execution_count": 3,
   "metadata": {},
   "outputs": [
    {
     "name": "stdout",
     "output_type": "stream",
     "text": [
      "Project loaded\n",
      "Configuration file loaded\n"
     ]
    }
   ],
   "source": [
    "aws_conf = yaml.safe_load(open(\"../conf.yml\"))\n",
    "\n",
    "conf = Conf(project_path=aws_conf[\"path\"][\"project\"][\"local\"])\n",
    "conf.check_confs()"
   ]
  },
  {
   "cell_type": "markdown",
   "metadata": {},
   "source": [
    "## Reading files"
   ]
  },
  {
   "cell_type": "code",
   "execution_count": 4,
   "metadata": {},
   "outputs": [
    {
     "data": {
      "text/html": [
       "<div>\n",
       "<style scoped>\n",
       "    .dataframe tbody tr th:only-of-type {\n",
       "        vertical-align: middle;\n",
       "    }\n",
       "\n",
       "    .dataframe tbody tr th {\n",
       "        vertical-align: top;\n",
       "    }\n",
       "\n",
       "    .dataframe thead th {\n",
       "        text-align: right;\n",
       "    }\n",
       "</style>\n",
       "<table border=\"1\" class=\"dataframe\">\n",
       "  <thead>\n",
       "    <tr style=\"text-align: right;\">\n",
       "      <th></th>\n",
       "      <th>index</th>\n",
       "      <th>LVS</th>\n",
       "      <th>TRP1</th>\n",
       "      <th>TRP2</th>\n",
       "      <th>TRP3</th>\n",
       "      <th>TRP4</th>\n",
       "      <th>RMN</th>\n",
       "      <th>RMJ1</th>\n",
       "      <th>RMJ2</th>\n",
       "      <th>SRA1</th>\n",
       "      <th>...</th>\n",
       "      <th>AC3</th>\n",
       "      <th>GH1</th>\n",
       "      <th>GH2</th>\n",
       "      <th>GH3</th>\n",
       "      <th>filename</th>\n",
       "      <th>participant</th>\n",
       "      <th>men</th>\n",
       "      <th>height</th>\n",
       "      <th>mass</th>\n",
       "      <th>n_trial</th>\n",
       "    </tr>\n",
       "  </thead>\n",
       "  <tbody>\n",
       "    <tr>\n",
       "      <th>0</th>\n",
       "      <td>0.00</td>\n",
       "      <td>0.010001</td>\n",
       "      <td>0.010003</td>\n",
       "      <td>0.010001</td>\n",
       "      <td>0.010000</td>\n",
       "      <td>0.010000</td>\n",
       "      <td>0.010000</td>\n",
       "      <td>0.010000</td>\n",
       "      <td>0.010001</td>\n",
       "      <td>0.918577</td>\n",
       "      <td>...</td>\n",
       "      <td>0.197347</td>\n",
       "      <td>-0.009783</td>\n",
       "      <td>0.018975</td>\n",
       "      <td>-0.013833</td>\n",
       "      <td>CamBF6H2_2</td>\n",
       "      <td>camb</td>\n",
       "      <td>0</td>\n",
       "      <td>2</td>\n",
       "      <td>6</td>\n",
       "      <td>2</td>\n",
       "    </tr>\n",
       "    <tr>\n",
       "      <th>1</th>\n",
       "      <td>0.01</td>\n",
       "      <td>0.010008</td>\n",
       "      <td>0.010023</td>\n",
       "      <td>0.010005</td>\n",
       "      <td>0.010002</td>\n",
       "      <td>0.010000</td>\n",
       "      <td>0.010002</td>\n",
       "      <td>0.010003</td>\n",
       "      <td>0.010004</td>\n",
       "      <td>0.981332</td>\n",
       "      <td>...</td>\n",
       "      <td>0.012865</td>\n",
       "      <td>-0.014570</td>\n",
       "      <td>0.022495</td>\n",
       "      <td>-0.004664</td>\n",
       "      <td>CamBF6H2_2</td>\n",
       "      <td>camb</td>\n",
       "      <td>0</td>\n",
       "      <td>2</td>\n",
       "      <td>6</td>\n",
       "      <td>2</td>\n",
       "    </tr>\n",
       "    <tr>\n",
       "      <th>2</th>\n",
       "      <td>0.02</td>\n",
       "      <td>0.054300</td>\n",
       "      <td>0.426400</td>\n",
       "      <td>0.012475</td>\n",
       "      <td>0.010014</td>\n",
       "      <td>0.010001</td>\n",
       "      <td>0.010070</td>\n",
       "      <td>0.010018</td>\n",
       "      <td>0.010021</td>\n",
       "      <td>0.433334</td>\n",
       "      <td>...</td>\n",
       "      <td>0.017376</td>\n",
       "      <td>-0.020438</td>\n",
       "      <td>0.025611</td>\n",
       "      <td>0.008201</td>\n",
       "      <td>CamBF6H2_2</td>\n",
       "      <td>camb</td>\n",
       "      <td>0</td>\n",
       "      <td>2</td>\n",
       "      <td>6</td>\n",
       "      <td>2</td>\n",
       "    </tr>\n",
       "    <tr>\n",
       "      <th>3</th>\n",
       "      <td>0.03</td>\n",
       "      <td>0.121485</td>\n",
       "      <td>0.400511</td>\n",
       "      <td>0.294346</td>\n",
       "      <td>0.110924</td>\n",
       "      <td>0.010019</td>\n",
       "      <td>0.017028</td>\n",
       "      <td>0.010012</td>\n",
       "      <td>0.010007</td>\n",
       "      <td>0.234726</td>\n",
       "      <td>...</td>\n",
       "      <td>0.175679</td>\n",
       "      <td>-0.038571</td>\n",
       "      <td>0.050428</td>\n",
       "      <td>0.017728</td>\n",
       "      <td>CamBF6H2_2</td>\n",
       "      <td>camb</td>\n",
       "      <td>0</td>\n",
       "      <td>2</td>\n",
       "      <td>6</td>\n",
       "      <td>2</td>\n",
       "    </tr>\n",
       "    <tr>\n",
       "      <th>4</th>\n",
       "      <td>0.04</td>\n",
       "      <td>0.050626</td>\n",
       "      <td>0.282258</td>\n",
       "      <td>0.168071</td>\n",
       "      <td>0.045368</td>\n",
       "      <td>0.010018</td>\n",
       "      <td>0.010079</td>\n",
       "      <td>0.010012</td>\n",
       "      <td>0.010009</td>\n",
       "      <td>0.179329</td>\n",
       "      <td>...</td>\n",
       "      <td>0.079193</td>\n",
       "      <td>-0.031775</td>\n",
       "      <td>0.041177</td>\n",
       "      <td>0.015128</td>\n",
       "      <td>CamBF6H2_2</td>\n",
       "      <td>camb</td>\n",
       "      <td>0</td>\n",
       "      <td>2</td>\n",
       "      <td>6</td>\n",
       "      <td>2</td>\n",
       "    </tr>\n",
       "  </tbody>\n",
       "</table>\n",
       "<p>5 rows × 61 columns</p>\n",
       "</div>"
      ],
      "text/plain": [
       "   index       LVS      TRP1      TRP2      TRP3      TRP4       RMN  \\\n",
       "0   0.00  0.010001  0.010003  0.010001  0.010000  0.010000  0.010000   \n",
       "1   0.01  0.010008  0.010023  0.010005  0.010002  0.010000  0.010002   \n",
       "2   0.02  0.054300  0.426400  0.012475  0.010014  0.010001  0.010070   \n",
       "3   0.03  0.121485  0.400511  0.294346  0.110924  0.010019  0.017028   \n",
       "4   0.04  0.050626  0.282258  0.168071  0.045368  0.010018  0.010079   \n",
       "\n",
       "       RMJ1      RMJ2      SRA1  ...       AC3       GH1       GH2       GH3  \\\n",
       "0  0.010000  0.010001  0.918577  ...  0.197347 -0.009783  0.018975 -0.013833   \n",
       "1  0.010003  0.010004  0.981332  ...  0.012865 -0.014570  0.022495 -0.004664   \n",
       "2  0.010018  0.010021  0.433334  ...  0.017376 -0.020438  0.025611  0.008201   \n",
       "3  0.010012  0.010007  0.234726  ...  0.175679 -0.038571  0.050428  0.017728   \n",
       "4  0.010012  0.010009  0.179329  ...  0.079193 -0.031775  0.041177  0.015128   \n",
       "\n",
       "     filename  participant  men  height  mass  n_trial  \n",
       "0  CamBF6H2_2         camb    0       2     6        2  \n",
       "1  CamBF6H2_2         camb    0       2     6        2  \n",
       "2  CamBF6H2_2         camb    0       2     6        2  \n",
       "3  CamBF6H2_2         camb    0       2     6        2  \n",
       "4  CamBF6H2_2         camb    0       2     6        2  \n",
       "\n",
       "[5 rows x 61 columns]"
      ]
     },
     "execution_count": 4,
     "metadata": {},
     "output_type": "execute_result"
    }
   ],
   "source": [
    "suffix = \"_StaticOptimization_activation\"\n",
    "\n",
    "act = (\n",
    "    pd.concat(\n",
    "        [\n",
    "            Analogs3d.from_sto(ifile)\n",
    "            .time_normalization()\n",
    "            .to_dataframe()\n",
    "            .assign(filename=ifile.stem)\n",
    "            for ifile in conf.project_path.glob(f\"*/3_static_optimization/*{suffix}*\")\n",
    "        ]\n",
    "    )\n",
    "    .pipe(parse_conditions, suffix=\"wu_\", prefix=suffix)\n",
    "    .reset_index()\n",
    "    .assign(index=lambda x: x[\"index\"] / 100)\n",
    "    .query(\"mass != 18 & height == 2\")\n",
    ")\n",
    "\n",
    "act.head()"
   ]
  },
  {
   "cell_type": "code",
   "execution_count": 5,
   "metadata": {},
   "outputs": [
    {
     "data": {
      "text/html": [
       "<div>\n",
       "<style scoped>\n",
       "    .dataframe tbody tr th:only-of-type {\n",
       "        vertical-align: middle;\n",
       "    }\n",
       "\n",
       "    .dataframe tbody tr th {\n",
       "        vertical-align: top;\n",
       "    }\n",
       "\n",
       "    .dataframe thead th {\n",
       "        text-align: right;\n",
       "    }\n",
       "</style>\n",
       "<table border=\"1\" class=\"dataframe\">\n",
       "  <thead>\n",
       "    <tr style=\"text-align: right;\">\n",
       "      <th></th>\n",
       "      <th>index</th>\n",
       "      <th>deltant</th>\n",
       "      <th>deltmed</th>\n",
       "      <th>deltpost</th>\n",
       "      <th>biceps</th>\n",
       "      <th>triceps</th>\n",
       "      <th>uptrap</th>\n",
       "      <th>lotrap</th>\n",
       "      <th>serratus</th>\n",
       "      <th>ssp</th>\n",
       "      <th>isp</th>\n",
       "      <th>subs</th>\n",
       "      <th>pect</th>\n",
       "      <th>latissimus</th>\n",
       "      <th>filename</th>\n",
       "      <th>participant</th>\n",
       "      <th>men</th>\n",
       "      <th>height</th>\n",
       "      <th>mass</th>\n",
       "      <th>n_trial</th>\n",
       "    </tr>\n",
       "  </thead>\n",
       "  <tbody>\n",
       "    <tr>\n",
       "      <th>404</th>\n",
       "      <td>0.00</td>\n",
       "      <td>0.114197</td>\n",
       "      <td>0.058601</td>\n",
       "      <td>0.014573</td>\n",
       "      <td>0.053190</td>\n",
       "      <td>0.022817</td>\n",
       "      <td>0.047951</td>\n",
       "      <td>0.151383</td>\n",
       "      <td>0.086940</td>\n",
       "      <td>0.050282</td>\n",
       "      <td>0.095726</td>\n",
       "      <td>0.050806</td>\n",
       "      <td>NaN</td>\n",
       "      <td>NaN</td>\n",
       "      <td>CamBF12H2_1</td>\n",
       "      <td>camb</td>\n",
       "      <td>0</td>\n",
       "      <td>2</td>\n",
       "      <td>12</td>\n",
       "      <td>1</td>\n",
       "    </tr>\n",
       "    <tr>\n",
       "      <th>405</th>\n",
       "      <td>0.01</td>\n",
       "      <td>0.133316</td>\n",
       "      <td>0.068284</td>\n",
       "      <td>0.017511</td>\n",
       "      <td>0.105164</td>\n",
       "      <td>0.026484</td>\n",
       "      <td>0.067053</td>\n",
       "      <td>0.183498</td>\n",
       "      <td>0.119571</td>\n",
       "      <td>0.063062</td>\n",
       "      <td>0.115351</td>\n",
       "      <td>0.055467</td>\n",
       "      <td>NaN</td>\n",
       "      <td>NaN</td>\n",
       "      <td>CamBF12H2_1</td>\n",
       "      <td>camb</td>\n",
       "      <td>0</td>\n",
       "      <td>2</td>\n",
       "      <td>12</td>\n",
       "      <td>1</td>\n",
       "    </tr>\n",
       "    <tr>\n",
       "      <th>406</th>\n",
       "      <td>0.02</td>\n",
       "      <td>0.139726</td>\n",
       "      <td>0.090586</td>\n",
       "      <td>0.019676</td>\n",
       "      <td>0.150051</td>\n",
       "      <td>0.033946</td>\n",
       "      <td>0.076714</td>\n",
       "      <td>0.238565</td>\n",
       "      <td>0.146495</td>\n",
       "      <td>0.076493</td>\n",
       "      <td>0.147490</td>\n",
       "      <td>0.063542</td>\n",
       "      <td>NaN</td>\n",
       "      <td>NaN</td>\n",
       "      <td>CamBF12H2_1</td>\n",
       "      <td>camb</td>\n",
       "      <td>0</td>\n",
       "      <td>2</td>\n",
       "      <td>12</td>\n",
       "      <td>1</td>\n",
       "    </tr>\n",
       "    <tr>\n",
       "      <th>407</th>\n",
       "      <td>0.03</td>\n",
       "      <td>0.134340</td>\n",
       "      <td>0.123589</td>\n",
       "      <td>0.020416</td>\n",
       "      <td>0.163273</td>\n",
       "      <td>0.041905</td>\n",
       "      <td>0.088991</td>\n",
       "      <td>0.284277</td>\n",
       "      <td>0.161037</td>\n",
       "      <td>0.090171</td>\n",
       "      <td>0.179503</td>\n",
       "      <td>0.070484</td>\n",
       "      <td>NaN</td>\n",
       "      <td>NaN</td>\n",
       "      <td>CamBF12H2_1</td>\n",
       "      <td>camb</td>\n",
       "      <td>0</td>\n",
       "      <td>2</td>\n",
       "      <td>12</td>\n",
       "      <td>1</td>\n",
       "    </tr>\n",
       "    <tr>\n",
       "      <th>408</th>\n",
       "      <td>0.04</td>\n",
       "      <td>0.130558</td>\n",
       "      <td>0.164350</td>\n",
       "      <td>0.021960</td>\n",
       "      <td>0.155447</td>\n",
       "      <td>0.046424</td>\n",
       "      <td>0.126223</td>\n",
       "      <td>0.301388</td>\n",
       "      <td>0.169885</td>\n",
       "      <td>0.109233</td>\n",
       "      <td>0.196272</td>\n",
       "      <td>0.071917</td>\n",
       "      <td>NaN</td>\n",
       "      <td>NaN</td>\n",
       "      <td>CamBF12H2_1</td>\n",
       "      <td>camb</td>\n",
       "      <td>0</td>\n",
       "      <td>2</td>\n",
       "      <td>12</td>\n",
       "      <td>1</td>\n",
       "    </tr>\n",
       "  </tbody>\n",
       "</table>\n",
       "</div>"
      ],
      "text/plain": [
       "     index   deltant   deltmed  deltpost    biceps   triceps    uptrap  \\\n",
       "404   0.00  0.114197  0.058601  0.014573  0.053190  0.022817  0.047951   \n",
       "405   0.01  0.133316  0.068284  0.017511  0.105164  0.026484  0.067053   \n",
       "406   0.02  0.139726  0.090586  0.019676  0.150051  0.033946  0.076714   \n",
       "407   0.03  0.134340  0.123589  0.020416  0.163273  0.041905  0.088991   \n",
       "408   0.04  0.130558  0.164350  0.021960  0.155447  0.046424  0.126223   \n",
       "\n",
       "       lotrap  serratus       ssp       isp      subs  pect  latissimus  \\\n",
       "404  0.151383  0.086940  0.050282  0.095726  0.050806   NaN         NaN   \n",
       "405  0.183498  0.119571  0.063062  0.115351  0.055467   NaN         NaN   \n",
       "406  0.238565  0.146495  0.076493  0.147490  0.063542   NaN         NaN   \n",
       "407  0.284277  0.161037  0.090171  0.179503  0.070484   NaN         NaN   \n",
       "408  0.301388  0.169885  0.109233  0.196272  0.071917   NaN         NaN   \n",
       "\n",
       "        filename participant  men  height  mass  n_trial  \n",
       "404  CamBF12H2_1        camb    0       2    12        1  \n",
       "405  CamBF12H2_1        camb    0       2    12        1  \n",
       "406  CamBF12H2_1        camb    0       2    12        1  \n",
       "407  CamBF12H2_1        camb    0       2    12        1  \n",
       "408  CamBF12H2_1        camb    0       2    12        1  "
      ]
     },
     "execution_count": 5,
     "metadata": {},
     "output_type": "execute_result"
    }
   ],
   "source": [
    "offset = 0.05  # take .5 second before and after onsets\n",
    "emg = []\n",
    "\n",
    "for filename in conf.project_path.glob(\"*/_conf.json\"):\n",
    "    participant = filename.parent.stem\n",
    "\n",
    "    onsets = conf.get_conf_field(participant, [\"onset\"])\n",
    "    onsets = {\n",
    "        key: [values[0] - offset, values[1] + offset] for key, values in onsets.items()\n",
    "    }\n",
    "\n",
    "    for key, value in onsets.items():\n",
    "        emg_filename = filename.parent / \"0_emg\" / f\"{key}.sto\"\n",
    "\n",
    "        if emg_filename.is_file:\n",
    "            e = Analogs3d.from_sto(emg_filename)\n",
    "\n",
    "            idx = np.logical_and(\n",
    "                e.get_time_frames < value[1], e.get_time_frames > value[0]\n",
    "            )\n",
    "\n",
    "            emg.append(\n",
    "                e[..., idx]\n",
    "                .time_normalization()\n",
    "                .to_dataframe()\n",
    "                .assign(filename=emg_filename.stem)\n",
    "            )\n",
    "\n",
    "emg = (\n",
    "    pd.concat(emg)\n",
    "    .pipe(parse_conditions, suffix=\"\", prefix=\"\")\n",
    "    .reset_index()\n",
    "    .assign(index=lambda x: x[\"index\"] / 100)\n",
    "    .query(\"mass != 18 & height == 2\")\n",
    ")\n",
    "emg.head()"
   ]
  },
  {
   "cell_type": "markdown",
   "metadata": {},
   "source": [
    "## Clean data"
   ]
  },
  {
   "cell_type": "markdown",
   "metadata": {},
   "source": [
    "### Balance dataset\n",
    "\n",
    "By randomly taking the minimum number of trials for each condition"
   ]
  },
  {
   "cell_type": "code",
   "execution_count": 6,
   "metadata": {},
   "outputs": [
    {
     "name": "stdout",
     "output_type": "stream",
     "text": [
      "\u001b[1mInitial\u001b[0m\n",
      "n. participants: 37\n",
      "----------\n",
      "men\n",
      "0    110\n",
      "1    101\n",
      "----------\n",
      "height\n",
      "2    211\n",
      "----------\n",
      "mass\n",
      "6     106\n",
      "12    105\n",
      "----------\n",
      "men  mass\n",
      "0    6       54\n",
      "     12      56\n",
      "1    6       52\n",
      "     12      49\n",
      "----------\n"
     ]
    }
   ],
   "source": [
    "to_bold = lambda x: \"\\033[1m\" + x + \"\\033[0m\"\n",
    "\n",
    "print(to_bold(\"Initial\"))\n",
    "condition_counter(act)"
   ]
  },
  {
   "cell_type": "code",
   "execution_count": 7,
   "metadata": {},
   "outputs": [
    {
     "name": "stdout",
     "output_type": "stream",
     "text": [
      "\u001b[1mBalanced:\u001b[0m\n",
      "n. participants: 37\n",
      "----------\n",
      "men\n",
      "0    98\n",
      "1    98\n",
      "----------\n",
      "height\n",
      "2    196\n",
      "----------\n",
      "mass\n",
      "6     98\n",
      "12    98\n",
      "----------\n",
      "men  mass\n",
      "0    6       49\n",
      "     12      49\n",
      "1    6       49\n",
      "     12      49\n",
      "----------\n"
     ]
    }
   ],
   "source": [
    "balanced_trials = random_balanced_design(\n",
    "    act, [\"men\", \"mass\"], random_state=RANDOM_SEED\n",
    ")[\"filename\"].tolist()\n",
    "act = act.query(\"filename == @balanced_trials\")\n",
    "emg = emg.query(\"filename == @balanced_trials\")\n",
    "\n",
    "print(to_bold(\"Balanced:\"))\n",
    "condition_counter(act)"
   ]
  },
  {
   "cell_type": "markdown",
   "metadata": {},
   "source": [
    "### Drop unwanted variables"
   ]
  },
  {
   "cell_type": "code",
   "execution_count": 8,
   "metadata": {},
   "outputs": [
    {
     "data": {
      "text/html": [
       "<div>\n",
       "<style scoped>\n",
       "    .dataframe tbody tr th:only-of-type {\n",
       "        vertical-align: middle;\n",
       "    }\n",
       "\n",
       "    .dataframe tbody tr th {\n",
       "        vertical-align: top;\n",
       "    }\n",
       "\n",
       "    .dataframe thead th {\n",
       "        text-align: right;\n",
       "    }\n",
       "</style>\n",
       "<table border=\"1\" class=\"dataframe\">\n",
       "  <thead>\n",
       "    <tr style=\"text-align: right;\">\n",
       "      <th></th>\n",
       "      <th>filename</th>\n",
       "      <th>participant</th>\n",
       "      <th>men</th>\n",
       "      <th>height</th>\n",
       "      <th>mass</th>\n",
       "      <th>n_trial</th>\n",
       "      <th>index</th>\n",
       "      <th>variable</th>\n",
       "      <th>value</th>\n",
       "    </tr>\n",
       "  </thead>\n",
       "  <tbody>\n",
       "    <tr>\n",
       "      <th>0</th>\n",
       "      <td>CamBF6H2_2</td>\n",
       "      <td>camb</td>\n",
       "      <td>0</td>\n",
       "      <td>2</td>\n",
       "      <td>6</td>\n",
       "      <td>2</td>\n",
       "      <td>0.00</td>\n",
       "      <td>LVS</td>\n",
       "      <td>0.010001</td>\n",
       "    </tr>\n",
       "    <tr>\n",
       "      <th>1</th>\n",
       "      <td>CamBF6H2_2</td>\n",
       "      <td>camb</td>\n",
       "      <td>0</td>\n",
       "      <td>2</td>\n",
       "      <td>6</td>\n",
       "      <td>2</td>\n",
       "      <td>0.01</td>\n",
       "      <td>LVS</td>\n",
       "      <td>0.010008</td>\n",
       "    </tr>\n",
       "    <tr>\n",
       "      <th>2</th>\n",
       "      <td>CamBF6H2_2</td>\n",
       "      <td>camb</td>\n",
       "      <td>0</td>\n",
       "      <td>2</td>\n",
       "      <td>6</td>\n",
       "      <td>2</td>\n",
       "      <td>0.02</td>\n",
       "      <td>LVS</td>\n",
       "      <td>0.054300</td>\n",
       "    </tr>\n",
       "    <tr>\n",
       "      <th>3</th>\n",
       "      <td>CamBF6H2_2</td>\n",
       "      <td>camb</td>\n",
       "      <td>0</td>\n",
       "      <td>2</td>\n",
       "      <td>6</td>\n",
       "      <td>2</td>\n",
       "      <td>0.03</td>\n",
       "      <td>LVS</td>\n",
       "      <td>0.121485</td>\n",
       "    </tr>\n",
       "    <tr>\n",
       "      <th>4</th>\n",
       "      <td>CamBF6H2_2</td>\n",
       "      <td>camb</td>\n",
       "      <td>0</td>\n",
       "      <td>2</td>\n",
       "      <td>6</td>\n",
       "      <td>2</td>\n",
       "      <td>0.04</td>\n",
       "      <td>LVS</td>\n",
       "      <td>0.050626</td>\n",
       "    </tr>\n",
       "  </tbody>\n",
       "</table>\n",
       "</div>"
      ],
      "text/plain": [
       "     filename participant  men  height  mass  n_trial  index variable  \\\n",
       "0  CamBF6H2_2        camb    0       2     6        2   0.00      LVS   \n",
       "1  CamBF6H2_2        camb    0       2     6        2   0.01      LVS   \n",
       "2  CamBF6H2_2        camb    0       2     6        2   0.02      LVS   \n",
       "3  CamBF6H2_2        camb    0       2     6        2   0.03      LVS   \n",
       "4  CamBF6H2_2        camb    0       2     6        2   0.04      LVS   \n",
       "\n",
       "      value  \n",
       "0  0.010001  \n",
       "1  0.010008  \n",
       "2  0.054300  \n",
       "3  0.121485  \n",
       "4  0.050626  "
      ]
     },
     "execution_count": 8,
     "metadata": {},
     "output_type": "execute_result"
    }
   ],
   "source": [
    "id_vars = [\"filename\", \"participant\", \"men\", \"height\", \"mass\", \"n_trial\", \"index\"]\n",
    "act_melt = act.melt(id_vars=id_vars)\n",
    "act_melt.head()"
   ]
  },
  {
   "cell_type": "code",
   "execution_count": 9,
   "metadata": {},
   "outputs": [
    {
     "data": {
      "text/html": [
       "<div>\n",
       "<style scoped>\n",
       "    .dataframe tbody tr th:only-of-type {\n",
       "        vertical-align: middle;\n",
       "    }\n",
       "\n",
       "    .dataframe tbody tr th {\n",
       "        vertical-align: top;\n",
       "    }\n",
       "\n",
       "    .dataframe thead th {\n",
       "        text-align: right;\n",
       "    }\n",
       "</style>\n",
       "<table border=\"1\" class=\"dataframe\">\n",
       "  <thead>\n",
       "    <tr style=\"text-align: right;\">\n",
       "      <th></th>\n",
       "      <th>filename</th>\n",
       "      <th>participant</th>\n",
       "      <th>men</th>\n",
       "      <th>height</th>\n",
       "      <th>mass</th>\n",
       "      <th>n_trial</th>\n",
       "      <th>index</th>\n",
       "      <th>variable</th>\n",
       "      <th>value</th>\n",
       "    </tr>\n",
       "  </thead>\n",
       "  <tbody>\n",
       "    <tr>\n",
       "      <th>0</th>\n",
       "      <td>CamBF12H2_1</td>\n",
       "      <td>camb</td>\n",
       "      <td>0</td>\n",
       "      <td>2</td>\n",
       "      <td>12</td>\n",
       "      <td>1</td>\n",
       "      <td>0.00</td>\n",
       "      <td>deltant</td>\n",
       "      <td>0.114197</td>\n",
       "    </tr>\n",
       "    <tr>\n",
       "      <th>1</th>\n",
       "      <td>CamBF12H2_1</td>\n",
       "      <td>camb</td>\n",
       "      <td>0</td>\n",
       "      <td>2</td>\n",
       "      <td>12</td>\n",
       "      <td>1</td>\n",
       "      <td>0.01</td>\n",
       "      <td>deltant</td>\n",
       "      <td>0.133316</td>\n",
       "    </tr>\n",
       "    <tr>\n",
       "      <th>2</th>\n",
       "      <td>CamBF12H2_1</td>\n",
       "      <td>camb</td>\n",
       "      <td>0</td>\n",
       "      <td>2</td>\n",
       "      <td>12</td>\n",
       "      <td>1</td>\n",
       "      <td>0.02</td>\n",
       "      <td>deltant</td>\n",
       "      <td>0.139726</td>\n",
       "    </tr>\n",
       "    <tr>\n",
       "      <th>3</th>\n",
       "      <td>CamBF12H2_1</td>\n",
       "      <td>camb</td>\n",
       "      <td>0</td>\n",
       "      <td>2</td>\n",
       "      <td>12</td>\n",
       "      <td>1</td>\n",
       "      <td>0.03</td>\n",
       "      <td>deltant</td>\n",
       "      <td>0.134340</td>\n",
       "    </tr>\n",
       "    <tr>\n",
       "      <th>4</th>\n",
       "      <td>CamBF12H2_1</td>\n",
       "      <td>camb</td>\n",
       "      <td>0</td>\n",
       "      <td>2</td>\n",
       "      <td>12</td>\n",
       "      <td>1</td>\n",
       "      <td>0.04</td>\n",
       "      <td>deltant</td>\n",
       "      <td>0.130558</td>\n",
       "    </tr>\n",
       "  </tbody>\n",
       "</table>\n",
       "</div>"
      ],
      "text/plain": [
       "      filename participant  men  height  mass  n_trial  index variable  \\\n",
       "0  CamBF12H2_1        camb    0       2    12        1   0.00  deltant   \n",
       "1  CamBF12H2_1        camb    0       2    12        1   0.01  deltant   \n",
       "2  CamBF12H2_1        camb    0       2    12        1   0.02  deltant   \n",
       "3  CamBF12H2_1        camb    0       2    12        1   0.03  deltant   \n",
       "4  CamBF12H2_1        camb    0       2    12        1   0.04  deltant   \n",
       "\n",
       "      value  \n",
       "0  0.114197  \n",
       "1  0.133316  \n",
       "2  0.139726  \n",
       "3  0.134340  \n",
       "4  0.130558  "
      ]
     },
     "execution_count": 9,
     "metadata": {},
     "output_type": "execute_result"
    }
   ],
   "source": [
    "emg_melt = emg.melt(id_vars=id_vars)\n",
    "emg_melt.head()"
   ]
  },
  {
   "cell_type": "code",
   "execution_count": 10,
   "metadata": {},
   "outputs": [],
   "source": [
    "blacklist = [\"AC1\", \"AC2\", \"AC3\", \"SC1\", \"SC2\", \"SC3\", \"GH1\", \"GH2\", \"GH3\"]\n",
    "blacklist = blacklist + [\n",
    "    \"box_Rx\",\n",
    "    \"box_Ry\",\n",
    "    \"box_Rz\",\n",
    "    \"box_Tx\",\n",
    "    \"box_Ty\",\n",
    "    \"box_Tz\",\n",
    "    \"thorax_Tx\",\n",
    "    \"thorax_Ty\",\n",
    "    \"thorax_Tz\",\n",
    "    \"thorax_Rx\",\n",
    "    \"thorax_Ry\",\n",
    "    \"thorax_Rz\",\n",
    "    \"elbow_Rz\",\n",
    "    \"elbow_Ry\",\n",
    "    \"hand_Rz\",\n",
    "    \"hand_Rx\",\n",
    "    \"hand_r_s2h_Fx\",\n",
    "    \"hand_r_s2h_Fy\",\n",
    "    \"hand_r_s2h_Fz\",\n",
    "    \"hand_r_s2h_Tx\",\n",
    "    \"hand_r_s2h_Ty\",\n",
    "    \"hand_r_s2h_Tz\",\n",
    "]\n",
    "\n",
    "act_melt = act_melt.query(\"variable != @blacklist\")"
   ]
  },
  {
   "cell_type": "markdown",
   "metadata": {},
   "source": [
    "## $\\sum$activation"
   ]
  },
  {
   "cell_type": "code",
   "execution_count": 23,
   "metadata": {},
   "outputs": [
    {
     "data": {
      "text/html": [
       "<div>\n",
       "<style scoped>\n",
       "    .dataframe tbody tr th:only-of-type {\n",
       "        vertical-align: middle;\n",
       "    }\n",
       "\n",
       "    .dataframe tbody tr th {\n",
       "        vertical-align: top;\n",
       "    }\n",
       "\n",
       "    .dataframe thead th {\n",
       "        text-align: right;\n",
       "    }\n",
       "</style>\n",
       "<table border=\"1\" class=\"dataframe\">\n",
       "  <thead>\n",
       "    <tr style=\"text-align: right;\">\n",
       "      <th></th>\n",
       "      <th>filename</th>\n",
       "      <th>participant</th>\n",
       "      <th>men</th>\n",
       "      <th>height</th>\n",
       "      <th>mass</th>\n",
       "      <th>n_trial</th>\n",
       "      <th>index</th>\n",
       "      <th>value</th>\n",
       "    </tr>\n",
       "  </thead>\n",
       "  <tbody>\n",
       "    <tr>\n",
       "      <th>0</th>\n",
       "      <td>AimQF12H2_1</td>\n",
       "      <td>aimq</td>\n",
       "      <td>0</td>\n",
       "      <td>2</td>\n",
       "      <td>12</td>\n",
       "      <td>1</td>\n",
       "      <td>0.00</td>\n",
       "      <td>-0.976671</td>\n",
       "    </tr>\n",
       "    <tr>\n",
       "      <th>1</th>\n",
       "      <td>AimQF12H2_1</td>\n",
       "      <td>aimq</td>\n",
       "      <td>0</td>\n",
       "      <td>2</td>\n",
       "      <td>12</td>\n",
       "      <td>1</td>\n",
       "      <td>0.01</td>\n",
       "      <td>-1.066338</td>\n",
       "    </tr>\n",
       "    <tr>\n",
       "      <th>2</th>\n",
       "      <td>AimQF12H2_1</td>\n",
       "      <td>aimq</td>\n",
       "      <td>0</td>\n",
       "      <td>2</td>\n",
       "      <td>12</td>\n",
       "      <td>1</td>\n",
       "      <td>0.02</td>\n",
       "      <td>-1.104176</td>\n",
       "    </tr>\n",
       "    <tr>\n",
       "      <th>3</th>\n",
       "      <td>AimQF12H2_1</td>\n",
       "      <td>aimq</td>\n",
       "      <td>0</td>\n",
       "      <td>2</td>\n",
       "      <td>12</td>\n",
       "      <td>1</td>\n",
       "      <td>0.03</td>\n",
       "      <td>-1.077036</td>\n",
       "    </tr>\n",
       "    <tr>\n",
       "      <th>4</th>\n",
       "      <td>AimQF12H2_1</td>\n",
       "      <td>aimq</td>\n",
       "      <td>0</td>\n",
       "      <td>2</td>\n",
       "      <td>12</td>\n",
       "      <td>1</td>\n",
       "      <td>0.04</td>\n",
       "      <td>-0.963489</td>\n",
       "    </tr>\n",
       "  </tbody>\n",
       "</table>\n",
       "</div>"
      ],
      "text/plain": [
       "      filename participant  men  height  mass  n_trial  index     value\n",
       "0  AimQF12H2_1        aimq    0       2    12        1   0.00 -0.976671\n",
       "1  AimQF12H2_1        aimq    0       2    12        1   0.01 -1.066338\n",
       "2  AimQF12H2_1        aimq    0       2    12        1   0.02 -1.104176\n",
       "3  AimQF12H2_1        aimq    0       2    12        1   0.03 -1.077036\n",
       "4  AimQF12H2_1        aimq    0       2    12        1   0.04 -0.963489"
      ]
     },
     "execution_count": 23,
     "metadata": {},
     "output_type": "execute_result"
    }
   ],
   "source": [
    "sum_act = (\n",
    "    act_melt.groupby(id_vars)[\"value\"]\n",
    "    .sum()\n",
    "    .reset_index()\n",
    "    .eval(\"value = (value - value.mean())/value.std()\")\n",
    ")\n",
    "sum_act.head()"
   ]
  },
  {
   "cell_type": "code",
   "execution_count": 24,
   "metadata": {},
   "outputs": [
    {
     "data": {
      "text/html": [
       "<div>\n",
       "<style scoped>\n",
       "    .dataframe tbody tr th:only-of-type {\n",
       "        vertical-align: middle;\n",
       "    }\n",
       "\n",
       "    .dataframe tbody tr th {\n",
       "        vertical-align: top;\n",
       "    }\n",
       "\n",
       "    .dataframe thead th {\n",
       "        text-align: right;\n",
       "    }\n",
       "</style>\n",
       "<table border=\"1\" class=\"dataframe\">\n",
       "  <thead>\n",
       "    <tr style=\"text-align: right;\">\n",
       "      <th></th>\n",
       "      <th>filename</th>\n",
       "      <th>participant</th>\n",
       "      <th>men</th>\n",
       "      <th>height</th>\n",
       "      <th>mass</th>\n",
       "      <th>n_trial</th>\n",
       "      <th>index</th>\n",
       "      <th>value</th>\n",
       "    </tr>\n",
       "  </thead>\n",
       "  <tbody>\n",
       "    <tr>\n",
       "      <th>0</th>\n",
       "      <td>AimQF12H2_1</td>\n",
       "      <td>aimq</td>\n",
       "      <td>0</td>\n",
       "      <td>2</td>\n",
       "      <td>12</td>\n",
       "      <td>1</td>\n",
       "      <td>0.00</td>\n",
       "      <td>0.291527</td>\n",
       "    </tr>\n",
       "    <tr>\n",
       "      <th>1</th>\n",
       "      <td>AimQF12H2_1</td>\n",
       "      <td>aimq</td>\n",
       "      <td>0</td>\n",
       "      <td>2</td>\n",
       "      <td>12</td>\n",
       "      <td>1</td>\n",
       "      <td>0.01</td>\n",
       "      <td>0.247866</td>\n",
       "    </tr>\n",
       "    <tr>\n",
       "      <th>2</th>\n",
       "      <td>AimQF12H2_1</td>\n",
       "      <td>aimq</td>\n",
       "      <td>0</td>\n",
       "      <td>2</td>\n",
       "      <td>12</td>\n",
       "      <td>1</td>\n",
       "      <td>0.02</td>\n",
       "      <td>0.145308</td>\n",
       "    </tr>\n",
       "    <tr>\n",
       "      <th>3</th>\n",
       "      <td>AimQF12H2_1</td>\n",
       "      <td>aimq</td>\n",
       "      <td>0</td>\n",
       "      <td>2</td>\n",
       "      <td>12</td>\n",
       "      <td>1</td>\n",
       "      <td>0.03</td>\n",
       "      <td>0.152739</td>\n",
       "    </tr>\n",
       "    <tr>\n",
       "      <th>4</th>\n",
       "      <td>AimQF12H2_1</td>\n",
       "      <td>aimq</td>\n",
       "      <td>0</td>\n",
       "      <td>2</td>\n",
       "      <td>12</td>\n",
       "      <td>1</td>\n",
       "      <td>0.04</td>\n",
       "      <td>0.252777</td>\n",
       "    </tr>\n",
       "  </tbody>\n",
       "</table>\n",
       "</div>"
      ],
      "text/plain": [
       "      filename participant  men  height  mass  n_trial  index     value\n",
       "0  AimQF12H2_1        aimq    0       2    12        1   0.00  0.291527\n",
       "1  AimQF12H2_1        aimq    0       2    12        1   0.01  0.247866\n",
       "2  AimQF12H2_1        aimq    0       2    12        1   0.02  0.145308\n",
       "3  AimQF12H2_1        aimq    0       2    12        1   0.03  0.152739\n",
       "4  AimQF12H2_1        aimq    0       2    12        1   0.04  0.252777"
      ]
     },
     "execution_count": 24,
     "metadata": {},
     "output_type": "execute_result"
    }
   ],
   "source": [
    "sum_emg = (\n",
    "    emg_melt.groupby(id_vars)[\"value\"]\n",
    "    .sum()\n",
    "    .reset_index()\n",
    "    .eval(\"value = (value - value.mean())/value.std()\")\n",
    ")\n",
    "sum_emg.head()"
   ]
  },
  {
   "cell_type": "code",
   "execution_count": 25,
   "metadata": {},
   "outputs": [],
   "source": [
    "df_comp = pd.concat(\n",
    "    [sum_act.assign(variable=\"activation\"), sum_emg.assign(variable=\"emg\")]\n",
    ").drop([\"filename\", \"participant\", \"height\", \"n_trial\"], axis=1)"
   ]
  },
  {
   "cell_type": "code",
   "execution_count": 31,
   "metadata": {},
   "outputs": [
    {
     "data": {
      "application/vnd.vegalite.v3+json": {
       "$schema": "https://vega.github.io/schema/vega-lite/v3.3.0.json",
       "config": {
        "mark": {
         "tooltip": null
        },
        "view": {
         "height": 300,
         "width": 400
        }
       },
       "data": {
        "format": {
         "type": "json"
        },
        "url": "altair-data-f1e226a07a025c44dd4c06442cd50f52.json"
       },
       "facet": {
        "column": {
         "field": "mass",
         "title": null,
         "type": "quantitative"
        }
       },
       "spec": {
        "encoding": {
         "color": {
          "field": "variable",
          "type": "nominal"
         },
         "x": {
          "field": "index",
          "type": "quantitative"
         },
         "y": {
          "aggregate": "mean",
          "field": "value",
          "type": "quantitative"
         }
        },
        "mark": "line"
       }
      },
      "image/png": "[encoded data removed]",
      "text/plain": [
       "<VegaLite 3 object>\n",
       "\n",
       "If you see this message, it means the renderer has not been properly enabled\n",
       "for the frontend that you are using. For more information, see\n",
       "https://altair-viz.github.io/user_guide/troubleshooting.html\n"
      ]
     },
     "execution_count": 31,
     "metadata": {},
     "output_type": "execute_result"
    }
   ],
   "source": [
    "alt.Chart().mark_line().encode(\n",
    "    alt.X(\"index\"), alt.Y(\"mean(value)\"), alt.Color(\"variable\")\n",
    ").facet(data=df_comp, column=alt.Column(\"mass\", title=None))"
   ]
  },
  {
   "cell_type": "code",
   "execution_count": 35,
   "metadata": {},
   "outputs": [],
   "source": [
    "base = alt.Chart(df_comp).encode(\n",
    "    alt.X(\n",
    "        \"index\", title=\"Normalized trial\", axis=alt.Axis(format=\"%\", labelFlush=False)\n",
    "    )\n",
    ")\n",
    "mu = base.mark_line().encode(alt.Y(\"mean(value)\", title=\"Z-score\"))\n",
    "sigma = base.mark_errorband(extent=\"ci\").encode(alt.Y(\"value\", title=None))"
   ]
  },
  {
   "cell_type": "code",
   "execution_count": 38,
   "metadata": {},
   "outputs": [
    {
     "data": {
      "application/vnd.vegalite.v3+json": {
       "$schema": "https://vega.github.io/schema/vega-lite/v3.3.0.json",
       "config": {
        "mark": {
         "tooltip": null
        },
        "view": {
         "height": 300,
         "width": 400
        }
       },
       "data": {
        "format": {
         "type": "json"
        },
        "url": "altair-data-f1e226a07a025c44dd4c06442cd50f52.json"
       },
       "encoding": {
        "color": {
         "field": "variable",
         "type": "nominal"
        }
       },
       "layer": [
        {
         "encoding": {
          "x": {
           "axis": {
            "format": "%",
            "labelFlush": false
           },
           "field": "index",
           "title": "Normalized trial",
           "type": "quantitative"
          },
          "y": {
           "aggregate": "mean",
           "field": "value",
           "title": "Z-score",
           "type": "quantitative"
          }
         },
         "mark": "line"
        },
        {
         "encoding": {
          "x": {
           "axis": {
            "format": "%",
            "labelFlush": false
           },
           "field": "index",
           "title": "Normalized trial",
           "type": "quantitative"
          },
          "y": {
           "field": "value",
           "title": null,
           "type": "quantitative"
          }
         },
         "mark": {
          "extent": "ci",
          "type": "errorband"
         }
        }
       ]
      },
      "image/png": "[encoded data removed]",
      "text/plain": [
       "<VegaLite 3 object>\n",
       "\n",
       "If you see this message, it means the renderer has not been properly enabled\n",
       "for the frontend that you are using. For more information, see\n",
       "https://altair-viz.github.io/user_guide/troubleshooting.html\n"
      ]
     },
     "execution_count": 38,
     "metadata": {},
     "output_type": "execute_result"
    }
   ],
   "source": [
    "(mu + sigma).encode(alt.Color(\"variable\"))"
   ]
  },
  {
   "cell_type": "code",
   "execution_count": 37,
   "metadata": {},
   "outputs": [
    {
     "data": {
      "application/vnd.vegalite.v3+json": {
       "$schema": "https://vega.github.io/schema/vega-lite/v3.3.0.json",
       "config": {
        "mark": {
         "tooltip": null
        },
        "view": {
         "height": 300,
         "width": 400
        }
       },
       "data": {
        "format": {
         "type": "json"
        },
        "url": "altair-data-f1e226a07a025c44dd4c06442cd50f52.json"
       },
       "facet": {
        "column": {
         "field": "mass",
         "type": "quantitative"
        }
       },
       "spec": {
        "encoding": {
         "color": {
          "field": "variable",
          "type": "nominal"
         }
        },
        "layer": [
         {
          "encoding": {
           "x": {
            "axis": {
             "format": "%",
             "labelFlush": false
            },
            "field": "index",
            "title": "Normalized trial",
            "type": "quantitative"
           },
           "y": {
            "aggregate": "mean",
            "field": "value",
            "title": "Z-score",
            "type": "quantitative"
           }
          },
          "mark": "line"
         },
         {
          "encoding": {
           "x": {
            "axis": {
             "format": "%",
             "labelFlush": false
            },
            "field": "index",
            "title": "Normalized trial",
            "type": "quantitative"
           },
           "y": {
            "field": "value",
            "title": null,
            "type": "quantitative"
           }
          },
          "mark": {
           "extent": "ci",
           "type": "errorband"
          }
         }
        ]
       }
      },
      "image/png": "[encoded data removed]",
      "text/plain": [
       "<VegaLite 3 object>\n",
       "\n",
       "If you see this message, it means the renderer has not been properly enabled\n",
       "for the frontend that you are using. For more information, see\n",
       "https://altair-viz.github.io/user_guide/troubleshooting.html\n"
      ]
     },
     "execution_count": 37,
     "metadata": {},
     "output_type": "execute_result"
    }
   ],
   "source": [
    "(mu + sigma).encode(alt.Color(\"variable\")).facet(column=\"mass\")"
   ]
  },
  {
   "cell_type": "markdown",
   "metadata": {},
   "source": [
    "<!--NAVIGATION-->\n",
    "< [Analyses](02.00-men-women.ipynb) | [Contents](Index.ipynb) | [Joint reactions](02.02-joint-reactions.ipynb) >"
   ]
  }
 ],
 "metadata": {
  "kernelspec": {
   "display_name": "Python [conda env:pyosim_aws]",
   "language": "python",
   "name": "conda-env-pyosim_aws-py"
  },
  "language_info": {
   "codemirror_mode": {
    "name": "ipython",
    "version": 3
   },
   "file_extension": ".py",
   "mimetype": "text/x-python",
   "name": "python",
   "nbconvert_exporter": "python",
   "pygments_lexer": "ipython3",
   "version": "3.7.3"
  },
  "toc-autonumbering": true,
  "toc-showtags": true
 },
 "nbformat": 4,
 "nbformat_minor": 4
}
