{
 "cells": [
  {
   "cell_type": "markdown",
   "metadata": {},
   "source": [
    "<!--BOOK_INFORMATION-->\n",
    "<img style=\"float: right; width: 100px\" src=\"https://raw.github.com/pyomeca/design/master/logo/logo_cropped.svg?sanitize=true\">\n",
    "\n",
    "<font size=\"+2\">Pyosim in the cloud</font>\n",
    "\n",
    "<font size=\"+1\">with [pyomeca](https://github.com/pyomeca/pyom</font>a)\n",
    "\n",
    "Romain Martinez (martinez.staps@gmail.com | [GitHub](https://github.com/romainmartinez))\n"
   ]
  },
  {
   "cell_type": "markdown",
   "metadata": {},
   "source": [
    "<!--NAVIGATION-->\n",
    "< [Joint contribution](03.01-contributions-evsn.ipynb) | [Contents](Index.ipynb) | [Muscle activations & muscles forces](03.03-muscle-activations-forces.ipynb) >"
   ]
  },
  {
   "cell_type": "markdown",
   "metadata": {},
   "source": [
    "# EMG"
   ]
  },
  {
   "cell_type": "code",
   "execution_count": 1,
   "metadata": {},
   "outputs": [],
   "source": [
    "from pathlib import Path\n",
    "\n",
    "import yaml\n",
    "import numpy as np\n",
    "import pandas as pd\n",
    "import altair as alt\n",
    "from pyomeca import Analogs3d\n",
    "import spm1d\n",
    "import matplotlib.pyplot as plt\n",
    "\n",
    "from src.util import (\n",
    "    random_balanced_design,\n",
    "    get_spm_cluster,\n",
    "    ridge_plot,\n",
    "    describe_clusters,\n",
    ")"
   ]
  },
  {
   "cell_type": "code",
   "execution_count": 2,
   "metadata": {},
   "outputs": [],
   "source": [
    "%load_ext autoreload\n",
    "%autoreload 2\n",
    "%load_ext lab_black\n",
    "alt.data_transformers.enable(\"data_server\")\n",
    "# to make this notebook's output stable across runs\n",
    "RANDOM_SEED = 42\n",
    "np.random.seed(RANDOM_SEED)"
   ]
  },
  {
   "cell_type": "markdown",
   "metadata": {},
   "source": [
    "## Read files"
   ]
  },
  {
   "cell_type": "code",
   "execution_count": 3,
   "metadata": {},
   "outputs": [],
   "source": [
    "project_path = Path(\"/media/romain/E/Projet_ExpertsNovices/opensim/\")"
   ]
  },
  {
   "cell_type": "code",
   "execution_count": 4,
   "metadata": {},
   "outputs": [],
   "source": [
    "def correct_path(x):\n",
    "    return Path(\n",
    "        x.replace(\"home/laboratoire/mnt/E\", \"/media/romain/E\")\n",
    "        #         .replace(\"E:\", \"/media/romain/E\")\n",
    "        .replace(\"1_inverse_kinematic\", \"0_emg\")\n",
    "        .replace(\".mot\", \".sto\")\n",
    "        .replace(\"wu_expertsnovicesD_\", \"\")\n",
    "        .replace(\"wu_expertsnovicesG_\", \"\")\n",
    "    )\n",
    "\n",
    "\n",
    "def parse_conditions(d):\n",
    "    return d.merge(\n",
    "        pd.read_csv(project_path / \"_conf.csv\")[[\"participant\", \"group\"]].rename(\n",
    "            columns={\"group\": \"expert\"}\n",
    "        ),\n",
    "        on=\"participant\",\n",
    "    ).assign(\n",
    "        fatigue=lambda x: x[\"filename\"].str[0].astype(int) - 1,\n",
    "        height=lambda x: x[\"filename\"].str[2].astype(\"category\"),\n",
    "        mass=lambda x: x[\"filename\"].str[3:5].astype(int),\n",
    "        filename=lambda x: x[\"participant\"] + \"_\" + x[\"filename\"],\n",
    "        participant=lambda x: x[\"participant\"].astype(\"category\"),\n",
    "    )"
   ]
  },
  {
   "cell_type": "code",
   "execution_count": 5,
   "metadata": {},
   "outputs": [
    {
     "data": {
      "text/html": [
       "<div>\n",
       "<style scoped>\n",
       "    .dataframe tbody tr th:only-of-type {\n",
       "        vertical-align: middle;\n",
       "    }\n",
       "\n",
       "    .dataframe tbody tr th {\n",
       "        vertical-align: top;\n",
       "    }\n",
       "\n",
       "    .dataframe thead th {\n",
       "        text-align: right;\n",
       "    }\n",
       "</style>\n",
       "<table border=\"1\" class=\"dataframe\">\n",
       "  <thead>\n",
       "    <tr style=\"text-align: right;\">\n",
       "      <th></th>\n",
       "      <th>index</th>\n",
       "      <th>deltant</th>\n",
       "      <th>deltmed</th>\n",
       "      <th>deltpost</th>\n",
       "      <th>biceps</th>\n",
       "      <th>triceps</th>\n",
       "      <th>uptrap</th>\n",
       "      <th>pect</th>\n",
       "      <th>ssp</th>\n",
       "      <th>isp</th>\n",
       "      <th>subs</th>\n",
       "      <th>filename</th>\n",
       "      <th>participant</th>\n",
       "      <th>expert</th>\n",
       "      <th>fatigue</th>\n",
       "      <th>height</th>\n",
       "      <th>mass</th>\n",
       "    </tr>\n",
       "  </thead>\n",
       "  <tbody>\n",
       "    <tr>\n",
       "      <th>47626</th>\n",
       "      <td>0.55</td>\n",
       "      <td>0.534683</td>\n",
       "      <td>0.496311</td>\n",
       "      <td>0.031257</td>\n",
       "      <td>0.042976</td>\n",
       "      <td>0.015479</td>\n",
       "      <td>0.291597</td>\n",
       "      <td>0.060335</td>\n",
       "      <td>0.094930</td>\n",
       "      <td>0.167552</td>\n",
       "      <td>0.045184</td>\n",
       "      <td>sylg_2_r08_1</td>\n",
       "      <td>sylg</td>\n",
       "      <td>0</td>\n",
       "      <td>1</td>\n",
       "      <td>r</td>\n",
       "      <td>8</td>\n",
       "    </tr>\n",
       "    <tr>\n",
       "      <th>47740</th>\n",
       "      <td>0.68</td>\n",
       "      <td>0.715925</td>\n",
       "      <td>0.451459</td>\n",
       "      <td>0.058448</td>\n",
       "      <td>0.456752</td>\n",
       "      <td>0.033789</td>\n",
       "      <td>0.377199</td>\n",
       "      <td>0.169079</td>\n",
       "      <td>0.131059</td>\n",
       "      <td>0.333995</td>\n",
       "      <td>0.083824</td>\n",
       "      <td>sylg_2_r08_2</td>\n",
       "      <td>sylg</td>\n",
       "      <td>0</td>\n",
       "      <td>1</td>\n",
       "      <td>r</td>\n",
       "      <td>8</td>\n",
       "    </tr>\n",
       "    <tr>\n",
       "      <th>27338</th>\n",
       "      <td>0.68</td>\n",
       "      <td>0.428005</td>\n",
       "      <td>0.055976</td>\n",
       "      <td>0.021855</td>\n",
       "      <td>0.282359</td>\n",
       "      <td>0.085201</td>\n",
       "      <td>0.141206</td>\n",
       "      <td>0.640326</td>\n",
       "      <td>0.071381</td>\n",
       "      <td>0.559336</td>\n",
       "      <td>0.125411</td>\n",
       "      <td>jeam_1_r08_6</td>\n",
       "      <td>jeam</td>\n",
       "      <td>1</td>\n",
       "      <td>0</td>\n",
       "      <td>r</td>\n",
       "      <td>8</td>\n",
       "    </tr>\n",
       "    <tr>\n",
       "      <th>46686</th>\n",
       "      <td>0.24</td>\n",
       "      <td>0.017495</td>\n",
       "      <td>0.011309</td>\n",
       "      <td>0.005706</td>\n",
       "      <td>0.255401</td>\n",
       "      <td>0.011310</td>\n",
       "      <td>0.030084</td>\n",
       "      <td>0.139672</td>\n",
       "      <td>0.016226</td>\n",
       "      <td>0.021806</td>\n",
       "      <td>0.062155</td>\n",
       "      <td>sylg_1_r08_4</td>\n",
       "      <td>sylg</td>\n",
       "      <td>0</td>\n",
       "      <td>0</td>\n",
       "      <td>r</td>\n",
       "      <td>8</td>\n",
       "    </tr>\n",
       "    <tr>\n",
       "      <th>13709</th>\n",
       "      <td>0.74</td>\n",
       "      <td>0.534186</td>\n",
       "      <td>0.232606</td>\n",
       "      <td>0.054404</td>\n",
       "      <td>0.181778</td>\n",
       "      <td>0.117249</td>\n",
       "      <td>0.368838</td>\n",
       "      <td>0.326003</td>\n",
       "      <td>0.163299</td>\n",
       "      <td>0.081208</td>\n",
       "      <td>0.000865</td>\n",
       "      <td>didl_1_r08_6</td>\n",
       "      <td>didl</td>\n",
       "      <td>0</td>\n",
       "      <td>0</td>\n",
       "      <td>r</td>\n",
       "      <td>8</td>\n",
       "    </tr>\n",
       "  </tbody>\n",
       "</table>\n",
       "</div>"
      ],
      "text/plain": [
       "       index   deltant   deltmed  deltpost    biceps   triceps    uptrap  \\\n",
       "47626   0.55  0.534683  0.496311  0.031257  0.042976  0.015479  0.291597   \n",
       "47740   0.68  0.715925  0.451459  0.058448  0.456752  0.033789  0.377199   \n",
       "27338   0.68  0.428005  0.055976  0.021855  0.282359  0.085201  0.141206   \n",
       "46686   0.24  0.017495  0.011309  0.005706  0.255401  0.011310  0.030084   \n",
       "13709   0.74  0.534186  0.232606  0.054404  0.181778  0.117249  0.368838   \n",
       "\n",
       "           pect       ssp       isp      subs      filename participant  \\\n",
       "47626  0.060335  0.094930  0.167552  0.045184  sylg_2_r08_1        sylg   \n",
       "47740  0.169079  0.131059  0.333995  0.083824  sylg_2_r08_2        sylg   \n",
       "27338  0.640326  0.071381  0.559336  0.125411  jeam_1_r08_6        jeam   \n",
       "46686  0.139672  0.016226  0.021806  0.062155  sylg_1_r08_4        sylg   \n",
       "13709  0.326003  0.163299  0.081208  0.000865  didl_1_r08_6        didl   \n",
       "\n",
       "       expert  fatigue height  mass  \n",
       "47626       0        1      r     8  \n",
       "47740       0        1      r     8  \n",
       "27338       1        0      r     8  \n",
       "46686       0        0      r     8  \n",
       "13709       0        0      r     8  "
      ]
     },
     "execution_count": 5,
     "metadata": {},
     "output_type": "execute_result"
    }
   ],
   "source": [
    "LOAD = True\n",
    "data_filename = project_path.parent / \"emg\" / \"emg.csv\"\n",
    "\n",
    "if LOAD:\n",
    "    emg = pd.read_csv(\n",
    "        data_filename, dtype={i: \"category\" for i in [\"participant\", \"height\"]}\n",
    "    )\n",
    "else:\n",
    "    emg = []\n",
    "    f = []\n",
    "    onsets = pd.read_csv(project_path / \"onsets.csv\")\n",
    "    for _, ifile in onsets.iterrows():\n",
    "        filename = correct_path(ifile[\"filepathK\"])\n",
    "        if filename in f:\n",
    "            continue\n",
    "        else:\n",
    "            f.append(filename)\n",
    "        try:\n",
    "            e = Analogs3d.from_sto(filename)\n",
    "        except FileNotFoundError:\n",
    "            print(f\"{filename} not found\")\n",
    "            continue\n",
    "\n",
    "        idx = np.logical_and(\n",
    "            e.get_time_frames < ifile[\"offset\"], e.get_time_frames > ifile[\"onset\"]\n",
    "        )\n",
    "        emg.append(\n",
    "            e[..., idx]\n",
    "            .time_normalization()\n",
    "            .to_dataframe()\n",
    "            .assign(filename=filename.stem, participant=filename.parent.parent.stem)\n",
    "        )\n",
    "    emg = (\n",
    "        pd.concat(emg)\n",
    "        .reset_index()\n",
    "        .assign(index=lambda x: x[\"index\"] / 100)\n",
    "        .pipe(parse_conditions)\n",
    "    )\n",
    "    emg.to_csv(data_filename, index=False)\n",
    "\n",
    "emg.sample(5)"
   ]
  },
  {
   "cell_type": "markdown",
   "metadata": {},
   "source": [
    "## Clean data"
   ]
  },
  {
   "cell_type": "markdown",
   "metadata": {},
   "source": [
    "### Keep only relative height and before fatigue"
   ]
  },
  {
   "cell_type": "code",
   "execution_count": 6,
   "metadata": {},
   "outputs": [],
   "source": [
    "emg = emg.query('height == \"r\" & fatigue == 0').drop([\"height\", \"fatigue\"], axis=1)"
   ]
  },
  {
   "cell_type": "markdown",
   "metadata": {},
   "source": [
    "### Balance dataset"
   ]
  },
  {
   "cell_type": "code",
   "execution_count": 7,
   "metadata": {},
   "outputs": [
    {
     "data": {
      "text/plain": [
       "expert  mass\n",
       "0       8       72\n",
       "        12      79\n",
       "1       8       50\n",
       "        12      39\n",
       "dtype: int64"
      ]
     },
     "execution_count": 7,
     "metadata": {},
     "output_type": "execute_result"
    }
   ],
   "source": [
    "emg.drop_duplicates([\"filename\", \"participant\"]).groupby([\"expert\", \"mass\"]).size()"
   ]
  },
  {
   "cell_type": "code",
   "execution_count": 8,
   "metadata": {},
   "outputs": [],
   "source": [
    "balanced_trials = random_balanced_design(\n",
    "    emg, [\"expert\", \"mass\"], random_state=RANDOM_SEED, participant=True\n",
    ")\n",
    "_filename, _participant = (\n",
    "    balanced_trials[\"filename\"].to_list(),\n",
    "    balanced_trials[\"participant\"].to_list(),\n",
    ")"
   ]
  },
  {
   "cell_type": "code",
   "execution_count": 9,
   "metadata": {},
   "outputs": [
    {
     "data": {
      "text/plain": [
       "expert  mass\n",
       "0       8       39\n",
       "        12      39\n",
       "1       8       39\n",
       "        12      39\n",
       "dtype: int64"
      ]
     },
     "execution_count": 9,
     "metadata": {},
     "output_type": "execute_result"
    }
   ],
   "source": [
    "emg = emg.query(\"filename == @_filename & participant == @_participant\")\n",
    "emg.drop_duplicates([\"filename\", \"participant\"]).groupby([\"expert\", \"mass\"]).size()"
   ]
  },
  {
   "cell_type": "code",
   "execution_count": 10,
   "metadata": {},
   "outputs": [
    {
     "data": {
      "text/html": [
       "<div>\n",
       "<style scoped>\n",
       "    .dataframe tbody tr th:only-of-type {\n",
       "        vertical-align: middle;\n",
       "    }\n",
       "\n",
       "    .dataframe tbody tr th {\n",
       "        vertical-align: top;\n",
       "    }\n",
       "\n",
       "    .dataframe thead th {\n",
       "        text-align: right;\n",
       "    }\n",
       "</style>\n",
       "<table border=\"1\" class=\"dataframe\">\n",
       "  <thead>\n",
       "    <tr style=\"text-align: right;\">\n",
       "      <th></th>\n",
       "      <th>filename</th>\n",
       "      <th>participant</th>\n",
       "      <th>expert</th>\n",
       "      <th>mass</th>\n",
       "      <th>index</th>\n",
       "      <th>variable</th>\n",
       "      <th>value</th>\n",
       "    </tr>\n",
       "  </thead>\n",
       "  <tbody>\n",
       "    <tr>\n",
       "      <th>0</th>\n",
       "      <td>antc_1_r08_1</td>\n",
       "      <td>antc</td>\n",
       "      <td>0</td>\n",
       "      <td>8</td>\n",
       "      <td>0.00</td>\n",
       "      <td>deltant</td>\n",
       "      <td>0.033875</td>\n",
       "    </tr>\n",
       "    <tr>\n",
       "      <th>1</th>\n",
       "      <td>antc_1_r08_1</td>\n",
       "      <td>antc</td>\n",
       "      <td>0</td>\n",
       "      <td>8</td>\n",
       "      <td>0.01</td>\n",
       "      <td>deltant</td>\n",
       "      <td>0.033072</td>\n",
       "    </tr>\n",
       "    <tr>\n",
       "      <th>2</th>\n",
       "      <td>antc_1_r08_1</td>\n",
       "      <td>antc</td>\n",
       "      <td>0</td>\n",
       "      <td>8</td>\n",
       "      <td>0.02</td>\n",
       "      <td>deltant</td>\n",
       "      <td>0.030584</td>\n",
       "    </tr>\n",
       "    <tr>\n",
       "      <th>3</th>\n",
       "      <td>antc_1_r08_1</td>\n",
       "      <td>antc</td>\n",
       "      <td>0</td>\n",
       "      <td>8</td>\n",
       "      <td>0.03</td>\n",
       "      <td>deltant</td>\n",
       "      <td>0.027745</td>\n",
       "    </tr>\n",
       "    <tr>\n",
       "      <th>4</th>\n",
       "      <td>antc_1_r08_1</td>\n",
       "      <td>antc</td>\n",
       "      <td>0</td>\n",
       "      <td>8</td>\n",
       "      <td>0.04</td>\n",
       "      <td>deltant</td>\n",
       "      <td>0.024941</td>\n",
       "    </tr>\n",
       "  </tbody>\n",
       "</table>\n",
       "</div>"
      ],
      "text/plain": [
       "       filename participant  expert  mass  index variable     value\n",
       "0  antc_1_r08_1        antc       0     8   0.00  deltant  0.033875\n",
       "1  antc_1_r08_1        antc       0     8   0.01  deltant  0.033072\n",
       "2  antc_1_r08_1        antc       0     8   0.02  deltant  0.030584\n",
       "3  antc_1_r08_1        antc       0     8   0.03  deltant  0.027745\n",
       "4  antc_1_r08_1        antc       0     8   0.04  deltant  0.024941"
      ]
     },
     "execution_count": 10,
     "metadata": {},
     "output_type": "execute_result"
    }
   ],
   "source": [
    "id_vars = [\"filename\", \"participant\", \"expert\", \"mass\", \"index\"]\n",
    "\n",
    "emg_melt = emg.melt(id_vars=id_vars)\n",
    "emg_melt.head()"
   ]
  },
  {
   "cell_type": "markdown",
   "metadata": {
    "pycharm": {
     "name": "#%% md\n"
    }
   },
   "source": [
    "## EMG by muscle"
   ]
  },
  {
   "cell_type": "code",
   "execution_count": 11,
   "metadata": {},
   "outputs": [
    {
     "data": {
      "text/plain": [
       "'<table border=\"1\" class=\"dataframe\">\\n  <thead>\\n    <tr style=\"text-align: right;\">\\n      <th></th>\\n      <th>effect</th>\\n      <th>muscle</th>\\n      <th>p</th>\\n      <th>start</th>\\n      <th>end</th>\\n      <th>diff desc</th>\\n      <th>mean diff</th>\\n      <th>cohen d</th>\\n      <th>cohen effect</th>\\n    </tr>\\n  </thead>\\n  <tbody>\\n    <tr>\\n      <th>0</th>\\n      <td>main expertise</td>\\n      <td>biceps</td>\\n      <td>0.0</td>\\n      <td>0.53</td>\\n      <td>0.66</td>\\n      <td>0 - 1</td>\\n      <td>-0.12</td>\\n      <td>-0.83</td>\\n      <td>large</td>\\n    </tr>\\n    <tr>\\n      <th>0</th>\\n      <td>main expertise</td>\\n      <td>deltant</td>\\n      <td>0.0</td>\\n      <td>0.43</td>\\n      <td>0.62</td>\\n      <td>0 - 1</td>\\n      <td>0.15</td>\\n      <td>0.73</td>\\n      <td>medium</td>\\n    </tr>\\n    <tr>\\n      <th>0</th>\\n      <td>main expertise</td>\\n      <td>deltmed</td>\\n      <td>0.0</td>\\n      <td>0.48</td>\\n      <td>0.63</td>\\n      <td>0 - 1</td>\\n      <td>0.11</td>\\n      <td>0.67</td>\\n      <td>medium</td>\\n    </tr>\\n    <tr>\\n      <th>0</th>\\n      <td>main expertise</td>\\n      <td>pect</td>\\n      <td>0.0</td>\\n      <td>0.69</td>\\n      <td>0.79</td>\\n      <td>0 - 1</td>\\n      <td>-0.14</td>\\n      <td>-0.70</td>\\n      <td>medium</td>\\n    </tr>\\n    <tr>\\n      <th>3</th>\\n      <td>main expertise</td>\\n      <td>ssp</td>\\n      <td>0.0</td>\\n      <td>0.59</td>\\n      <td>0.77</td>\\n      <td>0 - 1</td>\\n      <td>0.12</td>\\n      <td>0.75</td>\\n      <td>medium</td>\\n    </tr>\\n    <tr>\\n      <th>4</th>\\n      <td>main expertise</td>\\n      <td>ssp</td>\\n      <td>0.0</td>\\n      <td>0.79</td>\\n      <td>0.91</td>\\n      <td>0 - 1</td>\\n      <td>0.13</td>\\n      <td>0.64</td>\\n      <td>medium</td>\\n    </tr>\\n    <tr>\\n      <th>4</th>\\n      <td>main expertise</td>\\n      <td>triceps</td>\\n      <td>0.0</td>\\n      <td>0.95</td>\\n      <td>1.00</td>\\n      <td>0 - 1</td>\\n      <td>-0.08</td>\\n      <td>-0.66</td>\\n      <td>medium</td>\\n    </tr>\\n    <tr>\\n      <th>0</th>\\n      <td>main expertise</td>\\n      <td>uptrap</td>\\n      <td>0.0</td>\\n      <td>0.47</td>\\n      <td>0.62</td>\\n      <td>0 - 1</td>\\n      <td>0.10</td>\\n      <td>0.65</td>\\n      <td>medium</td>\\n    </tr>\\n  </tbody>\\n</table>'"
      ]
     },
     "execution_count": 11,
     "metadata": {},
     "output_type": "execute_result"
    }
   ],
   "source": [
    "muscle_order = emg_melt[\"variable\"].unique()\n",
    "effect = {\"main expertise\": \"expert\"}\n",
    "\n",
    "y = emg_melt.set_index([\"variable\"] + id_vars).unstack()\n",
    "y.head()\n",
    "\n",
    "α = 0.05\n",
    "n_iter = 1000\n",
    "\n",
    "out = []\n",
    "\n",
    "for muscle, muscle_df in y.groupby(level=\"variable\"):\n",
    "    spm = spm1d.stats.nonparam.ttest2(\n",
    "        muscle_df.query(\"expert == 0\").to_numpy(),\n",
    "        muscle_df.query(\"expert == 1\").to_numpy(),\n",
    "    )\n",
    "    spmi = spm.inference(α / muscle_order.shape[0], two_tailed=True, iterations=n_iter)\n",
    "    muscle_stats = []\n",
    "    if not spmi.h0reject:\n",
    "        continue\n",
    "    for c in spmi.clusters:\n",
    "        muscle_stats.append(\n",
    "            pd.Series(\n",
    "                {\n",
    "                    \"effect\": \"main expertise\",\n",
    "                    \"muscle\": muscle,\n",
    "                    \"p\": c.P,\n",
    "                    \"start\": c.endpoints[0] * 0.01,\n",
    "                    \"end\": c.endpoints[1] * 0.01,\n",
    "                }\n",
    "            )\n",
    "        )\n",
    "\n",
    "    out.append(\n",
    "        describe_clusters(\n",
    "            clusters=pd.concat(muscle_stats, axis=1).T,\n",
    "            data=emg_melt.query(\"variable == @muscle\"),\n",
    "            effect={\"main expertise\": \"expert\"},\n",
    "        )\n",
    "    )\n",
    "clusters = pd.concat(out)"
   ]
  },
  {
   "cell_type": "code",
   "execution_count": null,
   "outputs": [],
   "source": [
    "alt.Chart().mark_rect(opacity=0.3, color=\"grey\").encode(\n",
    "    alt.X(\"start\"), alt.X2(\"end\")\n",
    ").facet(\n",
    "    data=clusters.rename(columns={\"muscle\": \"variable\"}),\n",
    "    facet=alt.Facet(\"variable\", sort=muscle_order),\n",
    "    columns=2,\n",
    ")"
   ],
   "metadata": {
    "collapsed": false,
    "pycharm": {
     "name": "#%%\n"
    }
   }
  },
  {
   "cell_type": "code",
   "execution_count": null,
   "outputs": [],
   "source": [
    "muscle_order = [\n",
    "    \"deltant\",\n",
    "    \"deltmed\",\n",
    "    \"deltpost\",\n",
    "    \"biceps\",\n",
    "    \"triceps\",\n",
    "    \"uptrap\",\n",
    "    \"pect\",\n",
    "    \"ssp\",\n",
    "    \"isp\",\n",
    "    \"subs\",\n",
    "]\n",
    "\n",
    "base = (\n",
    "    alt.Chart()\n",
    "    .encode(\n",
    "        alt.X(\"index\", title=\"Normalized trial\", axis=alt.Axis(format=\"%\")),\n",
    "        alt.Color(\"expert:N\"),\n",
    "    )\n",
    "    .properties(height=150)\n",
    ")\n",
    "\n",
    "line = base.mark_line(clip=True).encode(\n",
    "    alt.Y(\n",
    "        \"mean(value)\",\n",
    "        scale=alt.Scale(domain=(0, 1)),\n",
    "        axis=alt.Axis(format=\"%\"),\n",
    "        title=None,\n",
    "    )\n",
    ")\n",
    "area = base.mark_errorband(extent=\"stdev\", clip=True).encode(alt.Y(\"value\"))\n",
    "(line + area).facet(\n",
    "    data=emg_melt, facet=alt.Facet(\"variable\", sort=muscle_order), columns=2\n",
    ")"
   ],
   "metadata": {
    "collapsed": false,
    "pycharm": {
     "name": "#%%\n"
    }
   }
  },
  {
   "cell_type": "code",
   "execution_count": 27,
   "metadata": {},
   "outputs": [
    {
     "data": {
      "text/html": [
       "\n",
       "<div id=\"altair-viz-4198d4492fee4ed4838691dd572dffc1\"></div>\n",
       "<script type=\"text/javascript\">\n",
       "  (function(spec, embedOpt){\n",
       "    const outputDiv = document.getElementById(\"altair-viz-4198d4492fee4ed4838691dd572dffc1\");\n",
       "    const paths = {\n",
       "      \"vega\": \"https://cdn.jsdelivr.net/npm//vega@5?noext\",\n",
       "      \"vega-lib\": \"https://cdn.jsdelivr.net/npm//vega-lib?noext\",\n",
       "      \"vega-lite\": \"https://cdn.jsdelivr.net/npm//vega-lite@4.0.2?noext\",\n",
       "      \"vega-embed\": \"https://cdn.jsdelivr.net/npm//vega-embed@6?noext\",\n",
       "    };\n",
       "\n",
       "    function loadScript(lib) {\n",
       "      return new Promise(function(resolve, reject) {\n",
       "        var s = document.createElement('script');\n",
       "        s.src = paths[lib];\n",
       "        s.async = true;\n",
       "        s.onload = () => resolve(paths[lib]);\n",
       "        s.onerror = () => reject(`Error loading script: ${paths[lib]}`);\n",
       "        document.getElementsByTagName(\"head\")[0].appendChild(s);\n",
       "      });\n",
       "    }\n",
       "\n",
       "    function showError(err) {\n",
       "      outputDiv.innerHTML = `<div class=\"error\" style=\"color:red;\">${err}</div>`;\n",
       "      throw err;\n",
       "    }\n",
       "\n",
       "    function displayChart(vegaEmbed) {\n",
       "      vegaEmbed(outputDiv, spec, embedOpt)\n",
       "        .catch(err => showError(`Javascript Error: ${err.message}<br>This usually means there's a typo in your chart specification. See the javascript console for the full traceback.`));\n",
       "    }\n",
       "\n",
       "    if(typeof define === \"function\" && define.amd) {\n",
       "      requirejs.config({paths});\n",
       "      require([\"vega-embed\"], displayChart, err => showError(`Error loading script: ${err.message}`));\n",
       "    } else if (typeof vegaEmbed === \"function\") {\n",
       "      displayChart(vegaEmbed);\n",
       "    } else {\n",
       "      loadScript(\"vega\")\n",
       "        .then(() => loadScript(\"vega-lite\"))\n",
       "        .then(() => loadScript(\"vega-embed\"))\n",
       "        .catch(showError)\n",
       "        .then(() => displayChart(vegaEmbed));\n",
       "    }\n",
       "  })({\"config\": {\"view\": {\"continuousWidth\": 400, \"continuousHeight\": 300}}, \"data\": {\"url\": \"http://localhost:17346/567f36c3e302707b38385e2e7a10c9bd.json\"}, \"facet\": {\"type\": \"nominal\", \"field\": \"variable\", \"sort\": [\"deltant\", \"deltmed\", \"deltpost\", \"biceps\", \"triceps\", \"uptrap\", \"pect\", \"ssp\", \"isp\", \"subs\"]}, \"spec\": {\"mark\": {\"type\": \"rect\", \"color\": \"grey\", \"opacity\": 0.3}, \"encoding\": {\"x\": {\"type\": \"quantitative\", \"field\": \"start\"}, \"x2\": {\"field\": \"end\"}}}, \"columns\": 2, \"$schema\": \"https://vega.github.io/schema/vega-lite/v4.0.2.json\"}, {\"mode\": \"vega-lite\"});\n",
       "</script>"
      ],
      "text/plain": [
       "alt.FacetChart(...)"
      ]
     },
     "execution_count": 27,
     "metadata": {},
     "output_type": "execute_result"
    }
   ],
   "source": [
    "## Time above 60%"
   ]
  },
  {
   "cell_type": "code",
   "execution_count": 26,
   "metadata": {},
   "outputs": [
    {
     "data": {
      "text/html": [
       "\n",
       "<div id=\"altair-viz-d2b700680aee49068de4bb80c64dbb5e\"></div>\n",
       "<script type=\"text/javascript\">\n",
       "  (function(spec, embedOpt){\n",
       "    const outputDiv = document.getElementById(\"altair-viz-d2b700680aee49068de4bb80c64dbb5e\");\n",
       "    const paths = {\n",
       "      \"vega\": \"https://cdn.jsdelivr.net/npm//vega@5?noext\",\n",
       "      \"vega-lib\": \"https://cdn.jsdelivr.net/npm//vega-lib?noext\",\n",
       "      \"vega-lite\": \"https://cdn.jsdelivr.net/npm//vega-lite@4.0.2?noext\",\n",
       "      \"vega-embed\": \"https://cdn.jsdelivr.net/npm//vega-embed@6?noext\",\n",
       "    };\n",
       "\n",
       "    function loadScript(lib) {\n",
       "      return new Promise(function(resolve, reject) {\n",
       "        var s = document.createElement('script');\n",
       "        s.src = paths[lib];\n",
       "        s.async = true;\n",
       "        s.onload = () => resolve(paths[lib]);\n",
       "        s.onerror = () => reject(`Error loading script: ${paths[lib]}`);\n",
       "        document.getElementsByTagName(\"head\")[0].appendChild(s);\n",
       "      });\n",
       "    }\n",
       "\n",
       "    function showError(err) {\n",
       "      outputDiv.innerHTML = `<div class=\"error\" style=\"color:red;\">${err}</div>`;\n",
       "      throw err;\n",
       "    }\n",
       "\n",
       "    function displayChart(vegaEmbed) {\n",
       "      vegaEmbed(outputDiv, spec, embedOpt)\n",
       "        .catch(err => showError(`Javascript Error: ${err.message}<br>This usually means there's a typo in your chart specification. See the javascript console for the full traceback.`));\n",
       "    }\n",
       "\n",
       "    if(typeof define === \"function\" && define.amd) {\n",
       "      requirejs.config({paths});\n",
       "      require([\"vega-embed\"], displayChart, err => showError(`Error loading script: ${err.message}`));\n",
       "    } else if (typeof vegaEmbed === \"function\") {\n",
       "      displayChart(vegaEmbed);\n",
       "    } else {\n",
       "      loadScript(\"vega\")\n",
       "        .then(() => loadScript(\"vega-lite\"))\n",
       "        .then(() => loadScript(\"vega-embed\"))\n",
       "        .catch(showError)\n",
       "        .then(() => displayChart(vegaEmbed));\n",
       "    }\n",
       "  })({\"config\": {\"view\": {\"continuousWidth\": 400, \"continuousHeight\": 300}}, \"data\": {\"url\": \"http://localhost:17346/4f77deda9546d368c79e95e2f1387fe8.json\"}, \"facet\": {\"type\": \"nominal\", \"field\": \"variable\", \"sort\": [\"deltant\", \"deltmed\", \"deltpost\", \"biceps\", \"triceps\", \"uptrap\", \"pect\", \"ssp\", \"isp\", \"subs\"]}, \"spec\": {\"layer\": [{\"mark\": {\"type\": \"line\", \"clip\": true}, \"encoding\": {\"color\": {\"type\": \"nominal\", \"field\": \"expert\"}, \"x\": {\"type\": \"quantitative\", \"axis\": {\"format\": \"%\"}, \"field\": \"index\", \"title\": \"Normalized trial\"}, \"y\": {\"type\": \"quantitative\", \"aggregate\": \"mean\", \"axis\": {\"format\": \"%\"}, \"field\": \"value\", \"scale\": {\"domain\": [0, 1]}, \"title\": null}}, \"height\": 150}, {\"mark\": {\"type\": \"errorband\", \"clip\": true, \"extent\": \"stdev\"}, \"encoding\": {\"color\": {\"type\": \"nominal\", \"field\": \"expert\"}, \"x\": {\"type\": \"quantitative\", \"axis\": {\"format\": \"%\"}, \"field\": \"index\", \"title\": \"Normalized trial\"}, \"y\": {\"type\": \"quantitative\", \"field\": \"value\"}}, \"height\": 150}]}, \"columns\": 2, \"$schema\": \"https://vega.github.io/schema/vega-lite/v4.0.2.json\"}, {\"mode\": \"vega-lite\"});\n",
       "</script>"
      ],
      "text/plain": [
       "alt.FacetChart(...)"
      ]
     },
     "execution_count": 26,
     "metadata": {},
     "output_type": "execute_result"
    }
   ],
   "source": [
    "muscle_order = [\n",
    "    \"deltant\",\n",
    "    \"deltmed\",\n",
    "    \"deltpost\",\n",
    "    \"biceps\",\n",
    "    \"triceps\",\n",
    "    \"uptrap\",\n",
    "    \"pect\",\n",
    "    \"ssp\",\n",
    "    \"isp\",\n",
    "    \"subs\",\n",
    "]\n",
    "\n",
    "base = (\n",
    "    alt.Chart()\n",
    "    .encode(\n",
    "        alt.X(\"index\", title=\"Normalized trial\", axis=alt.Axis(format=\"%\")),\n",
    "        alt.Color(\"expert:N\"),\n",
    "    )\n",
    "    .properties(height=150)\n",
    ")\n",
    "\n",
    "line = base.mark_line(clip=True).encode(\n",
    "    alt.Y(\n",
    "        \"mean(value)\",\n",
    "        scale=alt.Scale(domain=(0, 1)),\n",
    "        axis=alt.Axis(format=\"%\"),\n",
    "        title=None,\n",
    "    )\n",
    ")\n",
    "area = base.mark_errorband(extent=\"stdev\", clip=True).encode(alt.Y(\"value\"))\n",
    "(line + area).facet(\n",
    "    data=emg_melt, facet=alt.Facet(\"variable\", sort=muscle_order), columns=2\n",
    ")"
   ]
  },
  {
   "cell_type": "markdown",
   "metadata": {},
   "source": [
    "## Time above 60%"
   ]
  },
  {
   "cell_type": "code",
   "execution_count": 11,
   "metadata": {},
   "outputs": [
    {
     "data": {
      "text/html": [
       "<div>\n",
       "<style scoped>\n",
       "    .dataframe tbody tr th:only-of-type {\n",
       "        vertical-align: middle;\n",
       "    }\n",
       "\n",
       "    .dataframe tbody tr th {\n",
       "        vertical-align: top;\n",
       "    }\n",
       "\n",
       "    .dataframe thead th {\n",
       "        text-align: right;\n",
       "    }\n",
       "</style>\n",
       "<table border=\"1\" class=\"dataframe\">\n",
       "  <thead>\n",
       "    <tr style=\"text-align: right;\">\n",
       "      <th></th>\n",
       "      <th>filename</th>\n",
       "      <th>expert</th>\n",
       "      <th>mass</th>\n",
       "      <th>sup</th>\n",
       "    </tr>\n",
       "  </thead>\n",
       "  <tbody>\n",
       "    <tr>\n",
       "      <th>131</th>\n",
       "      <td>romm_1_r08_2</td>\n",
       "      <td>0</td>\n",
       "      <td>8</td>\n",
       "      <td>0.026403</td>\n",
       "    </tr>\n",
       "    <tr>\n",
       "      <th>75</th>\n",
       "      <td>jeaa_1_r08_4</td>\n",
       "      <td>0</td>\n",
       "      <td>8</td>\n",
       "      <td>0.005501</td>\n",
       "    </tr>\n",
       "    <tr>\n",
       "      <th>52</th>\n",
       "      <td>erib_1_r12_3</td>\n",
       "      <td>1</td>\n",
       "      <td>12</td>\n",
       "      <td>0.008801</td>\n",
       "    </tr>\n",
       "    <tr>\n",
       "      <th>97</th>\n",
       "      <td>jull_1_r12_2</td>\n",
       "      <td>0</td>\n",
       "      <td>12</td>\n",
       "      <td>0.018702</td>\n",
       "    </tr>\n",
       "    <tr>\n",
       "      <th>31</th>\n",
       "      <td>chra_1_r08_6</td>\n",
       "      <td>0</td>\n",
       "      <td>8</td>\n",
       "      <td>0.013201</td>\n",
       "    </tr>\n",
       "  </tbody>\n",
       "</table>\n",
       "</div>"
      ],
      "text/plain": [
       "         filename  expert  mass       sup\n",
       "131  romm_1_r08_2       0     8  0.026403\n",
       "75   jeaa_1_r08_4       0     8  0.005501\n",
       "52   erib_1_r12_3       1    12  0.008801\n",
       "97   jull_1_r12_2       0    12  0.018702\n",
       "31   chra_1_r08_6       0     8  0.013201"
      ]
     },
     "execution_count": 11,
     "metadata": {},
     "output_type": "execute_result"
    }
   ],
   "source": [
    "sup = (\n",
    "    emg_melt.eval(\"sup = value > 0.6\")\n",
    "    .groupby([\"filename\", \"expert\", \"mass\"])[\"sup\"]\n",
    "    .apply(lambda x: x.sum() / x.shape[0])\n",
    "    .reset_index()\n",
    ")\n",
    "\n",
    "sup.sample(5)"
   ]
  },
  {
   "cell_type": "code",
   "execution_count": 19,
   "metadata": {},
   "outputs": [
    {
     "data": {
      "text/html": [
       "\n",
       "<div id=\"altair-viz-f17246dc401f4ed09f3d7ccf2c9710c0\"></div>\n",
       "<script type=\"text/javascript\">\n",
       "  (function(spec, embedOpt){\n",
       "    const outputDiv = document.getElementById(\"altair-viz-f17246dc401f4ed09f3d7ccf2c9710c0\");\n",
       "    const paths = {\n",
       "      \"vega\": \"https://cdn.jsdelivr.net/npm//vega@5?noext\",\n",
       "      \"vega-lib\": \"https://cdn.jsdelivr.net/npm//vega-lib?noext\",\n",
       "      \"vega-lite\": \"https://cdn.jsdelivr.net/npm//vega-lite@4.0.2?noext\",\n",
       "      \"vega-embed\": \"https://cdn.jsdelivr.net/npm//vega-embed@6?noext\",\n",
       "    };\n",
       "\n",
       "    function loadScript(lib) {\n",
       "      return new Promise(function(resolve, reject) {\n",
       "        var s = document.createElement('script');\n",
       "        s.src = paths[lib];\n",
       "        s.async = true;\n",
       "        s.onload = () => resolve(paths[lib]);\n",
       "        s.onerror = () => reject(`Error loading script: ${paths[lib]}`);\n",
       "        document.getElementsByTagName(\"head\")[0].appendChild(s);\n",
       "      });\n",
       "    }\n",
       "\n",
       "    function showError(err) {\n",
       "      outputDiv.innerHTML = `<div class=\"error\" style=\"color:red;\">${err}</div>`;\n",
       "      throw err;\n",
       "    }\n",
       "\n",
       "    function displayChart(vegaEmbed) {\n",
       "      vegaEmbed(outputDiv, spec, embedOpt)\n",
       "        .catch(err => showError(`Javascript Error: ${err.message}<br>This usually means there's a typo in your chart specification. See the javascript console for the full traceback.`));\n",
       "    }\n",
       "\n",
       "    if(typeof define === \"function\" && define.amd) {\n",
       "      requirejs.config({paths});\n",
       "      require([\"vega-embed\"], displayChart, err => showError(`Error loading script: ${err.message}`));\n",
       "    } else if (typeof vegaEmbed === \"function\") {\n",
       "      displayChart(vegaEmbed);\n",
       "    } else {\n",
       "      loadScript(\"vega\")\n",
       "        .then(() => loadScript(\"vega-lite\"))\n",
       "        .then(() => loadScript(\"vega-embed\"))\n",
       "        .catch(showError)\n",
       "        .then(() => displayChart(vegaEmbed));\n",
       "    }\n",
       "  })({\"config\": {\"view\": {\"continuousWidth\": 400, \"continuousHeight\": 300}}, \"data\": {\"url\": \"altair-data-8e3cc982ee7aa203a9ef2bbeabbdf747.json\", \"format\": {\"type\": \"json\"}}, \"facet\": {\"column\": {\"type\": \"quantitative\", \"field\": \"mass\"}}, \"spec\": {\"mark\": \"boxplot\", \"encoding\": {\"color\": {\"type\": \"nominal\", \"field\": \"expert\"}, \"x\": {\"type\": \"nominal\", \"axis\": {\"domain\": false, \"labels\": false, \"ticks\": false}, \"field\": \"expert\", \"title\": null}, \"y\": {\"type\": \"quantitative\", \"axis\": {\"format\": \"%\"}, \"field\": \"sup\"}}}, \"$schema\": \"https://vega.github.io/schema/vega-lite/v4.0.2.json\"}, {\"mode\": \"vega-lite\"});\n",
       "</script>"
      ],
      "text/plain": [
       "alt.FacetChart(...)"
      ]
     },
     "execution_count": 19,
     "metadata": {},
     "output_type": "execute_result"
    }
   ],
   "source": [
    "alt.Chart(sup).mark_boxplot().encode(\n",
    "    alt.X(\n",
    "        \"expert:N\", axis=alt.Axis(ticks=False, labels=False, domain=False), title=None\n",
    "    ),\n",
    "    alt.Y(\"sup\", axis=alt.Axis(format=\"%\")),\n",
    "    alt.Color(\"expert:N\"),\n",
    ").facet(column=\"mass\")"
   ]
  },
  {
   "cell_type": "code",
   "execution_count": 20,
   "metadata": {},
   "outputs": [
    {
     "data": {
      "text/html": [
       "<div>\n",
       "<style scoped>\n",
       "    .dataframe tbody tr th:only-of-type {\n",
       "        vertical-align: middle;\n",
       "    }\n",
       "\n",
       "    .dataframe tbody tr th {\n",
       "        vertical-align: top;\n",
       "    }\n",
       "\n",
       "    .dataframe thead th {\n",
       "        text-align: right;\n",
       "    }\n",
       "</style>\n",
       "<table border=\"1\" class=\"dataframe\">\n",
       "  <thead>\n",
       "    <tr style=\"text-align: right;\">\n",
       "      <th></th>\n",
       "      <th>filename</th>\n",
       "      <th>expert</th>\n",
       "      <th>mass</th>\n",
       "      <th>sup</th>\n",
       "    </tr>\n",
       "  </thead>\n",
       "  <tbody>\n",
       "    <tr>\n",
       "      <th>0</th>\n",
       "      <td>antc_1_r08_1</td>\n",
       "      <td>0</td>\n",
       "      <td>8</td>\n",
       "      <td>0.000000</td>\n",
       "    </tr>\n",
       "    <tr>\n",
       "      <th>1</th>\n",
       "      <td>antc_1_r08_4</td>\n",
       "      <td>0</td>\n",
       "      <td>8</td>\n",
       "      <td>0.000000</td>\n",
       "    </tr>\n",
       "    <tr>\n",
       "      <th>2</th>\n",
       "      <td>antc_1_r08_5</td>\n",
       "      <td>0</td>\n",
       "      <td>8</td>\n",
       "      <td>0.000000</td>\n",
       "    </tr>\n",
       "    <tr>\n",
       "      <th>3</th>\n",
       "      <td>antc_1_r08_6</td>\n",
       "      <td>0</td>\n",
       "      <td>8</td>\n",
       "      <td>0.000000</td>\n",
       "    </tr>\n",
       "    <tr>\n",
       "      <th>4</th>\n",
       "      <td>antc_1_r12_1</td>\n",
       "      <td>0</td>\n",
       "      <td>12</td>\n",
       "      <td>0.019802</td>\n",
       "    </tr>\n",
       "  </tbody>\n",
       "</table>\n",
       "</div>"
      ],
      "text/plain": [
       "       filename  expert  mass       sup\n",
       "0  antc_1_r08_1       0     8  0.000000\n",
       "1  antc_1_r08_4       0     8  0.000000\n",
       "2  antc_1_r08_5       0     8  0.000000\n",
       "3  antc_1_r08_6       0     8  0.000000\n",
       "4  antc_1_r12_1       0    12  0.019802"
      ]
     },
     "execution_count": 20,
     "metadata": {},
     "output_type": "execute_result"
    }
   ],
   "source": [
    "sup.head()"
   ]
  },
  {
   "cell_type": "markdown",
   "metadata": {},
   "source": [
    "# Density"
   ]
  },
  {
   "cell_type": "code",
   "execution_count": 22,
   "metadata": {},
   "outputs": [
    {
     "data": {
      "text/html": [
       "\n",
       "<div id=\"altair-viz-0814cad739d84845b83d586433d85b4a\"></div>\n",
       "<script type=\"text/javascript\">\n",
       "  (function(spec, embedOpt){\n",
       "    const outputDiv = document.getElementById(\"altair-viz-0814cad739d84845b83d586433d85b4a\");\n",
       "    const paths = {\n",
       "      \"vega\": \"https://cdn.jsdelivr.net/npm//vega@5?noext\",\n",
       "      \"vega-lib\": \"https://cdn.jsdelivr.net/npm//vega-lib?noext\",\n",
       "      \"vega-lite\": \"https://cdn.jsdelivr.net/npm//vega-lite@4.0.2?noext\",\n",
       "      \"vega-embed\": \"https://cdn.jsdelivr.net/npm//vega-embed@6?noext\",\n",
       "    };\n",
       "\n",
       "    function loadScript(lib) {\n",
       "      return new Promise(function(resolve, reject) {\n",
       "        var s = document.createElement('script');\n",
       "        s.src = paths[lib];\n",
       "        s.async = true;\n",
       "        s.onload = () => resolve(paths[lib]);\n",
       "        s.onerror = () => reject(`Error loading script: ${paths[lib]}`);\n",
       "        document.getElementsByTagName(\"head\")[0].appendChild(s);\n",
       "      });\n",
       "    }\n",
       "\n",
       "    function showError(err) {\n",
       "      outputDiv.innerHTML = `<div class=\"error\" style=\"color:red;\">${err}</div>`;\n",
       "      throw err;\n",
       "    }\n",
       "\n",
       "    function displayChart(vegaEmbed) {\n",
       "      vegaEmbed(outputDiv, spec, embedOpt)\n",
       "        .catch(err => showError(`Javascript Error: ${err.message}<br>This usually means there's a typo in your chart specification. See the javascript console for the full traceback.`));\n",
       "    }\n",
       "\n",
       "    if(typeof define === \"function\" && define.amd) {\n",
       "      requirejs.config({paths});\n",
       "      require([\"vega-embed\"], displayChart, err => showError(`Error loading script: ${err.message}`));\n",
       "    } else if (typeof vegaEmbed === \"function\") {\n",
       "      displayChart(vegaEmbed);\n",
       "    } else {\n",
       "      loadScript(\"vega\")\n",
       "        .then(() => loadScript(\"vega-lite\"))\n",
       "        .then(() => loadScript(\"vega-embed\"))\n",
       "        .catch(showError)\n",
       "        .then(() => displayChart(vegaEmbed));\n",
       "    }\n",
       "  })({\"config\": {\"view\": {\"continuousWidth\": 400, \"continuousHeight\": 300}}, \"data\": {\"url\": \"altair-data-f4b13775989f1d97ac378b5e3a619909.json\", \"format\": {\"type\": \"json\"}}, \"facet\": {\"column\": {\"type\": \"quantitative\", \"field\": \"expert\"}}, \"spec\": {\"mark\": \"line\", \"encoding\": {\"color\": {\"type\": \"nominal\", \"field\": \"variable\"}, \"x\": {\"type\": \"quantitative\", \"field\": \"index\"}, \"y\": {\"type\": \"quantitative\", \"aggregate\": \"mean\", \"field\": \"value\"}}}, \"$schema\": \"https://vega.github.io/schema/vega-lite/v4.0.2.json\"}, {\"mode\": \"vega-lite\"});\n",
       "</script>"
      ],
      "text/plain": [
       "alt.FacetChart(...)"
      ]
     },
     "execution_count": 22,
     "metadata": {},
     "output_type": "execute_result"
    }
   ],
   "source": [
    "alt.Chart(emg_melt).mark_line().encode(\n",
    "    alt.X(\"index\"), alt.Y(\"mean(value)\"), alt.Color(\"variable\")\n",
    ").facet(column=\"expert\")"
   ]
  },
  {
   "cell_type": "code",
   "execution_count": 23,
   "metadata": {},
   "outputs": [
    {
     "data": {
      "text/html": [
       "\n",
       "<div id=\"altair-viz-a1dc0466c36f4086b025b5dc8f62ee95\"></div>\n",
       "<script type=\"text/javascript\">\n",
       "  (function(spec, embedOpt){\n",
       "    const outputDiv = document.getElementById(\"altair-viz-a1dc0466c36f4086b025b5dc8f62ee95\");\n",
       "    const paths = {\n",
       "      \"vega\": \"https://cdn.jsdelivr.net/npm//vega@5?noext\",\n",
       "      \"vega-lib\": \"https://cdn.jsdelivr.net/npm//vega-lib?noext\",\n",
       "      \"vega-lite\": \"https://cdn.jsdelivr.net/npm//vega-lite@4.0.2?noext\",\n",
       "      \"vega-embed\": \"https://cdn.jsdelivr.net/npm//vega-embed@6?noext\",\n",
       "    };\n",
       "\n",
       "    function loadScript(lib) {\n",
       "      return new Promise(function(resolve, reject) {\n",
       "        var s = document.createElement('script');\n",
       "        s.src = paths[lib];\n",
       "        s.async = true;\n",
       "        s.onload = () => resolve(paths[lib]);\n",
       "        s.onerror = () => reject(`Error loading script: ${paths[lib]}`);\n",
       "        document.getElementsByTagName(\"head\")[0].appendChild(s);\n",
       "      });\n",
       "    }\n",
       "\n",
       "    function showError(err) {\n",
       "      outputDiv.innerHTML = `<div class=\"error\" style=\"color:red;\">${err}</div>`;\n",
       "      throw err;\n",
       "    }\n",
       "\n",
       "    function displayChart(vegaEmbed) {\n",
       "      vegaEmbed(outputDiv, spec, embedOpt)\n",
       "        .catch(err => showError(`Javascript Error: ${err.message}<br>This usually means there's a typo in your chart specification. See the javascript console for the full traceback.`));\n",
       "    }\n",
       "\n",
       "    if(typeof define === \"function\" && define.amd) {\n",
       "      requirejs.config({paths});\n",
       "      require([\"vega-embed\"], displayChart, err => showError(`Error loading script: ${err.message}`));\n",
       "    } else if (typeof vegaEmbed === \"function\") {\n",
       "      displayChart(vegaEmbed);\n",
       "    } else {\n",
       "      loadScript(\"vega\")\n",
       "        .then(() => loadScript(\"vega-lite\"))\n",
       "        .then(() => loadScript(\"vega-embed\"))\n",
       "        .catch(showError)\n",
       "        .then(() => displayChart(vegaEmbed));\n",
       "    }\n",
       "  })({\"config\": {\"view\": {\"continuousWidth\": 400, \"continuousHeight\": 300, \"stroke\": null}, \"facet\": {\"spacing\": 0}}, \"data\": {\"url\": \"altair-data-24383d37839278f6f95e45524b808341.json\", \"format\": {\"type\": \"json\"}}, \"mark\": {\"type\": \"area\", \"fillOpacity\": 0.8, \"interpolate\": \"monotone\", \"stroke\": \"lightgray\", \"strokeWidth\": 0.5}, \"bounds\": \"flush\", \"encoding\": {\"fill\": {\"type\": \"quantitative\", \"field\": \"mean_value\", \"legend\": null, \"scale\": {\"domain\": [0.4128497951814573, 0.01924767343358422], \"scheme\": \"redyellowblue\"}}, \"row\": {\"type\": \"nominal\", \"field\": \"variable\", \"header\": {\"format\": \"%B\", \"labelAlign\": \"right\", \"labelAngle\": 0}, \"sort\": [\"biceps\", \"uptrap\", \"pect\", \"deltmed\", \"ssp\", \"isp\", \"triceps\", \"subs\", \"deltpost\"], \"title\": null}, \"x\": {\"type\": \"quantitative\", \"axis\": {\"format\": \"%\", \"labelFlush\": false}, \"bin\": \"binned\", \"field\": \"bin_min\", \"title\": \"activation\"}, \"y\": {\"type\": \"quantitative\", \"axis\": null, \"field\": \"value\", \"scale\": {\"range\": [30, -24.0]}}}, \"height\": 30, \"transform\": [{\"joinaggregate\": [{\"op\": \"mean\", \"field\": \"value\", \"as\": \"mean_value\"}], \"groupby\": [\"variable\"]}, {\"bin\": true, \"field\": \"value\", \"as\": [\"bin_max\", \"bin_min\"]}, {\"aggregate\": [{\"op\": \"count\", \"as\": \"value\"}], \"groupby\": [\"variable\", \"mean_value\", \"bin_min\", \"bin_max\"]}, {\"impute\": \"value\", \"key\": \"bin_min\", \"groupby\": [\"variable\", \"mean_value\"], \"value\": 0}], \"$schema\": \"https://vega.github.io/schema/vega-lite/v4.0.2.json\"}, {\"mode\": \"vega-lite\"});\n",
       "</script>"
      ],
      "text/plain": [
       "alt.Chart(...)"
      ]
     },
     "execution_count": 23,
     "metadata": {},
     "output_type": "execute_result"
    }
   ],
   "source": [
    "ridge_plot(\n",
    "    emg_melt.groupby([\"variable\", \"index\"])[\"value\"].mean().reset_index(),\n",
    "    value=\"value\",\n",
    "    groupby=\"variable\",\n",
    "    sort=emg_melt.groupby([\"variable\"])[\"value\"]\n",
    "    .mean()\n",
    "    .sort_values(ascending=False)\n",
    "    .index.to_list(),\n",
    ")"
   ]
  },
  {
   "cell_type": "markdown",
   "metadata": {},
   "source": [
    "# $\\sum$activation"
   ]
  },
  {
   "cell_type": "code",
   "execution_count": 24,
   "metadata": {},
   "outputs": [
    {
     "data": {
      "text/html": [
       "<div>\n",
       "<style scoped>\n",
       "    .dataframe tbody tr th:only-of-type {\n",
       "        vertical-align: middle;\n",
       "    }\n",
       "\n",
       "    .dataframe tbody tr th {\n",
       "        vertical-align: top;\n",
       "    }\n",
       "\n",
       "    .dataframe thead th {\n",
       "        text-align: right;\n",
       "    }\n",
       "</style>\n",
       "<table border=\"1\" class=\"dataframe\">\n",
       "  <thead>\n",
       "    <tr style=\"text-align: right;\">\n",
       "      <th></th>\n",
       "      <th>filename</th>\n",
       "      <th>participant</th>\n",
       "      <th>expert</th>\n",
       "      <th>mass</th>\n",
       "      <th>index</th>\n",
       "      <th>value</th>\n",
       "    </tr>\n",
       "  </thead>\n",
       "  <tbody>\n",
       "    <tr>\n",
       "      <th>0</th>\n",
       "      <td>antc_1_r08_1</td>\n",
       "      <td>aled</td>\n",
       "      <td>0</td>\n",
       "      <td>8</td>\n",
       "      <td>0.00</td>\n",
       "      <td>NaN</td>\n",
       "    </tr>\n",
       "    <tr>\n",
       "      <th>1</th>\n",
       "      <td>antc_1_r08_1</td>\n",
       "      <td>aled</td>\n",
       "      <td>0</td>\n",
       "      <td>8</td>\n",
       "      <td>0.01</td>\n",
       "      <td>NaN</td>\n",
       "    </tr>\n",
       "    <tr>\n",
       "      <th>2</th>\n",
       "      <td>antc_1_r08_1</td>\n",
       "      <td>aled</td>\n",
       "      <td>0</td>\n",
       "      <td>8</td>\n",
       "      <td>0.02</td>\n",
       "      <td>NaN</td>\n",
       "    </tr>\n",
       "    <tr>\n",
       "      <th>3</th>\n",
       "      <td>antc_1_r08_1</td>\n",
       "      <td>aled</td>\n",
       "      <td>0</td>\n",
       "      <td>8</td>\n",
       "      <td>0.03</td>\n",
       "      <td>NaN</td>\n",
       "    </tr>\n",
       "    <tr>\n",
       "      <th>4</th>\n",
       "      <td>antc_1_r08_1</td>\n",
       "      <td>aled</td>\n",
       "      <td>0</td>\n",
       "      <td>8</td>\n",
       "      <td>0.04</td>\n",
       "      <td>NaN</td>\n",
       "    </tr>\n",
       "  </tbody>\n",
       "</table>\n",
       "</div>"
      ],
      "text/plain": [
       "       filename participant  expert  mass  index  value\n",
       "0  antc_1_r08_1        aled       0     8   0.00    NaN\n",
       "1  antc_1_r08_1        aled       0     8   0.01    NaN\n",
       "2  antc_1_r08_1        aled       0     8   0.02    NaN\n",
       "3  antc_1_r08_1        aled       0     8   0.03    NaN\n",
       "4  antc_1_r08_1        aled       0     8   0.04    NaN"
      ]
     },
     "execution_count": 24,
     "metadata": {},
     "output_type": "execute_result"
    }
   ],
   "source": [
    "sum_emg = emg_melt.groupby(id_vars)[\"value\"].sum().reset_index()\n",
    "sum_emg.head()"
   ]
  },
  {
   "cell_type": "code",
   "execution_count": 25,
   "metadata": {},
   "outputs": [
    {
     "data": {
      "text/html": [
       "<div>\n",
       "<style scoped>\n",
       "    .dataframe tbody tr th:only-of-type {\n",
       "        vertical-align: middle;\n",
       "    }\n",
       "\n",
       "    .dataframe tbody tr th {\n",
       "        vertical-align: top;\n",
       "    }\n",
       "\n",
       "    .dataframe thead tr th {\n",
       "        text-align: left;\n",
       "    }\n",
       "\n",
       "    .dataframe thead tr:last-of-type th {\n",
       "        text-align: right;\n",
       "    }\n",
       "</style>\n",
       "<table border=\"1\" class=\"dataframe\">\n",
       "  <thead>\n",
       "    <tr>\n",
       "      <th></th>\n",
       "      <th></th>\n",
       "      <th></th>\n",
       "      <th></th>\n",
       "      <th colspan=\"21\" halign=\"left\">value</th>\n",
       "    </tr>\n",
       "    <tr>\n",
       "      <th></th>\n",
       "      <th></th>\n",
       "      <th></th>\n",
       "      <th>index</th>\n",
       "      <th>0.00</th>\n",
       "      <th>0.01</th>\n",
       "      <th>0.02</th>\n",
       "      <th>0.03</th>\n",
       "      <th>0.04</th>\n",
       "      <th>0.05</th>\n",
       "      <th>0.06</th>\n",
       "      <th>0.07</th>\n",
       "      <th>0.08</th>\n",
       "      <th>0.09</th>\n",
       "      <th>...</th>\n",
       "      <th>0.91</th>\n",
       "      <th>0.92</th>\n",
       "      <th>0.93</th>\n",
       "      <th>0.94</th>\n",
       "      <th>0.95</th>\n",
       "      <th>0.96</th>\n",
       "      <th>0.97</th>\n",
       "      <th>0.98</th>\n",
       "      <th>0.99</th>\n",
       "      <th>1.00</th>\n",
       "    </tr>\n",
       "    <tr>\n",
       "      <th>filename</th>\n",
       "      <th>participant</th>\n",
       "      <th>expert</th>\n",
       "      <th>mass</th>\n",
       "      <th></th>\n",
       "      <th></th>\n",
       "      <th></th>\n",
       "      <th></th>\n",
       "      <th></th>\n",
       "      <th></th>\n",
       "      <th></th>\n",
       "      <th></th>\n",
       "      <th></th>\n",
       "      <th></th>\n",
       "      <th></th>\n",
       "      <th></th>\n",
       "      <th></th>\n",
       "      <th></th>\n",
       "      <th></th>\n",
       "      <th></th>\n",
       "      <th></th>\n",
       "      <th></th>\n",
       "      <th></th>\n",
       "      <th></th>\n",
       "      <th></th>\n",
       "    </tr>\n",
       "  </thead>\n",
       "  <tbody>\n",
       "    <tr>\n",
       "      <th rowspan=\"5\" valign=\"top\">antc_1_r08_1</th>\n",
       "      <th rowspan=\"4\" valign=\"top\">0</th>\n",
       "      <th rowspan=\"2\" valign=\"top\">0</th>\n",
       "      <th>8</th>\n",
       "      <td>NaN</td>\n",
       "      <td>NaN</td>\n",
       "      <td>NaN</td>\n",
       "      <td>NaN</td>\n",
       "      <td>NaN</td>\n",
       "      <td>NaN</td>\n",
       "      <td>NaN</td>\n",
       "      <td>NaN</td>\n",
       "      <td>NaN</td>\n",
       "      <td>NaN</td>\n",
       "      <td>...</td>\n",
       "      <td>NaN</td>\n",
       "      <td>NaN</td>\n",
       "      <td>NaN</td>\n",
       "      <td>NaN</td>\n",
       "      <td>NaN</td>\n",
       "      <td>NaN</td>\n",
       "      <td>NaN</td>\n",
       "      <td>NaN</td>\n",
       "      <td>NaN</td>\n",
       "      <td>NaN</td>\n",
       "    </tr>\n",
       "    <tr>\n",
       "      <th>12</th>\n",
       "      <td>NaN</td>\n",
       "      <td>NaN</td>\n",
       "      <td>NaN</td>\n",
       "      <td>NaN</td>\n",
       "      <td>NaN</td>\n",
       "      <td>NaN</td>\n",
       "      <td>NaN</td>\n",
       "      <td>NaN</td>\n",
       "      <td>NaN</td>\n",
       "      <td>NaN</td>\n",
       "      <td>...</td>\n",
       "      <td>NaN</td>\n",
       "      <td>NaN</td>\n",
       "      <td>NaN</td>\n",
       "      <td>NaN</td>\n",
       "      <td>NaN</td>\n",
       "      <td>NaN</td>\n",
       "      <td>NaN</td>\n",
       "      <td>NaN</td>\n",
       "      <td>NaN</td>\n",
       "      <td>NaN</td>\n",
       "    </tr>\n",
       "    <tr>\n",
       "      <th rowspan=\"2\" valign=\"top\">1</th>\n",
       "      <th>8</th>\n",
       "      <td>NaN</td>\n",
       "      <td>NaN</td>\n",
       "      <td>NaN</td>\n",
       "      <td>NaN</td>\n",
       "      <td>NaN</td>\n",
       "      <td>NaN</td>\n",
       "      <td>NaN</td>\n",
       "      <td>NaN</td>\n",
       "      <td>NaN</td>\n",
       "      <td>NaN</td>\n",
       "      <td>...</td>\n",
       "      <td>NaN</td>\n",
       "      <td>NaN</td>\n",
       "      <td>NaN</td>\n",
       "      <td>NaN</td>\n",
       "      <td>NaN</td>\n",
       "      <td>NaN</td>\n",
       "      <td>NaN</td>\n",
       "      <td>NaN</td>\n",
       "      <td>NaN</td>\n",
       "      <td>NaN</td>\n",
       "    </tr>\n",
       "    <tr>\n",
       "      <th>12</th>\n",
       "      <td>NaN</td>\n",
       "      <td>NaN</td>\n",
       "      <td>NaN</td>\n",
       "      <td>NaN</td>\n",
       "      <td>NaN</td>\n",
       "      <td>NaN</td>\n",
       "      <td>NaN</td>\n",
       "      <td>NaN</td>\n",
       "      <td>NaN</td>\n",
       "      <td>NaN</td>\n",
       "      <td>...</td>\n",
       "      <td>NaN</td>\n",
       "      <td>NaN</td>\n",
       "      <td>NaN</td>\n",
       "      <td>NaN</td>\n",
       "      <td>NaN</td>\n",
       "      <td>NaN</td>\n",
       "      <td>NaN</td>\n",
       "      <td>NaN</td>\n",
       "      <td>NaN</td>\n",
       "      <td>NaN</td>\n",
       "    </tr>\n",
       "    <tr>\n",
       "      <th>1</th>\n",
       "      <th>0</th>\n",
       "      <th>8</th>\n",
       "      <td>0.495881</td>\n",
       "      <td>0.480459</td>\n",
       "      <td>0.384676</td>\n",
       "      <td>0.270761</td>\n",
       "      <td>0.206078</td>\n",
       "      <td>0.218334</td>\n",
       "      <td>0.289428</td>\n",
       "      <td>0.37168</td>\n",
       "      <td>0.417811</td>\n",
       "      <td>0.416535</td>\n",
       "      <td>...</td>\n",
       "      <td>0.641783</td>\n",
       "      <td>0.557056</td>\n",
       "      <td>0.493912</td>\n",
       "      <td>0.484638</td>\n",
       "      <td>0.518062</td>\n",
       "      <td>0.555599</td>\n",
       "      <td>0.557537</td>\n",
       "      <td>0.507391</td>\n",
       "      <td>0.429022</td>\n",
       "      <td>0.365515</td>\n",
       "    </tr>\n",
       "  </tbody>\n",
       "</table>\n",
       "<p>5 rows × 101 columns</p>\n",
       "</div>"
      ],
      "text/plain": [
       "                                         value                                \\\n",
       "index                                     0.00      0.01      0.02      0.03   \n",
       "filename     participant expert mass                                           \n",
       "antc_1_r08_1 0           0      8          NaN       NaN       NaN       NaN   \n",
       "                                12         NaN       NaN       NaN       NaN   \n",
       "                         1      8          NaN       NaN       NaN       NaN   \n",
       "                                12         NaN       NaN       NaN       NaN   \n",
       "             1           0      8     0.495881  0.480459  0.384676  0.270761   \n",
       "\n",
       "                                                                             \\\n",
       "index                                     0.04      0.05      0.06     0.07   \n",
       "filename     participant expert mass                                          \n",
       "antc_1_r08_1 0           0      8          NaN       NaN       NaN      NaN   \n",
       "                                12         NaN       NaN       NaN      NaN   \n",
       "                         1      8          NaN       NaN       NaN      NaN   \n",
       "                                12         NaN       NaN       NaN      NaN   \n",
       "             1           0      8     0.206078  0.218334  0.289428  0.37168   \n",
       "\n",
       "                                                          ...            \\\n",
       "index                                     0.08      0.09  ...      0.91   \n",
       "filename     participant expert mass                      ...             \n",
       "antc_1_r08_1 0           0      8          NaN       NaN  ...       NaN   \n",
       "                                12         NaN       NaN  ...       NaN   \n",
       "                         1      8          NaN       NaN  ...       NaN   \n",
       "                                12         NaN       NaN  ...       NaN   \n",
       "             1           0      8     0.417811  0.416535  ...  0.641783   \n",
       "\n",
       "                                                                              \\\n",
       "index                                     0.92      0.93      0.94      0.95   \n",
       "filename     participant expert mass                                           \n",
       "antc_1_r08_1 0           0      8          NaN       NaN       NaN       NaN   \n",
       "                                12         NaN       NaN       NaN       NaN   \n",
       "                         1      8          NaN       NaN       NaN       NaN   \n",
       "                                12         NaN       NaN       NaN       NaN   \n",
       "             1           0      8     0.557056  0.493912  0.484638  0.518062   \n",
       "\n",
       "                                                                              \\\n",
       "index                                     0.96      0.97      0.98      0.99   \n",
       "filename     participant expert mass                                           \n",
       "antc_1_r08_1 0           0      8          NaN       NaN       NaN       NaN   \n",
       "                                12         NaN       NaN       NaN       NaN   \n",
       "                         1      8          NaN       NaN       NaN       NaN   \n",
       "                                12         NaN       NaN       NaN       NaN   \n",
       "             1           0      8     0.555599  0.557537  0.507391  0.429022   \n",
       "\n",
       "                                                \n",
       "index                                     1.00  \n",
       "filename     participant expert mass            \n",
       "antc_1_r08_1 0           0      8          NaN  \n",
       "                                12         NaN  \n",
       "                         1      8          NaN  \n",
       "                                12         NaN  \n",
       "             1           0      8     0.365515  \n",
       "\n",
       "[5 rows x 101 columns]"
      ]
     },
     "execution_count": 25,
     "metadata": {},
     "output_type": "execute_result"
    }
   ],
   "source": [
    "y = (\n",
    "    sum_emg.assign(participant=lambda x: x[\"participant\"].astype(\"category\").cat.codes)\n",
    "    .set_index(id_vars)\n",
    "    .unstack()\n",
    ")\n",
    "y.head()"
   ]
  },
  {
   "cell_type": "code",
   "execution_count": null,
   "metadata": {},
   "outputs": [],
   "source": [
    "α = 0.05\n",
    "n_iter = 1000\n",
    "spm = spm1d.stats.nonparam.anova2(\n",
    "    y.to_numpy(),\n",
    "    A=y.index.get_level_values(\"expert\"),\n",
    "    B=y.index.get_level_values(\"mass\"),\n",
    ")\n",
    "spmi = spm.inference(alpha=α, iterations=n_iter)\n",
    "\n",
    "plt.figure(figsize=(11, 8))\n",
    "spmi.plot()\n",
    "plt.tight_layout()"
   ]
  },
  {
   "cell_type": "code",
   "execution_count": 19,
   "metadata": {},
   "outputs": [
    {
     "data": {
      "text/html": [
       "<div>\n",
       "<style scoped>\n",
       "    .dataframe tbody tr th:only-of-type {\n",
       "        vertical-align: middle;\n",
       "    }\n",
       "\n",
       "    .dataframe tbody tr th {\n",
       "        vertical-align: top;\n",
       "    }\n",
       "\n",
       "    .dataframe thead th {\n",
       "        text-align: right;\n",
       "    }\n",
       "</style>\n",
       "<table border=\"1\" class=\"dataframe\">\n",
       "  <thead>\n",
       "    <tr style=\"text-align: right;\">\n",
       "      <th></th>\n",
       "      <th>effect</th>\n",
       "      <th>p</th>\n",
       "      <th>start</th>\n",
       "      <th>end</th>\n",
       "    </tr>\n",
       "  </thead>\n",
       "  <tbody>\n",
       "    <tr>\n",
       "      <th>0</th>\n",
       "      <td>main expertise</td>\n",
       "      <td>0.013</td>\n",
       "      <td>0.453236</td>\n",
       "      <td>0.524424</td>\n",
       "    </tr>\n",
       "    <tr>\n",
       "      <th>1</th>\n",
       "      <td>main mass</td>\n",
       "      <td>0.0353333</td>\n",
       "      <td>0.152654</td>\n",
       "      <td>0.165746</td>\n",
       "    </tr>\n",
       "    <tr>\n",
       "      <th>2</th>\n",
       "      <td>main mass</td>\n",
       "      <td>0.000333333</td>\n",
       "      <td>0.212623</td>\n",
       "      <td>0.424864</td>\n",
       "    </tr>\n",
       "    <tr>\n",
       "      <th>3</th>\n",
       "      <td>main mass</td>\n",
       "      <td>0.000333333</td>\n",
       "      <td>0.497367</td>\n",
       "      <td>0.801139</td>\n",
       "    </tr>\n",
       "  </tbody>\n",
       "</table>\n",
       "</div>"
      ],
      "text/plain": [
       "           effect            p     start       end\n",
       "0  main expertise        0.013  0.453236  0.524424\n",
       "1       main mass    0.0353333  0.152654  0.165746\n",
       "2       main mass  0.000333333  0.212623  0.424864\n",
       "3       main mass  0.000333333  0.497367  0.801139"
      ]
     },
     "execution_count": 19,
     "metadata": {},
     "output_type": "execute_result"
    }
   ],
   "source": [
    "clusters = get_spm_cluster(\n",
    "    spmi,\n",
    "    labels={\n",
    "        \"Main A\": \"main expertise\",\n",
    "        \"Main B\": \"main mass\",\n",
    "        \"Interaction AB\": \"interaction expertise-mass\",\n",
    "    },\n",
    "    mult=1 / y.shape[1],\n",
    ")\n",
    "clusters"
   ]
  },
  {
   "cell_type": "code",
   "execution_count": 20,
   "metadata": {},
   "outputs": [
    {
     "data": {
      "text/html": [
       "<div>\n",
       "<style scoped>\n",
       "    .dataframe tbody tr th:only-of-type {\n",
       "        vertical-align: middle;\n",
       "    }\n",
       "\n",
       "    .dataframe tbody tr th {\n",
       "        vertical-align: top;\n",
       "    }\n",
       "\n",
       "    .dataframe thead th {\n",
       "        text-align: right;\n",
       "    }\n",
       "</style>\n",
       "<table border=\"1\" class=\"dataframe\">\n",
       "  <thead>\n",
       "    <tr style=\"text-align: right;\">\n",
       "      <th></th>\n",
       "      <th>effect</th>\n",
       "      <th>p</th>\n",
       "      <th>start</th>\n",
       "      <th>end</th>\n",
       "      <th>diff desc</th>\n",
       "      <th>mean diff</th>\n",
       "      <th>cohen d</th>\n",
       "      <th>cohen effect</th>\n",
       "    </tr>\n",
       "  </thead>\n",
       "  <tbody>\n",
       "    <tr>\n",
       "      <th>0</th>\n",
       "      <td>main expertise</td>\n",
       "      <td>0.013000</td>\n",
       "      <td>0.45</td>\n",
       "      <td>0.52</td>\n",
       "      <td>0 - 1</td>\n",
       "      <td>0.37</td>\n",
       "      <td>0.51</td>\n",
       "      <td>medium</td>\n",
       "    </tr>\n",
       "    <tr>\n",
       "      <th>2</th>\n",
       "      <td>main mass</td>\n",
       "      <td>0.000333</td>\n",
       "      <td>0.21</td>\n",
       "      <td>0.42</td>\n",
       "      <td>8 - 12</td>\n",
       "      <td>-0.27</td>\n",
       "      <td>-0.58</td>\n",
       "      <td>medium</td>\n",
       "    </tr>\n",
       "    <tr>\n",
       "      <th>3</th>\n",
       "      <td>main mass</td>\n",
       "      <td>0.000333</td>\n",
       "      <td>0.50</td>\n",
       "      <td>0.80</td>\n",
       "      <td>8 - 12</td>\n",
       "      <td>-0.55</td>\n",
       "      <td>-0.61</td>\n",
       "      <td>medium</td>\n",
       "    </tr>\n",
       "  </tbody>\n",
       "</table>\n",
       "</div>"
      ],
      "text/plain": [
       "           effect         p  start   end diff desc  mean diff  cohen d  \\\n",
       "0  main expertise  0.013000   0.45  0.52     0 - 1       0.37     0.51   \n",
       "2       main mass  0.000333   0.21  0.42    8 - 12      -0.27    -0.58   \n",
       "3       main mass  0.000333   0.50  0.80    8 - 12      -0.55    -0.61   \n",
       "\n",
       "  cohen effect  \n",
       "0       medium  \n",
       "2       medium  \n",
       "3       medium  "
      ]
     },
     "execution_count": 20,
     "metadata": {},
     "output_type": "execute_result"
    }
   ],
   "source": [
    "effect = {\"main expertise\": \"expert\", \"main mass\": \"mass\"}\n",
    "clusters = describe_clusters(clusters, sum_emg, effect)\n",
    "clusters"
   ]
  },
  {
   "cell_type": "code",
   "execution_count": 21,
   "metadata": {},
   "outputs": [],
   "source": [
    "c = (\n",
    "    alt.Chart(clusters)\n",
    "    .mark_rect(opacity=0.3, color=\"grey\")\n",
    "    .encode(alt.X(\"start\"), alt.X2(\"end\"))\n",
    ")"
   ]
  },
  {
   "cell_type": "code",
   "execution_count": 22,
   "metadata": {},
   "outputs": [],
   "source": [
    "base = alt.Chart(sum_emg).encode(\n",
    "    alt.X(\"index\", title=\"normalized trial\", axis=alt.Axis(format=\"%\"))\n",
    ")\n",
    "mu = base.mark_line().encode(alt.Y(\"mean(value)\", title=\"Σ activation\"))\n",
    "sigma = base.mark_errorband(extent=\"stdev\").encode(alt.Y(\"value\", title=None))\n",
    "men_scale = alt.Scale(scheme=\"set1\")"
   ]
  },
  {
   "cell_type": "code",
   "execution_count": 25,
   "metadata": {},
   "outputs": [
    {
     "data": {
      "text/html": [
       "<div>\n",
       "<style scoped>\n",
       "    .dataframe tbody tr th:only-of-type {\n",
       "        vertical-align: middle;\n",
       "    }\n",
       "\n",
       "    .dataframe tbody tr th {\n",
       "        vertical-align: top;\n",
       "    }\n",
       "\n",
       "    .dataframe thead th {\n",
       "        text-align: right;\n",
       "    }\n",
       "</style>\n",
       "<table border=\"1\" class=\"dataframe\">\n",
       "  <thead>\n",
       "    <tr style=\"text-align: right;\">\n",
       "      <th></th>\n",
       "      <th>mean</th>\n",
       "      <th>std</th>\n",
       "    </tr>\n",
       "    <tr>\n",
       "      <th>index</th>\n",
       "      <th></th>\n",
       "      <th></th>\n",
       "    </tr>\n",
       "  </thead>\n",
       "  <tbody>\n",
       "    <tr>\n",
       "      <th>0.08</th>\n",
       "      <td>82.0</td>\n",
       "      <td>50.0</td>\n",
       "    </tr>\n",
       "    <tr>\n",
       "      <th>0.74</th>\n",
       "      <td>271.0</td>\n",
       "      <td>98.0</td>\n",
       "    </tr>\n",
       "  </tbody>\n",
       "</table>\n",
       "</div>"
      ],
      "text/plain": [
       "        mean   std\n",
       "index             \n",
       "0.08    82.0  50.0\n",
       "0.74   271.0  98.0"
      ]
     },
     "execution_count": 25,
     "metadata": {},
     "output_type": "execute_result"
    }
   ],
   "source": [
    "from scipy.signal import find_peaks\n",
    "\n",
    "t = sum_emg.groupby(\"index\")[\"value\"].agg([\"mean\", \"std\"])\n",
    "p, _ = find_peaks(t[\"mean\"], distance=50)\n",
    "t.iloc[p, :].multiply(100).round()\n",
    "# t.iloc[p, :]"
   ]
  },
  {
   "cell_type": "code",
   "execution_count": 26,
   "metadata": {},
   "outputs": [
    {
     "data": {
      "application/vnd.vegalite.v3+json": {
       "$schema": "https://vega.github.io/schema/vega-lite/v3.3.0.json",
       "config": {
        "mark": {
         "tooltip": null
        },
        "view": {
         "height": 300,
         "width": 400
        }
       },
       "data": {
        "format": {
         "type": "json"
        },
        "url": "altair-data-d294a1c6e6c95cc7f560cb7e3f98e1b4.json"
       },
       "layer": [
        {
         "encoding": {
          "x": {
           "axis": {
            "format": "%"
           },
           "field": "index",
           "title": "normalized trial",
           "type": "quantitative"
          },
          "y": {
           "aggregate": "mean",
           "field": "value",
           "title": "Σ activation",
           "type": "quantitative"
          }
         },
         "mark": "line"
        },
        {
         "encoding": {
          "x": {
           "axis": {
            "format": "%"
           },
           "field": "index",
           "title": "normalized trial",
           "type": "quantitative"
          },
          "y": {
           "field": "value",
           "title": null,
           "type": "quantitative"
          }
         },
         "mark": {
          "extent": "stdev",
          "type": "errorband"
         }
        }
       ]
      },
      "image/png": "[encoded data removed]",
      "text/plain": [
       "<VegaLite 3 object>\n",
       "\n",
       "If you see this message, it means the renderer has not been properly enabled\n",
       "for the frontend that you are using. For more information, see\n",
       "https://altair-viz.github.io/user_guide/troubleshooting.html\n"
      ]
     },
     "execution_count": 26,
     "metadata": {},
     "output_type": "execute_result"
    }
   ],
   "source": [
    "(mu + sigma)  # + c.encode(alt.Color(\"effect\"))"
   ]
  },
  {
   "cell_type": "code",
   "execution_count": 27,
   "metadata": {},
   "outputs": [
    {
     "data": {
      "application/vnd.vegalite.v3+json": {
       "$schema": "https://vega.github.io/schema/vega-lite/v3.3.0.json",
       "config": {
        "mark": {
         "tooltip": null
        },
        "view": {
         "height": 300,
         "width": 400
        }
       },
       "layer": [
        {
         "data": {
          "format": {
           "type": "json"
          },
          "url": "altair-data-cf9ea6739853059a2aa0c441cb402a42.json"
         },
         "encoding": {
          "x": {
           "field": "start",
           "type": "quantitative"
          },
          "x2": {
           "field": "end"
          }
         },
         "mark": {
          "color": "grey",
          "opacity": 0.3,
          "type": "rect"
         },
         "transform": [
          {
           "filter": "datum.effect == \"main expertise\""
          }
         ]
        },
        {
         "data": {
          "format": {
           "type": "json"
          },
          "url": "altair-data-d294a1c6e6c95cc7f560cb7e3f98e1b4.json"
         },
         "encoding": {
          "color": {
           "field": "expert",
           "scale": {
            "scheme": "set1"
           },
           "type": "nominal"
          }
         },
         "layer": [
          {
           "encoding": {
            "x": {
             "axis": {
              "format": "%"
             },
             "field": "index",
             "title": "normalized trial",
             "type": "quantitative"
            },
            "y": {
             "aggregate": "mean",
             "field": "value",
             "title": "Σ activation",
             "type": "quantitative"
            }
           },
           "mark": "line"
          },
          {
           "encoding": {
            "x": {
             "axis": {
              "format": "%"
             },
             "field": "index",
             "title": "normalized trial",
             "type": "quantitative"
            },
            "y": {
             "field": "value",
             "title": null,
             "type": "quantitative"
            }
           },
           "mark": {
            "extent": "stdev",
            "type": "errorband"
           }
          }
         ]
        }
       ]
      },
      "image/png": "[encoded data removed]",
      "text/plain": [
       "<VegaLite 3 object>\n",
       "\n",
       "If you see this message, it means the renderer has not been properly enabled\n",
       "for the frontend that you are using. For more information, see\n",
       "https://altair-viz.github.io/user_guide/troubleshooting.html\n"
      ]
     },
     "execution_count": 27,
     "metadata": {},
     "output_type": "execute_result"
    }
   ],
   "source": [
    "c.transform_filter('datum.effect == \"main expertise\"') + (mu + sigma).encode(\n",
    "    alt.Color(\"expert:N\", scale=men_scale)\n",
    ")"
   ]
  },
  {
   "cell_type": "code",
   "execution_count": 28,
   "metadata": {},
   "outputs": [
    {
     "data": {
      "application/vnd.vegalite.v3+json": {
       "$schema": "https://vega.github.io/schema/vega-lite/v3.3.0.json",
       "config": {
        "mark": {
         "tooltip": null
        },
        "view": {
         "height": 300,
         "width": 400
        }
       },
       "layer": [
        {
         "data": {
          "format": {
           "type": "json"
          },
          "url": "altair-data-cf9ea6739853059a2aa0c441cb402a42.json"
         },
         "encoding": {
          "x": {
           "field": "start",
           "type": "quantitative"
          },
          "x2": {
           "field": "end"
          }
         },
         "mark": {
          "color": "grey",
          "opacity": 0.3,
          "type": "rect"
         },
         "transform": [
          {
           "filter": "datum.effect == \"main mass\""
          }
         ]
        },
        {
         "data": {
          "format": {
           "type": "json"
          },
          "url": "altair-data-d294a1c6e6c95cc7f560cb7e3f98e1b4.json"
         },
         "encoding": {
          "color": {
           "field": "mass",
           "type": "nominal"
          }
         },
         "layer": [
          {
           "encoding": {
            "x": {
             "axis": {
              "format": "%"
             },
             "field": "index",
             "title": "normalized trial",
             "type": "quantitative"
            },
            "y": {
             "aggregate": "mean",
             "field": "value",
             "title": "Σ activation",
             "type": "quantitative"
            }
           },
           "mark": "line"
          },
          {
           "encoding": {
            "x": {
             "axis": {
              "format": "%"
             },
             "field": "index",
             "title": "normalized trial",
             "type": "quantitative"
            },
            "y": {
             "field": "value",
             "title": null,
             "type": "quantitative"
            }
           },
           "mark": {
            "extent": "stdev",
            "type": "errorband"
           }
          }
         ]
        }
       ]
      },
      "image/png": "[encoded data removed]",
      "text/plain": [
       "<VegaLite 3 object>\n",
       "\n",
       "If you see this message, it means the renderer has not been properly enabled\n",
       "for the frontend that you are using. For more information, see\n",
       "https://altair-viz.github.io/user_guide/troubleshooting.html\n"
      ]
     },
     "execution_count": 28,
     "metadata": {},
     "output_type": "execute_result"
    }
   ],
   "source": [
    "c.transform_filter('datum.effect == \"main mass\"') + (mu + sigma).encode(\n",
    "    alt.Color(\"mass:N\")\n",
    ")"
   ]
  },
  {
   "cell_type": "code",
   "execution_count": 29,
   "metadata": {},
   "outputs": [
    {
     "data": {
      "application/vnd.vegalite.v3+json": {
       "$schema": "https://vega.github.io/schema/vega-lite/v3.3.0.json",
       "config": {
        "mark": {
         "tooltip": null
        },
        "view": {
         "height": 300,
         "width": 400
        }
       },
       "hconcat": [
        {
         "layer": [
          {
           "data": {
            "format": {
             "type": "json"
            },
            "url": "altair-data-cf9ea6739853059a2aa0c441cb402a42.json"
           },
           "encoding": {
            "x": {
             "field": "start",
             "type": "quantitative"
            },
            "x2": {
             "field": "end"
            }
           },
           "mark": {
            "color": "grey",
            "opacity": 0.3,
            "type": "rect"
           },
           "transform": [
            {
             "filter": "datum.effect == \"main expertise\""
            }
           ]
          },
          {
           "data": {
            "format": {
             "type": "json"
            },
            "url": "altair-data-d294a1c6e6c95cc7f560cb7e3f98e1b4.json"
           },
           "encoding": {
            "color": {
             "field": "expert",
             "scale": {
              "scheme": "set1"
             },
             "type": "nominal"
            }
           },
           "layer": [
            {
             "encoding": {
              "x": {
               "axis": {
                "format": "%"
               },
               "field": "index",
               "title": "normalized trial",
               "type": "quantitative"
              },
              "y": {
               "aggregate": "mean",
               "field": "value",
               "title": "Σ activation",
               "type": "quantitative"
              }
             },
             "mark": "line"
            },
            {
             "encoding": {
              "x": {
               "axis": {
                "format": "%"
               },
               "field": "index",
               "title": "normalized trial",
               "type": "quantitative"
              },
              "y": {
               "field": "value",
               "title": null,
               "type": "quantitative"
              }
             },
             "mark": {
              "extent": "stdev",
              "type": "errorband"
             }
            }
           ]
          }
         ]
        },
        {
         "layer": [
          {
           "data": {
            "format": {
             "type": "json"
            },
            "url": "altair-data-cf9ea6739853059a2aa0c441cb402a42.json"
           },
           "encoding": {
            "x": {
             "field": "start",
             "type": "quantitative"
            },
            "x2": {
             "field": "end"
            }
           },
           "mark": {
            "color": "grey",
            "opacity": 0.3,
            "type": "rect"
           },
           "transform": [
            {
             "filter": "datum.effect == \"main mass\""
            }
           ]
          },
          {
           "data": {
            "format": {
             "type": "json"
            },
            "url": "altair-data-d294a1c6e6c95cc7f560cb7e3f98e1b4.json"
           },
           "encoding": {
            "color": {
             "field": "mass",
             "type": "nominal"
            }
           },
           "layer": [
            {
             "encoding": {
              "x": {
               "axis": {
                "format": "%"
               },
               "field": "index",
               "title": "normalized trial",
               "type": "quantitative"
              },
              "y": {
               "aggregate": "mean",
               "field": "value",
               "title": "Σ activation",
               "type": "quantitative"
              }
             },
             "mark": "line"
            },
            {
             "encoding": {
              "x": {
               "axis": {
                "format": "%"
               },
               "field": "index",
               "title": "normalized trial",
               "type": "quantitative"
              },
              "y": {
               "field": "value",
               "title": null,
               "type": "quantitative"
              }
             },
             "mark": {
              "extent": "stdev",
              "type": "errorband"
             }
            }
           ]
          }
         ]
        }
       ]
      },
      "image/png": "[encoded data removed]",
      "text/plain": [
       "<VegaLite 3 object>\n",
       "\n",
       "If you see this message, it means the renderer has not been properly enabled\n",
       "for the frontend that you are using. For more information, see\n",
       "https://altair-viz.github.io/user_guide/troubleshooting.html\n"
      ]
     },
     "execution_count": 29,
     "metadata": {},
     "output_type": "execute_result"
    }
   ],
   "source": [
    "c.transform_filter('datum.effect == \"main expertise\"') + (mu + sigma).encode(\n",
    "    alt.Color(\"expert:N\", scale=men_scale)\n",
    ") | c.transform_filter('datum.effect == \"main mass\"') + (mu + sigma).encode(\n",
    "    alt.Color(\"mass:N\")\n",
    ")"
   ]
  },
  {
   "cell_type": "code",
   "execution_count": 30,
   "metadata": {},
   "outputs": [
    {
     "data": {
      "application/vnd.vegalite.v3+json": {
       "$schema": "https://vega.github.io/schema/vega-lite/v3.3.0.json",
       "config": {
        "mark": {
         "tooltip": null
        },
        "view": {
         "height": 300,
         "width": 400
        }
       },
       "data": {
        "format": {
         "type": "json"
        },
        "url": "altair-data-d294a1c6e6c95cc7f560cb7e3f98e1b4.json"
       },
       "facet": {
        "column": {
         "field": "mass",
         "type": "quantitative"
        }
       },
       "spec": {
        "encoding": {
         "color": {
          "field": "expert",
          "type": "nominal"
         }
        },
        "layer": [
         {
          "encoding": {
           "x": {
            "axis": {
             "format": "%"
            },
            "field": "index",
            "title": "normalized trial",
            "type": "quantitative"
           },
           "y": {
            "aggregate": "mean",
            "field": "value",
            "title": "Σ activation",
            "type": "quantitative"
           }
          },
          "mark": "line"
         },
         {
          "encoding": {
           "x": {
            "axis": {
             "format": "%"
            },
            "field": "index",
            "title": "normalized trial",
            "type": "quantitative"
           },
           "y": {
            "field": "value",
            "title": null,
            "type": "quantitative"
           }
          },
          "mark": {
           "extent": "stdev",
           "type": "errorband"
          }
         }
        ]
       }
      },
      "image/png": "[encoded data removed]",
      "text/plain": [
       "<VegaLite 3 object>\n",
       "\n",
       "If you see this message, it means the renderer has not been properly enabled\n",
       "for the frontend that you are using. For more information, see\n",
       "https://altair-viz.github.io/user_guide/troubleshooting.html\n"
      ]
     },
     "execution_count": 30,
     "metadata": {},
     "output_type": "execute_result"
    }
   ],
   "source": [
    "(mu + sigma).encode(alt.Color(\"expert:N\")).facet(column=\"mass\")"
   ]
  },
  {
   "cell_type": "markdown",
   "metadata": {},
   "source": [
    "## ECDF"
   ]
  },
  {
   "cell_type": "markdown",
   "metadata": {},
   "source": [
    "### ECDF on activations"
   ]
  },
  {
   "cell_type": "code",
   "execution_count": 31,
   "metadata": {},
   "outputs": [],
   "source": [
    "emg_melt[\"ecdf\"] = emg_melt.groupby(\"filename\")[\"value\"].transform(\n",
    "    lambda x: x.rank(method=\"first\") / x.shape[0]\n",
    ")"
   ]
  },
  {
   "cell_type": "code",
   "execution_count": 32,
   "metadata": {},
   "outputs": [
    {
     "data": {
      "text/html": [
       "<div>\n",
       "<style scoped>\n",
       "    .dataframe tbody tr th:only-of-type {\n",
       "        vertical-align: middle;\n",
       "    }\n",
       "\n",
       "    .dataframe tbody tr th {\n",
       "        vertical-align: top;\n",
       "    }\n",
       "\n",
       "    .dataframe thead tr th {\n",
       "        text-align: left;\n",
       "    }\n",
       "\n",
       "    .dataframe thead tr:last-of-type th {\n",
       "        text-align: right;\n",
       "    }\n",
       "</style>\n",
       "<table border=\"1\" class=\"dataframe\">\n",
       "  <thead>\n",
       "    <tr>\n",
       "      <th></th>\n",
       "      <th></th>\n",
       "      <th></th>\n",
       "      <th></th>\n",
       "      <th colspan=\"21\" halign=\"left\">value</th>\n",
       "    </tr>\n",
       "    <tr>\n",
       "      <th></th>\n",
       "      <th></th>\n",
       "      <th></th>\n",
       "      <th>ecdf</th>\n",
       "      <th>0.000990</th>\n",
       "      <th>0.010891</th>\n",
       "      <th>0.020792</th>\n",
       "      <th>0.030693</th>\n",
       "      <th>0.040594</th>\n",
       "      <th>0.050495</th>\n",
       "      <th>0.060396</th>\n",
       "      <th>0.070297</th>\n",
       "      <th>0.080198</th>\n",
       "      <th>0.090099</th>\n",
       "      <th>...</th>\n",
       "      <th>0.901980</th>\n",
       "      <th>0.911881</th>\n",
       "      <th>0.921782</th>\n",
       "      <th>0.931683</th>\n",
       "      <th>0.941584</th>\n",
       "      <th>0.951485</th>\n",
       "      <th>0.961386</th>\n",
       "      <th>0.971287</th>\n",
       "      <th>0.981188</th>\n",
       "      <th>0.991089</th>\n",
       "    </tr>\n",
       "    <tr>\n",
       "      <th>filename</th>\n",
       "      <th>participant</th>\n",
       "      <th>expert</th>\n",
       "      <th>mass</th>\n",
       "      <th></th>\n",
       "      <th></th>\n",
       "      <th></th>\n",
       "      <th></th>\n",
       "      <th></th>\n",
       "      <th></th>\n",
       "      <th></th>\n",
       "      <th></th>\n",
       "      <th></th>\n",
       "      <th></th>\n",
       "      <th></th>\n",
       "      <th></th>\n",
       "      <th></th>\n",
       "      <th></th>\n",
       "      <th></th>\n",
       "      <th></th>\n",
       "      <th></th>\n",
       "      <th></th>\n",
       "      <th></th>\n",
       "      <th></th>\n",
       "      <th></th>\n",
       "    </tr>\n",
       "  </thead>\n",
       "  <tbody>\n",
       "    <tr>\n",
       "      <th>antc_1_r08_1</th>\n",
       "      <th>1</th>\n",
       "      <th>0</th>\n",
       "      <th>8</th>\n",
       "      <td>0.003945</td>\n",
       "      <td>0.009870</td>\n",
       "      <td>0.011705</td>\n",
       "      <td>0.012901</td>\n",
       "      <td>0.014402</td>\n",
       "      <td>0.015114</td>\n",
       "      <td>0.015921</td>\n",
       "      <td>0.016717</td>\n",
       "      <td>0.017647</td>\n",
       "      <td>0.018658</td>\n",
       "      <td>...</td>\n",
       "      <td>0.193934</td>\n",
       "      <td>0.199966</td>\n",
       "      <td>0.207662</td>\n",
       "      <td>0.219309</td>\n",
       "      <td>0.230260</td>\n",
       "      <td>0.252054</td>\n",
       "      <td>0.268988</td>\n",
       "      <td>0.303323</td>\n",
       "      <td>0.319151</td>\n",
       "      <td>0.360092</td>\n",
       "    </tr>\n",
       "    <tr>\n",
       "      <th>antc_1_r08_4</th>\n",
       "      <th>1</th>\n",
       "      <th>0</th>\n",
       "      <th>8</th>\n",
       "      <td>0.008263</td>\n",
       "      <td>0.011983</td>\n",
       "      <td>0.013476</td>\n",
       "      <td>0.014855</td>\n",
       "      <td>0.017317</td>\n",
       "      <td>0.018653</td>\n",
       "      <td>0.020106</td>\n",
       "      <td>0.021983</td>\n",
       "      <td>0.024308</td>\n",
       "      <td>0.025482</td>\n",
       "      <td>...</td>\n",
       "      <td>0.261878</td>\n",
       "      <td>0.271578</td>\n",
       "      <td>0.295636</td>\n",
       "      <td>0.309418</td>\n",
       "      <td>0.333378</td>\n",
       "      <td>0.344696</td>\n",
       "      <td>0.400398</td>\n",
       "      <td>0.428421</td>\n",
       "      <td>0.462900</td>\n",
       "      <td>0.529899</td>\n",
       "    </tr>\n",
       "    <tr>\n",
       "      <th>antc_1_r08_5</th>\n",
       "      <th>1</th>\n",
       "      <th>0</th>\n",
       "      <th>8</th>\n",
       "      <td>0.009649</td>\n",
       "      <td>0.012421</td>\n",
       "      <td>0.013695</td>\n",
       "      <td>0.016331</td>\n",
       "      <td>0.020397</td>\n",
       "      <td>0.022596</td>\n",
       "      <td>0.023597</td>\n",
       "      <td>0.024248</td>\n",
       "      <td>0.025591</td>\n",
       "      <td>0.026096</td>\n",
       "      <td>...</td>\n",
       "      <td>0.268854</td>\n",
       "      <td>0.290587</td>\n",
       "      <td>0.308298</td>\n",
       "      <td>0.333680</td>\n",
       "      <td>0.352512</td>\n",
       "      <td>0.383215</td>\n",
       "      <td>0.414179</td>\n",
       "      <td>0.434039</td>\n",
       "      <td>0.471065</td>\n",
       "      <td>0.518103</td>\n",
       "    </tr>\n",
       "    <tr>\n",
       "      <th>antc_1_r08_6</th>\n",
       "      <th>1</th>\n",
       "      <th>0</th>\n",
       "      <th>8</th>\n",
       "      <td>0.006534</td>\n",
       "      <td>0.012129</td>\n",
       "      <td>0.013075</td>\n",
       "      <td>0.013597</td>\n",
       "      <td>0.014313</td>\n",
       "      <td>0.014825</td>\n",
       "      <td>0.015521</td>\n",
       "      <td>0.016262</td>\n",
       "      <td>0.017191</td>\n",
       "      <td>0.018420</td>\n",
       "      <td>...</td>\n",
       "      <td>0.196160</td>\n",
       "      <td>0.200758</td>\n",
       "      <td>0.204991</td>\n",
       "      <td>0.213882</td>\n",
       "      <td>0.221358</td>\n",
       "      <td>0.230754</td>\n",
       "      <td>0.245143</td>\n",
       "      <td>0.253824</td>\n",
       "      <td>0.280303</td>\n",
       "      <td>0.329989</td>\n",
       "    </tr>\n",
       "    <tr>\n",
       "      <th>antc_1_r12_1</th>\n",
       "      <th>1</th>\n",
       "      <th>0</th>\n",
       "      <th>12</th>\n",
       "      <td>0.000000</td>\n",
       "      <td>0.009819</td>\n",
       "      <td>0.015207</td>\n",
       "      <td>0.018874</td>\n",
       "      <td>0.020838</td>\n",
       "      <td>0.022133</td>\n",
       "      <td>0.024422</td>\n",
       "      <td>0.026408</td>\n",
       "      <td>0.027229</td>\n",
       "      <td>0.028112</td>\n",
       "      <td>...</td>\n",
       "      <td>0.442850</td>\n",
       "      <td>0.466365</td>\n",
       "      <td>0.496907</td>\n",
       "      <td>0.515427</td>\n",
       "      <td>0.531528</td>\n",
       "      <td>0.554619</td>\n",
       "      <td>0.574430</td>\n",
       "      <td>0.613764</td>\n",
       "      <td>0.628304</td>\n",
       "      <td>0.684856</td>\n",
       "    </tr>\n",
       "  </tbody>\n",
       "</table>\n",
       "<p>5 rows × 101 columns</p>\n",
       "</div>"
      ],
      "text/plain": [
       "                                         value                                \\\n",
       "ecdf                                  0.000990  0.010891  0.020792  0.030693   \n",
       "filename     participant expert mass                                           \n",
       "antc_1_r08_1 1           0      8     0.003945  0.009870  0.011705  0.012901   \n",
       "antc_1_r08_4 1           0      8     0.008263  0.011983  0.013476  0.014855   \n",
       "antc_1_r08_5 1           0      8     0.009649  0.012421  0.013695  0.016331   \n",
       "antc_1_r08_6 1           0      8     0.006534  0.012129  0.013075  0.013597   \n",
       "antc_1_r12_1 1           0      12    0.000000  0.009819  0.015207  0.018874   \n",
       "\n",
       "                                                                              \\\n",
       "ecdf                                  0.040594  0.050495  0.060396  0.070297   \n",
       "filename     participant expert mass                                           \n",
       "antc_1_r08_1 1           0      8     0.014402  0.015114  0.015921  0.016717   \n",
       "antc_1_r08_4 1           0      8     0.017317  0.018653  0.020106  0.021983   \n",
       "antc_1_r08_5 1           0      8     0.020397  0.022596  0.023597  0.024248   \n",
       "antc_1_r08_6 1           0      8     0.014313  0.014825  0.015521  0.016262   \n",
       "antc_1_r12_1 1           0      12    0.020838  0.022133  0.024422  0.026408   \n",
       "\n",
       "                                                          ...            \\\n",
       "ecdf                                  0.080198  0.090099  ...  0.901980   \n",
       "filename     participant expert mass                      ...             \n",
       "antc_1_r08_1 1           0      8     0.017647  0.018658  ...  0.193934   \n",
       "antc_1_r08_4 1           0      8     0.024308  0.025482  ...  0.261878   \n",
       "antc_1_r08_5 1           0      8     0.025591  0.026096  ...  0.268854   \n",
       "antc_1_r08_6 1           0      8     0.017191  0.018420  ...  0.196160   \n",
       "antc_1_r12_1 1           0      12    0.027229  0.028112  ...  0.442850   \n",
       "\n",
       "                                                                              \\\n",
       "ecdf                                  0.911881  0.921782  0.931683  0.941584   \n",
       "filename     participant expert mass                                           \n",
       "antc_1_r08_1 1           0      8     0.199966  0.207662  0.219309  0.230260   \n",
       "antc_1_r08_4 1           0      8     0.271578  0.295636  0.309418  0.333378   \n",
       "antc_1_r08_5 1           0      8     0.290587  0.308298  0.333680  0.352512   \n",
       "antc_1_r08_6 1           0      8     0.200758  0.204991  0.213882  0.221358   \n",
       "antc_1_r12_1 1           0      12    0.466365  0.496907  0.515427  0.531528   \n",
       "\n",
       "                                                                              \\\n",
       "ecdf                                  0.951485  0.961386  0.971287  0.981188   \n",
       "filename     participant expert mass                                           \n",
       "antc_1_r08_1 1           0      8     0.252054  0.268988  0.303323  0.319151   \n",
       "antc_1_r08_4 1           0      8     0.344696  0.400398  0.428421  0.462900   \n",
       "antc_1_r08_5 1           0      8     0.383215  0.414179  0.434039  0.471065   \n",
       "antc_1_r08_6 1           0      8     0.230754  0.245143  0.253824  0.280303   \n",
       "antc_1_r12_1 1           0      12    0.554619  0.574430  0.613764  0.628304   \n",
       "\n",
       "                                                \n",
       "ecdf                                  0.991089  \n",
       "filename     participant expert mass            \n",
       "antc_1_r08_1 1           0      8     0.360092  \n",
       "antc_1_r08_4 1           0      8     0.529899  \n",
       "antc_1_r08_5 1           0      8     0.518103  \n",
       "antc_1_r08_6 1           0      8     0.329989  \n",
       "antc_1_r12_1 1           0      12    0.684856  \n",
       "\n",
       "[5 rows x 101 columns]"
      ]
     },
     "execution_count": 32,
     "metadata": {},
     "output_type": "execute_result"
    }
   ],
   "source": [
    "target_col_shape = 100\n",
    "\n",
    "y = (\n",
    "    emg_melt.drop([\"index\", \"variable\"], axis=1)\n",
    "    .assign(participant=lambda x: x[\"participant\"].astype(\"category\").cat.codes)\n",
    "    .set_index([i if i != \"index\" else \"ecdf\" for i in id_vars])\n",
    "    .unstack()\n",
    ")\n",
    "y = y.iloc[:, 0 :: int(y.shape[1] / target_col_shape)]\n",
    "y.head()"
   ]
  },
  {
   "cell_type": "code",
   "execution_count": 33,
   "metadata": {},
   "outputs": [
    {
     "data": {
      "image/png": "[encoded data removed]",
      "text/plain": [
       "<Figure size 792x576 with 3 Axes>"
      ]
     },
     "metadata": {
      "needs_background": "light"
     },
     "output_type": "display_data"
    }
   ],
   "source": [
    "α = 0.05\n",
    "n_iter = 1000\n",
    "spm = spm1d.stats.nonparam.anova2(\n",
    "    y.to_numpy(),\n",
    "    A=y.index.get_level_values(\"expert\"),\n",
    "    B=y.index.get_level_values(\"mass\"),\n",
    ")\n",
    "spmi = spm.inference(alpha=α, iterations=n_iter)\n",
    "\n",
    "plt.figure(figsize=(11, 8))\n",
    "spmi.plot()\n",
    "plt.tight_layout()"
   ]
  },
  {
   "cell_type": "code",
   "execution_count": 34,
   "metadata": {},
   "outputs": [
    {
     "data": {
      "text/html": [
       "<div>\n",
       "<style scoped>\n",
       "    .dataframe tbody tr th:only-of-type {\n",
       "        vertical-align: middle;\n",
       "    }\n",
       "\n",
       "    .dataframe tbody tr th {\n",
       "        vertical-align: top;\n",
       "    }\n",
       "\n",
       "    .dataframe thead th {\n",
       "        text-align: right;\n",
       "    }\n",
       "</style>\n",
       "<table border=\"1\" class=\"dataframe\">\n",
       "  <thead>\n",
       "    <tr style=\"text-align: right;\">\n",
       "      <th></th>\n",
       "      <th>effect</th>\n",
       "      <th>p</th>\n",
       "      <th>start</th>\n",
       "      <th>end</th>\n",
       "    </tr>\n",
       "  </thead>\n",
       "  <tbody>\n",
       "    <tr>\n",
       "      <th>0</th>\n",
       "      <td>main mass</td>\n",
       "      <td>0</td>\n",
       "      <td>0.282851</td>\n",
       "      <td>0.990099</td>\n",
       "    </tr>\n",
       "  </tbody>\n",
       "</table>\n",
       "</div>"
      ],
      "text/plain": [
       "      effect  p     start       end\n",
       "0  main mass  0  0.282851  0.990099"
      ]
     },
     "execution_count": 34,
     "metadata": {},
     "output_type": "execute_result"
    }
   ],
   "source": [
    "clusters = get_spm_cluster(\n",
    "    spmi,\n",
    "    labels={\n",
    "        \"Main A\": \"main expertise\",\n",
    "        \"Main B\": \"main mass\",\n",
    "        \"Interaction AB\": \"interaction expertise-mass\",\n",
    "    },\n",
    "    mult=1 / y.shape[1],\n",
    ")\n",
    "clusters"
   ]
  },
  {
   "cell_type": "code",
   "execution_count": 35,
   "metadata": {},
   "outputs": [
    {
     "data": {
      "text/html": [
       "<div>\n",
       "<style scoped>\n",
       "    .dataframe tbody tr th:only-of-type {\n",
       "        vertical-align: middle;\n",
       "    }\n",
       "\n",
       "    .dataframe tbody tr th {\n",
       "        vertical-align: top;\n",
       "    }\n",
       "\n",
       "    .dataframe thead th {\n",
       "        text-align: right;\n",
       "    }\n",
       "</style>\n",
       "<table border=\"1\" class=\"dataframe\">\n",
       "  <thead>\n",
       "    <tr style=\"text-align: right;\">\n",
       "      <th></th>\n",
       "      <th>effect</th>\n",
       "      <th>p</th>\n",
       "      <th>start</th>\n",
       "      <th>end</th>\n",
       "      <th>diff desc</th>\n",
       "      <th>mean diff</th>\n",
       "      <th>cohen d</th>\n",
       "      <th>cohen effect</th>\n",
       "    </tr>\n",
       "  </thead>\n",
       "  <tbody>\n",
       "    <tr>\n",
       "      <th>0</th>\n",
       "      <td>main mass</td>\n",
       "      <td>0.0</td>\n",
       "      <td>0.28</td>\n",
       "      <td>0.99</td>\n",
       "      <td>8 - 12</td>\n",
       "      <td>-0.05</td>\n",
       "      <td>-0.28</td>\n",
       "      <td>small</td>\n",
       "    </tr>\n",
       "  </tbody>\n",
       "</table>\n",
       "</div>"
      ],
      "text/plain": [
       "      effect    p  start   end diff desc  mean diff  cohen d cohen effect\n",
       "0  main mass  0.0   0.28  0.99    8 - 12      -0.05    -0.28        small"
      ]
     },
     "execution_count": 35,
     "metadata": {},
     "output_type": "execute_result"
    }
   ],
   "source": [
    "effect = {\"main expertise\": \"expert\", \"main mass\": \"mass\"}\n",
    "clusters = describe_clusters(\n",
    "    clusters, emg_melt.rename(columns={\"ecdf\": \"index\"}), effect\n",
    ")\n",
    "clusters"
   ]
  },
  {
   "cell_type": "code",
   "execution_count": 36,
   "metadata": {},
   "outputs": [],
   "source": [
    "base = alt.Chart(emg_melt).encode(\n",
    "    alt.X(\"ecdf\", title=\"ECDF\", axis=alt.Axis(format=\"%\"))\n",
    ")\n",
    "mu = base.mark_line().encode(\n",
    "    alt.Y(\"mean(value)\", title=\"activation\", axis=alt.Axis(format=\"%\"))\n",
    ")\n",
    "sigma = base.mark_errorband(extent=\"stdev\").encode(alt.Y(\"value\", title=None))\n",
    "men_scale = alt.Scale(scheme=\"set1\")"
   ]
  },
  {
   "cell_type": "code",
   "execution_count": 37,
   "metadata": {},
   "outputs": [],
   "source": [
    "c = (\n",
    "    alt.Chart(clusters)\n",
    "    .mark_rect(opacity=0.3, color=\"grey\")\n",
    "    .encode(alt.X(\"start\"), alt.X2(\"end\"))\n",
    ")"
   ]
  },
  {
   "cell_type": "code",
   "execution_count": 39,
   "metadata": {},
   "outputs": [
    {
     "name": "stdout",
     "output_type": "stream",
     "text": [
      "mean    4.195227\n",
      "std     3.330899\n",
      "Name: value, dtype: float64\n",
      "mean    28.289625\n",
      "std     18.775214\n",
      "Name: value, dtype: float64\n"
     ]
    }
   ],
   "source": [
    "print(emg_melt.query(\"ecdf < 0.5\")[\"value\"].agg([\"mean\", \"std\"]).multiply(100))\n",
    "print(emg_melt.query(\"ecdf > 0.5\")[\"value\"].agg([\"mean\", \"std\"]).multiply(100))"
   ]
  },
  {
   "cell_type": "code",
   "execution_count": 41,
   "metadata": {},
   "outputs": [
    {
     "data": {
      "text/plain": [
       "[ecdf    50.0\n",
       " mean    10.0\n",
       " std      4.0\n",
       " Name: 504, dtype: float64, ecdf    60.0\n",
       " mean    14.0\n",
       " std      5.0\n",
       " Name: 605, dtype: float64, ecdf    80.0\n",
       " mean    28.0\n",
       " std      9.0\n",
       " Name: 807, dtype: float64, ecdf    100.0\n",
       " mean     89.0\n",
       " std      12.0\n",
       " Name: 1009, dtype: float64]"
      ]
     },
     "execution_count": 41,
     "metadata": {},
     "output_type": "execute_result"
    }
   ],
   "source": [
    "value = [0.5, 0.6, 0.8, 1]\n",
    "# index = (df['values'] - value).abs().idxmin()\n",
    "x = emg_melt.groupby(\"ecdf\")[\"value\"].agg([\"mean\", \"std\"]).reset_index()\n",
    "\n",
    "[x.iloc[x[\"ecdf\"].sub(i).abs().idxmin()].multiply(100).round() for i in value]"
   ]
  },
  {
   "cell_type": "code",
   "execution_count": 39,
   "metadata": {},
   "outputs": [
    {
     "data": {
      "application/vnd.vegalite.v3+json": {
       "$schema": "https://vega.github.io/schema/vega-lite/v3.3.0.json",
       "config": {
        "mark": {
         "tooltip": null
        },
        "view": {
         "height": 300,
         "width": 400
        }
       },
       "data": {
        "format": {
         "type": "json"
        },
        "url": "altair-data-299c99a3d7ddd383db9a6c932d9fe90e.json"
       },
       "layer": [
        {
         "encoding": {
          "x": {
           "axis": {
            "format": "%"
           },
           "field": "ecdf",
           "title": "ECDF",
           "type": "quantitative"
          },
          "y": {
           "aggregate": "mean",
           "axis": {
            "format": "%"
           },
           "field": "value",
           "title": "activation",
           "type": "quantitative"
          }
         },
         "mark": "line"
        },
        {
         "encoding": {
          "x": {
           "axis": {
            "format": "%"
           },
           "field": "ecdf",
           "title": "ECDF",
           "type": "quantitative"
          },
          "y": {
           "field": "value",
           "title": null,
           "type": "quantitative"
          }
         },
         "mark": {
          "extent": "stdev",
          "type": "errorband"
         }
        }
       ]
      },
      "image/png": "[encoded data removed]",
      "text/plain": [
       "<VegaLite 3 object>\n",
       "\n",
       "If you see this message, it means the renderer has not been properly enabled\n",
       "for the frontend that you are using. For more information, see\n",
       "https://altair-viz.github.io/user_guide/troubleshooting.html\n"
      ]
     },
     "execution_count": 39,
     "metadata": {},
     "output_type": "execute_result"
    }
   ],
   "source": [
    "(mu + sigma)  # + c.encode(alt.Color(\"effect\"))"
   ]
  },
  {
   "cell_type": "code",
   "execution_count": 40,
   "metadata": {},
   "outputs": [
    {
     "data": {
      "application/vnd.vegalite.v3+json": {
       "$schema": "https://vega.github.io/schema/vega-lite/v3.3.0.json",
       "config": {
        "mark": {
         "tooltip": null
        },
        "view": {
         "height": 300,
         "width": 400
        }
       },
       "layer": [
        {
         "data": {
          "format": {
           "type": "json"
          },
          "url": "altair-data-78124c59a81a79b397b4fd033daebb23.json"
         },
         "encoding": {
          "x": {
           "field": "start",
           "type": "quantitative"
          },
          "x2": {
           "field": "end"
          }
         },
         "mark": {
          "color": "grey",
          "opacity": 0.3,
          "type": "rect"
         },
         "transform": [
          {
           "filter": "datum.effect == \"main expertise\""
          }
         ]
        },
        {
         "data": {
          "format": {
           "type": "json"
          },
          "url": "altair-data-299c99a3d7ddd383db9a6c932d9fe90e.json"
         },
         "encoding": {
          "color": {
           "field": "expert",
           "scale": {
            "scheme": "set1"
           },
           "type": "nominal"
          }
         },
         "layer": [
          {
           "encoding": {
            "x": {
             "axis": {
              "format": "%"
             },
             "field": "ecdf",
             "title": "ECDF",
             "type": "quantitative"
            },
            "y": {
             "aggregate": "mean",
             "axis": {
              "format": "%"
             },
             "field": "value",
             "title": "activation",
             "type": "quantitative"
            }
           },
           "mark": "line"
          },
          {
           "encoding": {
            "x": {
             "axis": {
              "format": "%"
             },
             "field": "ecdf",
             "title": "ECDF",
             "type": "quantitative"
            },
            "y": {
             "field": "value",
             "title": null,
             "type": "quantitative"
            }
           },
           "mark": {
            "extent": "stdev",
            "type": "errorband"
           }
          }
         ]
        }
       ]
      },
      "image/png": "[encoded data removed]",
      "text/plain": [
       "<VegaLite 3 object>\n",
       "\n",
       "If you see this message, it means the renderer has not been properly enabled\n",
       "for the frontend that you are using. For more information, see\n",
       "https://altair-viz.github.io/user_guide/troubleshooting.html\n"
      ]
     },
     "execution_count": 40,
     "metadata": {},
     "output_type": "execute_result"
    }
   ],
   "source": [
    "c.transform_filter('datum.effect == \"main expertise\"') + (mu + sigma).encode(\n",
    "    alt.Color(\"expert:N\", scale=men_scale)\n",
    ")"
   ]
  },
  {
   "cell_type": "code",
   "execution_count": 41,
   "metadata": {},
   "outputs": [
    {
     "data": {
      "application/vnd.vegalite.v3+json": {
       "$schema": "https://vega.github.io/schema/vega-lite/v3.3.0.json",
       "config": {
        "mark": {
         "tooltip": null
        },
        "view": {
         "height": 300,
         "width": 400
        }
       },
       "layer": [
        {
         "data": {
          "format": {
           "type": "json"
          },
          "url": "altair-data-78124c59a81a79b397b4fd033daebb23.json"
         },
         "encoding": {
          "x": {
           "field": "start",
           "type": "quantitative"
          },
          "x2": {
           "field": "end"
          }
         },
         "mark": {
          "color": "grey",
          "opacity": 0.3,
          "type": "rect"
         },
         "transform": [
          {
           "filter": "datum.effect == \"main mass\""
          }
         ]
        },
        {
         "data": {
          "format": {
           "type": "json"
          },
          "url": "altair-data-299c99a3d7ddd383db9a6c932d9fe90e.json"
         },
         "encoding": {
          "color": {
           "field": "mass",
           "type": "nominal"
          }
         },
         "layer": [
          {
           "encoding": {
            "x": {
             "axis": {
              "format": "%"
             },
             "field": "ecdf",
             "title": "ECDF",
             "type": "quantitative"
            },
            "y": {
             "aggregate": "mean",
             "axis": {
              "format": "%"
             },
             "field": "value",
             "title": "activation",
             "type": "quantitative"
            }
           },
           "mark": "line"
          },
          {
           "encoding": {
            "x": {
             "axis": {
              "format": "%"
             },
             "field": "ecdf",
             "title": "ECDF",
             "type": "quantitative"
            },
            "y": {
             "field": "value",
             "title": null,
             "type": "quantitative"
            }
           },
           "mark": {
            "extent": "stdev",
            "type": "errorband"
           }
          }
         ]
        }
       ]
      },
      "image/png": "[encoded data removed]",
      "text/plain": [
       "<VegaLite 3 object>\n",
       "\n",
       "If you see this message, it means the renderer has not been properly enabled\n",
       "for the frontend that you are using. For more information, see\n",
       "https://altair-viz.github.io/user_guide/troubleshooting.html\n"
      ]
     },
     "execution_count": 41,
     "metadata": {},
     "output_type": "execute_result"
    }
   ],
   "source": [
    "c.transform_filter('datum.effect == \"main mass\"') + (mu + sigma).encode(\n",
    "    alt.Color(\"mass:N\")\n",
    ")"
   ]
  },
  {
   "cell_type": "code",
   "execution_count": 49,
   "metadata": {},
   "outputs": [
    {
     "data": {
      "application/vnd.vegalite.v3+json": {
       "$schema": "https://vega.github.io/schema/vega-lite/v3.3.0.json",
       "config": {
        "mark": {
         "tooltip": null
        },
        "view": {
         "height": 300,
         "width": 400
        }
       },
       "hconcat": [
        {
         "layer": [
          {
           "data": {
            "format": {
             "type": "json"
            },
            "url": "altair-data-e8f7f1520055f935889f0b29078d57b8.json"
           },
           "encoding": {
            "x": {
             "field": "start",
             "type": "quantitative"
            },
            "x2": {
             "field": "end"
            }
           },
           "mark": {
            "color": "grey",
            "opacity": 0.3,
            "type": "rect"
           },
           "transform": [
            {
             "filter": "datum.effect == \"main expertise\""
            }
           ]
          },
          {
           "data": {
            "format": {
             "type": "json"
            },
            "url": "altair-data-c1bcbd3dda72e98de7860cf0653bcd09.json"
           },
           "encoding": {
            "color": {
             "field": "expert",
             "scale": {
              "scheme": "set1"
             },
             "type": "nominal"
            }
           },
           "layer": [
            {
             "encoding": {
              "x": {
               "axis": {
                "format": "%"
               },
               "field": "ecdf",
               "title": "ecdf",
               "type": "quantitative"
              },
              "y": {
               "aggregate": "mean",
               "axis": {
                "format": "%"
               },
               "field": "value",
               "title": "activation",
               "type": "quantitative"
              }
             },
             "mark": "line"
            },
            {
             "encoding": {
              "x": {
               "axis": {
                "format": "%"
               },
               "field": "ecdf",
               "title": "ecdf",
               "type": "quantitative"
              },
              "y": {
               "field": "value",
               "title": null,
               "type": "quantitative"
              }
             },
             "mark": {
              "extent": "stdev",
              "type": "errorband"
             }
            }
           ]
          }
         ]
        },
        {
         "layer": [
          {
           "data": {
            "format": {
             "type": "json"
            },
            "url": "altair-data-e8f7f1520055f935889f0b29078d57b8.json"
           },
           "encoding": {
            "x": {
             "field": "start",
             "type": "quantitative"
            },
            "x2": {
             "field": "end"
            }
           },
           "mark": {
            "color": "grey",
            "opacity": 0.3,
            "type": "rect"
           },
           "transform": [
            {
             "filter": "datum.effect == \"main mass\""
            }
           ]
          },
          {
           "data": {
            "format": {
             "type": "json"
            },
            "url": "altair-data-c1bcbd3dda72e98de7860cf0653bcd09.json"
           },
           "encoding": {
            "color": {
             "field": "mass",
             "type": "nominal"
            }
           },
           "layer": [
            {
             "encoding": {
              "x": {
               "axis": {
                "format": "%"
               },
               "field": "ecdf",
               "title": "ecdf",
               "type": "quantitative"
              },
              "y": {
               "aggregate": "mean",
               "axis": {
                "format": "%"
               },
               "field": "value",
               "title": "activation",
               "type": "quantitative"
              }
             },
             "mark": "line"
            },
            {
             "encoding": {
              "x": {
               "axis": {
                "format": "%"
               },
               "field": "ecdf",
               "title": "ecdf",
               "type": "quantitative"
              },
              "y": {
               "field": "value",
               "title": null,
               "type": "quantitative"
              }
             },
             "mark": {
              "extent": "stdev",
              "type": "errorband"
             }
            }
           ]
          }
         ]
        }
       ]
      },
      "image/png": "[encoded data removed]",
      "text/plain": [
       "<VegaLite 3 object>\n",
       "\n",
       "If you see this message, it means the renderer has not been properly enabled\n",
       "for the frontend that you are using. For more information, see\n",
       "https://altair-viz.github.io/user_guide/troubleshooting.html\n"
      ]
     },
     "execution_count": 49,
     "metadata": {},
     "output_type": "execute_result"
    }
   ],
   "source": [
    "c.transform_filter('datum.effect == \"main expertise\"') + (mu + sigma).encode(\n",
    "    alt.Color(\"expert:N\", scale=men_scale)\n",
    ") | c.transform_filter('datum.effect == \"main mass\"') + (mu + sigma).encode(\n",
    "    alt.Color(\"mass:N\")\n",
    ")"
   ]
  },
  {
   "cell_type": "code",
   "execution_count": 50,
   "metadata": {},
   "outputs": [
    {
     "data": {
      "application/vnd.vegalite.v3+json": {
       "$schema": "https://vega.github.io/schema/vega-lite/v3.3.0.json",
       "config": {
        "mark": {
         "tooltip": null
        },
        "view": {
         "height": 300,
         "width": 400
        }
       },
       "data": {
        "format": {
         "type": "json"
        },
        "url": "altair-data-c1bcbd3dda72e98de7860cf0653bcd09.json"
       },
       "facet": {
        "column": {
         "field": "mass",
         "type": "quantitative"
        }
       },
       "spec": {
        "encoding": {
         "color": {
          "field": "expert",
          "type": "nominal"
         }
        },
        "layer": [
         {
          "encoding": {
           "x": {
            "axis": {
             "format": "%"
            },
            "field": "ecdf",
            "title": "ecdf",
            "type": "quantitative"
           },
           "y": {
            "aggregate": "mean",
            "axis": {
             "format": "%"
            },
            "field": "value",
            "title": "activation",
            "type": "quantitative"
           }
          },
          "mark": "line"
         },
         {
          "encoding": {
           "x": {
            "axis": {
             "format": "%"
            },
            "field": "ecdf",
            "title": "ecdf",
            "type": "quantitative"
           },
           "y": {
            "field": "value",
            "title": null,
            "type": "quantitative"
           }
          },
          "mark": {
           "extent": "stdev",
           "type": "errorband"
          }
         }
        ]
       }
      },
      "image/png": "[encoded data removed]",
      "text/plain": [
       "<VegaLite 3 object>\n",
       "\n",
       "If you see this message, it means the renderer has not been properly enabled\n",
       "for the frontend that you are using. For more information, see\n",
       "https://altair-viz.github.io/user_guide/troubleshooting.html\n"
      ]
     },
     "execution_count": 50,
     "metadata": {},
     "output_type": "execute_result"
    }
   ],
   "source": [
    "(mu + sigma).encode(alt.Color(\"expert:N\")).facet(column=\"mass\")"
   ]
  },
  {
   "cell_type": "markdown",
   "metadata": {},
   "source": [
    "## $\\sum\\sum\\text{activations}$"
   ]
  },
  {
   "cell_type": "code",
   "execution_count": 51,
   "metadata": {},
   "outputs": [
    {
     "data": {
      "text/html": [
       "<div>\n",
       "<style scoped>\n",
       "    .dataframe tbody tr th:only-of-type {\n",
       "        vertical-align: middle;\n",
       "    }\n",
       "\n",
       "    .dataframe tbody tr th {\n",
       "        vertical-align: top;\n",
       "    }\n",
       "\n",
       "    .dataframe thead th {\n",
       "        text-align: right;\n",
       "    }\n",
       "</style>\n",
       "<table border=\"1\" class=\"dataframe\">\n",
       "  <thead>\n",
       "    <tr style=\"text-align: right;\">\n",
       "      <th></th>\n",
       "      <th>filename</th>\n",
       "      <th>participant</th>\n",
       "      <th>expert</th>\n",
       "      <th>mass</th>\n",
       "      <th>value</th>\n",
       "    </tr>\n",
       "  </thead>\n",
       "  <tbody>\n",
       "    <tr>\n",
       "      <th>0</th>\n",
       "      <td>antc_1_r08_1</td>\n",
       "      <td>antc</td>\n",
       "      <td>0</td>\n",
       "      <td>8</td>\n",
       "      <td>87.560021</td>\n",
       "    </tr>\n",
       "    <tr>\n",
       "      <th>1</th>\n",
       "      <td>antc_1_r08_4</td>\n",
       "      <td>antc</td>\n",
       "      <td>0</td>\n",
       "      <td>8</td>\n",
       "      <td>118.291427</td>\n",
       "    </tr>\n",
       "    <tr>\n",
       "      <th>2</th>\n",
       "      <td>antc_1_r08_5</td>\n",
       "      <td>antc</td>\n",
       "      <td>0</td>\n",
       "      <td>8</td>\n",
       "      <td>126.559236</td>\n",
       "    </tr>\n",
       "    <tr>\n",
       "      <th>3</th>\n",
       "      <td>antc_1_r08_6</td>\n",
       "      <td>antc</td>\n",
       "      <td>0</td>\n",
       "      <td>8</td>\n",
       "      <td>85.695669</td>\n",
       "    </tr>\n",
       "    <tr>\n",
       "      <th>4</th>\n",
       "      <td>antc_1_r12_1</td>\n",
       "      <td>antc</td>\n",
       "      <td>0</td>\n",
       "      <td>12</td>\n",
       "      <td>181.637031</td>\n",
       "    </tr>\n",
       "  </tbody>\n",
       "</table>\n",
       "</div>"
      ],
      "text/plain": [
       "       filename participant  expert  mass       value\n",
       "0  antc_1_r08_1        antc       0     8   87.560021\n",
       "1  antc_1_r08_4        antc       0     8  118.291427\n",
       "2  antc_1_r08_5        antc       0     8  126.559236\n",
       "3  antc_1_r08_6        antc       0     8   85.695669\n",
       "4  antc_1_r12_1        antc       0    12  181.637031"
      ]
     },
     "execution_count": 51,
     "metadata": {},
     "output_type": "execute_result"
    }
   ],
   "source": [
    "sum_sum_emg = (\n",
    "    sum_emg.groupby([i for i in id_vars if i != \"index\"])[\"value\"].sum().reset_index()\n",
    ")\n",
    "sum_sum_emg.head()"
   ]
  },
  {
   "cell_type": "code",
   "execution_count": 52,
   "metadata": {},
   "outputs": [
    {
     "data": {
      "application/vnd.vegalite.v3+json": {
       "$schema": "https://vega.github.io/schema/vega-lite/v3.3.0.json",
       "config": {
        "mark": {
         "tooltip": null
        },
        "view": {
         "height": 300,
         "width": 400
        }
       },
       "data": {
        "format": {
         "type": "json"
        },
        "url": "altair-data-8ad1e0686083dabeed180738d76f0f7a.json"
       },
       "facet": {
        "column": {
         "field": "mass",
         "type": "quantitative"
        }
       },
       "spec": {
        "encoding": {
         "x": {
          "field": "expert",
          "type": "nominal"
         },
         "y": {
          "field": "value",
          "title": "sum sum emg",
          "type": "quantitative"
         }
        },
        "mark": "boxplot"
       }
      },
      "image/png": "[encoded data removed]",
      "text/plain": [
       "<VegaLite 3 object>\n",
       "\n",
       "If you see this message, it means the renderer has not been properly enabled\n",
       "for the frontend that you are using. For more information, see\n",
       "https://altair-viz.github.io/user_guide/troubleshooting.html\n"
      ]
     },
     "execution_count": 52,
     "metadata": {},
     "output_type": "execute_result"
    }
   ],
   "source": [
    "alt.Chart().mark_boxplot().encode(\n",
    "    alt.X(\"expert:N\"), alt.Y(\"value\", title=\"sum sum emg\")\n",
    ").facet(data=sum_sum_emg, column=alt.Column(\"mass\"))"
   ]
  },
  {
   "cell_type": "code",
   "execution_count": 53,
   "metadata": {},
   "outputs": [
    {
     "data": {
      "application/vnd.vegalite.v3+json": {
       "$schema": "https://vega.github.io/schema/vega-lite/v3.3.0.json",
       "config": {
        "mark": {
         "tooltip": null
        },
        "view": {
         "height": 300,
         "width": 400
        }
       },
       "data": {
        "format": {
         "type": "json"
        },
        "url": "altair-data-a345fed8e5a7a07fbbb49f04a0bc9078.json"
       },
       "encoding": {
        "color": {
         "field": "expert",
         "type": "nominal"
        },
        "column": {
         "field": "mass",
         "type": "quantitative"
        },
        "x": {
         "axis": {
          "format": "%"
         },
         "field": "ecdf",
         "type": "quantitative"
        },
        "y": {
         "field": "value",
         "title": "sum sum activation",
         "type": "quantitative"
        }
       },
       "mark": "circle"
      },
      "image/png": "[encoded data removed]",
      "text/plain": [
       "<VegaLite 3 object>\n",
       "\n",
       "If you see this message, it means the renderer has not been properly enabled\n",
       "for the frontend that you are using. For more information, see\n",
       "https://altair-viz.github.io/user_guide/troubleshooting.html\n"
      ]
     },
     "execution_count": 53,
     "metadata": {},
     "output_type": "execute_result"
    }
   ],
   "source": [
    "alt.Chart(\n",
    "    sum_sum_emg.assign(\n",
    "        ecdf=lambda x: x.groupby([\"expert\", \"mass\"])[\"value\"].transform(\n",
    "            lambda x: x.rank(method=\"first\") / x.shape[0]\n",
    "        )\n",
    "    )\n",
    ").mark_circle().encode(\n",
    "    alt.X(\"ecdf\", axis=alt.Axis(format=\"%\")),\n",
    "    alt.Y(\"value\", title=\"sum sum activation\"),\n",
    "    alt.Color(\"expert:N\"),\n",
    "    alt.Column(\"mass\"),\n",
    ")"
   ]
  },
  {
   "cell_type": "markdown",
   "metadata": {},
   "source": [
    "<!--NAVIGATION-->\n",
    "< [Joint contribution](03.01-contributions-evsn.ipynb) | [Contents](Index.ipynb) | [Muscle activations & muscles forces](03.03-muscle-activations-forces.ipynb) >"
   ]
  }
 ],
 "metadata": {
  "kernelspec": {
   "display_name": "Python [conda env:pyosim_aws]",
   "language": "python",
   "name": "conda-env-pyosim_aws-py"
  },
  "language_info": {
   "codemirror_mode": {
    "name": "ipython",
    "version": 3
   },
   "file_extension": ".py",
   "mimetype": "text/x-python",
   "name": "python",
   "nbconvert_exporter": "python",
   "pygments_lexer": "ipython3",
   "version": "3.7.6"
  },
  "pycharm": {
   "stem_cell": {
    "cell_type": "raw",
    "source": [],
    "metadata": {
     "collapsed": false
    }
   }
  }
 },
 "nbformat": 4,
 "nbformat_minor": 4
}