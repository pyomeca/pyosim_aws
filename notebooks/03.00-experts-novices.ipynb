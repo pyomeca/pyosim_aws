{
 "cells": [
  {
   "cell_type": "markdown",
   "metadata": {},
   "source": [
    "<!--BOOK_INFORMATION-->\n",
    "<img style=\"float: right; width: 100px\" src=\"https://raw.github.com/pyomeca/design/master/logo/logo_cropped.svg?sanitize=true\">\n",
    "\n",
    "<font size=\"+2\">Pyosim in the cloud</font>\n",
    "\n",
    "<font size=\"+1\">with [pyomeca](https://github.com/pyomeca/pyom</font>a)\n",
    "\n",
    "Romain Martinez (martinez.staps@gmail.com | [GitHub](https://github.com/romainmartinez))\n"
   ]
  },
  {
   "cell_type": "markdown",
   "metadata": {},
   "source": [
    "<!--NAVIGATION-->\n",
    "< [Simple ergonomics indicator](02.03-simple-ergonomic.ipynb) | [Contents](Index.ipynb) | [Joint contribution](03.01-contributions-evsn.ipynb) >"
   ]
  },
  {
   "cell_type": "markdown",
   "metadata": {},
   "source": [
    "# Analyses\n",
    "\n",
    "## Activations\n",
    "- sum 1D-activations (sex-weight)\n",
    "- 1D-ECDF (sex-weight): > 60% activations\n",
    "- 1D-ECDF $\\sum$ activation (sex-weight)\n",
    "- 0D-ECDF $\\sum$ $\\sum$ activation\n",
    "\n",
    "\n",
    "\n",
    "\n",
    "---\n",
    "# Ideas\n",
    "- temps passé où le ratio JR cisaillement/compression > litératture\n",
    "- Dépense energétique de chaque essai (joule) $\\text{E} = \\int |\\sum_{i} Fm_{i} Vm_{i}| dt$\n",
    "- Temps passé > 60% activations sur chaque muscle\n",
    "- Temps passé > 60% activations sur sum EMG"
   ]
  },
  {
   "cell_type": "markdown",
   "metadata": {},
   "source": [
    "<!--NAVIGATION-->\n",
    "< [Simple ergonomics indicator](02.03-simple-ergonomic.ipynb) | [Contents](Index.ipynb) | [Joint contribution](03.01-contributions-evsn.ipynb) >"
   ]
  }
 ],
 "metadata": {
  "kernelspec": {
   "display_name": "Python 3",
   "language": "python",
   "name": "conda-env-pyosim_aws-py"
  },
  "language_info": {
   "codemirror_mode": {
    "name": "ipython",
    "version": 3
   },
   "file_extension": ".py",
   "mimetype": "text/x-python",
   "name": "python",
   "nbconvert_exporter": "python",
   "pygments_lexer": "ipython3",
   "version": "3.7.3"
  }
 },
 "nbformat": 4,
 "nbformat_minor": 4
}
